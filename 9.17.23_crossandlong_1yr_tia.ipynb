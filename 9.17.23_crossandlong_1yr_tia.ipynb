{
 "cells": [
  {
   "cell_type": "code",
   "execution_count": 28,
   "id": "ee318ae9-3dda-41df-843c-2895919a2561",
   "metadata": {
    "tags": []
   },
   "outputs": [
    {
     "name": "stderr",
     "output_type": "stream",
     "text": [
      "Installing package into ‘/usr/local/lib/R/site-library’\n",
      "(as ‘lib’ is unspecified)\n",
      "\n"
     ]
    }
   ],
   "source": [
    "install.packages(\"MASS\")\n",
    "library(MASS)"
   ]
  },
  {
   "cell_type": "code",
   "execution_count": 34,
   "id": "5b39f686-5a7e-43aa-8d16-10d878290a41",
   "metadata": {
    "tags": []
   },
   "outputs": [],
   "source": [
    "#full data for all patients who had a cevd within 1 year before baseline; this file is to do a cross-sectional analysis between TIA and ischemic stroke\n",
    "data <- read.csv(\"cevd_first_model.csv\")"
   ]
  },
  {
   "cell_type": "code",
   "execution_count": 35,
   "id": "044b591e-b6a6-483c-8cff-6b896d284b27",
   "metadata": {
    "tags": []
   },
   "outputs": [
    {
     "name": "stdout",
     "output_type": "stream",
     "text": [
      "Number of future F01 diagnoses: 4 \n",
      "Number of future g45 diagnoses: 308 \n",
      "Number of future g46 diagnoses: 4 \n",
      "Number of future h34 diagnoses: 71 \n",
      "Number of future i60 diagnoses: 48 \n",
      "Number of future i61 diagnoses: 32 \n",
      "Number of future i62 diagnoses: 12 \n",
      "Number of future i63 diagnoses: 151 \n",
      "Number of future i64 diagnoses: 479 \n",
      "Number of future i65 diagnoses: 57 \n",
      "Number of future i66 diagnoses: 3 \n",
      "Number of future i67 diagnoses: 112 \n",
      "Number of future i68 diagnoses: 0 \n",
      "Number of future i69 diagnoses: 45 \n"
     ]
    }
   ],
   "source": [
    "#count number of future CeVD events by type\n",
    "data$f01_time <- as.integer(data$f01_time)\n",
    "count_events <- sum(data$f01_time > 0, na.rm = TRUE)\n",
    "cat(\"Number of future F01 diagnoses:\", count_events, \"\\n\")\n",
    "\n",
    "data$g45_time <- as.integer(data$g45_time)\n",
    "count_events <- sum(data$g45_time > 0, na.rm = TRUE)\n",
    "cat(\"Number of future g45 diagnoses:\", count_events, \"\\n\")\n",
    "\n",
    "data$g46_time <- as.integer(data$g46_time)\n",
    "count_events <- sum(data$g46_time > 0, na.rm = TRUE)\n",
    "cat(\"Number of future g46 diagnoses:\", count_events, \"\\n\")\n",
    "\n",
    "data$h34_time <- as.integer(data$h34_time)\n",
    "count_events <- sum(data$h34_time > 0, na.rm = TRUE)\n",
    "cat(\"Number of future h34 diagnoses:\", count_events, \"\\n\")\n",
    "\n",
    "data$i60_time <- as.integer(data$i60_time)\n",
    "count_events <- sum(data$i60_time > 0, na.rm = TRUE)\n",
    "cat(\"Number of future i60 diagnoses:\", count_events, \"\\n\")\n",
    "\n",
    "data$i61_time <- as.integer(data$i61_time)\n",
    "count_events <- sum(data$i61_time > 0, na.rm = TRUE)\n",
    "cat(\"Number of future i61 diagnoses:\", count_events, \"\\n\")\n",
    "\n",
    "data$i62_time <- as.integer(data$i62_time)\n",
    "count_events <- sum(data$i62_time > 0, na.rm = TRUE)\n",
    "cat(\"Number of future i62 diagnoses:\", count_events, \"\\n\")\n",
    "\n",
    "data$i63_time <- as.integer(data$i63_time)\n",
    "count_events <- sum(data$i63_time > 0, na.rm = TRUE)\n",
    "cat(\"Number of future i63 diagnoses:\", count_events, \"\\n\")\n",
    "\n",
    "data$i64_time <- as.integer(data$i64_time)\n",
    "count_events <- sum(data$i64_time > 0, na.rm = TRUE)\n",
    "cat(\"Number of future i64 diagnoses:\", count_events, \"\\n\")\n",
    "\n",
    "data$i65_time <- as.integer(data$i65_time)\n",
    "count_events <- sum(data$i65_time > 0, na.rm = TRUE)\n",
    "cat(\"Number of future i65 diagnoses:\", count_events, \"\\n\")\n",
    "\n",
    "data$i66_time <- as.integer(data$i66_time)\n",
    "count_events <- sum(data$i66_time > 0, na.rm = TRUE)\n",
    "cat(\"Number of future i66 diagnoses:\", count_events, \"\\n\")\n",
    "\n",
    "data$i67_time <- as.integer(data$i67_time)\n",
    "count_events <- sum(data$i67_time > 0, na.rm = TRUE)\n",
    "cat(\"Number of future i67 diagnoses:\", count_events, \"\\n\")\n",
    "\n",
    "data$i68_time <- as.integer(data$i68_time)\n",
    "count_events <- sum(data$i68_time > 0, na.rm = TRUE)\n",
    "cat(\"Number of future i68 diagnoses:\", count_events, \"\\n\")\n",
    "\n",
    "data$i69_time <- as.integer(data$i69_time)\n",
    "count_events <- sum(data$i69_time > 0, na.rm = TRUE)\n",
    "cat(\"Number of future i69 diagnoses:\", count_events, \"\\n\")\n",
    "     "
   ]
  },
  {
   "cell_type": "code",
   "execution_count": 36,
   "id": "f1c579a0-b214-436d-bc37-8f7d345bd8ff",
   "metadata": {
    "tags": []
   },
   "outputs": [
    {
     "name": "stdout",
     "output_type": "stream",
     "text": [
      "[1] 807\n"
     ]
    }
   ],
   "source": [
    "# check number of rows - should be 5193 from initial baseline of px who have future cevd\n",
    "num_rows <- nrow(data)\n",
    "print(num_rows)"
   ]
  },
  {
   "cell_type": "code",
   "execution_count": 37,
   "id": "f5fcf460-28a1-48bd-bd31-13b592391031",
   "metadata": {
    "tags": []
   },
   "outputs": [
    {
     "name": "stdout",
     "output_type": "stream",
     "text": [
      "[1] 677\n"
     ]
    }
   ],
   "source": [
    "data <- data[apply(data[, c(\"g45_time\", \"i63_time\", \"i64_time\")], 1, function(x) any(!is.na(x))), ]\n",
    "num_rows <- nrow(data)\n",
    "print(num_rows)"
   ]
  },
  {
   "cell_type": "code",
   "execution_count": 42,
   "id": "9d486124-6f72-43e1-a007-21a2fe8f08a4",
   "metadata": {
    "tags": []
   },
   "outputs": [],
   "source": [
    "# create 2 separate dataframes, 1 has depressed px, other has non-depressed px\n",
    "data_dy <- data[data$tia == 1, ]\n",
    "data_dn <- data[data$ischemicstroke == 1, ]"
   ]
  },
  {
   "cell_type": "code",
   "execution_count": 43,
   "id": "ae2451c9-864e-4f8e-8523-09b76aeb437e",
   "metadata": {
    "tags": []
   },
   "outputs": [
    {
     "name": "stdout",
     "output_type": "stream",
     "text": [
      "[1] 253\n",
      "[1] 424\n"
     ]
    }
   ],
   "source": [
    "# check number of rows - should be 1402 from initial baseline of px who have future cevd\n",
    "num_rows_dy <- nrow(data_dy)\n",
    "print(num_rows_dy)\n",
    "# check number of rows - should be 13106 from initial baseline of px who have future cevd\n",
    "num_rows_dn <- nrow(data_dn)\n",
    "print(num_rows_dn)"
   ]
  },
  {
   "cell_type": "code",
   "execution_count": 44,
   "id": "700c4c3c-3115-487c-b491-a5d4b7238b72",
   "metadata": {
    "tags": []
   },
   "outputs": [],
   "source": [
    "#data$age_filter_i0 <- ifelse(data$age_i0 < 60, 0, 1)\n",
    "data_dy$age_filter_i0 <- ifelse(data_dy$age_i0 < 60, 0, 1)\n",
    "data_dn$age_filter_i0 <- ifelse(data_dn$age_i0 < 60, 0, 1)\n",
    "#data$age_filter_i0 <- ifelse(data$age_i0 < 60, 0, 1)\n",
    "data_dy$sleep_filter <- ifelse(data_dy$sleep > 6 & data_dy$sleep < 10, 1, 0)\n",
    "data_dn$sleep_filter <- ifelse(data_dn$sleep > 6 & data_dn$sleep < 10, 1, 0)\n",
    "#data$age_filter_i0 <- ifelse(data$age_i0 < 60, 0, 1)\n",
    "data_dy$bmi_filter <- ifelse(data_dy$bmi > 18.4 & data_dy$bmi < 26, 1, 0)\n",
    "data_dn$bmi_filter <- ifelse(data_dn$bmi > 18.4 & data_dn$bmi < 26, 1, 0)\n",
    "#data$age_filter_i0 <- ifelse(data$age_i0 < 60, 0, 1)\n",
    "data_dy$smok_filter <- ifelse(data_dy$smok_stat > 0, 1, 0)\n",
    "data_dn$smok_filter <- ifelse(data_dn$smok_stat > 0, 1, 0)"
   ]
  },
  {
   "cell_type": "code",
   "execution_count": 45,
   "id": "467d19e0-bc05-4665-b8d9-4f0e2fb944ab",
   "metadata": {
    "tags": []
   },
   "outputs": [],
   "source": [
    "# Convert the response variable to a factor with ordered levels\n",
    "#data$phq2_q1_diff <- factor(data$phq2_q1_diff, ordered = TRUE, levels = c(-1, 0, 1))\n",
    "data_dy$phq2_1 <- factor(data_dy$phq2_1, ordered = TRUE, levels = c(0, 1, 2, 3, 4))\n",
    "data_dn$phq2_1 <- factor(data_dn$phq2_1, ordered = TRUE, levels = c(0, 1, 2, 3, 4))"
   ]
  },
  {
   "cell_type": "code",
   "execution_count": 46,
   "id": "879761b8-2dcb-4540-aaec-844b8016000d",
   "metadata": {
    "tags": []
   },
   "outputs": [],
   "source": [
    "model_dy <- polr(phq2_1 ~  male  + age_filter_i0 + tdi + bmi_filter +  sleep_filter + smok_stat + full_screen_time + alc_freq_filter + met_minweek_filter, data = data_dy, method = \"logistic\")\n",
    "model_dn <- polr(phq2_1 ~  male   +   age_filter_i0 + tdi + bmi_filter +  sleep_filter + smok_stat + full_screen_time + alc_freq_filter + met_minweek_filter, data = data_dn, method = \"logistic\")"
   ]
  },
  {
   "cell_type": "code",
   "execution_count": 47,
   "id": "0e5fabd7-7dc3-4ca7-bcab-7c41b9f98655",
   "metadata": {
    "tags": []
   },
   "outputs": [
    {
     "name": "stderr",
     "output_type": "stream",
     "text": [
      "\n",
      "Re-fitting to get Hessian\n",
      "\n",
      "\n"
     ]
    },
    {
     "data": {
      "text/plain": [
       "Call:\n",
       "polr(formula = phq2_1 ~ male + age_filter_i0 + tdi + bmi_filter + \n",
       "    sleep_filter + smok_stat + full_screen_time + alc_freq_filter + \n",
       "    met_minweek_filter, data = data_dy, method = \"logistic\")\n",
       "\n",
       "Coefficients:\n",
       "                      Value Std. Error t value\n",
       "male               -0.53530    0.29058 -1.8422\n",
       "age_filter_i0      -0.78294    0.29663 -2.6394\n",
       "tdi                 0.09222    0.04459  2.0684\n",
       "bmi_filter         -0.09206    0.29899 -0.3079\n",
       "sleep_filter       -0.29684    0.30161 -0.9842\n",
       "smok_stat          -0.10752    0.20752 -0.5181\n",
       "full_screen_time    0.07015    0.04924  1.4247\n",
       "alc_freq_filter    -0.33301    0.20986 -1.5869\n",
       "met_minweek_filter -0.02493    0.02144 -1.1628\n",
       "\n",
       "Intercepts:\n",
       "    Value   Std. Error t value\n",
       "0|1 -5.7059  0.7551    -7.5565\n",
       "1|2 -0.7096  0.5738    -1.2367\n",
       "2|3  0.8888  0.5852     1.5187\n",
       "3|4  2.0176  0.6468     3.1193\n",
       "\n",
       "Residual Deviance: 440.1539 \n",
       "AIC: 466.1539 "
      ]
     },
     "metadata": {},
     "output_type": "display_data"
    }
   ],
   "source": [
    "summary(model_dy)"
   ]
  },
  {
   "cell_type": "code",
   "execution_count": 48,
   "id": "534dc6c4-84eb-42d3-9c1b-75855310ce8a",
   "metadata": {
    "tags": []
   },
   "outputs": [
    {
     "name": "stderr",
     "output_type": "stream",
     "text": [
      "\n",
      "Re-fitting to get Hessian\n",
      "\n",
      "\n"
     ]
    },
    {
     "data": {
      "text/plain": [
       "Call:\n",
       "polr(formula = phq2_1 ~ male + age_filter_i0 + tdi + bmi_filter + \n",
       "    sleep_filter + smok_stat + full_screen_time + alc_freq_filter + \n",
       "    met_minweek_filter, data = data_dn, method = \"logistic\")\n",
       "\n",
       "Coefficients:\n",
       "                        Value Std. Error  t value\n",
       "male               -0.3907802    0.22123 -1.76642\n",
       "age_filter_i0      -0.5122360    0.21091 -2.42864\n",
       "tdi                 0.0354621    0.03420  1.03685\n",
       "bmi_filter         -0.4184818    0.23400 -1.78839\n",
       "sleep_filter       -0.7138984    0.21392 -3.33721\n",
       "smok_stat           0.6792373    0.15576  4.36066\n",
       "full_screen_time    0.0371848    0.04251  0.87478\n",
       "alc_freq_filter    -0.1990402    0.14516 -1.37120\n",
       "met_minweek_filter -0.0003522    0.01591 -0.02213\n",
       "\n",
       "Intercepts:\n",
       "    Value   Std. Error t value\n",
       "0|1 -4.3682  0.5126    -8.5215\n",
       "1|2 -0.1200  0.4280    -0.2804\n",
       "2|3  1.9193  0.4543     4.2246\n",
       "3|4  2.7751  0.4953     5.6034\n",
       "\n",
       "Residual Deviance: 792.4768 \n",
       "AIC: 818.4768 "
      ]
     },
     "metadata": {},
     "output_type": "display_data"
    }
   ],
   "source": [
    "summary(model_dn)"
   ]
  },
  {
   "cell_type": "code",
   "execution_count": 49,
   "id": "d106887f-ed97-4534-86f4-0b885fc72788",
   "metadata": {
    "tags": []
   },
   "outputs": [
    {
     "name": "stderr",
     "output_type": "stream",
     "text": [
      "\n",
      "Re-fitting to get Hessian\n",
      "\n",
      "\n"
     ]
    },
    {
     "data": {
      "text/html": [
       "<table class=\"dataframe\">\n",
       "<caption>A matrix: 13 × 3 of type dbl</caption>\n",
       "<thead>\n",
       "\t<tr><th></th><th scope=col>Value</th><th scope=col>Std. Error</th><th scope=col>t value</th></tr>\n",
       "</thead>\n",
       "<tbody>\n",
       "\t<tr><th scope=row>male</th><td>-0.53530074</td><td>0.29057524</td><td>-1.8422105</td></tr>\n",
       "\t<tr><th scope=row>age_filter_i0</th><td>-0.78293868</td><td>0.29663466</td><td>-2.6394039</td></tr>\n",
       "\t<tr><th scope=row>tdi</th><td> 0.09222465</td><td>0.04458760</td><td> 2.0683925</td></tr>\n",
       "\t<tr><th scope=row>bmi_filter</th><td>-0.09205736</td><td>0.29898958</td><td>-0.3078949</td></tr>\n",
       "\t<tr><th scope=row>sleep_filter</th><td>-0.29683854</td><td>0.30160612</td><td>-0.9841927</td></tr>\n",
       "\t<tr><th scope=row>smok_stat</th><td>-0.10752204</td><td>0.20751960</td><td>-0.5181296</td></tr>\n",
       "\t<tr><th scope=row>full_screen_time</th><td> 0.07014588</td><td>0.04923513</td><td> 1.4247119</td></tr>\n",
       "\t<tr><th scope=row>alc_freq_filter</th><td>-0.33301308</td><td>0.20985654</td><td>-1.5868606</td></tr>\n",
       "\t<tr><th scope=row>met_minweek_filter</th><td>-0.02492667</td><td>0.02143677</td><td>-1.1628000</td></tr>\n",
       "\t<tr><th scope=row>0|1</th><td>-5.70586112</td><td>0.75509124</td><td>-7.5565187</td></tr>\n",
       "\t<tr><th scope=row>1|2</th><td>-0.70959958</td><td>0.57377727</td><td>-1.2367161</td></tr>\n",
       "\t<tr><th scope=row>2|3</th><td> 0.88876353</td><td>0.58522098</td><td> 1.5186802</td></tr>\n",
       "\t<tr><th scope=row>3|4</th><td> 2.01759496</td><td>0.64681094</td><td> 3.1192963</td></tr>\n",
       "</tbody>\n",
       "</table>\n"
      ],
      "text/latex": [
       "A matrix: 13 × 3 of type dbl\n",
       "\\begin{tabular}{r|lll}\n",
       "  & Value & Std. Error & t value\\\\\n",
       "\\hline\n",
       "\tmale & -0.53530074 & 0.29057524 & -1.8422105\\\\\n",
       "\tage\\_filter\\_i0 & -0.78293868 & 0.29663466 & -2.6394039\\\\\n",
       "\ttdi &  0.09222465 & 0.04458760 &  2.0683925\\\\\n",
       "\tbmi\\_filter & -0.09205736 & 0.29898958 & -0.3078949\\\\\n",
       "\tsleep\\_filter & -0.29683854 & 0.30160612 & -0.9841927\\\\\n",
       "\tsmok\\_stat & -0.10752204 & 0.20751960 & -0.5181296\\\\\n",
       "\tfull\\_screen\\_time &  0.07014588 & 0.04923513 &  1.4247119\\\\\n",
       "\talc\\_freq\\_filter & -0.33301308 & 0.20985654 & -1.5868606\\\\\n",
       "\tmet\\_minweek\\_filter & -0.02492667 & 0.02143677 & -1.1628000\\\\\n",
       "\t0\\textbar{}1 & -5.70586112 & 0.75509124 & -7.5565187\\\\\n",
       "\t1\\textbar{}2 & -0.70959958 & 0.57377727 & -1.2367161\\\\\n",
       "\t2\\textbar{}3 &  0.88876353 & 0.58522098 &  1.5186802\\\\\n",
       "\t3\\textbar{}4 &  2.01759496 & 0.64681094 &  3.1192963\\\\\n",
       "\\end{tabular}\n"
      ],
      "text/markdown": [
       "\n",
       "A matrix: 13 × 3 of type dbl\n",
       "\n",
       "| <!--/--> | Value | Std. Error | t value |\n",
       "|---|---|---|---|\n",
       "| male | -0.53530074 | 0.29057524 | -1.8422105 |\n",
       "| age_filter_i0 | -0.78293868 | 0.29663466 | -2.6394039 |\n",
       "| tdi |  0.09222465 | 0.04458760 |  2.0683925 |\n",
       "| bmi_filter | -0.09205736 | 0.29898958 | -0.3078949 |\n",
       "| sleep_filter | -0.29683854 | 0.30160612 | -0.9841927 |\n",
       "| smok_stat | -0.10752204 | 0.20751960 | -0.5181296 |\n",
       "| full_screen_time |  0.07014588 | 0.04923513 |  1.4247119 |\n",
       "| alc_freq_filter | -0.33301308 | 0.20985654 | -1.5868606 |\n",
       "| met_minweek_filter | -0.02492667 | 0.02143677 | -1.1628000 |\n",
       "| 0|1 | -5.70586112 | 0.75509124 | -7.5565187 |\n",
       "| 1|2 | -0.70959958 | 0.57377727 | -1.2367161 |\n",
       "| 2|3 |  0.88876353 | 0.58522098 |  1.5186802 |\n",
       "| 3|4 |  2.01759496 | 0.64681094 |  3.1192963 |\n",
       "\n"
      ],
      "text/plain": [
       "                   Value       Std. Error t value   \n",
       "male               -0.53530074 0.29057524 -1.8422105\n",
       "age_filter_i0      -0.78293868 0.29663466 -2.6394039\n",
       "tdi                 0.09222465 0.04458760  2.0683925\n",
       "bmi_filter         -0.09205736 0.29898958 -0.3078949\n",
       "sleep_filter       -0.29683854 0.30160612 -0.9841927\n",
       "smok_stat          -0.10752204 0.20751960 -0.5181296\n",
       "full_screen_time    0.07014588 0.04923513  1.4247119\n",
       "alc_freq_filter    -0.33301308 0.20985654 -1.5868606\n",
       "met_minweek_filter -0.02492667 0.02143677 -1.1628000\n",
       "0|1                -5.70586112 0.75509124 -7.5565187\n",
       "1|2                -0.70959958 0.57377727 -1.2367161\n",
       "2|3                 0.88876353 0.58522098  1.5186802\n",
       "3|4                 2.01759496 0.64681094  3.1192963"
      ]
     },
     "metadata": {},
     "output_type": "display_data"
    }
   ],
   "source": [
    "## store table\n",
    "(ctable_dy <- coef(summary(model_dy)))"
   ]
  },
  {
   "cell_type": "code",
   "execution_count": 50,
   "id": "05396d37-2fb0-451b-9b6a-f332d1a26098",
   "metadata": {
    "tags": []
   },
   "outputs": [
    {
     "name": "stderr",
     "output_type": "stream",
     "text": [
      "\n",
      "Re-fitting to get Hessian\n",
      "\n",
      "\n"
     ]
    },
    {
     "data": {
      "text/html": [
       "<table class=\"dataframe\">\n",
       "<caption>A matrix: 13 × 3 of type dbl</caption>\n",
       "<thead>\n",
       "\t<tr><th></th><th scope=col>Value</th><th scope=col>Std. Error</th><th scope=col>t value</th></tr>\n",
       "</thead>\n",
       "<tbody>\n",
       "\t<tr><th scope=row>male</th><td>-0.3907802027</td><td>0.22122696</td><td>-1.76642212</td></tr>\n",
       "\t<tr><th scope=row>age_filter_i0</th><td>-0.5122360162</td><td>0.21091474</td><td>-2.42864015</td></tr>\n",
       "\t<tr><th scope=row>tdi</th><td> 0.0354621098</td><td>0.03420180</td><td> 1.03684930</td></tr>\n",
       "\t<tr><th scope=row>bmi_filter</th><td>-0.4184818216</td><td>0.23399876</td><td>-1.78839333</td></tr>\n",
       "\t<tr><th scope=row>sleep_filter</th><td>-0.7138984203</td><td>0.21392094</td><td>-3.33720678</td></tr>\n",
       "\t<tr><th scope=row>smok_stat</th><td> 0.6792372556</td><td>0.15576473</td><td> 4.36066152</td></tr>\n",
       "\t<tr><th scope=row>full_screen_time</th><td> 0.0371848004</td><td>0.04250736</td><td> 0.87478500</td></tr>\n",
       "\t<tr><th scope=row>alc_freq_filter</th><td>-0.1990402423</td><td>0.14515771</td><td>-1.37119992</td></tr>\n",
       "\t<tr><th scope=row>met_minweek_filter</th><td>-0.0003522156</td><td>0.01591309</td><td>-0.02213371</td></tr>\n",
       "\t<tr><th scope=row>0|1</th><td>-4.3681575671</td><td>0.51260640</td><td>-8.52146512</td></tr>\n",
       "\t<tr><th scope=row>1|2</th><td>-0.1199956650</td><td>0.42799635</td><td>-0.28036609</td></tr>\n",
       "\t<tr><th scope=row>2|3</th><td> 1.9193147601</td><td>0.45431445</td><td> 4.22463948</td></tr>\n",
       "\t<tr><th scope=row>3|4</th><td> 2.7751106267</td><td>0.49525470</td><td> 5.60340089</td></tr>\n",
       "</tbody>\n",
       "</table>\n"
      ],
      "text/latex": [
       "A matrix: 13 × 3 of type dbl\n",
       "\\begin{tabular}{r|lll}\n",
       "  & Value & Std. Error & t value\\\\\n",
       "\\hline\n",
       "\tmale & -0.3907802027 & 0.22122696 & -1.76642212\\\\\n",
       "\tage\\_filter\\_i0 & -0.5122360162 & 0.21091474 & -2.42864015\\\\\n",
       "\ttdi &  0.0354621098 & 0.03420180 &  1.03684930\\\\\n",
       "\tbmi\\_filter & -0.4184818216 & 0.23399876 & -1.78839333\\\\\n",
       "\tsleep\\_filter & -0.7138984203 & 0.21392094 & -3.33720678\\\\\n",
       "\tsmok\\_stat &  0.6792372556 & 0.15576473 &  4.36066152\\\\\n",
       "\tfull\\_screen\\_time &  0.0371848004 & 0.04250736 &  0.87478500\\\\\n",
       "\talc\\_freq\\_filter & -0.1990402423 & 0.14515771 & -1.37119992\\\\\n",
       "\tmet\\_minweek\\_filter & -0.0003522156 & 0.01591309 & -0.02213371\\\\\n",
       "\t0\\textbar{}1 & -4.3681575671 & 0.51260640 & -8.52146512\\\\\n",
       "\t1\\textbar{}2 & -0.1199956650 & 0.42799635 & -0.28036609\\\\\n",
       "\t2\\textbar{}3 &  1.9193147601 & 0.45431445 &  4.22463948\\\\\n",
       "\t3\\textbar{}4 &  2.7751106267 & 0.49525470 &  5.60340089\\\\\n",
       "\\end{tabular}\n"
      ],
      "text/markdown": [
       "\n",
       "A matrix: 13 × 3 of type dbl\n",
       "\n",
       "| <!--/--> | Value | Std. Error | t value |\n",
       "|---|---|---|---|\n",
       "| male | -0.3907802027 | 0.22122696 | -1.76642212 |\n",
       "| age_filter_i0 | -0.5122360162 | 0.21091474 | -2.42864015 |\n",
       "| tdi |  0.0354621098 | 0.03420180 |  1.03684930 |\n",
       "| bmi_filter | -0.4184818216 | 0.23399876 | -1.78839333 |\n",
       "| sleep_filter | -0.7138984203 | 0.21392094 | -3.33720678 |\n",
       "| smok_stat |  0.6792372556 | 0.15576473 |  4.36066152 |\n",
       "| full_screen_time |  0.0371848004 | 0.04250736 |  0.87478500 |\n",
       "| alc_freq_filter | -0.1990402423 | 0.14515771 | -1.37119992 |\n",
       "| met_minweek_filter | -0.0003522156 | 0.01591309 | -0.02213371 |\n",
       "| 0|1 | -4.3681575671 | 0.51260640 | -8.52146512 |\n",
       "| 1|2 | -0.1199956650 | 0.42799635 | -0.28036609 |\n",
       "| 2|3 |  1.9193147601 | 0.45431445 |  4.22463948 |\n",
       "| 3|4 |  2.7751106267 | 0.49525470 |  5.60340089 |\n",
       "\n"
      ],
      "text/plain": [
       "                   Value         Std. Error t value    \n",
       "male               -0.3907802027 0.22122696 -1.76642212\n",
       "age_filter_i0      -0.5122360162 0.21091474 -2.42864015\n",
       "tdi                 0.0354621098 0.03420180  1.03684930\n",
       "bmi_filter         -0.4184818216 0.23399876 -1.78839333\n",
       "sleep_filter       -0.7138984203 0.21392094 -3.33720678\n",
       "smok_stat           0.6792372556 0.15576473  4.36066152\n",
       "full_screen_time    0.0371848004 0.04250736  0.87478500\n",
       "alc_freq_filter    -0.1990402423 0.14515771 -1.37119992\n",
       "met_minweek_filter -0.0003522156 0.01591309 -0.02213371\n",
       "0|1                -4.3681575671 0.51260640 -8.52146512\n",
       "1|2                -0.1199956650 0.42799635 -0.28036609\n",
       "2|3                 1.9193147601 0.45431445  4.22463948\n",
       "3|4                 2.7751106267 0.49525470  5.60340089"
      ]
     },
     "metadata": {},
     "output_type": "display_data"
    }
   ],
   "source": [
    "## store table\n",
    "(ctable_dn <- coef(summary(model_dn)))"
   ]
  },
  {
   "cell_type": "code",
   "execution_count": 51,
   "id": "36d0696f-e6b7-4d9b-8205-a560d9e20b8e",
   "metadata": {
    "tags": []
   },
   "outputs": [
    {
     "data": {
      "text/html": [
       "<table class=\"dataframe\">\n",
       "<caption>A matrix: 13 × 4 of type dbl</caption>\n",
       "<thead>\n",
       "\t<tr><th></th><th scope=col>Value</th><th scope=col>Std. Error</th><th scope=col>t value</th><th scope=col>p value</th></tr>\n",
       "</thead>\n",
       "<tbody>\n",
       "\t<tr><th scope=row>male</th><td>-0.53530074</td><td>0.29057524</td><td>-1.8422105</td><td>6.544437e-02</td></tr>\n",
       "\t<tr><th scope=row>age_filter_i0</th><td>-0.78293868</td><td>0.29663466</td><td>-2.6394039</td><td>8.305197e-03</td></tr>\n",
       "\t<tr><th scope=row>tdi</th><td> 0.09222465</td><td>0.04458760</td><td> 2.0683925</td><td>3.860313e-02</td></tr>\n",
       "\t<tr><th scope=row>bmi_filter</th><td>-0.09205736</td><td>0.29898958</td><td>-0.3078949</td><td>7.581623e-01</td></tr>\n",
       "\t<tr><th scope=row>sleep_filter</th><td>-0.29683854</td><td>0.30160612</td><td>-0.9841927</td><td>3.250208e-01</td></tr>\n",
       "\t<tr><th scope=row>smok_stat</th><td>-0.10752204</td><td>0.20751960</td><td>-0.5181296</td><td>6.043679e-01</td></tr>\n",
       "\t<tr><th scope=row>full_screen_time</th><td> 0.07014588</td><td>0.04923513</td><td> 1.4247119</td><td>1.542405e-01</td></tr>\n",
       "\t<tr><th scope=row>alc_freq_filter</th><td>-0.33301308</td><td>0.20985654</td><td>-1.5868606</td><td>1.125442e-01</td></tr>\n",
       "\t<tr><th scope=row>met_minweek_filter</th><td>-0.02492667</td><td>0.02143677</td><td>-1.1628000</td><td>2.449107e-01</td></tr>\n",
       "\t<tr><th scope=row>0|1</th><td>-5.70586112</td><td>0.75509124</td><td>-7.5565187</td><td>4.140003e-14</td></tr>\n",
       "\t<tr><th scope=row>1|2</th><td>-0.70959958</td><td>0.57377727</td><td>-1.2367161</td><td>2.161925e-01</td></tr>\n",
       "\t<tr><th scope=row>2|3</th><td> 0.88876353</td><td>0.58522098</td><td> 1.5186802</td><td>1.288430e-01</td></tr>\n",
       "\t<tr><th scope=row>3|4</th><td> 2.01759496</td><td>0.64681094</td><td> 3.1192963</td><td>1.812836e-03</td></tr>\n",
       "</tbody>\n",
       "</table>\n"
      ],
      "text/latex": [
       "A matrix: 13 × 4 of type dbl\n",
       "\\begin{tabular}{r|llll}\n",
       "  & Value & Std. Error & t value & p value\\\\\n",
       "\\hline\n",
       "\tmale & -0.53530074 & 0.29057524 & -1.8422105 & 6.544437e-02\\\\\n",
       "\tage\\_filter\\_i0 & -0.78293868 & 0.29663466 & -2.6394039 & 8.305197e-03\\\\\n",
       "\ttdi &  0.09222465 & 0.04458760 &  2.0683925 & 3.860313e-02\\\\\n",
       "\tbmi\\_filter & -0.09205736 & 0.29898958 & -0.3078949 & 7.581623e-01\\\\\n",
       "\tsleep\\_filter & -0.29683854 & 0.30160612 & -0.9841927 & 3.250208e-01\\\\\n",
       "\tsmok\\_stat & -0.10752204 & 0.20751960 & -0.5181296 & 6.043679e-01\\\\\n",
       "\tfull\\_screen\\_time &  0.07014588 & 0.04923513 &  1.4247119 & 1.542405e-01\\\\\n",
       "\talc\\_freq\\_filter & -0.33301308 & 0.20985654 & -1.5868606 & 1.125442e-01\\\\\n",
       "\tmet\\_minweek\\_filter & -0.02492667 & 0.02143677 & -1.1628000 & 2.449107e-01\\\\\n",
       "\t0\\textbar{}1 & -5.70586112 & 0.75509124 & -7.5565187 & 4.140003e-14\\\\\n",
       "\t1\\textbar{}2 & -0.70959958 & 0.57377727 & -1.2367161 & 2.161925e-01\\\\\n",
       "\t2\\textbar{}3 &  0.88876353 & 0.58522098 &  1.5186802 & 1.288430e-01\\\\\n",
       "\t3\\textbar{}4 &  2.01759496 & 0.64681094 &  3.1192963 & 1.812836e-03\\\\\n",
       "\\end{tabular}\n"
      ],
      "text/markdown": [
       "\n",
       "A matrix: 13 × 4 of type dbl\n",
       "\n",
       "| <!--/--> | Value | Std. Error | t value | p value |\n",
       "|---|---|---|---|---|\n",
       "| male | -0.53530074 | 0.29057524 | -1.8422105 | 6.544437e-02 |\n",
       "| age_filter_i0 | -0.78293868 | 0.29663466 | -2.6394039 | 8.305197e-03 |\n",
       "| tdi |  0.09222465 | 0.04458760 |  2.0683925 | 3.860313e-02 |\n",
       "| bmi_filter | -0.09205736 | 0.29898958 | -0.3078949 | 7.581623e-01 |\n",
       "| sleep_filter | -0.29683854 | 0.30160612 | -0.9841927 | 3.250208e-01 |\n",
       "| smok_stat | -0.10752204 | 0.20751960 | -0.5181296 | 6.043679e-01 |\n",
       "| full_screen_time |  0.07014588 | 0.04923513 |  1.4247119 | 1.542405e-01 |\n",
       "| alc_freq_filter | -0.33301308 | 0.20985654 | -1.5868606 | 1.125442e-01 |\n",
       "| met_minweek_filter | -0.02492667 | 0.02143677 | -1.1628000 | 2.449107e-01 |\n",
       "| 0|1 | -5.70586112 | 0.75509124 | -7.5565187 | 4.140003e-14 |\n",
       "| 1|2 | -0.70959958 | 0.57377727 | -1.2367161 | 2.161925e-01 |\n",
       "| 2|3 |  0.88876353 | 0.58522098 |  1.5186802 | 1.288430e-01 |\n",
       "| 3|4 |  2.01759496 | 0.64681094 |  3.1192963 | 1.812836e-03 |\n",
       "\n"
      ],
      "text/plain": [
       "                   Value       Std. Error t value    p value     \n",
       "male               -0.53530074 0.29057524 -1.8422105 6.544437e-02\n",
       "age_filter_i0      -0.78293868 0.29663466 -2.6394039 8.305197e-03\n",
       "tdi                 0.09222465 0.04458760  2.0683925 3.860313e-02\n",
       "bmi_filter         -0.09205736 0.29898958 -0.3078949 7.581623e-01\n",
       "sleep_filter       -0.29683854 0.30160612 -0.9841927 3.250208e-01\n",
       "smok_stat          -0.10752204 0.20751960 -0.5181296 6.043679e-01\n",
       "full_screen_time    0.07014588 0.04923513  1.4247119 1.542405e-01\n",
       "alc_freq_filter    -0.33301308 0.20985654 -1.5868606 1.125442e-01\n",
       "met_minweek_filter -0.02492667 0.02143677 -1.1628000 2.449107e-01\n",
       "0|1                -5.70586112 0.75509124 -7.5565187 4.140003e-14\n",
       "1|2                -0.70959958 0.57377727 -1.2367161 2.161925e-01\n",
       "2|3                 0.88876353 0.58522098  1.5186802 1.288430e-01\n",
       "3|4                 2.01759496 0.64681094  3.1192963 1.812836e-03"
      ]
     },
     "metadata": {},
     "output_type": "display_data"
    }
   ],
   "source": [
    "## calculate and store p values\n",
    "p_dy <- pnorm(abs(ctable_dy[, \"t value\"]), lower.tail = FALSE) * 2\n",
    "## combined table\n",
    "(ctable_dy <- cbind(ctable_dy, \"p value\" = p_dy))"
   ]
  },
  {
   "cell_type": "code",
   "execution_count": 55,
   "id": "c92c823a-ea98-43b5-84ef-6e6f951be4db",
   "metadata": {
    "tags": []
   },
   "outputs": [
    {
     "data": {
      "text/html": [
       "<table class=\"dataframe\">\n",
       "<caption>A matrix: 13 × 5 of type dbl</caption>\n",
       "<thead>\n",
       "\t<tr><th></th><th scope=col>Value</th><th scope=col>Std. Error</th><th scope=col>t value</th><th scope=col>p value</th><th scope=col>p value</th></tr>\n",
       "</thead>\n",
       "<tbody>\n",
       "\t<tr><th scope=row>male</th><td>-0.3907802027</td><td>0.22122696</td><td>-1.76642212</td><td>7.732506e-02</td><td>7.732506e-02</td></tr>\n",
       "\t<tr><th scope=row>age_filter_i0</th><td>-0.5122360162</td><td>0.21091474</td><td>-2.42864015</td><td>1.515557e-02</td><td>1.515557e-02</td></tr>\n",
       "\t<tr><th scope=row>tdi</th><td> 0.0354621098</td><td>0.03420180</td><td> 1.03684930</td><td>2.998061e-01</td><td>2.998061e-01</td></tr>\n",
       "\t<tr><th scope=row>bmi_filter</th><td>-0.4184818216</td><td>0.23399876</td><td>-1.78839333</td><td>7.371257e-02</td><td>7.371257e-02</td></tr>\n",
       "\t<tr><th scope=row>sleep_filter</th><td>-0.7138984203</td><td>0.21392094</td><td>-3.33720678</td><td>8.462496e-04</td><td>8.462496e-04</td></tr>\n",
       "\t<tr><th scope=row>smok_stat</th><td> 0.6792372556</td><td>0.15576473</td><td> 4.36066152</td><td>1.296698e-05</td><td>1.296698e-05</td></tr>\n",
       "\t<tr><th scope=row>full_screen_time</th><td> 0.0371848004</td><td>0.04250736</td><td> 0.87478500</td><td>3.816909e-01</td><td>3.816909e-01</td></tr>\n",
       "\t<tr><th scope=row>alc_freq_filter</th><td>-0.1990402423</td><td>0.14515771</td><td>-1.37119992</td><td>1.703126e-01</td><td>1.703126e-01</td></tr>\n",
       "\t<tr><th scope=row>met_minweek_filter</th><td>-0.0003522156</td><td>0.01591309</td><td>-0.02213371</td><td>9.823413e-01</td><td>9.823413e-01</td></tr>\n",
       "\t<tr><th scope=row>0|1</th><td>-4.3681575671</td><td>0.51260640</td><td>-8.52146512</td><td>1.575475e-17</td><td>1.575475e-17</td></tr>\n",
       "\t<tr><th scope=row>1|2</th><td>-0.1199956650</td><td>0.42799635</td><td>-0.28036609</td><td>7.791966e-01</td><td>7.791966e-01</td></tr>\n",
       "\t<tr><th scope=row>2|3</th><td> 1.9193147601</td><td>0.45431445</td><td> 4.22463948</td><td>2.393236e-05</td><td>2.393236e-05</td></tr>\n",
       "\t<tr><th scope=row>3|4</th><td> 2.7751106267</td><td>0.49525470</td><td> 5.60340089</td><td>2.101863e-08</td><td>2.101863e-08</td></tr>\n",
       "</tbody>\n",
       "</table>\n"
      ],
      "text/latex": [
       "A matrix: 13 × 5 of type dbl\n",
       "\\begin{tabular}{r|lllll}\n",
       "  & Value & Std. Error & t value & p value & p value\\\\\n",
       "\\hline\n",
       "\tmale & -0.3907802027 & 0.22122696 & -1.76642212 & 7.732506e-02 & 7.732506e-02\\\\\n",
       "\tage\\_filter\\_i0 & -0.5122360162 & 0.21091474 & -2.42864015 & 1.515557e-02 & 1.515557e-02\\\\\n",
       "\ttdi &  0.0354621098 & 0.03420180 &  1.03684930 & 2.998061e-01 & 2.998061e-01\\\\\n",
       "\tbmi\\_filter & -0.4184818216 & 0.23399876 & -1.78839333 & 7.371257e-02 & 7.371257e-02\\\\\n",
       "\tsleep\\_filter & -0.7138984203 & 0.21392094 & -3.33720678 & 8.462496e-04 & 8.462496e-04\\\\\n",
       "\tsmok\\_stat &  0.6792372556 & 0.15576473 &  4.36066152 & 1.296698e-05 & 1.296698e-05\\\\\n",
       "\tfull\\_screen\\_time &  0.0371848004 & 0.04250736 &  0.87478500 & 3.816909e-01 & 3.816909e-01\\\\\n",
       "\talc\\_freq\\_filter & -0.1990402423 & 0.14515771 & -1.37119992 & 1.703126e-01 & 1.703126e-01\\\\\n",
       "\tmet\\_minweek\\_filter & -0.0003522156 & 0.01591309 & -0.02213371 & 9.823413e-01 & 9.823413e-01\\\\\n",
       "\t0\\textbar{}1 & -4.3681575671 & 0.51260640 & -8.52146512 & 1.575475e-17 & 1.575475e-17\\\\\n",
       "\t1\\textbar{}2 & -0.1199956650 & 0.42799635 & -0.28036609 & 7.791966e-01 & 7.791966e-01\\\\\n",
       "\t2\\textbar{}3 &  1.9193147601 & 0.45431445 &  4.22463948 & 2.393236e-05 & 2.393236e-05\\\\\n",
       "\t3\\textbar{}4 &  2.7751106267 & 0.49525470 &  5.60340089 & 2.101863e-08 & 2.101863e-08\\\\\n",
       "\\end{tabular}\n"
      ],
      "text/markdown": [
       "\n",
       "A matrix: 13 × 5 of type dbl\n",
       "\n",
       "| <!--/--> | Value | Std. Error | t value | p value | p value |\n",
       "|---|---|---|---|---|---|\n",
       "| male | -0.3907802027 | 0.22122696 | -1.76642212 | 7.732506e-02 | 7.732506e-02 |\n",
       "| age_filter_i0 | -0.5122360162 | 0.21091474 | -2.42864015 | 1.515557e-02 | 1.515557e-02 |\n",
       "| tdi |  0.0354621098 | 0.03420180 |  1.03684930 | 2.998061e-01 | 2.998061e-01 |\n",
       "| bmi_filter | -0.4184818216 | 0.23399876 | -1.78839333 | 7.371257e-02 | 7.371257e-02 |\n",
       "| sleep_filter | -0.7138984203 | 0.21392094 | -3.33720678 | 8.462496e-04 | 8.462496e-04 |\n",
       "| smok_stat |  0.6792372556 | 0.15576473 |  4.36066152 | 1.296698e-05 | 1.296698e-05 |\n",
       "| full_screen_time |  0.0371848004 | 0.04250736 |  0.87478500 | 3.816909e-01 | 3.816909e-01 |\n",
       "| alc_freq_filter | -0.1990402423 | 0.14515771 | -1.37119992 | 1.703126e-01 | 1.703126e-01 |\n",
       "| met_minweek_filter | -0.0003522156 | 0.01591309 | -0.02213371 | 9.823413e-01 | 9.823413e-01 |\n",
       "| 0|1 | -4.3681575671 | 0.51260640 | -8.52146512 | 1.575475e-17 | 1.575475e-17 |\n",
       "| 1|2 | -0.1199956650 | 0.42799635 | -0.28036609 | 7.791966e-01 | 7.791966e-01 |\n",
       "| 2|3 |  1.9193147601 | 0.45431445 |  4.22463948 | 2.393236e-05 | 2.393236e-05 |\n",
       "| 3|4 |  2.7751106267 | 0.49525470 |  5.60340089 | 2.101863e-08 | 2.101863e-08 |\n",
       "\n"
      ],
      "text/plain": [
       "                   Value         Std. Error t value     p value     \n",
       "male               -0.3907802027 0.22122696 -1.76642212 7.732506e-02\n",
       "age_filter_i0      -0.5122360162 0.21091474 -2.42864015 1.515557e-02\n",
       "tdi                 0.0354621098 0.03420180  1.03684930 2.998061e-01\n",
       "bmi_filter         -0.4184818216 0.23399876 -1.78839333 7.371257e-02\n",
       "sleep_filter       -0.7138984203 0.21392094 -3.33720678 8.462496e-04\n",
       "smok_stat           0.6792372556 0.15576473  4.36066152 1.296698e-05\n",
       "full_screen_time    0.0371848004 0.04250736  0.87478500 3.816909e-01\n",
       "alc_freq_filter    -0.1990402423 0.14515771 -1.37119992 1.703126e-01\n",
       "met_minweek_filter -0.0003522156 0.01591309 -0.02213371 9.823413e-01\n",
       "0|1                -4.3681575671 0.51260640 -8.52146512 1.575475e-17\n",
       "1|2                -0.1199956650 0.42799635 -0.28036609 7.791966e-01\n",
       "2|3                 1.9193147601 0.45431445  4.22463948 2.393236e-05\n",
       "3|4                 2.7751106267 0.49525470  5.60340089 2.101863e-08\n",
       "                   p value     \n",
       "male               7.732506e-02\n",
       "age_filter_i0      1.515557e-02\n",
       "tdi                2.998061e-01\n",
       "bmi_filter         7.371257e-02\n",
       "sleep_filter       8.462496e-04\n",
       "smok_stat          1.296698e-05\n",
       "full_screen_time   3.816909e-01\n",
       "alc_freq_filter    1.703126e-01\n",
       "met_minweek_filter 9.823413e-01\n",
       "0|1                1.575475e-17\n",
       "1|2                7.791966e-01\n",
       "2|3                2.393236e-05\n",
       "3|4                2.101863e-08"
      ]
     },
     "metadata": {},
     "output_type": "display_data"
    }
   ],
   "source": [
    "## calculate and store p values\n",
    "p_dn <- pnorm(abs(ctable_dn[, \"t value\"]), lower.tail = FALSE) * 2\n",
    "## combined table\n",
    "(ctable_dn <- cbind(ctable_dn, \"p value\" = p_dn))"
   ]
  },
  {
   "cell_type": "code",
   "execution_count": 56,
   "id": "175d053b-659f-4bfb-9e9b-dc6168783f99",
   "metadata": {
    "tags": []
   },
   "outputs": [
    {
     "data": {
      "text/html": [
       "<style>\n",
       ".dl-inline {width: auto; margin:0; padding: 0}\n",
       ".dl-inline>dt, .dl-inline>dd {float: none; width: auto; display: inline-block}\n",
       ".dl-inline>dt::after {content: \":\\0020\"; padding-right: .5ex}\n",
       ".dl-inline>dt:not(:first-of-type) {padding-left: .5ex}\n",
       "</style><dl class=dl-inline><dt>male</dt><dd>0.5854931797123</dd><dt>age_filter_i0</dt><dd>0.457060881145894</dd><dt>tdi</dt><dd>1.09661115105068</dd><dt>bmi_filter</dt><dd>0.912052829295397</dd><dt>sleep_filter</dt><dd>0.743163996323381</dd><dt>smok_stat</dt><dd>0.898056731049308</dd><dt>full_screen_time</dt><dd>1.07266464831031</dd><dt>alc_freq_filter</dt><dd>0.716760820571184</dd><dt>met_minweek_filter</dt><dd>0.975381432901084</dd></dl>\n"
      ],
      "text/latex": [
       "\\begin{description*}\n",
       "\\item[male] 0.5854931797123\n",
       "\\item[age\\textbackslash{}\\_filter\\textbackslash{}\\_i0] 0.457060881145894\n",
       "\\item[tdi] 1.09661115105068\n",
       "\\item[bmi\\textbackslash{}\\_filter] 0.912052829295397\n",
       "\\item[sleep\\textbackslash{}\\_filter] 0.743163996323381\n",
       "\\item[smok\\textbackslash{}\\_stat] 0.898056731049308\n",
       "\\item[full\\textbackslash{}\\_screen\\textbackslash{}\\_time] 1.07266464831031\n",
       "\\item[alc\\textbackslash{}\\_freq\\textbackslash{}\\_filter] 0.716760820571184\n",
       "\\item[met\\textbackslash{}\\_minweek\\textbackslash{}\\_filter] 0.975381432901084\n",
       "\\end{description*}\n"
      ],
      "text/markdown": [
       "male\n",
       ":   0.5854931797123age_filter_i0\n",
       ":   0.457060881145894tdi\n",
       ":   1.09661115105068bmi_filter\n",
       ":   0.912052829295397sleep_filter\n",
       ":   0.743163996323381smok_stat\n",
       ":   0.898056731049308full_screen_time\n",
       ":   1.07266464831031alc_freq_filter\n",
       ":   0.716760820571184met_minweek_filter\n",
       ":   0.975381432901084\n",
       "\n"
      ],
      "text/plain": [
       "              male      age_filter_i0                tdi         bmi_filter \n",
       "         0.5854932          0.4570609          1.0966112          0.9120528 \n",
       "      sleep_filter          smok_stat   full_screen_time    alc_freq_filter \n",
       "         0.7431640          0.8980567          1.0726646          0.7167608 \n",
       "met_minweek_filter \n",
       "         0.9753814 "
      ]
     },
     "metadata": {},
     "output_type": "display_data"
    }
   ],
   "source": [
    "## odds ratios\n",
    "exp(coef(model_dy))"
   ]
  },
  {
   "cell_type": "code",
   "execution_count": 57,
   "id": "58bb0992-4c54-4f8d-b3f3-97256910efc4",
   "metadata": {
    "tags": []
   },
   "outputs": [
    {
     "data": {
      "text/html": [
       "<style>\n",
       ".dl-inline {width: auto; margin:0; padding: 0}\n",
       ".dl-inline>dt, .dl-inline>dd {float: none; width: auto; display: inline-block}\n",
       ".dl-inline>dt::after {content: \":\\0020\"; padding-right: .5ex}\n",
       ".dl-inline>dt:not(:first-of-type) {padding-left: .5ex}\n",
       "</style><dl class=dl-inline><dt>male</dt><dd>0.67652883892582</dd><dt>age_filter_i0</dt><dd>0.599154360992388</dd><dt>tdi</dt><dd>1.0360983894411</dd><dt>bmi_filter</dt><dd>0.658045091700965</dd><dt>sleep_filter</dt><dd>0.48973129280384</dd><dt>smok_stat</dt><dd>1.97237274202501</dd><dt>full_screen_time</dt><dd>1.03788480467347</dd><dt>alc_freq_filter</dt><dd>0.819516913425837</dd><dt>met_minweek_filter</dt><dd>0.999647846395599</dd></dl>\n"
      ],
      "text/latex": [
       "\\begin{description*}\n",
       "\\item[male] 0.67652883892582\n",
       "\\item[age\\textbackslash{}\\_filter\\textbackslash{}\\_i0] 0.599154360992388\n",
       "\\item[tdi] 1.0360983894411\n",
       "\\item[bmi\\textbackslash{}\\_filter] 0.658045091700965\n",
       "\\item[sleep\\textbackslash{}\\_filter] 0.48973129280384\n",
       "\\item[smok\\textbackslash{}\\_stat] 1.97237274202501\n",
       "\\item[full\\textbackslash{}\\_screen\\textbackslash{}\\_time] 1.03788480467347\n",
       "\\item[alc\\textbackslash{}\\_freq\\textbackslash{}\\_filter] 0.819516913425837\n",
       "\\item[met\\textbackslash{}\\_minweek\\textbackslash{}\\_filter] 0.999647846395599\n",
       "\\end{description*}\n"
      ],
      "text/markdown": [
       "male\n",
       ":   0.67652883892582age_filter_i0\n",
       ":   0.599154360992388tdi\n",
       ":   1.0360983894411bmi_filter\n",
       ":   0.658045091700965sleep_filter\n",
       ":   0.48973129280384smok_stat\n",
       ":   1.97237274202501full_screen_time\n",
       ":   1.03788480467347alc_freq_filter\n",
       ":   0.819516913425837met_minweek_filter\n",
       ":   0.999647846395599\n",
       "\n"
      ],
      "text/plain": [
       "              male      age_filter_i0                tdi         bmi_filter \n",
       "         0.6765288          0.5991544          1.0360984          0.6580451 \n",
       "      sleep_filter          smok_stat   full_screen_time    alc_freq_filter \n",
       "         0.4897313          1.9723727          1.0378848          0.8195169 \n",
       "met_minweek_filter \n",
       "         0.9996478 "
      ]
     },
     "metadata": {},
     "output_type": "display_data"
    }
   ],
   "source": [
    "## odds ratios\n",
    "exp(coef(model_dn))"
   ]
  },
  {
   "cell_type": "code",
   "execution_count": 58,
   "id": "07e66ed8-115a-4e76-9437-c4fc1ed8bb34",
   "metadata": {
    "tags": []
   },
   "outputs": [
    {
     "name": "stderr",
     "output_type": "stream",
     "text": [
      "Waiting for profiling to be done...\n",
      "\n",
      "\n",
      "Re-fitting to get Hessian\n",
      "\n",
      "\n"
     ]
    },
    {
     "data": {
      "text/html": [
       "<table class=\"dataframe\">\n",
       "<caption>A matrix: 9 × 2 of type dbl</caption>\n",
       "<thead>\n",
       "\t<tr><th></th><th scope=col>2.5 %</th><th scope=col>97.5 %</th></tr>\n",
       "</thead>\n",
       "<tbody>\n",
       "\t<tr><th scope=row>male</th><td>-1.108514286</td><td> 0.03318048</td></tr>\n",
       "\t<tr><th scope=row>age_filter_i0</th><td>-1.365932895</td><td>-0.20054132</td></tr>\n",
       "\t<tr><th scope=row>tdi</th><td> 0.004618627</td><td> 0.17992891</td></tr>\n",
       "\t<tr><th scope=row>bmi_filter</th><td>-0.685993232</td><td> 0.48923672</td></tr>\n",
       "\t<tr><th scope=row>sleep_filter</th><td>-0.886030677</td><td> 0.29885577</td></tr>\n",
       "\t<tr><th scope=row>smok_stat</th><td>-0.519260714</td><td> 0.29629255</td></tr>\n",
       "\t<tr><th scope=row>full_screen_time</th><td>-0.025937064</td><td> 0.16728659</td></tr>\n",
       "\t<tr><th scope=row>alc_freq_filter</th><td>-0.749934243</td><td> 0.07483542</td></tr>\n",
       "\t<tr><th scope=row>met_minweek_filter</th><td>-0.068021261</td><td> 0.01619646</td></tr>\n",
       "</tbody>\n",
       "</table>\n"
      ],
      "text/latex": [
       "A matrix: 9 × 2 of type dbl\n",
       "\\begin{tabular}{r|ll}\n",
       "  & 2.5 \\% & 97.5 \\%\\\\\n",
       "\\hline\n",
       "\tmale & -1.108514286 &  0.03318048\\\\\n",
       "\tage\\_filter\\_i0 & -1.365932895 & -0.20054132\\\\\n",
       "\ttdi &  0.004618627 &  0.17992891\\\\\n",
       "\tbmi\\_filter & -0.685993232 &  0.48923672\\\\\n",
       "\tsleep\\_filter & -0.886030677 &  0.29885577\\\\\n",
       "\tsmok\\_stat & -0.519260714 &  0.29629255\\\\\n",
       "\tfull\\_screen\\_time & -0.025937064 &  0.16728659\\\\\n",
       "\talc\\_freq\\_filter & -0.749934243 &  0.07483542\\\\\n",
       "\tmet\\_minweek\\_filter & -0.068021261 &  0.01619646\\\\\n",
       "\\end{tabular}\n"
      ],
      "text/markdown": [
       "\n",
       "A matrix: 9 × 2 of type dbl\n",
       "\n",
       "| <!--/--> | 2.5 % | 97.5 % |\n",
       "|---|---|---|\n",
       "| male | -1.108514286 |  0.03318048 |\n",
       "| age_filter_i0 | -1.365932895 | -0.20054132 |\n",
       "| tdi |  0.004618627 |  0.17992891 |\n",
       "| bmi_filter | -0.685993232 |  0.48923672 |\n",
       "| sleep_filter | -0.886030677 |  0.29885577 |\n",
       "| smok_stat | -0.519260714 |  0.29629255 |\n",
       "| full_screen_time | -0.025937064 |  0.16728659 |\n",
       "| alc_freq_filter | -0.749934243 |  0.07483542 |\n",
       "| met_minweek_filter | -0.068021261 |  0.01619646 |\n",
       "\n"
      ],
      "text/plain": [
       "                   2.5 %        97.5 %     \n",
       "male               -1.108514286  0.03318048\n",
       "age_filter_i0      -1.365932895 -0.20054132\n",
       "tdi                 0.004618627  0.17992891\n",
       "bmi_filter         -0.685993232  0.48923672\n",
       "sleep_filter       -0.886030677  0.29885577\n",
       "smok_stat          -0.519260714  0.29629255\n",
       "full_screen_time   -0.025937064  0.16728659\n",
       "alc_freq_filter    -0.749934243  0.07483542\n",
       "met_minweek_filter -0.068021261  0.01619646"
      ]
     },
     "metadata": {},
     "output_type": "display_data"
    }
   ],
   "source": [
    "(ci_dy <- confint(model_dy)) # default method gives profiled CIs\n"
   ]
  },
  {
   "cell_type": "code",
   "execution_count": 59,
   "id": "c48112b6-adca-48b1-b025-690a9af6a9f5",
   "metadata": {
    "tags": []
   },
   "outputs": [
    {
     "name": "stderr",
     "output_type": "stream",
     "text": [
      "Waiting for profiling to be done...\n",
      "\n",
      "\n",
      "Re-fitting to get Hessian\n",
      "\n",
      "\n"
     ]
    },
    {
     "data": {
      "text/html": [
       "<table class=\"dataframe\">\n",
       "<caption>A matrix: 9 × 2 of type dbl</caption>\n",
       "<thead>\n",
       "\t<tr><th></th><th scope=col>2.5 %</th><th scope=col>97.5 %</th></tr>\n",
       "</thead>\n",
       "<tbody>\n",
       "\t<tr><th scope=row>male</th><td>-0.82489073</td><td> 0.04332216</td></tr>\n",
       "\t<tr><th scope=row>age_filter_i0</th><td>-0.92700700</td><td>-0.09936558</td></tr>\n",
       "\t<tr><th scope=row>tdi</th><td>-0.03188083</td><td> 0.10236808</td></tr>\n",
       "\t<tr><th scope=row>bmi_filter</th><td>-0.88300127</td><td> 0.03558466</td></tr>\n",
       "\t<tr><th scope=row>sleep_filter</th><td>-1.13447864</td><td>-0.29504033</td></tr>\n",
       "\t<tr><th scope=row>smok_stat</th><td> 0.37577165</td><td> 0.98719917</td></tr>\n",
       "\t<tr><th scope=row>full_screen_time</th><td>-0.04729980</td><td> 0.11937268</td></tr>\n",
       "\t<tr><th scope=row>alc_freq_filter</th><td>-0.48533601</td><td> 0.08440085</td></tr>\n",
       "\t<tr><th scope=row>met_minweek_filter</th><td>-0.03210756</td><td> 0.03042564</td></tr>\n",
       "</tbody>\n",
       "</table>\n"
      ],
      "text/latex": [
       "A matrix: 9 × 2 of type dbl\n",
       "\\begin{tabular}{r|ll}\n",
       "  & 2.5 \\% & 97.5 \\%\\\\\n",
       "\\hline\n",
       "\tmale & -0.82489073 &  0.04332216\\\\\n",
       "\tage\\_filter\\_i0 & -0.92700700 & -0.09936558\\\\\n",
       "\ttdi & -0.03188083 &  0.10236808\\\\\n",
       "\tbmi\\_filter & -0.88300127 &  0.03558466\\\\\n",
       "\tsleep\\_filter & -1.13447864 & -0.29504033\\\\\n",
       "\tsmok\\_stat &  0.37577165 &  0.98719917\\\\\n",
       "\tfull\\_screen\\_time & -0.04729980 &  0.11937268\\\\\n",
       "\talc\\_freq\\_filter & -0.48533601 &  0.08440085\\\\\n",
       "\tmet\\_minweek\\_filter & -0.03210756 &  0.03042564\\\\\n",
       "\\end{tabular}\n"
      ],
      "text/markdown": [
       "\n",
       "A matrix: 9 × 2 of type dbl\n",
       "\n",
       "| <!--/--> | 2.5 % | 97.5 % |\n",
       "|---|---|---|\n",
       "| male | -0.82489073 |  0.04332216 |\n",
       "| age_filter_i0 | -0.92700700 | -0.09936558 |\n",
       "| tdi | -0.03188083 |  0.10236808 |\n",
       "| bmi_filter | -0.88300127 |  0.03558466 |\n",
       "| sleep_filter | -1.13447864 | -0.29504033 |\n",
       "| smok_stat |  0.37577165 |  0.98719917 |\n",
       "| full_screen_time | -0.04729980 |  0.11937268 |\n",
       "| alc_freq_filter | -0.48533601 |  0.08440085 |\n",
       "| met_minweek_filter | -0.03210756 |  0.03042564 |\n",
       "\n"
      ],
      "text/plain": [
       "                   2.5 %       97.5 %     \n",
       "male               -0.82489073  0.04332216\n",
       "age_filter_i0      -0.92700700 -0.09936558\n",
       "tdi                -0.03188083  0.10236808\n",
       "bmi_filter         -0.88300127  0.03558466\n",
       "sleep_filter       -1.13447864 -0.29504033\n",
       "smok_stat           0.37577165  0.98719917\n",
       "full_screen_time   -0.04729980  0.11937268\n",
       "alc_freq_filter    -0.48533601  0.08440085\n",
       "met_minweek_filter -0.03210756  0.03042564"
      ]
     },
     "metadata": {},
     "output_type": "display_data"
    }
   ],
   "source": [
    "(ci_dn <- confint(model_dn)) # default method gives profiled CIs"
   ]
  },
  {
   "cell_type": "code",
   "execution_count": 60,
   "id": "4e97673b-34af-497b-8ecd-83ae7d212913",
   "metadata": {
    "tags": []
   },
   "outputs": [
    {
     "name": "stderr",
     "output_type": "stream",
     "text": [
      "\n",
      "Re-fitting to get Hessian\n",
      "\n",
      "\n"
     ]
    },
    {
     "data": {
      "text/html": [
       "<table class=\"dataframe\">\n",
       "<caption>A matrix: 9 × 2 of type dbl</caption>\n",
       "<thead>\n",
       "\t<tr><th></th><th scope=col>2.5 %</th><th scope=col>97.5 %</th></tr>\n",
       "</thead>\n",
       "<tbody>\n",
       "\t<tr><th scope=row>male</th><td>-1.104817748</td><td> 0.03421626</td></tr>\n",
       "\t<tr><th scope=row>age_filter_i0</th><td>-1.364331930</td><td>-0.20154543</td></tr>\n",
       "\t<tr><th scope=row>tdi</th><td> 0.004834567</td><td> 0.17961474</td></tr>\n",
       "\t<tr><th scope=row>bmi_filter</th><td>-0.678066176</td><td> 0.49395145</td></tr>\n",
       "\t<tr><th scope=row>sleep_filter</th><td>-0.887975678</td><td> 0.29429860</td></tr>\n",
       "\t<tr><th scope=row>smok_stat</th><td>-0.514252979</td><td> 0.29920890</td></tr>\n",
       "\t<tr><th scope=row>full_screen_time</th><td>-0.026353206</td><td> 0.16664496</td></tr>\n",
       "\t<tr><th scope=row>alc_freq_filter</th><td>-0.744324335</td><td> 0.07829818</td></tr>\n",
       "\t<tr><th scope=row>met_minweek_filter</th><td>-0.066941961</td><td> 0.01708862</td></tr>\n",
       "</tbody>\n",
       "</table>\n"
      ],
      "text/latex": [
       "A matrix: 9 × 2 of type dbl\n",
       "\\begin{tabular}{r|ll}\n",
       "  & 2.5 \\% & 97.5 \\%\\\\\n",
       "\\hline\n",
       "\tmale & -1.104817748 &  0.03421626\\\\\n",
       "\tage\\_filter\\_i0 & -1.364331930 & -0.20154543\\\\\n",
       "\ttdi &  0.004834567 &  0.17961474\\\\\n",
       "\tbmi\\_filter & -0.678066176 &  0.49395145\\\\\n",
       "\tsleep\\_filter & -0.887975678 &  0.29429860\\\\\n",
       "\tsmok\\_stat & -0.514252979 &  0.29920890\\\\\n",
       "\tfull\\_screen\\_time & -0.026353206 &  0.16664496\\\\\n",
       "\talc\\_freq\\_filter & -0.744324335 &  0.07829818\\\\\n",
       "\tmet\\_minweek\\_filter & -0.066941961 &  0.01708862\\\\\n",
       "\\end{tabular}\n"
      ],
      "text/markdown": [
       "\n",
       "A matrix: 9 × 2 of type dbl\n",
       "\n",
       "| <!--/--> | 2.5 % | 97.5 % |\n",
       "|---|---|---|\n",
       "| male | -1.104817748 |  0.03421626 |\n",
       "| age_filter_i0 | -1.364331930 | -0.20154543 |\n",
       "| tdi |  0.004834567 |  0.17961474 |\n",
       "| bmi_filter | -0.678066176 |  0.49395145 |\n",
       "| sleep_filter | -0.887975678 |  0.29429860 |\n",
       "| smok_stat | -0.514252979 |  0.29920890 |\n",
       "| full_screen_time | -0.026353206 |  0.16664496 |\n",
       "| alc_freq_filter | -0.744324335 |  0.07829818 |\n",
       "| met_minweek_filter | -0.066941961 |  0.01708862 |\n",
       "\n"
      ],
      "text/plain": [
       "                   2.5 %        97.5 %     \n",
       "male               -1.104817748  0.03421626\n",
       "age_filter_i0      -1.364331930 -0.20154543\n",
       "tdi                 0.004834567  0.17961474\n",
       "bmi_filter         -0.678066176  0.49395145\n",
       "sleep_filter       -0.887975678  0.29429860\n",
       "smok_stat          -0.514252979  0.29920890\n",
       "full_screen_time   -0.026353206  0.16664496\n",
       "alc_freq_filter    -0.744324335  0.07829818\n",
       "met_minweek_filter -0.066941961  0.01708862"
      ]
     },
     "metadata": {},
     "output_type": "display_data"
    }
   ],
   "source": [
    "confint.default(model_dy) # CIs assuming normality"
   ]
  },
  {
   "cell_type": "code",
   "execution_count": 61,
   "id": "6eee016b-2800-4b32-ac78-b1d124c2da27",
   "metadata": {
    "tags": []
   },
   "outputs": [
    {
     "name": "stderr",
     "output_type": "stream",
     "text": [
      "\n",
      "Re-fitting to get Hessian\n",
      "\n",
      "\n"
     ]
    },
    {
     "data": {
      "text/html": [
       "<table class=\"dataframe\">\n",
       "<caption>A matrix: 9 × 2 of type dbl</caption>\n",
       "<thead>\n",
       "\t<tr><th></th><th scope=col>2.5 %</th><th scope=col>97.5 %</th></tr>\n",
       "</thead>\n",
       "<tbody>\n",
       "\t<tr><th scope=row>male</th><td>-0.82437708</td><td> 0.04281668</td></tr>\n",
       "\t<tr><th scope=row>age_filter_i0</th><td>-0.92562132</td><td>-0.09885071</td></tr>\n",
       "\t<tr><th scope=row>tdi</th><td>-0.03157218</td><td> 0.10249640</td></tr>\n",
       "\t<tr><th scope=row>bmi_filter</th><td>-0.87711096</td><td> 0.04014732</td></tr>\n",
       "\t<tr><th scope=row>sleep_filter</th><td>-1.13317576</td><td>-0.29462108</td></tr>\n",
       "\t<tr><th scope=row>smok_stat</th><td> 0.37394400</td><td> 0.98453051</td></tr>\n",
       "\t<tr><th scope=row>full_screen_time</th><td>-0.04612809</td><td> 0.12049769</td></tr>\n",
       "\t<tr><th scope=row>alc_freq_filter</th><td>-0.48354413</td><td> 0.08546364</td></tr>\n",
       "\t<tr><th scope=row>met_minweek_filter</th><td>-0.03154130</td><td> 0.03083686</td></tr>\n",
       "</tbody>\n",
       "</table>\n"
      ],
      "text/latex": [
       "A matrix: 9 × 2 of type dbl\n",
       "\\begin{tabular}{r|ll}\n",
       "  & 2.5 \\% & 97.5 \\%\\\\\n",
       "\\hline\n",
       "\tmale & -0.82437708 &  0.04281668\\\\\n",
       "\tage\\_filter\\_i0 & -0.92562132 & -0.09885071\\\\\n",
       "\ttdi & -0.03157218 &  0.10249640\\\\\n",
       "\tbmi\\_filter & -0.87711096 &  0.04014732\\\\\n",
       "\tsleep\\_filter & -1.13317576 & -0.29462108\\\\\n",
       "\tsmok\\_stat &  0.37394400 &  0.98453051\\\\\n",
       "\tfull\\_screen\\_time & -0.04612809 &  0.12049769\\\\\n",
       "\talc\\_freq\\_filter & -0.48354413 &  0.08546364\\\\\n",
       "\tmet\\_minweek\\_filter & -0.03154130 &  0.03083686\\\\\n",
       "\\end{tabular}\n"
      ],
      "text/markdown": [
       "\n",
       "A matrix: 9 × 2 of type dbl\n",
       "\n",
       "| <!--/--> | 2.5 % | 97.5 % |\n",
       "|---|---|---|\n",
       "| male | -0.82437708 |  0.04281668 |\n",
       "| age_filter_i0 | -0.92562132 | -0.09885071 |\n",
       "| tdi | -0.03157218 |  0.10249640 |\n",
       "| bmi_filter | -0.87711096 |  0.04014732 |\n",
       "| sleep_filter | -1.13317576 | -0.29462108 |\n",
       "| smok_stat |  0.37394400 |  0.98453051 |\n",
       "| full_screen_time | -0.04612809 |  0.12049769 |\n",
       "| alc_freq_filter | -0.48354413 |  0.08546364 |\n",
       "| met_minweek_filter | -0.03154130 |  0.03083686 |\n",
       "\n"
      ],
      "text/plain": [
       "                   2.5 %       97.5 %     \n",
       "male               -0.82437708  0.04281668\n",
       "age_filter_i0      -0.92562132 -0.09885071\n",
       "tdi                -0.03157218  0.10249640\n",
       "bmi_filter         -0.87711096  0.04014732\n",
       "sleep_filter       -1.13317576 -0.29462108\n",
       "smok_stat           0.37394400  0.98453051\n",
       "full_screen_time   -0.04612809  0.12049769\n",
       "alc_freq_filter    -0.48354413  0.08546364\n",
       "met_minweek_filter -0.03154130  0.03083686"
      ]
     },
     "metadata": {},
     "output_type": "display_data"
    }
   ],
   "source": [
    "confint.default(model_dn) # CIs assuming normality"
   ]
  },
  {
   "cell_type": "code",
   "execution_count": 62,
   "id": "f8519579-1c13-441d-b147-e9a86a5189eb",
   "metadata": {
    "tags": []
   },
   "outputs": [
    {
     "data": {
      "text/html": [
       "<table class=\"dataframe\">\n",
       "<caption>A matrix: 9 × 3 of type dbl</caption>\n",
       "<thead>\n",
       "\t<tr><th></th><th scope=col>OR</th><th scope=col>2.5 %</th><th scope=col>97.5 %</th></tr>\n",
       "</thead>\n",
       "<tbody>\n",
       "\t<tr><th scope=row>male</th><td>0.5854932</td><td>0.3300490</td><td>1.0337371</td></tr>\n",
       "\t<tr><th scope=row>age_filter_i0</th><td>0.4570609</td><td>0.2551425</td><td>0.8182877</td></tr>\n",
       "\t<tr><th scope=row>tdi</th><td>1.0966112</td><td>1.0046293</td><td>1.1971323</td></tr>\n",
       "\t<tr><th scope=row>bmi_filter</th><td>0.9120528</td><td>0.5035898</td><td>1.6310708</td></tr>\n",
       "\t<tr><th scope=row>sleep_filter</th><td>0.7431640</td><td>0.4122890</td><td>1.3483151</td></tr>\n",
       "\t<tr><th scope=row>smok_stat</th><td>0.8980567</td><td>0.5949602</td><td>1.3448635</td></tr>\n",
       "\t<tr><th scope=row>full_screen_time</th><td>1.0726646</td><td>0.9743964</td><td>1.1820930</td></tr>\n",
       "\t<tr><th scope=row>alc_freq_filter</th><td>0.7167608</td><td>0.4723976</td><td>1.0777068</td></tr>\n",
       "\t<tr><th scope=row>met_minweek_filter</th><td>0.9753814</td><td>0.9342406</td><td>1.0163283</td></tr>\n",
       "</tbody>\n",
       "</table>\n"
      ],
      "text/latex": [
       "A matrix: 9 × 3 of type dbl\n",
       "\\begin{tabular}{r|lll}\n",
       "  & OR & 2.5 \\% & 97.5 \\%\\\\\n",
       "\\hline\n",
       "\tmale & 0.5854932 & 0.3300490 & 1.0337371\\\\\n",
       "\tage\\_filter\\_i0 & 0.4570609 & 0.2551425 & 0.8182877\\\\\n",
       "\ttdi & 1.0966112 & 1.0046293 & 1.1971323\\\\\n",
       "\tbmi\\_filter & 0.9120528 & 0.5035898 & 1.6310708\\\\\n",
       "\tsleep\\_filter & 0.7431640 & 0.4122890 & 1.3483151\\\\\n",
       "\tsmok\\_stat & 0.8980567 & 0.5949602 & 1.3448635\\\\\n",
       "\tfull\\_screen\\_time & 1.0726646 & 0.9743964 & 1.1820930\\\\\n",
       "\talc\\_freq\\_filter & 0.7167608 & 0.4723976 & 1.0777068\\\\\n",
       "\tmet\\_minweek\\_filter & 0.9753814 & 0.9342406 & 1.0163283\\\\\n",
       "\\end{tabular}\n"
      ],
      "text/markdown": [
       "\n",
       "A matrix: 9 × 3 of type dbl\n",
       "\n",
       "| <!--/--> | OR | 2.5 % | 97.5 % |\n",
       "|---|---|---|---|\n",
       "| male | 0.5854932 | 0.3300490 | 1.0337371 |\n",
       "| age_filter_i0 | 0.4570609 | 0.2551425 | 0.8182877 |\n",
       "| tdi | 1.0966112 | 1.0046293 | 1.1971323 |\n",
       "| bmi_filter | 0.9120528 | 0.5035898 | 1.6310708 |\n",
       "| sleep_filter | 0.7431640 | 0.4122890 | 1.3483151 |\n",
       "| smok_stat | 0.8980567 | 0.5949602 | 1.3448635 |\n",
       "| full_screen_time | 1.0726646 | 0.9743964 | 1.1820930 |\n",
       "| alc_freq_filter | 0.7167608 | 0.4723976 | 1.0777068 |\n",
       "| met_minweek_filter | 0.9753814 | 0.9342406 | 1.0163283 |\n",
       "\n"
      ],
      "text/plain": [
       "                   OR        2.5 %     97.5 %   \n",
       "male               0.5854932 0.3300490 1.0337371\n",
       "age_filter_i0      0.4570609 0.2551425 0.8182877\n",
       "tdi                1.0966112 1.0046293 1.1971323\n",
       "bmi_filter         0.9120528 0.5035898 1.6310708\n",
       "sleep_filter       0.7431640 0.4122890 1.3483151\n",
       "smok_stat          0.8980567 0.5949602 1.3448635\n",
       "full_screen_time   1.0726646 0.9743964 1.1820930\n",
       "alc_freq_filter    0.7167608 0.4723976 1.0777068\n",
       "met_minweek_filter 0.9753814 0.9342406 1.0163283"
      ]
     },
     "metadata": {},
     "output_type": "display_data"
    }
   ],
   "source": [
    "## OR and CI\n",
    "exp(cbind(OR = coef(model_dy), ci_dy))"
   ]
  },
  {
   "cell_type": "code",
   "execution_count": 63,
   "id": "f689ea26-95e8-477c-b80c-7880ad4d98ba",
   "metadata": {
    "tags": []
   },
   "outputs": [
    {
     "data": {
      "text/html": [
       "<table class=\"dataframe\">\n",
       "<caption>A matrix: 9 × 3 of type dbl</caption>\n",
       "<thead>\n",
       "\t<tr><th></th><th scope=col>OR</th><th scope=col>2.5 %</th><th scope=col>97.5 %</th></tr>\n",
       "</thead>\n",
       "<tbody>\n",
       "\t<tr><th scope=row>male</th><td>0.6765288</td><td>0.4382829</td><td>1.0442743</td></tr>\n",
       "\t<tr><th scope=row>age_filter_i0</th><td>0.5991544</td><td>0.3957364</td><td>0.9054116</td></tr>\n",
       "\t<tr><th scope=row>tdi</th><td>1.0360984</td><td>0.9686220</td><td>1.1077912</td></tr>\n",
       "\t<tr><th scope=row>bmi_filter</th><td>0.6580451</td><td>0.4135399</td><td>1.0362254</td></tr>\n",
       "\t<tr><th scope=row>sleep_filter</th><td>0.4897313</td><td>0.3215897</td><td>0.7445016</td></tr>\n",
       "\t<tr><th scope=row>smok_stat</th><td>1.9723727</td><td>1.4561146</td><td>2.6837073</td></tr>\n",
       "\t<tr><th scope=row>full_screen_time</th><td>1.0378848</td><td>0.9538014</td><td>1.1267898</td></tr>\n",
       "\t<tr><th scope=row>alc_freq_filter</th><td>0.8195169</td><td>0.6154903</td><td>1.0880650</td></tr>\n",
       "\t<tr><th scope=row>met_minweek_filter</th><td>0.9996478</td><td>0.9684024</td><td>1.0308932</td></tr>\n",
       "</tbody>\n",
       "</table>\n"
      ],
      "text/latex": [
       "A matrix: 9 × 3 of type dbl\n",
       "\\begin{tabular}{r|lll}\n",
       "  & OR & 2.5 \\% & 97.5 \\%\\\\\n",
       "\\hline\n",
       "\tmale & 0.6765288 & 0.4382829 & 1.0442743\\\\\n",
       "\tage\\_filter\\_i0 & 0.5991544 & 0.3957364 & 0.9054116\\\\\n",
       "\ttdi & 1.0360984 & 0.9686220 & 1.1077912\\\\\n",
       "\tbmi\\_filter & 0.6580451 & 0.4135399 & 1.0362254\\\\\n",
       "\tsleep\\_filter & 0.4897313 & 0.3215897 & 0.7445016\\\\\n",
       "\tsmok\\_stat & 1.9723727 & 1.4561146 & 2.6837073\\\\\n",
       "\tfull\\_screen\\_time & 1.0378848 & 0.9538014 & 1.1267898\\\\\n",
       "\talc\\_freq\\_filter & 0.8195169 & 0.6154903 & 1.0880650\\\\\n",
       "\tmet\\_minweek\\_filter & 0.9996478 & 0.9684024 & 1.0308932\\\\\n",
       "\\end{tabular}\n"
      ],
      "text/markdown": [
       "\n",
       "A matrix: 9 × 3 of type dbl\n",
       "\n",
       "| <!--/--> | OR | 2.5 % | 97.5 % |\n",
       "|---|---|---|---|\n",
       "| male | 0.6765288 | 0.4382829 | 1.0442743 |\n",
       "| age_filter_i0 | 0.5991544 | 0.3957364 | 0.9054116 |\n",
       "| tdi | 1.0360984 | 0.9686220 | 1.1077912 |\n",
       "| bmi_filter | 0.6580451 | 0.4135399 | 1.0362254 |\n",
       "| sleep_filter | 0.4897313 | 0.3215897 | 0.7445016 |\n",
       "| smok_stat | 1.9723727 | 1.4561146 | 2.6837073 |\n",
       "| full_screen_time | 1.0378848 | 0.9538014 | 1.1267898 |\n",
       "| alc_freq_filter | 0.8195169 | 0.6154903 | 1.0880650 |\n",
       "| met_minweek_filter | 0.9996478 | 0.9684024 | 1.0308932 |\n",
       "\n"
      ],
      "text/plain": [
       "                   OR        2.5 %     97.5 %   \n",
       "male               0.6765288 0.4382829 1.0442743\n",
       "age_filter_i0      0.5991544 0.3957364 0.9054116\n",
       "tdi                1.0360984 0.9686220 1.1077912\n",
       "bmi_filter         0.6580451 0.4135399 1.0362254\n",
       "sleep_filter       0.4897313 0.3215897 0.7445016\n",
       "smok_stat          1.9723727 1.4561146 2.6837073\n",
       "full_screen_time   1.0378848 0.9538014 1.1267898\n",
       "alc_freq_filter    0.8195169 0.6154903 1.0880650\n",
       "met_minweek_filter 0.9996478 0.9684024 1.0308932"
      ]
     },
     "metadata": {},
     "output_type": "display_data"
    }
   ],
   "source": [
    "## OR and CI\n",
    "exp(cbind(OR = coef(model_dn), ci_dn))"
   ]
  },
  {
   "cell_type": "code",
   "execution_count": 64,
   "id": "10bd6d06-0a02-4df1-b088-0c258db678b6",
   "metadata": {
    "tags": []
   },
   "outputs": [],
   "source": [
    "#next model = px who had a cevd after followup visit"
   ]
  },
  {
   "cell_type": "code",
   "execution_count": 68,
   "id": "6319d1bf-2910-4744-839d-2621a475f8bb",
   "metadata": {
    "tags": []
   },
   "outputs": [],
   "source": [
    "#not enough cases in 1 yr for this"
   ]
  },
  {
   "cell_type": "code",
   "execution_count": 65,
   "id": "f62ed780-0e18-4ebf-b245-7f3d4b48c315",
   "metadata": {
    "tags": []
   },
   "outputs": [
    {
     "name": "stdout",
     "output_type": "stream",
     "text": [
      "[1] 38\n"
     ]
    }
   ],
   "source": [
    "data_1 <- read.csv(\"cevd_second_model.csv\")\n",
    "# check number of rows - should be 603 from initial baseline of px who have future cevd\n",
    "num_rows_1 <- nrow(data_1)\n",
    "print(num_rows_1)\n",
    "# create 2 separate dataframes, 1 has depressed px, other has non-depressed px\n",
    "data_dy_1 <-data_1[data_1$tia == 1, ]\n",
    "data_dn_1 <- data_1[data_1$ischemicstroke == 1, ]"
   ]
  },
  {
   "cell_type": "code",
   "execution_count": 66,
   "id": "2409e866-6893-4168-a5c7-767e9f7f1eff",
   "metadata": {
    "tags": []
   },
   "outputs": [
    {
     "name": "stdout",
     "output_type": "stream",
     "text": [
      "[1] 9\n"
     ]
    }
   ],
   "source": [
    "num_rows_1 <- nrow(data_dy_1)\n",
    "print(num_rows_1)"
   ]
  },
  {
   "cell_type": "code",
   "execution_count": 67,
   "id": "9fd33cad-d0e8-413c-ac08-9081b24c587f",
   "metadata": {
    "tags": []
   },
   "outputs": [
    {
     "name": "stdout",
     "output_type": "stream",
     "text": [
      "[1] 20\n"
     ]
    }
   ],
   "source": [
    "num_rows_1 <- nrow(data_dn_1)\n",
    "print(num_rows_1)"
   ]
  },
  {
   "cell_type": "code",
   "execution_count": null,
   "id": "623d1b26-2728-416b-b1ca-4f24c0d0f44e",
   "metadata": {},
   "outputs": [],
   "source": [
    "# too small for follow-up analysis"
   ]
  },
  {
   "cell_type": "code",
   "execution_count": 30,
   "id": "34730692-b588-4b5a-9a03-204ea6a9a2e7",
   "metadata": {
    "tags": []
   },
   "outputs": [],
   "source": [
    "#data$age_filter_i0 <- ifelse(data$age_i0 < 60, 0, 1)\n",
    "data_dy_1$age_filter_i0 <- ifelse(data_dy_1$age_i0 < 60, 0, 1)\n",
    "data_dn_1$age_filter_i0 <- ifelse(data_dn_1$age_i0 < 60, 0, 1)\n",
    "#data$age_filter_i0 <- ifelse(data$age_i0 < 60, 0, 1)\n",
    "data_dy_1$sleep_filter_1 <- ifelse(data_dy_1$sleep_1 > 6 & data_dy_1$sleep_1 < 10, 1, 0)\n",
    "data_dn_1$sleep_filter_1 <- ifelse(data_dn_1$sleep_1 > 6 & data_dn_1$sleep_1 < 10, 1, 0)\n",
    "#data$age_filter_i0 <- ifelse(data$age_i0 < 60, 0, 1)\n",
    "data_dy_1$bmi_filter_1 <- ifelse(data_dy_1$bmi_1 > 18.4 & data_dy_1$bmi_1 < 26, 1, 0)\n",
    "data_dn_1$bmi_filter_1 <- ifelse(data_dn_1$bmi_1 > 18.4 & data_dn_1$bmi_1 < 26, 1, 0)\n",
    "#data$age_filter_i0 <- ifelse(data$age_i0 < 60, 0, 1)\n",
    "data_dy_1$smok_filter <- ifelse(data_dy_1$smok_stat > 0, 1, 0)\n",
    "data_dn_1$smok_filter <- ifelse(data_dn_1$smok_stat > 0, 1, 0)"
   ]
  },
  {
   "cell_type": "code",
   "execution_count": 31,
   "id": "a6a0c7ae-f7f8-4d0c-b7d2-b90378024222",
   "metadata": {
    "tags": []
   },
   "outputs": [],
   "source": [
    "# Convert the response variable to a factor with ordered levels\n",
    "data_dy_1$phq2_1_followup <- factor(data_dy_1$phq2_1_followup, ordered = TRUE, levels = c(0, 1, 2, 3, 4))\n",
    "data_dn_1$phq2_1_followup <- factor(data_dn_1$phq2_1_followup, ordered = TRUE, levels = c(0, 1, 2, 3, 4))"
   ]
  },
  {
   "cell_type": "code",
   "execution_count": null,
   "id": "e4dde77b-1057-4eb9-bd5a-fa375389c84e",
   "metadata": {
    "tags": []
   },
   "outputs": [
    {
     "name": "stderr",
     "output_type": "stream",
     "text": [
      "Warning message:\n",
      "“glm.fit: fitted probabilities numerically 0 or 1 occurred”\n",
      "Warning message in polr(phq2_1_followup ~ sleep_filter_1 + smok_stat_1 + full_screen_time_1 + :\n",
      "“design appears to be rank-deficient, so dropping some coefs”\n"
     ]
    },
    {
     "ename": "ERROR",
     "evalue": "Error in optim(s0, fmin, gmin, method = \"BFGS\", ...): initial value in 'vmmin' is not finite\n",
     "output_type": "error",
     "traceback": [
      "Error in optim(s0, fmin, gmin, method = \"BFGS\", ...): initial value in 'vmmin' is not finite\nTraceback:\n",
      "1. polr(phq2_1_followup ~ sleep_filter_1 + smok_stat_1 + full_screen_time_1 + \n .     alc_freq_filter_1 + met_minweek_filter + cevd_before_i1, \n .     data = data_dy_1, method = \"logistic\")",
      "2. polr.fit(x, y, wt, start, offset, method, hessian = Hess, ...)",
      "3. optim(s0, fmin, gmin, method = \"BFGS\", ...)"
     ]
    }
   ],
   "source": [
    "model_dy_1 <- polr(phq2_1_followup ~ phq2_1 + male  + age_filter_i0 + tdi + bmi_filter_1 +  sleep_filter_1 + smok_stat_1 + full_screen_time_1 + alc_freq_filter_1 + met_minweek_filter + cevd_before_i1, data = data_dy_1, method = \"logistic\")\n",
    "#model_dy_1 <- polr(phq2_1_followup ~ phq2_1 + sleep_filter + smok_filter + full_screen_time + alc_freq_filter +ipaq + cevd_before_i1, data = data_dy_1, method = \"logistic\")"
   ]
  },
  {
   "cell_type": "code",
   "execution_count": 43,
   "id": "fb8da998-89d6-4459-bc19-042efb73b8c5",
   "metadata": {
    "tags": []
   },
   "outputs": [],
   "source": [
    "model_dn_1 <- polr(phq2_1_followup ~ phq2_1 + male  + age_filter_i0 + tdi + bmi_filter_1 +  sleep_filter_1 + smok_stat_1 + full_screen_time_1 + alc_freq_filter_1 + met_minweek_filter + cevd_before_i1, data = data_dn_1, method = \"logistic\")\n",
    "#model_dy_1 <- polr(phq2_1_followup ~ phq2_1 + sleep_filter + smok_filter + full_screen_time + alc_freq_filter +ipaq + cevd_before_i1, data = data_dy_1, method = \"logistic\")"
   ]
  },
  {
   "cell_type": "code",
   "execution_count": 44,
   "id": "cab6ec41-4c75-4da1-9cae-66f43f164cbf",
   "metadata": {
    "tags": []
   },
   "outputs": [
    {
     "name": "stderr",
     "output_type": "stream",
     "text": [
      "\n",
      "Re-fitting to get Hessian\n",
      "\n",
      "\n"
     ]
    },
    {
     "data": {
      "text/plain": [
       "Call:\n",
       "polr(formula = phq2_1_followup ~ phq2_1 + male + age_filter_i0 + \n",
       "    tdi + bmi_filter_1 + sleep_filter_1 + smok_stat_1 + full_screen_time_1 + \n",
       "    alc_freq_filter_1 + met_minweek_filter + cevd_before_i1, \n",
       "    data = data_dy_1, method = \"logistic\")\n",
       "\n",
       "Coefficients:\n",
       "                      Value Std. Error  t value\n",
       "phq2_1              0.01519    0.32346  0.04696\n",
       "male               -0.28555    0.53998 -0.52881\n",
       "age_filter_i0      -0.56578    0.58265 -0.97105\n",
       "tdi                 0.01087    0.08608  0.12632\n",
       "bmi_filter_1       -0.71403    0.64259 -1.11117\n",
       "sleep_filter_1      0.06322    0.57497  0.10996\n",
       "smok_stat_1        -0.30527    0.55771 -0.54737\n",
       "full_screen_time_1  0.32144    0.13235  2.42878\n",
       "alc_freq_filter_1   0.02293    0.37697  0.06082\n",
       "met_minweek_filter -0.05019    0.06447 -0.77845\n",
       "cevd_before_i1     -0.26656    0.57354 -0.46476\n",
       "\n",
       "Intercepts:\n",
       "    Value   Std. Error t value\n",
       "0|1 -2.4698  1.4654    -1.6854\n",
       "1|2  0.5632  1.3720     0.4105\n",
       "2|3  2.6675  1.4357     1.8580\n",
       "3|4  3.7855  1.5055     2.5145\n",
       "\n",
       "Residual Deviance: 148.8823 \n",
       "AIC: 178.8823 "
      ]
     },
     "metadata": {},
     "output_type": "display_data"
    }
   ],
   "source": [
    "summary(model_dy_1)"
   ]
  },
  {
   "cell_type": "code",
   "execution_count": 45,
   "id": "475ec18a-8ec5-40a7-990f-309f8937e3d1",
   "metadata": {
    "tags": []
   },
   "outputs": [
    {
     "name": "stderr",
     "output_type": "stream",
     "text": [
      "\n",
      "Re-fitting to get Hessian\n",
      "\n",
      "\n"
     ]
    },
    {
     "data": {
      "text/plain": [
       "Call:\n",
       "polr(formula = phq2_1_followup ~ phq2_1 + male + age_filter_i0 + \n",
       "    tdi + bmi_filter_1 + sleep_filter_1 + smok_stat_1 + full_screen_time_1 + \n",
       "    alc_freq_filter_1 + met_minweek_filter + cevd_before_i1, \n",
       "    data = data_dn_1, method = \"logistic\")\n",
       "\n",
       "Coefficients:\n",
       "                      Value Std. Error t value\n",
       "phq2_1              1.77450    0.21717  8.1709\n",
       "male               -0.15090    0.26245 -0.5750\n",
       "age_filter_i0      -0.59423    0.25831 -2.3004\n",
       "tdi                -0.04941    0.05188 -0.9524\n",
       "bmi_filter_1       -0.37750    0.27020 -1.3971\n",
       "sleep_filter_1     -0.15795    0.29066 -0.5434\n",
       "smok_stat_1         0.15514    0.21785  0.7121\n",
       "full_screen_time_1 -0.03898    0.05891 -0.6617\n",
       "alc_freq_filter_1  -0.04807    0.18358 -0.2618\n",
       "met_minweek_filter  0.01941    0.02064  0.9407\n",
       "cevd_before_i1      0.18369    0.30817  0.5961\n",
       "\n",
       "Intercepts:\n",
       "    Value   Std. Error t value\n",
       "0|1 -2.9522  0.7350    -4.0168\n",
       "1|2  3.3729  0.6699     5.0352\n",
       "2|3  5.8133  0.7696     7.5534\n",
       "3|4  7.4892  0.9718     7.7066\n",
       "\n",
       "Residual Deviance: 539.7995 \n",
       "AIC: 569.7995 "
      ]
     },
     "metadata": {},
     "output_type": "display_data"
    }
   ],
   "source": [
    "summary(model_dn_1)"
   ]
  },
  {
   "cell_type": "code",
   "execution_count": 46,
   "id": "c8068a7e-3d78-4a8b-ac69-71dc66f64ea0",
   "metadata": {
    "tags": []
   },
   "outputs": [
    {
     "name": "stderr",
     "output_type": "stream",
     "text": [
      "\n",
      "Re-fitting to get Hessian\n",
      "\n",
      "\n"
     ]
    },
    {
     "data": {
      "text/html": [
       "<table class=\"dataframe\">\n",
       "<caption>A matrix: 15 × 3 of type dbl</caption>\n",
       "<thead>\n",
       "\t<tr><th></th><th scope=col>Value</th><th scope=col>Std. Error</th><th scope=col>t value</th></tr>\n",
       "</thead>\n",
       "<tbody>\n",
       "\t<tr><th scope=row>phq2_1</th><td> 0.01519086</td><td>0.32346456</td><td> 0.04696299</td></tr>\n",
       "\t<tr><th scope=row>male</th><td>-0.28554511</td><td>0.53997609</td><td>-0.52881066</td></tr>\n",
       "\t<tr><th scope=row>age_filter_i0</th><td>-0.56577904</td><td>0.58264577</td><td>-0.97105149</td></tr>\n",
       "\t<tr><th scope=row>tdi</th><td> 0.01087314</td><td>0.08607603</td><td> 0.12632018</td></tr>\n",
       "\t<tr><th scope=row>bmi_filter_1</th><td>-0.71402894</td><td>0.64259337</td><td>-1.11116761</td></tr>\n",
       "\t<tr><th scope=row>sleep_filter_1</th><td> 0.06322073</td><td>0.57496867</td><td> 0.10995509</td></tr>\n",
       "\t<tr><th scope=row>smok_stat_1</th><td>-0.30527364</td><td>0.55771226</td><td>-0.54736763</td></tr>\n",
       "\t<tr><th scope=row>full_screen_time_1</th><td> 0.32144179</td><td>0.13234692</td><td> 2.42878176</td></tr>\n",
       "\t<tr><th scope=row>alc_freq_filter_1</th><td> 0.02292632</td><td>0.37696766</td><td> 0.06081773</td></tr>\n",
       "\t<tr><th scope=row>met_minweek_filter</th><td>-0.05018783</td><td>0.06447137</td><td>-0.77845141</td></tr>\n",
       "\t<tr><th scope=row>cevd_before_i1</th><td>-0.26656105</td><td>0.57354413</td><td>-0.46476118</td></tr>\n",
       "\t<tr><th scope=row>0|1</th><td>-2.46976205</td><td>1.46540620</td><td>-1.68537710</td></tr>\n",
       "\t<tr><th scope=row>1|2</th><td> 0.56324940</td><td>1.37200011</td><td> 0.41053160</td></tr>\n",
       "\t<tr><th scope=row>2|3</th><td> 2.66747527</td><td>1.43566884</td><td> 1.85800178</td></tr>\n",
       "\t<tr><th scope=row>3|4</th><td> 3.78546637</td><td>1.50546130</td><td> 2.51448933</td></tr>\n",
       "</tbody>\n",
       "</table>\n"
      ],
      "text/latex": [
       "A matrix: 15 × 3 of type dbl\n",
       "\\begin{tabular}{r|lll}\n",
       "  & Value & Std. Error & t value\\\\\n",
       "\\hline\n",
       "\tphq2\\_1 &  0.01519086 & 0.32346456 &  0.04696299\\\\\n",
       "\tmale & -0.28554511 & 0.53997609 & -0.52881066\\\\\n",
       "\tage\\_filter\\_i0 & -0.56577904 & 0.58264577 & -0.97105149\\\\\n",
       "\ttdi &  0.01087314 & 0.08607603 &  0.12632018\\\\\n",
       "\tbmi\\_filter\\_1 & -0.71402894 & 0.64259337 & -1.11116761\\\\\n",
       "\tsleep\\_filter\\_1 &  0.06322073 & 0.57496867 &  0.10995509\\\\\n",
       "\tsmok\\_stat\\_1 & -0.30527364 & 0.55771226 & -0.54736763\\\\\n",
       "\tfull\\_screen\\_time\\_1 &  0.32144179 & 0.13234692 &  2.42878176\\\\\n",
       "\talc\\_freq\\_filter\\_1 &  0.02292632 & 0.37696766 &  0.06081773\\\\\n",
       "\tmet\\_minweek\\_filter & -0.05018783 & 0.06447137 & -0.77845141\\\\\n",
       "\tcevd\\_before\\_i1 & -0.26656105 & 0.57354413 & -0.46476118\\\\\n",
       "\t0\\textbar{}1 & -2.46976205 & 1.46540620 & -1.68537710\\\\\n",
       "\t1\\textbar{}2 &  0.56324940 & 1.37200011 &  0.41053160\\\\\n",
       "\t2\\textbar{}3 &  2.66747527 & 1.43566884 &  1.85800178\\\\\n",
       "\t3\\textbar{}4 &  3.78546637 & 1.50546130 &  2.51448933\\\\\n",
       "\\end{tabular}\n"
      ],
      "text/markdown": [
       "\n",
       "A matrix: 15 × 3 of type dbl\n",
       "\n",
       "| <!--/--> | Value | Std. Error | t value |\n",
       "|---|---|---|---|\n",
       "| phq2_1 |  0.01519086 | 0.32346456 |  0.04696299 |\n",
       "| male | -0.28554511 | 0.53997609 | -0.52881066 |\n",
       "| age_filter_i0 | -0.56577904 | 0.58264577 | -0.97105149 |\n",
       "| tdi |  0.01087314 | 0.08607603 |  0.12632018 |\n",
       "| bmi_filter_1 | -0.71402894 | 0.64259337 | -1.11116761 |\n",
       "| sleep_filter_1 |  0.06322073 | 0.57496867 |  0.10995509 |\n",
       "| smok_stat_1 | -0.30527364 | 0.55771226 | -0.54736763 |\n",
       "| full_screen_time_1 |  0.32144179 | 0.13234692 |  2.42878176 |\n",
       "| alc_freq_filter_1 |  0.02292632 | 0.37696766 |  0.06081773 |\n",
       "| met_minweek_filter | -0.05018783 | 0.06447137 | -0.77845141 |\n",
       "| cevd_before_i1 | -0.26656105 | 0.57354413 | -0.46476118 |\n",
       "| 0|1 | -2.46976205 | 1.46540620 | -1.68537710 |\n",
       "| 1|2 |  0.56324940 | 1.37200011 |  0.41053160 |\n",
       "| 2|3 |  2.66747527 | 1.43566884 |  1.85800178 |\n",
       "| 3|4 |  3.78546637 | 1.50546130 |  2.51448933 |\n",
       "\n"
      ],
      "text/plain": [
       "                   Value       Std. Error t value    \n",
       "phq2_1              0.01519086 0.32346456  0.04696299\n",
       "male               -0.28554511 0.53997609 -0.52881066\n",
       "age_filter_i0      -0.56577904 0.58264577 -0.97105149\n",
       "tdi                 0.01087314 0.08607603  0.12632018\n",
       "bmi_filter_1       -0.71402894 0.64259337 -1.11116761\n",
       "sleep_filter_1      0.06322073 0.57496867  0.10995509\n",
       "smok_stat_1        -0.30527364 0.55771226 -0.54736763\n",
       "full_screen_time_1  0.32144179 0.13234692  2.42878176\n",
       "alc_freq_filter_1   0.02292632 0.37696766  0.06081773\n",
       "met_minweek_filter -0.05018783 0.06447137 -0.77845141\n",
       "cevd_before_i1     -0.26656105 0.57354413 -0.46476118\n",
       "0|1                -2.46976205 1.46540620 -1.68537710\n",
       "1|2                 0.56324940 1.37200011  0.41053160\n",
       "2|3                 2.66747527 1.43566884  1.85800178\n",
       "3|4                 3.78546637 1.50546130  2.51448933"
      ]
     },
     "metadata": {},
     "output_type": "display_data"
    }
   ],
   "source": [
    "## store table\n",
    "(ctable_dy_1 <- coef(summary(model_dy_1)))"
   ]
  },
  {
   "cell_type": "code",
   "execution_count": 47,
   "id": "8fc7ed24-b520-4401-b1e4-0ba2e5433609",
   "metadata": {
    "tags": []
   },
   "outputs": [
    {
     "name": "stderr",
     "output_type": "stream",
     "text": [
      "\n",
      "Re-fitting to get Hessian\n",
      "\n",
      "\n"
     ]
    },
    {
     "data": {
      "text/html": [
       "<table class=\"dataframe\">\n",
       "<caption>A matrix: 15 × 3 of type dbl</caption>\n",
       "<thead>\n",
       "\t<tr><th></th><th scope=col>Value</th><th scope=col>Std. Error</th><th scope=col>t value</th></tr>\n",
       "</thead>\n",
       "<tbody>\n",
       "\t<tr><th scope=row>phq2_1</th><td> 1.77450104</td><td>0.21717229</td><td> 8.1709367</td></tr>\n",
       "\t<tr><th scope=row>male</th><td>-0.15089757</td><td>0.26245227</td><td>-0.5749524</td></tr>\n",
       "\t<tr><th scope=row>age_filter_i0</th><td>-0.59423104</td><td>0.25831267</td><td>-2.3004332</td></tr>\n",
       "\t<tr><th scope=row>tdi</th><td>-0.04941260</td><td>0.05188373</td><td>-0.9523719</td></tr>\n",
       "\t<tr><th scope=row>bmi_filter_1</th><td>-0.37750201</td><td>0.27020253</td><td>-1.3971076</td></tr>\n",
       "\t<tr><th scope=row>sleep_filter_1</th><td>-0.15794605</td><td>0.29066396</td><td>-0.5433974</td></tr>\n",
       "\t<tr><th scope=row>smok_stat_1</th><td> 0.15514237</td><td>0.21785384</td><td> 0.7121397</td></tr>\n",
       "\t<tr><th scope=row>full_screen_time_1</th><td>-0.03897992</td><td>0.05890730</td><td>-0.6617164</td></tr>\n",
       "\t<tr><th scope=row>alc_freq_filter_1</th><td>-0.04807091</td><td>0.18358235</td><td>-0.2618493</td></tr>\n",
       "\t<tr><th scope=row>met_minweek_filter</th><td> 0.01941100</td><td>0.02063527</td><td> 0.9406712</td></tr>\n",
       "\t<tr><th scope=row>cevd_before_i1</th><td> 0.18369465</td><td>0.30817189</td><td> 0.5960785</td></tr>\n",
       "\t<tr><th scope=row>0|1</th><td>-2.95222189</td><td>0.73497631</td><td>-4.0167579</td></tr>\n",
       "\t<tr><th scope=row>1|2</th><td> 3.37285202</td><td>0.66986091</td><td> 5.0351528</td></tr>\n",
       "\t<tr><th scope=row>2|3</th><td> 5.81334327</td><td>0.76963557</td><td> 7.5533713</td></tr>\n",
       "\t<tr><th scope=row>3|4</th><td> 7.48918110</td><td>0.97178435</td><td> 7.7066286</td></tr>\n",
       "</tbody>\n",
       "</table>\n"
      ],
      "text/latex": [
       "A matrix: 15 × 3 of type dbl\n",
       "\\begin{tabular}{r|lll}\n",
       "  & Value & Std. Error & t value\\\\\n",
       "\\hline\n",
       "\tphq2\\_1 &  1.77450104 & 0.21717229 &  8.1709367\\\\\n",
       "\tmale & -0.15089757 & 0.26245227 & -0.5749524\\\\\n",
       "\tage\\_filter\\_i0 & -0.59423104 & 0.25831267 & -2.3004332\\\\\n",
       "\ttdi & -0.04941260 & 0.05188373 & -0.9523719\\\\\n",
       "\tbmi\\_filter\\_1 & -0.37750201 & 0.27020253 & -1.3971076\\\\\n",
       "\tsleep\\_filter\\_1 & -0.15794605 & 0.29066396 & -0.5433974\\\\\n",
       "\tsmok\\_stat\\_1 &  0.15514237 & 0.21785384 &  0.7121397\\\\\n",
       "\tfull\\_screen\\_time\\_1 & -0.03897992 & 0.05890730 & -0.6617164\\\\\n",
       "\talc\\_freq\\_filter\\_1 & -0.04807091 & 0.18358235 & -0.2618493\\\\\n",
       "\tmet\\_minweek\\_filter &  0.01941100 & 0.02063527 &  0.9406712\\\\\n",
       "\tcevd\\_before\\_i1 &  0.18369465 & 0.30817189 &  0.5960785\\\\\n",
       "\t0\\textbar{}1 & -2.95222189 & 0.73497631 & -4.0167579\\\\\n",
       "\t1\\textbar{}2 &  3.37285202 & 0.66986091 &  5.0351528\\\\\n",
       "\t2\\textbar{}3 &  5.81334327 & 0.76963557 &  7.5533713\\\\\n",
       "\t3\\textbar{}4 &  7.48918110 & 0.97178435 &  7.7066286\\\\\n",
       "\\end{tabular}\n"
      ],
      "text/markdown": [
       "\n",
       "A matrix: 15 × 3 of type dbl\n",
       "\n",
       "| <!--/--> | Value | Std. Error | t value |\n",
       "|---|---|---|---|\n",
       "| phq2_1 |  1.77450104 | 0.21717229 |  8.1709367 |\n",
       "| male | -0.15089757 | 0.26245227 | -0.5749524 |\n",
       "| age_filter_i0 | -0.59423104 | 0.25831267 | -2.3004332 |\n",
       "| tdi | -0.04941260 | 0.05188373 | -0.9523719 |\n",
       "| bmi_filter_1 | -0.37750201 | 0.27020253 | -1.3971076 |\n",
       "| sleep_filter_1 | -0.15794605 | 0.29066396 | -0.5433974 |\n",
       "| smok_stat_1 |  0.15514237 | 0.21785384 |  0.7121397 |\n",
       "| full_screen_time_1 | -0.03897992 | 0.05890730 | -0.6617164 |\n",
       "| alc_freq_filter_1 | -0.04807091 | 0.18358235 | -0.2618493 |\n",
       "| met_minweek_filter |  0.01941100 | 0.02063527 |  0.9406712 |\n",
       "| cevd_before_i1 |  0.18369465 | 0.30817189 |  0.5960785 |\n",
       "| 0|1 | -2.95222189 | 0.73497631 | -4.0167579 |\n",
       "| 1|2 |  3.37285202 | 0.66986091 |  5.0351528 |\n",
       "| 2|3 |  5.81334327 | 0.76963557 |  7.5533713 |\n",
       "| 3|4 |  7.48918110 | 0.97178435 |  7.7066286 |\n",
       "\n"
      ],
      "text/plain": [
       "                   Value       Std. Error t value   \n",
       "phq2_1              1.77450104 0.21717229  8.1709367\n",
       "male               -0.15089757 0.26245227 -0.5749524\n",
       "age_filter_i0      -0.59423104 0.25831267 -2.3004332\n",
       "tdi                -0.04941260 0.05188373 -0.9523719\n",
       "bmi_filter_1       -0.37750201 0.27020253 -1.3971076\n",
       "sleep_filter_1     -0.15794605 0.29066396 -0.5433974\n",
       "smok_stat_1         0.15514237 0.21785384  0.7121397\n",
       "full_screen_time_1 -0.03897992 0.05890730 -0.6617164\n",
       "alc_freq_filter_1  -0.04807091 0.18358235 -0.2618493\n",
       "met_minweek_filter  0.01941100 0.02063527  0.9406712\n",
       "cevd_before_i1      0.18369465 0.30817189  0.5960785\n",
       "0|1                -2.95222189 0.73497631 -4.0167579\n",
       "1|2                 3.37285202 0.66986091  5.0351528\n",
       "2|3                 5.81334327 0.76963557  7.5533713\n",
       "3|4                 7.48918110 0.97178435  7.7066286"
      ]
     },
     "metadata": {},
     "output_type": "display_data"
    }
   ],
   "source": [
    "## store table\n",
    "(ctable_dn_1 <- coef(summary(model_dn_1)))"
   ]
  },
  {
   "cell_type": "code",
   "execution_count": 48,
   "id": "d83bdb73-3b45-464f-a70c-d2e6a361b0ef",
   "metadata": {
    "tags": []
   },
   "outputs": [
    {
     "data": {
      "text/html": [
       "<table class=\"dataframe\">\n",
       "<caption>A matrix: 15 × 4 of type dbl</caption>\n",
       "<thead>\n",
       "\t<tr><th></th><th scope=col>Value</th><th scope=col>Std. Error</th><th scope=col>t value</th><th scope=col>p value</th></tr>\n",
       "</thead>\n",
       "<tbody>\n",
       "\t<tr><th scope=row>phq2_1</th><td> 0.01519086</td><td>0.32346456</td><td> 0.04696299</td><td>0.96254272</td></tr>\n",
       "\t<tr><th scope=row>male</th><td>-0.28554511</td><td>0.53997609</td><td>-0.52881066</td><td>0.59693680</td></tr>\n",
       "\t<tr><th scope=row>age_filter_i0</th><td>-0.56577904</td><td>0.58264577</td><td>-0.97105149</td><td>0.33152264</td></tr>\n",
       "\t<tr><th scope=row>tdi</th><td> 0.01087314</td><td>0.08607603</td><td> 0.12632018</td><td>0.89947849</td></tr>\n",
       "\t<tr><th scope=row>bmi_filter_1</th><td>-0.71402894</td><td>0.64259337</td><td>-1.11116761</td><td>0.26649621</td></tr>\n",
       "\t<tr><th scope=row>sleep_filter_1</th><td> 0.06322073</td><td>0.57496867</td><td> 0.10995509</td><td>0.91244499</td></tr>\n",
       "\t<tr><th scope=row>smok_stat_1</th><td>-0.30527364</td><td>0.55771226</td><td>-0.54736763</td><td>0.58412619</td></tr>\n",
       "\t<tr><th scope=row>full_screen_time_1</th><td> 0.32144179</td><td>0.13234692</td><td> 2.42878176</td><td>0.01514965</td></tr>\n",
       "\t<tr><th scope=row>alc_freq_filter_1</th><td> 0.02292632</td><td>0.37696766</td><td> 0.06081773</td><td>0.95150437</td></tr>\n",
       "\t<tr><th scope=row>met_minweek_filter</th><td>-0.05018783</td><td>0.06447137</td><td>-0.77845141</td><td>0.43630294</td></tr>\n",
       "\t<tr><th scope=row>cevd_before_i1</th><td>-0.26656105</td><td>0.57354413</td><td>-0.46476118</td><td>0.64210249</td></tr>\n",
       "\t<tr><th scope=row>0|1</th><td>-2.46976205</td><td>1.46540620</td><td>-1.68537710</td><td>0.09191584</td></tr>\n",
       "\t<tr><th scope=row>1|2</th><td> 0.56324940</td><td>1.37200011</td><td> 0.41053160</td><td>0.68141603</td></tr>\n",
       "\t<tr><th scope=row>2|3</th><td> 2.66747527</td><td>1.43566884</td><td> 1.85800178</td><td>0.06316876</td></tr>\n",
       "\t<tr><th scope=row>3|4</th><td> 3.78546637</td><td>1.50546130</td><td> 2.51448933</td><td>0.01192049</td></tr>\n",
       "</tbody>\n",
       "</table>\n"
      ],
      "text/latex": [
       "A matrix: 15 × 4 of type dbl\n",
       "\\begin{tabular}{r|llll}\n",
       "  & Value & Std. Error & t value & p value\\\\\n",
       "\\hline\n",
       "\tphq2\\_1 &  0.01519086 & 0.32346456 &  0.04696299 & 0.96254272\\\\\n",
       "\tmale & -0.28554511 & 0.53997609 & -0.52881066 & 0.59693680\\\\\n",
       "\tage\\_filter\\_i0 & -0.56577904 & 0.58264577 & -0.97105149 & 0.33152264\\\\\n",
       "\ttdi &  0.01087314 & 0.08607603 &  0.12632018 & 0.89947849\\\\\n",
       "\tbmi\\_filter\\_1 & -0.71402894 & 0.64259337 & -1.11116761 & 0.26649621\\\\\n",
       "\tsleep\\_filter\\_1 &  0.06322073 & 0.57496867 &  0.10995509 & 0.91244499\\\\\n",
       "\tsmok\\_stat\\_1 & -0.30527364 & 0.55771226 & -0.54736763 & 0.58412619\\\\\n",
       "\tfull\\_screen\\_time\\_1 &  0.32144179 & 0.13234692 &  2.42878176 & 0.01514965\\\\\n",
       "\talc\\_freq\\_filter\\_1 &  0.02292632 & 0.37696766 &  0.06081773 & 0.95150437\\\\\n",
       "\tmet\\_minweek\\_filter & -0.05018783 & 0.06447137 & -0.77845141 & 0.43630294\\\\\n",
       "\tcevd\\_before\\_i1 & -0.26656105 & 0.57354413 & -0.46476118 & 0.64210249\\\\\n",
       "\t0\\textbar{}1 & -2.46976205 & 1.46540620 & -1.68537710 & 0.09191584\\\\\n",
       "\t1\\textbar{}2 &  0.56324940 & 1.37200011 &  0.41053160 & 0.68141603\\\\\n",
       "\t2\\textbar{}3 &  2.66747527 & 1.43566884 &  1.85800178 & 0.06316876\\\\\n",
       "\t3\\textbar{}4 &  3.78546637 & 1.50546130 &  2.51448933 & 0.01192049\\\\\n",
       "\\end{tabular}\n"
      ],
      "text/markdown": [
       "\n",
       "A matrix: 15 × 4 of type dbl\n",
       "\n",
       "| <!--/--> | Value | Std. Error | t value | p value |\n",
       "|---|---|---|---|---|\n",
       "| phq2_1 |  0.01519086 | 0.32346456 |  0.04696299 | 0.96254272 |\n",
       "| male | -0.28554511 | 0.53997609 | -0.52881066 | 0.59693680 |\n",
       "| age_filter_i0 | -0.56577904 | 0.58264577 | -0.97105149 | 0.33152264 |\n",
       "| tdi |  0.01087314 | 0.08607603 |  0.12632018 | 0.89947849 |\n",
       "| bmi_filter_1 | -0.71402894 | 0.64259337 | -1.11116761 | 0.26649621 |\n",
       "| sleep_filter_1 |  0.06322073 | 0.57496867 |  0.10995509 | 0.91244499 |\n",
       "| smok_stat_1 | -0.30527364 | 0.55771226 | -0.54736763 | 0.58412619 |\n",
       "| full_screen_time_1 |  0.32144179 | 0.13234692 |  2.42878176 | 0.01514965 |\n",
       "| alc_freq_filter_1 |  0.02292632 | 0.37696766 |  0.06081773 | 0.95150437 |\n",
       "| met_minweek_filter | -0.05018783 | 0.06447137 | -0.77845141 | 0.43630294 |\n",
       "| cevd_before_i1 | -0.26656105 | 0.57354413 | -0.46476118 | 0.64210249 |\n",
       "| 0|1 | -2.46976205 | 1.46540620 | -1.68537710 | 0.09191584 |\n",
       "| 1|2 |  0.56324940 | 1.37200011 |  0.41053160 | 0.68141603 |\n",
       "| 2|3 |  2.66747527 | 1.43566884 |  1.85800178 | 0.06316876 |\n",
       "| 3|4 |  3.78546637 | 1.50546130 |  2.51448933 | 0.01192049 |\n",
       "\n"
      ],
      "text/plain": [
       "                   Value       Std. Error t value     p value   \n",
       "phq2_1              0.01519086 0.32346456  0.04696299 0.96254272\n",
       "male               -0.28554511 0.53997609 -0.52881066 0.59693680\n",
       "age_filter_i0      -0.56577904 0.58264577 -0.97105149 0.33152264\n",
       "tdi                 0.01087314 0.08607603  0.12632018 0.89947849\n",
       "bmi_filter_1       -0.71402894 0.64259337 -1.11116761 0.26649621\n",
       "sleep_filter_1      0.06322073 0.57496867  0.10995509 0.91244499\n",
       "smok_stat_1        -0.30527364 0.55771226 -0.54736763 0.58412619\n",
       "full_screen_time_1  0.32144179 0.13234692  2.42878176 0.01514965\n",
       "alc_freq_filter_1   0.02292632 0.37696766  0.06081773 0.95150437\n",
       "met_minweek_filter -0.05018783 0.06447137 -0.77845141 0.43630294\n",
       "cevd_before_i1     -0.26656105 0.57354413 -0.46476118 0.64210249\n",
       "0|1                -2.46976205 1.46540620 -1.68537710 0.09191584\n",
       "1|2                 0.56324940 1.37200011  0.41053160 0.68141603\n",
       "2|3                 2.66747527 1.43566884  1.85800178 0.06316876\n",
       "3|4                 3.78546637 1.50546130  2.51448933 0.01192049"
      ]
     },
     "metadata": {},
     "output_type": "display_data"
    }
   ],
   "source": [
    "## calculate and store p values\n",
    "p_dy_1 <- pnorm(abs(ctable_dy_1[, \"t value\"]), lower.tail = FALSE) * 2\n",
    "## combined table\n",
    "(ctable_dy_1 <- cbind(ctable_dy_1, \"p value\" = p_dy_1))"
   ]
  },
  {
   "cell_type": "code",
   "execution_count": 49,
   "id": "f6a22939-84ab-4e7e-8116-abe5f1094d24",
   "metadata": {
    "tags": []
   },
   "outputs": [
    {
     "data": {
      "text/html": [
       "<table class=\"dataframe\">\n",
       "<caption>A matrix: 15 × 4 of type dbl</caption>\n",
       "<thead>\n",
       "\t<tr><th></th><th scope=col>Value</th><th scope=col>Std. Error</th><th scope=col>t value</th><th scope=col>p value</th></tr>\n",
       "</thead>\n",
       "<tbody>\n",
       "\t<tr><th scope=row>phq2_1</th><td> 1.77450104</td><td>0.21717229</td><td> 8.1709367</td><td>3.060042e-16</td></tr>\n",
       "\t<tr><th scope=row>male</th><td>-0.15089757</td><td>0.26245227</td><td>-0.5749524</td><td>5.653235e-01</td></tr>\n",
       "\t<tr><th scope=row>age_filter_i0</th><td>-0.59423104</td><td>0.25831267</td><td>-2.3004332</td><td>2.142369e-02</td></tr>\n",
       "\t<tr><th scope=row>tdi</th><td>-0.04941260</td><td>0.05188373</td><td>-0.9523719</td><td>3.409084e-01</td></tr>\n",
       "\t<tr><th scope=row>bmi_filter_1</th><td>-0.37750201</td><td>0.27020253</td><td>-1.3971076</td><td>1.623812e-01</td></tr>\n",
       "\t<tr><th scope=row>sleep_filter_1</th><td>-0.15794605</td><td>0.29066396</td><td>-0.5433974</td><td>5.868562e-01</td></tr>\n",
       "\t<tr><th scope=row>smok_stat_1</th><td> 0.15514237</td><td>0.21785384</td><td> 0.7121397</td><td>4.763783e-01</td></tr>\n",
       "\t<tr><th scope=row>full_screen_time_1</th><td>-0.03897992</td><td>0.05890730</td><td>-0.6617164</td><td>5.081530e-01</td></tr>\n",
       "\t<tr><th scope=row>alc_freq_filter_1</th><td>-0.04807091</td><td>0.18358235</td><td>-0.2618493</td><td>7.934376e-01</td></tr>\n",
       "\t<tr><th scope=row>met_minweek_filter</th><td> 0.01941100</td><td>0.02063527</td><td> 0.9406712</td><td>3.468734e-01</td></tr>\n",
       "\t<tr><th scope=row>cevd_before_i1</th><td> 0.18369465</td><td>0.30817189</td><td> 0.5960785</td><td>5.511228e-01</td></tr>\n",
       "\t<tr><th scope=row>0|1</th><td>-2.95222189</td><td>0.73497631</td><td>-4.0167579</td><td>5.900429e-05</td></tr>\n",
       "\t<tr><th scope=row>1|2</th><td> 3.37285202</td><td>0.66986091</td><td> 5.0351528</td><td>4.774678e-07</td></tr>\n",
       "\t<tr><th scope=row>2|3</th><td> 5.81334327</td><td>0.76963557</td><td> 7.5533713</td><td>4.241336e-14</td></tr>\n",
       "\t<tr><th scope=row>3|4</th><td> 7.48918110</td><td>0.97178435</td><td> 7.7066286</td><td>1.291850e-14</td></tr>\n",
       "</tbody>\n",
       "</table>\n"
      ],
      "text/latex": [
       "A matrix: 15 × 4 of type dbl\n",
       "\\begin{tabular}{r|llll}\n",
       "  & Value & Std. Error & t value & p value\\\\\n",
       "\\hline\n",
       "\tphq2\\_1 &  1.77450104 & 0.21717229 &  8.1709367 & 3.060042e-16\\\\\n",
       "\tmale & -0.15089757 & 0.26245227 & -0.5749524 & 5.653235e-01\\\\\n",
       "\tage\\_filter\\_i0 & -0.59423104 & 0.25831267 & -2.3004332 & 2.142369e-02\\\\\n",
       "\ttdi & -0.04941260 & 0.05188373 & -0.9523719 & 3.409084e-01\\\\\n",
       "\tbmi\\_filter\\_1 & -0.37750201 & 0.27020253 & -1.3971076 & 1.623812e-01\\\\\n",
       "\tsleep\\_filter\\_1 & -0.15794605 & 0.29066396 & -0.5433974 & 5.868562e-01\\\\\n",
       "\tsmok\\_stat\\_1 &  0.15514237 & 0.21785384 &  0.7121397 & 4.763783e-01\\\\\n",
       "\tfull\\_screen\\_time\\_1 & -0.03897992 & 0.05890730 & -0.6617164 & 5.081530e-01\\\\\n",
       "\talc\\_freq\\_filter\\_1 & -0.04807091 & 0.18358235 & -0.2618493 & 7.934376e-01\\\\\n",
       "\tmet\\_minweek\\_filter &  0.01941100 & 0.02063527 &  0.9406712 & 3.468734e-01\\\\\n",
       "\tcevd\\_before\\_i1 &  0.18369465 & 0.30817189 &  0.5960785 & 5.511228e-01\\\\\n",
       "\t0\\textbar{}1 & -2.95222189 & 0.73497631 & -4.0167579 & 5.900429e-05\\\\\n",
       "\t1\\textbar{}2 &  3.37285202 & 0.66986091 &  5.0351528 & 4.774678e-07\\\\\n",
       "\t2\\textbar{}3 &  5.81334327 & 0.76963557 &  7.5533713 & 4.241336e-14\\\\\n",
       "\t3\\textbar{}4 &  7.48918110 & 0.97178435 &  7.7066286 & 1.291850e-14\\\\\n",
       "\\end{tabular}\n"
      ],
      "text/markdown": [
       "\n",
       "A matrix: 15 × 4 of type dbl\n",
       "\n",
       "| <!--/--> | Value | Std. Error | t value | p value |\n",
       "|---|---|---|---|---|\n",
       "| phq2_1 |  1.77450104 | 0.21717229 |  8.1709367 | 3.060042e-16 |\n",
       "| male | -0.15089757 | 0.26245227 | -0.5749524 | 5.653235e-01 |\n",
       "| age_filter_i0 | -0.59423104 | 0.25831267 | -2.3004332 | 2.142369e-02 |\n",
       "| tdi | -0.04941260 | 0.05188373 | -0.9523719 | 3.409084e-01 |\n",
       "| bmi_filter_1 | -0.37750201 | 0.27020253 | -1.3971076 | 1.623812e-01 |\n",
       "| sleep_filter_1 | -0.15794605 | 0.29066396 | -0.5433974 | 5.868562e-01 |\n",
       "| smok_stat_1 |  0.15514237 | 0.21785384 |  0.7121397 | 4.763783e-01 |\n",
       "| full_screen_time_1 | -0.03897992 | 0.05890730 | -0.6617164 | 5.081530e-01 |\n",
       "| alc_freq_filter_1 | -0.04807091 | 0.18358235 | -0.2618493 | 7.934376e-01 |\n",
       "| met_minweek_filter |  0.01941100 | 0.02063527 |  0.9406712 | 3.468734e-01 |\n",
       "| cevd_before_i1 |  0.18369465 | 0.30817189 |  0.5960785 | 5.511228e-01 |\n",
       "| 0|1 | -2.95222189 | 0.73497631 | -4.0167579 | 5.900429e-05 |\n",
       "| 1|2 |  3.37285202 | 0.66986091 |  5.0351528 | 4.774678e-07 |\n",
       "| 2|3 |  5.81334327 | 0.76963557 |  7.5533713 | 4.241336e-14 |\n",
       "| 3|4 |  7.48918110 | 0.97178435 |  7.7066286 | 1.291850e-14 |\n",
       "\n"
      ],
      "text/plain": [
       "                   Value       Std. Error t value    p value     \n",
       "phq2_1              1.77450104 0.21717229  8.1709367 3.060042e-16\n",
       "male               -0.15089757 0.26245227 -0.5749524 5.653235e-01\n",
       "age_filter_i0      -0.59423104 0.25831267 -2.3004332 2.142369e-02\n",
       "tdi                -0.04941260 0.05188373 -0.9523719 3.409084e-01\n",
       "bmi_filter_1       -0.37750201 0.27020253 -1.3971076 1.623812e-01\n",
       "sleep_filter_1     -0.15794605 0.29066396 -0.5433974 5.868562e-01\n",
       "smok_stat_1         0.15514237 0.21785384  0.7121397 4.763783e-01\n",
       "full_screen_time_1 -0.03897992 0.05890730 -0.6617164 5.081530e-01\n",
       "alc_freq_filter_1  -0.04807091 0.18358235 -0.2618493 7.934376e-01\n",
       "met_minweek_filter  0.01941100 0.02063527  0.9406712 3.468734e-01\n",
       "cevd_before_i1      0.18369465 0.30817189  0.5960785 5.511228e-01\n",
       "0|1                -2.95222189 0.73497631 -4.0167579 5.900429e-05\n",
       "1|2                 3.37285202 0.66986091  5.0351528 4.774678e-07\n",
       "2|3                 5.81334327 0.76963557  7.5533713 4.241336e-14\n",
       "3|4                 7.48918110 0.97178435  7.7066286 1.291850e-14"
      ]
     },
     "metadata": {},
     "output_type": "display_data"
    }
   ],
   "source": [
    "## calculate and store p values\n",
    "p_dn_1 <- pnorm(abs(ctable_dn_1[, \"t value\"]), lower.tail = FALSE) * 2\n",
    "## combined table\n",
    "(ctable_dn_1 <- cbind(ctable_dn_1, \"p value\" = p_dn_1))"
   ]
  },
  {
   "cell_type": "code",
   "execution_count": 50,
   "id": "b4814f45-21a6-4ffb-8886-dce0dcb17242",
   "metadata": {
    "tags": []
   },
   "outputs": [
    {
     "data": {
      "text/html": [
       "<style>\n",
       ".dl-inline {width: auto; margin:0; padding: 0}\n",
       ".dl-inline>dt, .dl-inline>dd {float: none; width: auto; display: inline-block}\n",
       ".dl-inline>dt::after {content: \":\\0020\"; padding-right: .5ex}\n",
       ".dl-inline>dt:not(:first-of-type) {padding-left: .5ex}\n",
       "</style><dl class=dl-inline><dt>phq2_1</dt><dd>1.01530683079391</dd><dt>male</dt><dd>0.751604433267387</dd><dt>age_filter_i0</dt><dd>0.567917544210686</dd><dt>tdi</dt><dd>1.01093246729947</dd><dt>bmi_filter_1</dt><dd>0.489667376556222</dd><dt>sleep_filter_1</dt><dd>1.06526195039699</dd><dt>smok_stat_1</dt><dd>0.736921697081567</dd><dt>full_screen_time_1</dt><dd>1.37911472059233</dd><dt>alc_freq_filter_1</dt><dd>1.02319114622112</dd><dt>met_minweek_filter</dt><dd>0.951050773601745</dd><dt>cevd_before_i1</dt><dd>0.766009241125499</dd></dl>\n"
      ],
      "text/latex": [
       "\\begin{description*}\n",
       "\\item[phq2\\textbackslash{}\\_1] 1.01530683079391\n",
       "\\item[male] 0.751604433267387\n",
       "\\item[age\\textbackslash{}\\_filter\\textbackslash{}\\_i0] 0.567917544210686\n",
       "\\item[tdi] 1.01093246729947\n",
       "\\item[bmi\\textbackslash{}\\_filter\\textbackslash{}\\_1] 0.489667376556222\n",
       "\\item[sleep\\textbackslash{}\\_filter\\textbackslash{}\\_1] 1.06526195039699\n",
       "\\item[smok\\textbackslash{}\\_stat\\textbackslash{}\\_1] 0.736921697081567\n",
       "\\item[full\\textbackslash{}\\_screen\\textbackslash{}\\_time\\textbackslash{}\\_1] 1.37911472059233\n",
       "\\item[alc\\textbackslash{}\\_freq\\textbackslash{}\\_filter\\textbackslash{}\\_1] 1.02319114622112\n",
       "\\item[met\\textbackslash{}\\_minweek\\textbackslash{}\\_filter] 0.951050773601745\n",
       "\\item[cevd\\textbackslash{}\\_before\\textbackslash{}\\_i1] 0.766009241125499\n",
       "\\end{description*}\n"
      ],
      "text/markdown": [
       "phq2_1\n",
       ":   1.01530683079391male\n",
       ":   0.751604433267387age_filter_i0\n",
       ":   0.567917544210686tdi\n",
       ":   1.01093246729947bmi_filter_1\n",
       ":   0.489667376556222sleep_filter_1\n",
       ":   1.06526195039699smok_stat_1\n",
       ":   0.736921697081567full_screen_time_1\n",
       ":   1.37911472059233alc_freq_filter_1\n",
       ":   1.02319114622112met_minweek_filter\n",
       ":   0.951050773601745cevd_before_i1\n",
       ":   0.766009241125499\n",
       "\n"
      ],
      "text/plain": [
       "            phq2_1               male      age_filter_i0                tdi \n",
       "         1.0153068          0.7516044          0.5679175          1.0109325 \n",
       "      bmi_filter_1     sleep_filter_1        smok_stat_1 full_screen_time_1 \n",
       "         0.4896674          1.0652620          0.7369217          1.3791147 \n",
       " alc_freq_filter_1 met_minweek_filter     cevd_before_i1 \n",
       "         1.0231911          0.9510508          0.7660092 "
      ]
     },
     "metadata": {},
     "output_type": "display_data"
    }
   ],
   "source": [
    "## odds ratios\n",
    "exp(coef(model_dy_1))"
   ]
  },
  {
   "cell_type": "code",
   "execution_count": 51,
   "id": "ce8d2c9e-c4c0-4235-8063-5203243960a9",
   "metadata": {
    "tags": []
   },
   "outputs": [
    {
     "data": {
      "text/html": [
       "<style>\n",
       ".dl-inline {width: auto; margin:0; padding: 0}\n",
       ".dl-inline>dt, .dl-inline>dd {float: none; width: auto; display: inline-block}\n",
       ".dl-inline>dt::after {content: \":\\0020\"; padding-right: .5ex}\n",
       ".dl-inline>dt:not(:first-of-type) {padding-left: .5ex}\n",
       "</style><dl class=dl-inline><dt>phq2_1</dt><dd>5.8973378688898</dd><dt>male</dt><dd>0.859935776764962</dd><dt>age_filter_i0</dt><dd>0.551986857480752</dd><dt>tdi</dt><dd>0.951788341022653</dd><dt>bmi_filter_1</dt><dd>0.685571824495988</dd><dt>sleep_filter_1</dt><dd>0.853895848533576</dd><dt>smok_stat_1</dt><dd>1.16782421259797</dd><dt>full_screen_time_1</dt><dd>0.961770017174279</dd><dt>alc_freq_filter_1</dt><dd>0.95306620096776</dd><dt>met_minweek_filter</dt><dd>1.01960062121423</dd><dt>cevd_before_i1</dt><dd>1.20164884220208</dd></dl>\n"
      ],
      "text/latex": [
       "\\begin{description*}\n",
       "\\item[phq2\\textbackslash{}\\_1] 5.8973378688898\n",
       "\\item[male] 0.859935776764962\n",
       "\\item[age\\textbackslash{}\\_filter\\textbackslash{}\\_i0] 0.551986857480752\n",
       "\\item[tdi] 0.951788341022653\n",
       "\\item[bmi\\textbackslash{}\\_filter\\textbackslash{}\\_1] 0.685571824495988\n",
       "\\item[sleep\\textbackslash{}\\_filter\\textbackslash{}\\_1] 0.853895848533576\n",
       "\\item[smok\\textbackslash{}\\_stat\\textbackslash{}\\_1] 1.16782421259797\n",
       "\\item[full\\textbackslash{}\\_screen\\textbackslash{}\\_time\\textbackslash{}\\_1] 0.961770017174279\n",
       "\\item[alc\\textbackslash{}\\_freq\\textbackslash{}\\_filter\\textbackslash{}\\_1] 0.95306620096776\n",
       "\\item[met\\textbackslash{}\\_minweek\\textbackslash{}\\_filter] 1.01960062121423\n",
       "\\item[cevd\\textbackslash{}\\_before\\textbackslash{}\\_i1] 1.20164884220208\n",
       "\\end{description*}\n"
      ],
      "text/markdown": [
       "phq2_1\n",
       ":   5.8973378688898male\n",
       ":   0.859935776764962age_filter_i0\n",
       ":   0.551986857480752tdi\n",
       ":   0.951788341022653bmi_filter_1\n",
       ":   0.685571824495988sleep_filter_1\n",
       ":   0.853895848533576smok_stat_1\n",
       ":   1.16782421259797full_screen_time_1\n",
       ":   0.961770017174279alc_freq_filter_1\n",
       ":   0.95306620096776met_minweek_filter\n",
       ":   1.01960062121423cevd_before_i1\n",
       ":   1.20164884220208\n",
       "\n"
      ],
      "text/plain": [
       "            phq2_1               male      age_filter_i0                tdi \n",
       "         5.8973379          0.8599358          0.5519869          0.9517883 \n",
       "      bmi_filter_1     sleep_filter_1        smok_stat_1 full_screen_time_1 \n",
       "         0.6855718          0.8538958          1.1678242          0.9617700 \n",
       " alc_freq_filter_1 met_minweek_filter     cevd_before_i1 \n",
       "         0.9530662          1.0196006          1.2016488 "
      ]
     },
     "metadata": {},
     "output_type": "display_data"
    }
   ],
   "source": [
    "## odds ratios\n",
    "exp(coef(model_dn_1))"
   ]
  },
  {
   "cell_type": "code",
   "execution_count": 52,
   "id": "1417cc5c-67bf-4201-bbca-120782bd7fa7",
   "metadata": {
    "tags": []
   },
   "outputs": [
    {
     "name": "stderr",
     "output_type": "stream",
     "text": [
      "Waiting for profiling to be done...\n",
      "\n",
      "\n",
      "Re-fitting to get Hessian\n",
      "\n",
      "\n"
     ]
    },
    {
     "data": {
      "text/html": [
       "<table class=\"dataframe\">\n",
       "<caption>A matrix: 11 × 2 of type dbl</caption>\n",
       "<thead>\n",
       "\t<tr><th></th><th scope=col>2.5 %</th><th scope=col>97.5 %</th></tr>\n",
       "</thead>\n",
       "<tbody>\n",
       "\t<tr><th scope=row>phq2_1</th><td>-0.62813761</td><td>0.64832749</td></tr>\n",
       "\t<tr><th scope=row>male</th><td>-1.35366708</td><td>0.77471986</td></tr>\n",
       "\t<tr><th scope=row>age_filter_i0</th><td>-1.73025899</td><td>0.56634257</td></tr>\n",
       "\t<tr><th scope=row>tdi</th><td>-0.15766632</td><td>0.18122630</td></tr>\n",
       "\t<tr><th scope=row>bmi_filter_1</th><td>-2.00687441</td><td>0.52924994</td></tr>\n",
       "\t<tr><th scope=row>sleep_filter_1</th><td>-1.07967036</td><td>1.18664517</td></tr>\n",
       "\t<tr><th scope=row>smok_stat_1</th><td>-1.40020325</td><td>0.80314679</td></tr>\n",
       "\t<tr><th scope=row>full_screen_time_1</th><td> 0.06687994</td><td>0.58944865</td></tr>\n",
       "\t<tr><th scope=row>alc_freq_filter_1</th><td>-0.71958590</td><td>0.76761213</td></tr>\n",
       "\t<tr><th scope=row>met_minweek_filter</th><td>-0.17938803</td><td>0.07508364</td></tr>\n",
       "\t<tr><th scope=row>cevd_before_i1</th><td>-1.40720324</td><td>0.85620611</td></tr>\n",
       "</tbody>\n",
       "</table>\n"
      ],
      "text/latex": [
       "A matrix: 11 × 2 of type dbl\n",
       "\\begin{tabular}{r|ll}\n",
       "  & 2.5 \\% & 97.5 \\%\\\\\n",
       "\\hline\n",
       "\tphq2\\_1 & -0.62813761 & 0.64832749\\\\\n",
       "\tmale & -1.35366708 & 0.77471986\\\\\n",
       "\tage\\_filter\\_i0 & -1.73025899 & 0.56634257\\\\\n",
       "\ttdi & -0.15766632 & 0.18122630\\\\\n",
       "\tbmi\\_filter\\_1 & -2.00687441 & 0.52924994\\\\\n",
       "\tsleep\\_filter\\_1 & -1.07967036 & 1.18664517\\\\\n",
       "\tsmok\\_stat\\_1 & -1.40020325 & 0.80314679\\\\\n",
       "\tfull\\_screen\\_time\\_1 &  0.06687994 & 0.58944865\\\\\n",
       "\talc\\_freq\\_filter\\_1 & -0.71958590 & 0.76761213\\\\\n",
       "\tmet\\_minweek\\_filter & -0.17938803 & 0.07508364\\\\\n",
       "\tcevd\\_before\\_i1 & -1.40720324 & 0.85620611\\\\\n",
       "\\end{tabular}\n"
      ],
      "text/markdown": [
       "\n",
       "A matrix: 11 × 2 of type dbl\n",
       "\n",
       "| <!--/--> | 2.5 % | 97.5 % |\n",
       "|---|---|---|\n",
       "| phq2_1 | -0.62813761 | 0.64832749 |\n",
       "| male | -1.35366708 | 0.77471986 |\n",
       "| age_filter_i0 | -1.73025899 | 0.56634257 |\n",
       "| tdi | -0.15766632 | 0.18122630 |\n",
       "| bmi_filter_1 | -2.00687441 | 0.52924994 |\n",
       "| sleep_filter_1 | -1.07967036 | 1.18664517 |\n",
       "| smok_stat_1 | -1.40020325 | 0.80314679 |\n",
       "| full_screen_time_1 |  0.06687994 | 0.58944865 |\n",
       "| alc_freq_filter_1 | -0.71958590 | 0.76761213 |\n",
       "| met_minweek_filter | -0.17938803 | 0.07508364 |\n",
       "| cevd_before_i1 | -1.40720324 | 0.85620611 |\n",
       "\n"
      ],
      "text/plain": [
       "                   2.5 %       97.5 %    \n",
       "phq2_1             -0.62813761 0.64832749\n",
       "male               -1.35366708 0.77471986\n",
       "age_filter_i0      -1.73025899 0.56634257\n",
       "tdi                -0.15766632 0.18122630\n",
       "bmi_filter_1       -2.00687441 0.52924994\n",
       "sleep_filter_1     -1.07967036 1.18664517\n",
       "smok_stat_1        -1.40020325 0.80314679\n",
       "full_screen_time_1  0.06687994 0.58944865\n",
       "alc_freq_filter_1  -0.71958590 0.76761213\n",
       "met_minweek_filter -0.17938803 0.07508364\n",
       "cevd_before_i1     -1.40720324 0.85620611"
      ]
     },
     "metadata": {},
     "output_type": "display_data"
    }
   ],
   "source": [
    "(ci_dy_1 <- confint(model_dy_1)) # default method gives profiled CIs"
   ]
  },
  {
   "cell_type": "code",
   "execution_count": 53,
   "id": "0372a85b-3591-4c35-b6ef-12ae7eb4a904",
   "metadata": {
    "tags": []
   },
   "outputs": [
    {
     "name": "stderr",
     "output_type": "stream",
     "text": [
      "Waiting for profiling to be done...\n",
      "\n",
      "\n",
      "Re-fitting to get Hessian\n",
      "\n",
      "\n"
     ]
    },
    {
     "data": {
      "text/html": [
       "<table class=\"dataframe\">\n",
       "<caption>A matrix: 11 × 2 of type dbl</caption>\n",
       "<thead>\n",
       "\t<tr><th></th><th scope=col>2.5 %</th><th scope=col>97.5 %</th></tr>\n",
       "</thead>\n",
       "<tbody>\n",
       "\t<tr><th scope=row>phq2_1</th><td> 1.35407929</td><td> 2.20773465</td></tr>\n",
       "\t<tr><th scope=row>male</th><td>-0.66408643</td><td> 0.36717189</td></tr>\n",
       "\t<tr><th scope=row>age_filter_i0</th><td>-1.10248091</td><td>-0.08739397</td></tr>\n",
       "\t<tr><th scope=row>tdi</th><td>-0.15330108</td><td> 0.05031420</td></tr>\n",
       "\t<tr><th scope=row>bmi_filter_1</th><td>-0.91527488</td><td> 0.14664352</td></tr>\n",
       "\t<tr><th scope=row>sleep_filter_1</th><td>-0.71870196</td><td> 0.42305796</td></tr>\n",
       "\t<tr><th scope=row>smok_stat_1</th><td>-0.27581216</td><td> 0.57959531</td></tr>\n",
       "\t<tr><th scope=row>full_screen_time_1</th><td>-0.15638360</td><td> 0.07332623</td></tr>\n",
       "\t<tr><th scope=row>alc_freq_filter_1</th><td>-0.40973065</td><td> 0.31117724</td></tr>\n",
       "\t<tr><th scope=row>met_minweek_filter</th><td>-0.02203451</td><td> 0.05909677</td></tr>\n",
       "\t<tr><th scope=row>cevd_before_i1</th><td>-0.43560191</td><td> 0.77591421</td></tr>\n",
       "</tbody>\n",
       "</table>\n"
      ],
      "text/latex": [
       "A matrix: 11 × 2 of type dbl\n",
       "\\begin{tabular}{r|ll}\n",
       "  & 2.5 \\% & 97.5 \\%\\\\\n",
       "\\hline\n",
       "\tphq2\\_1 &  1.35407929 &  2.20773465\\\\\n",
       "\tmale & -0.66408643 &  0.36717189\\\\\n",
       "\tage\\_filter\\_i0 & -1.10248091 & -0.08739397\\\\\n",
       "\ttdi & -0.15330108 &  0.05031420\\\\\n",
       "\tbmi\\_filter\\_1 & -0.91527488 &  0.14664352\\\\\n",
       "\tsleep\\_filter\\_1 & -0.71870196 &  0.42305796\\\\\n",
       "\tsmok\\_stat\\_1 & -0.27581216 &  0.57959531\\\\\n",
       "\tfull\\_screen\\_time\\_1 & -0.15638360 &  0.07332623\\\\\n",
       "\talc\\_freq\\_filter\\_1 & -0.40973065 &  0.31117724\\\\\n",
       "\tmet\\_minweek\\_filter & -0.02203451 &  0.05909677\\\\\n",
       "\tcevd\\_before\\_i1 & -0.43560191 &  0.77591421\\\\\n",
       "\\end{tabular}\n"
      ],
      "text/markdown": [
       "\n",
       "A matrix: 11 × 2 of type dbl\n",
       "\n",
       "| <!--/--> | 2.5 % | 97.5 % |\n",
       "|---|---|---|\n",
       "| phq2_1 |  1.35407929 |  2.20773465 |\n",
       "| male | -0.66408643 |  0.36717189 |\n",
       "| age_filter_i0 | -1.10248091 | -0.08739397 |\n",
       "| tdi | -0.15330108 |  0.05031420 |\n",
       "| bmi_filter_1 | -0.91527488 |  0.14664352 |\n",
       "| sleep_filter_1 | -0.71870196 |  0.42305796 |\n",
       "| smok_stat_1 | -0.27581216 |  0.57959531 |\n",
       "| full_screen_time_1 | -0.15638360 |  0.07332623 |\n",
       "| alc_freq_filter_1 | -0.40973065 |  0.31117724 |\n",
       "| met_minweek_filter | -0.02203451 |  0.05909677 |\n",
       "| cevd_before_i1 | -0.43560191 |  0.77591421 |\n",
       "\n"
      ],
      "text/plain": [
       "                   2.5 %       97.5 %     \n",
       "phq2_1              1.35407929  2.20773465\n",
       "male               -0.66408643  0.36717189\n",
       "age_filter_i0      -1.10248091 -0.08739397\n",
       "tdi                -0.15330108  0.05031420\n",
       "bmi_filter_1       -0.91527488  0.14664352\n",
       "sleep_filter_1     -0.71870196  0.42305796\n",
       "smok_stat_1        -0.27581216  0.57959531\n",
       "full_screen_time_1 -0.15638360  0.07332623\n",
       "alc_freq_filter_1  -0.40973065  0.31117724\n",
       "met_minweek_filter -0.02203451  0.05909677\n",
       "cevd_before_i1     -0.43560191  0.77591421"
      ]
     },
     "metadata": {},
     "output_type": "display_data"
    }
   ],
   "source": [
    "(ci_dn_1 <- confint(model_dn_1)) # default method gives profiled CIs"
   ]
  },
  {
   "cell_type": "code",
   "execution_count": 54,
   "id": "afea075c-6a51-4334-aa29-f0f876e6c588",
   "metadata": {
    "tags": []
   },
   "outputs": [
    {
     "data": {
      "text/html": [
       "<table class=\"dataframe\">\n",
       "<caption>A matrix: 11 × 3 of type dbl</caption>\n",
       "<thead>\n",
       "\t<tr><th></th><th scope=col>OR</th><th scope=col>2.5 %</th><th scope=col>97.5 %</th></tr>\n",
       "</thead>\n",
       "<tbody>\n",
       "\t<tr><th scope=row>phq2_1</th><td>1.0153068</td><td>0.5335846</td><td>1.912340</td></tr>\n",
       "\t<tr><th scope=row>male</th><td>0.7516044</td><td>0.2582913</td><td>2.169984</td></tr>\n",
       "\t<tr><th scope=row>age_filter_i0</th><td>0.5679175</td><td>0.1772385</td><td>1.761812</td></tr>\n",
       "\t<tr><th scope=row>tdi</th><td>1.0109325</td><td>0.8541347</td><td>1.198686</td></tr>\n",
       "\t<tr><th scope=row>bmi_filter_1</th><td>0.4896674</td><td>0.1344081</td><td>1.697658</td></tr>\n",
       "\t<tr><th scope=row>sleep_filter_1</th><td>1.0652620</td><td>0.3397075</td><td>3.276072</td></tr>\n",
       "\t<tr><th scope=row>smok_stat_1</th><td>0.7369217</td><td>0.2465468</td><td>2.232555</td></tr>\n",
       "\t<tr><th scope=row>full_screen_time_1</th><td>1.3791147</td><td>1.0691671</td><td>1.802994</td></tr>\n",
       "\t<tr><th scope=row>alc_freq_filter_1</th><td>1.0231911</td><td>0.4869539</td><td>2.154615</td></tr>\n",
       "\t<tr><th scope=row>met_minweek_filter</th><td>0.9510508</td><td>0.8357815</td><td>1.077974</td></tr>\n",
       "\t<tr><th scope=row>cevd_before_i1</th><td>0.7660092</td><td>0.2448270</td><td>2.354212</td></tr>\n",
       "</tbody>\n",
       "</table>\n"
      ],
      "text/latex": [
       "A matrix: 11 × 3 of type dbl\n",
       "\\begin{tabular}{r|lll}\n",
       "  & OR & 2.5 \\% & 97.5 \\%\\\\\n",
       "\\hline\n",
       "\tphq2\\_1 & 1.0153068 & 0.5335846 & 1.912340\\\\\n",
       "\tmale & 0.7516044 & 0.2582913 & 2.169984\\\\\n",
       "\tage\\_filter\\_i0 & 0.5679175 & 0.1772385 & 1.761812\\\\\n",
       "\ttdi & 1.0109325 & 0.8541347 & 1.198686\\\\\n",
       "\tbmi\\_filter\\_1 & 0.4896674 & 0.1344081 & 1.697658\\\\\n",
       "\tsleep\\_filter\\_1 & 1.0652620 & 0.3397075 & 3.276072\\\\\n",
       "\tsmok\\_stat\\_1 & 0.7369217 & 0.2465468 & 2.232555\\\\\n",
       "\tfull\\_screen\\_time\\_1 & 1.3791147 & 1.0691671 & 1.802994\\\\\n",
       "\talc\\_freq\\_filter\\_1 & 1.0231911 & 0.4869539 & 2.154615\\\\\n",
       "\tmet\\_minweek\\_filter & 0.9510508 & 0.8357815 & 1.077974\\\\\n",
       "\tcevd\\_before\\_i1 & 0.7660092 & 0.2448270 & 2.354212\\\\\n",
       "\\end{tabular}\n"
      ],
      "text/markdown": [
       "\n",
       "A matrix: 11 × 3 of type dbl\n",
       "\n",
       "| <!--/--> | OR | 2.5 % | 97.5 % |\n",
       "|---|---|---|---|\n",
       "| phq2_1 | 1.0153068 | 0.5335846 | 1.912340 |\n",
       "| male | 0.7516044 | 0.2582913 | 2.169984 |\n",
       "| age_filter_i0 | 0.5679175 | 0.1772385 | 1.761812 |\n",
       "| tdi | 1.0109325 | 0.8541347 | 1.198686 |\n",
       "| bmi_filter_1 | 0.4896674 | 0.1344081 | 1.697658 |\n",
       "| sleep_filter_1 | 1.0652620 | 0.3397075 | 3.276072 |\n",
       "| smok_stat_1 | 0.7369217 | 0.2465468 | 2.232555 |\n",
       "| full_screen_time_1 | 1.3791147 | 1.0691671 | 1.802994 |\n",
       "| alc_freq_filter_1 | 1.0231911 | 0.4869539 | 2.154615 |\n",
       "| met_minweek_filter | 0.9510508 | 0.8357815 | 1.077974 |\n",
       "| cevd_before_i1 | 0.7660092 | 0.2448270 | 2.354212 |\n",
       "\n"
      ],
      "text/plain": [
       "                   OR        2.5 %     97.5 %  \n",
       "phq2_1             1.0153068 0.5335846 1.912340\n",
       "male               0.7516044 0.2582913 2.169984\n",
       "age_filter_i0      0.5679175 0.1772385 1.761812\n",
       "tdi                1.0109325 0.8541347 1.198686\n",
       "bmi_filter_1       0.4896674 0.1344081 1.697658\n",
       "sleep_filter_1     1.0652620 0.3397075 3.276072\n",
       "smok_stat_1        0.7369217 0.2465468 2.232555\n",
       "full_screen_time_1 1.3791147 1.0691671 1.802994\n",
       "alc_freq_filter_1  1.0231911 0.4869539 2.154615\n",
       "met_minweek_filter 0.9510508 0.8357815 1.077974\n",
       "cevd_before_i1     0.7660092 0.2448270 2.354212"
      ]
     },
     "metadata": {},
     "output_type": "display_data"
    }
   ],
   "source": [
    "## OR and CI\n",
    "exp(cbind(OR = coef(model_dy_1), ci_dy_1))"
   ]
  },
  {
   "cell_type": "code",
   "execution_count": 55,
   "id": "146fef93-0ad8-4511-bd20-17954d7c8d3b",
   "metadata": {
    "tags": []
   },
   "outputs": [
    {
     "data": {
      "text/html": [
       "<table class=\"dataframe\">\n",
       "<caption>A matrix: 11 × 3 of type dbl</caption>\n",
       "<thead>\n",
       "\t<tr><th></th><th scope=col>OR</th><th scope=col>2.5 %</th><th scope=col>97.5 %</th></tr>\n",
       "</thead>\n",
       "<tbody>\n",
       "\t<tr><th scope=row>phq2_1</th><td>5.8973379</td><td>3.8731932</td><td>9.095089</td></tr>\n",
       "\t<tr><th scope=row>male</th><td>0.8599358</td><td>0.5147436</td><td>1.443646</td></tr>\n",
       "\t<tr><th scope=row>age_filter_i0</th><td>0.5519869</td><td>0.3320463</td><td>0.916316</td></tr>\n",
       "\t<tr><th scope=row>tdi</th><td>0.9517883</td><td>0.8578714</td><td>1.051601</td></tr>\n",
       "\t<tr><th scope=row>bmi_filter_1</th><td>0.6855718</td><td>0.4004065</td><td>1.157941</td></tr>\n",
       "\t<tr><th scope=row>sleep_filter_1</th><td>0.8538958</td><td>0.4873845</td><td>1.526623</td></tr>\n",
       "\t<tr><th scope=row>smok_stat_1</th><td>1.1678242</td><td>0.7589555</td><td>1.785316</td></tr>\n",
       "\t<tr><th scope=row>full_screen_time_1</th><td>0.9617700</td><td>0.8552311</td><td>1.076082</td></tr>\n",
       "\t<tr><th scope=row>alc_freq_filter_1</th><td>0.9530662</td><td>0.6638290</td><td>1.365031</td></tr>\n",
       "\t<tr><th scope=row>met_minweek_filter</th><td>1.0196006</td><td>0.9782065</td><td>1.060878</td></tr>\n",
       "\t<tr><th scope=row>cevd_before_i1</th><td>1.2016488</td><td>0.6468752</td><td>2.172577</td></tr>\n",
       "</tbody>\n",
       "</table>\n"
      ],
      "text/latex": [
       "A matrix: 11 × 3 of type dbl\n",
       "\\begin{tabular}{r|lll}\n",
       "  & OR & 2.5 \\% & 97.5 \\%\\\\\n",
       "\\hline\n",
       "\tphq2\\_1 & 5.8973379 & 3.8731932 & 9.095089\\\\\n",
       "\tmale & 0.8599358 & 0.5147436 & 1.443646\\\\\n",
       "\tage\\_filter\\_i0 & 0.5519869 & 0.3320463 & 0.916316\\\\\n",
       "\ttdi & 0.9517883 & 0.8578714 & 1.051601\\\\\n",
       "\tbmi\\_filter\\_1 & 0.6855718 & 0.4004065 & 1.157941\\\\\n",
       "\tsleep\\_filter\\_1 & 0.8538958 & 0.4873845 & 1.526623\\\\\n",
       "\tsmok\\_stat\\_1 & 1.1678242 & 0.7589555 & 1.785316\\\\\n",
       "\tfull\\_screen\\_time\\_1 & 0.9617700 & 0.8552311 & 1.076082\\\\\n",
       "\talc\\_freq\\_filter\\_1 & 0.9530662 & 0.6638290 & 1.365031\\\\\n",
       "\tmet\\_minweek\\_filter & 1.0196006 & 0.9782065 & 1.060878\\\\\n",
       "\tcevd\\_before\\_i1 & 1.2016488 & 0.6468752 & 2.172577\\\\\n",
       "\\end{tabular}\n"
      ],
      "text/markdown": [
       "\n",
       "A matrix: 11 × 3 of type dbl\n",
       "\n",
       "| <!--/--> | OR | 2.5 % | 97.5 % |\n",
       "|---|---|---|---|\n",
       "| phq2_1 | 5.8973379 | 3.8731932 | 9.095089 |\n",
       "| male | 0.8599358 | 0.5147436 | 1.443646 |\n",
       "| age_filter_i0 | 0.5519869 | 0.3320463 | 0.916316 |\n",
       "| tdi | 0.9517883 | 0.8578714 | 1.051601 |\n",
       "| bmi_filter_1 | 0.6855718 | 0.4004065 | 1.157941 |\n",
       "| sleep_filter_1 | 0.8538958 | 0.4873845 | 1.526623 |\n",
       "| smok_stat_1 | 1.1678242 | 0.7589555 | 1.785316 |\n",
       "| full_screen_time_1 | 0.9617700 | 0.8552311 | 1.076082 |\n",
       "| alc_freq_filter_1 | 0.9530662 | 0.6638290 | 1.365031 |\n",
       "| met_minweek_filter | 1.0196006 | 0.9782065 | 1.060878 |\n",
       "| cevd_before_i1 | 1.2016488 | 0.6468752 | 2.172577 |\n",
       "\n"
      ],
      "text/plain": [
       "                   OR        2.5 %     97.5 %  \n",
       "phq2_1             5.8973379 3.8731932 9.095089\n",
       "male               0.8599358 0.5147436 1.443646\n",
       "age_filter_i0      0.5519869 0.3320463 0.916316\n",
       "tdi                0.9517883 0.8578714 1.051601\n",
       "bmi_filter_1       0.6855718 0.4004065 1.157941\n",
       "sleep_filter_1     0.8538958 0.4873845 1.526623\n",
       "smok_stat_1        1.1678242 0.7589555 1.785316\n",
       "full_screen_time_1 0.9617700 0.8552311 1.076082\n",
       "alc_freq_filter_1  0.9530662 0.6638290 1.365031\n",
       "met_minweek_filter 1.0196006 0.9782065 1.060878\n",
       "cevd_before_i1     1.2016488 0.6468752 2.172577"
      ]
     },
     "metadata": {},
     "output_type": "display_data"
    }
   ],
   "source": [
    "## OR and CI\n",
    "exp(cbind(OR = coef(model_dn_1), ci_dn_1))"
   ]
  },
  {
   "cell_type": "code",
   "execution_count": null,
   "id": "16ae4d55-c7e6-43b0-b07e-63042dd4e0d2",
   "metadata": {},
   "outputs": [],
   "source": []
  },
  {
   "cell_type": "code",
   "execution_count": null,
   "id": "89ece751-27a8-4e6c-ae5b-ea939e3e30c5",
   "metadata": {},
   "outputs": [],
   "source": []
  },
  {
   "cell_type": "code",
   "execution_count": null,
   "id": "a4d9c618-4a11-41e3-a4b1-5d96eeb317be",
   "metadata": {},
   "outputs": [],
   "source": []
  },
  {
   "cell_type": "code",
   "execution_count": null,
   "id": "95fb1018-246a-4b3c-99a2-f2e821766211",
   "metadata": {},
   "outputs": [],
   "source": []
  }
 ],
 "metadata": {
  "kernelspec": {
   "display_name": "R",
   "language": "R",
   "name": "ir"
  },
  "language_info": {
   "codemirror_mode": "r",
   "file_extension": ".r",
   "mimetype": "text/x-r-source",
   "name": "R",
   "pygments_lexer": "r",
   "version": "4.3.1"
  }
 },
 "nbformat": 4,
 "nbformat_minor": 5
}
