{
 "cells": [
  {
   "cell_type": "code",
   "execution_count": 1,
   "id": "ee318ae9-3dda-41df-843c-2895919a2561",
   "metadata": {
    "tags": []
   },
   "outputs": [
    {
     "name": "stderr",
     "output_type": "stream",
     "text": [
      "Installing package into ‘/usr/local/lib/R/site-library’\n",
      "(as ‘lib’ is unspecified)\n",
      "\n"
     ]
    }
   ],
   "source": [
    "install.packages(\"MASS\")\n",
    "library(MASS)"
   ]
  },
  {
   "cell_type": "code",
   "execution_count": 2,
   "id": "5b39f686-5a7e-43aa-8d16-10d878290a41",
   "metadata": {
    "tags": []
   },
   "outputs": [],
   "source": [
    "#full data for all patients who have a future CeVD\n",
    "data <- read.csv(\"prior_stroke_model.csv\")"
   ]
  },
  {
   "cell_type": "code",
   "execution_count": 3,
   "id": "793fc9d1-ca82-4eae-abfa-b4e9850c9eed",
   "metadata": {
    "tags": []
   },
   "outputs": [],
   "source": [
    "data <- data.frame(data) "
   ]
  },
  {
   "cell_type": "code",
   "execution_count": 4,
   "id": "f1c579a0-b214-436d-bc37-8f7d345bd8ff",
   "metadata": {
    "tags": []
   },
   "outputs": [
    {
     "name": "stdout",
     "output_type": "stream",
     "text": [
      "[1] 1603\n"
     ]
    }
   ],
   "source": [
    "# check number of rows - should be 5193 from initial baseline of px who have future cevd\n",
    "num_rows <- nrow(data)\n",
    "print(num_rows)"
   ]
  },
  {
   "cell_type": "code",
   "execution_count": 5,
   "id": "9d486124-6f72-43e1-a007-21a2fe8f08a4",
   "metadata": {
    "tags": []
   },
   "outputs": [],
   "source": [
    "# create 2 separate dataframes, 1 has depressed px, other has non-depressed px\n",
    "data_cevd <- data[data$dep_diag_yes == 1, ]\n",
    "data_cevdno <- data[data$dep_diag_yes == 0, ]"
   ]
  },
  {
   "cell_type": "code",
   "execution_count": 6,
   "id": "ae2451c9-864e-4f8e-8523-09b76aeb437e",
   "metadata": {
    "tags": []
   },
   "outputs": [
    {
     "name": "stdout",
     "output_type": "stream",
     "text": [
      "[1] 155\n",
      "[1] 1448\n"
     ]
    }
   ],
   "source": [
    "# check number of rows - should be 1402 from initial baseline of px who have future cevd\n",
    "num_rows_cevd <- nrow(data_cevd)\n",
    "print(num_rows_cevd)\n",
    "# check number of rows - should be 13106 from initial baseline of px who have future cevd\n",
    "num_rows_cevdno <- nrow(data_cevdno)\n",
    "print(num_rows_cevdno)"
   ]
  },
  {
   "cell_type": "code",
   "execution_count": null,
   "id": "99118733-638e-46be-b668-9f3b569997e4",
   "metadata": {
    "tags": []
   },
   "outputs": [],
   "source": []
  },
  {
   "cell_type": "code",
   "execution_count": 7,
   "id": "700c4c3c-3115-487c-b491-a5d4b7238b72",
   "metadata": {
    "tags": []
   },
   "outputs": [],
   "source": [
    "#data$age_filter_i0 <- ifelse(data$age_i0 < 60, 0, 1)\n",
    "#data_dy$age_filter_i0 <- ifelse(data_dy$age_i0 < 60, 0, 1)\n",
    "#data_dn$age_filter_i0 <- ifelse(data_dn$age_i0 < 60, 0, 1)\n",
    "#data$age_filter_i0 <- ifelse(data$age_i0 < 60, 0, 1)\n",
    "#data_cevd$sleep_filter <- ifelse(data_cevd$sleep > 6 & data_cevd$sleep < 10, 1, 0)\n",
    "#data_cevdno$sleep_filter <- ifelse(data_cevdno$sleep > 6 & data_cevdno$sleep < 10, 1, 0)\n",
    "#data$age_filter_i0 <- ifelse(data$age_i0 < 60, 0, 1)\n",
    "#data_cevd$bmi_filter <- ifelse(data_cevd$bmi > 18.4 & data_cevd$bmi < 26, 1, 0)\n",
    "#data_cevdno$bmi_filter <- ifelse(data_cevdno$bmi > 18.4 & data_cevdno$bmi < 26, 1, 0)\n",
    "#data$age_filter_i0 <- ifelse(data$age_i0 < 60, 0, 1)\n",
    "#data_cevd$smok_filter <- ifelse(data_cevd$smok_stat > 0, 1, 0)\n",
    "#data_cevdno$smok_filter <- ifelse(data_cevdno$smok_stat > 0, 1, 0)"
   ]
  },
  {
   "cell_type": "code",
   "execution_count": 8,
   "id": "467d19e0-bc05-4665-b8d9-4f0e2fb944ab",
   "metadata": {
    "tags": []
   },
   "outputs": [],
   "source": [
    "# Convert the response variable to a factor with ordered levels\n",
    "#data$phq2_q1_diff <- factor(data$phq2_q1_diff, ordered = TRUE, levels = c(-1, 0, 1))\n",
    "data_cevd$p20510 <- factor(data_cevd$p20510, ordered = TRUE, levels = c( 1, 2, 3, 4))\n",
    "data_cevdno$p20510 <- factor(data_cevdno$p20510, ordered = TRUE, levels = c( 1, 2, 3, 4))\n",
    "data_cevd$sleep_filter <- ifelse(data_cevd$pa_sleep_convert_hr >= 7 & data_cevd$pa_sleep_convert_hr <= 9, 1, 0)\n",
    "data_cevdno$sleep_filter <- ifelse(data_cevdno$pa_sleep_convert_hr >= 7 & data_cevdno$pa_sleep_convert_hr <=9, 1, 0)"
   ]
  },
  {
   "cell_type": "code",
   "execution_count": 9,
   "id": "f8637167-be8c-43a2-aea7-0a3d63784f9d",
   "metadata": {
    "tags": []
   },
   "outputs": [
    {
     "data": {
      "text/html": [
       "<style>\n",
       ".list-inline {list-style: none; margin:0; padding: 0}\n",
       ".list-inline>li {display: inline-block}\n",
       ".list-inline>li:not(:last-child)::after {content: \"\\00b7\"; padding: 0 .5ex}\n",
       "</style>\n",
       "<ol class=list-inline><li>0</li><li>1</li><li>0</li><li>0</li><li>0</li><li>1</li></ol>\n"
      ],
      "text/latex": [
       "\\begin{enumerate*}\n",
       "\\item 0\n",
       "\\item 1\n",
       "\\item 0\n",
       "\\item 0\n",
       "\\item 0\n",
       "\\item 1\n",
       "\\end{enumerate*}\n"
      ],
      "text/markdown": [
       "1. 0\n",
       "2. 1\n",
       "3. 0\n",
       "4. 0\n",
       "5. 0\n",
       "6. 1\n",
       "\n",
       "\n"
      ],
      "text/plain": [
       "[1] 0 1 0 0 0 1"
      ]
     },
     "metadata": {},
     "output_type": "display_data"
    }
   ],
   "source": [
    "head(data_cevdno$sleep_filter)"
   ]
  },
  {
   "cell_type": "code",
   "execution_count": 10,
   "id": "ca54faef-4db6-4abc-ba52-b0798bdcd42d",
   "metadata": {
    "tags": []
   },
   "outputs": [
    {
     "name": "stdout",
     "output_type": "stream",
     "text": [
      " [1] 0 1 0 0 0 1 1 1 1 1 1 1 1 1 0 1 1 1 1 0 0 0 1 0 1 0 0 1 1 1\n"
     ]
    }
   ],
   "source": [
    "first_30_values <- head(data_cevdno$sleep_filter, 30)\n",
    "print(first_30_values)\n",
    "\n",
    "# htn_yes + hchol_yes + diab_yes +  card_sum_filter + "
   ]
  },
  {
   "cell_type": "code",
   "execution_count": 11,
   "id": "879761b8-2dcb-4540-aaec-844b8016000d",
   "metadata": {
    "tags": []
   },
   "outputs": [
    {
     "name": "stderr",
     "output_type": "stream",
     "text": [
      "Warning message in polr(p20510 ~ card_sum_filter + hchol_yes + diab_yes + study_t2e + :\n",
      "“design appears to be rank-deficient, so dropping some coefs”\n",
      "Warning message in polr(p20510 ~ card_sum_filter + hchol_yes + diab_yes + study_t2e + :\n",
      "“design appears to be rank-deficient, so dropping some coefs”\n"
     ]
    }
   ],
   "source": [
    "model_dy <- polr(p20510 ~  card_sum_filter +hchol_yes +  diab_yes+ study_t2e+ white_yes+ acc_age + male +sleep_filter +pa_sed_convert  + pa_light_convert + pa_mv_convert_log, data = data_cevd, Hess = TRUE)\n",
    "model_dn <- polr(p20510 ~  card_sum_filter+hchol_yes + diab_yes+ study_t2e+  white_yes+ acc_age + male+ sleep_filter +pa_sed_convert  + pa_light_convert + pa_mv_convert_log, data = data_cevdno, Hess = TRUE)"
   ]
  },
  {
   "cell_type": "code",
   "execution_count": 12,
   "id": "ae4db7c0-d438-4377-ad20-2a7032dd6de8",
   "metadata": {
    "tags": []
   },
   "outputs": [],
   "source": [
    "summary_model_dy <- summary(model_dy)"
   ]
  },
  {
   "cell_type": "code",
   "execution_count": 13,
   "id": "ccf840c7-0404-4578-ba35-b70324629021",
   "metadata": {
    "tags": []
   },
   "outputs": [
    {
     "name": "stdout",
     "output_type": "stream",
     "text": [
      "[1] \"Odds Ratios:\"\n",
      "        hchol_yes          diab_yes         study_t2e         white_yes \n",
      "       0.50358105        2.62201318        0.77368386        0.37328773 \n",
      "          acc_age              male      sleep_filter    pa_sed_convert \n",
      "       0.96663995        0.76692306        0.48585478        1.00300796 \n",
      " pa_light_convert pa_mv_convert_log               1|2               2|3 \n",
      "       0.99758721        0.86058345        0.03862229        0.37348655 \n",
      "              3|4 \n",
      "       0.89920342 \n"
     ]
    }
   ],
   "source": [
    "# Odds ratios (exponentiated coefficients)\n",
    "odds_ratios_dy <- exp(summary_model_dy$coefficients[, \"Value\"])\n",
    "\n",
    "# Display odds ratios\n",
    "print(\"Odds Ratios:\")\n",
    "print(odds_ratios_dy)\n"
   ]
  },
  {
   "cell_type": "code",
   "execution_count": 14,
   "id": "00954ee5-45f8-4cbb-8673-35ae455c68b4",
   "metadata": {
    "tags": []
   },
   "outputs": [
    {
     "name": "stdout",
     "output_type": "stream",
     "text": [
      "[1] \"Confidence Intervals:\"\n",
      "                          OR      lower      upper\n",
      "hchol_yes         0.50358105 0.24222535 1.04693370\n",
      "diab_yes          2.62201318 0.91872793 7.48312195\n",
      "study_t2e         0.77368386 0.47791622 1.25249300\n",
      "white_yes         0.37328773 0.04876908 2.85721485\n",
      "acc_age           0.96663995 0.92505738 1.01009172\n",
      "male              0.76692306 0.37583588 1.56496764\n",
      "sleep_filter      0.48585478 0.22930242 1.02944774\n",
      "pa_sed_convert    1.00300796 0.99946729 1.00656117\n",
      "pa_light_convert  0.99758721 0.99388003 1.00130822\n",
      "pa_mv_convert_log 0.86058345 0.63469181 1.16687165\n",
      "1|2               0.03862229 0.02339164 0.06376983\n",
      "2|3               0.37348655 0.17074384 0.81696770\n",
      "3|4               0.89920342 0.34363297 2.35299538\n"
     ]
    }
   ],
   "source": [
    "# Calculate standard errors\n",
    "std_errors_dy <- summary_model_dy$coefficients[, \"Std. Error\"]\n",
    "\n",
    "# Calculate confidence intervals (95%)\n",
    "conf_int_dy <- exp(cbind(\n",
    "  OR = summary_model_dy$coefficients[, \"Value\"],\n",
    "  lower = summary_model_dy$coefficients[, \"Value\"] - 1.96 * std_errors_dy,\n",
    "  upper = summary_model_dy$coefficients[, \"Value\"] + 1.96 * std_errors_dy\n",
    "))\n",
    "\n",
    "# Display confidence intervals\n",
    "print(\"Confidence Intervals:\")\n",
    "print(conf_int_dy)\n"
   ]
  },
  {
   "cell_type": "code",
   "execution_count": 15,
   "id": "aa283de8-9f85-4be6-af92-3099b9b35f04",
   "metadata": {
    "tags": []
   },
   "outputs": [
    {
     "data": {
      "text/html": [
       "<table class=\"dataframe\">\n",
       "<caption>A matrix: 13 × 3 of type dbl</caption>\n",
       "<thead>\n",
       "\t<tr><th></th><th scope=col>Value</th><th scope=col>Std. Error</th><th scope=col>t value</th></tr>\n",
       "</thead>\n",
       "<tbody>\n",
       "\t<tr><th scope=row>hchol_yes</th><td>-0.686010601</td><td>0.373406226</td><td> -1.8371697</td></tr>\n",
       "\t<tr><th scope=row>diab_yes</th><td> 0.963942413</td><td>0.535054931</td><td>  1.8015765</td></tr>\n",
       "\t<tr><th scope=row>study_t2e</th><td>-0.256591932</td><td>0.245779540</td><td> -1.0439922</td></tr>\n",
       "\t<tr><th scope=row>white_yes</th><td>-0.985405768</td><td>1.038394434</td><td> -0.9489706</td></tr>\n",
       "\t<tr><th scope=row>acc_age</th><td>-0.033929186</td><td>0.022433841</td><td> -1.5124109</td></tr>\n",
       "\t<tr><th scope=row>male</th><td>-0.265368791</td><td>0.363894866</td><td> -0.7292458</td></tr>\n",
       "\t<tr><th scope=row>sleep_filter</th><td>-0.721845515</td><td>0.383095919</td><td> -1.8842422</td></tr>\n",
       "\t<tr><th scope=row>pa_sed_convert</th><td> 0.003003442</td><td>0.001804231</td><td>  1.6646656</td></tr>\n",
       "\t<tr><th scope=row>pa_light_convert</th><td>-0.002415701</td><td>0.001899525</td><td> -1.2717397</td></tr>\n",
       "\t<tr><th scope=row>pa_mv_convert_log</th><td>-0.150144687</td><td>0.155342373</td><td> -0.9665405</td></tr>\n",
       "\t<tr><th scope=row>1|2</th><td>-3.253925771</td><td>0.255842185</td><td>-12.7184880</td></tr>\n",
       "\t<tr><th scope=row>2|3</th><td>-0.984873289</td><td>0.399345700</td><td> -2.4662173</td></tr>\n",
       "\t<tr><th scope=row>3|4</th><td>-0.106245999</td><td>0.490783238</td><td> -0.2164825</td></tr>\n",
       "</tbody>\n",
       "</table>\n"
      ],
      "text/latex": [
       "A matrix: 13 × 3 of type dbl\n",
       "\\begin{tabular}{r|lll}\n",
       "  & Value & Std. Error & t value\\\\\n",
       "\\hline\n",
       "\thchol\\_yes & -0.686010601 & 0.373406226 &  -1.8371697\\\\\n",
       "\tdiab\\_yes &  0.963942413 & 0.535054931 &   1.8015765\\\\\n",
       "\tstudy\\_t2e & -0.256591932 & 0.245779540 &  -1.0439922\\\\\n",
       "\twhite\\_yes & -0.985405768 & 1.038394434 &  -0.9489706\\\\\n",
       "\tacc\\_age & -0.033929186 & 0.022433841 &  -1.5124109\\\\\n",
       "\tmale & -0.265368791 & 0.363894866 &  -0.7292458\\\\\n",
       "\tsleep\\_filter & -0.721845515 & 0.383095919 &  -1.8842422\\\\\n",
       "\tpa\\_sed\\_convert &  0.003003442 & 0.001804231 &   1.6646656\\\\\n",
       "\tpa\\_light\\_convert & -0.002415701 & 0.001899525 &  -1.2717397\\\\\n",
       "\tpa\\_mv\\_convert\\_log & -0.150144687 & 0.155342373 &  -0.9665405\\\\\n",
       "\t1\\textbar{}2 & -3.253925771 & 0.255842185 & -12.7184880\\\\\n",
       "\t2\\textbar{}3 & -0.984873289 & 0.399345700 &  -2.4662173\\\\\n",
       "\t3\\textbar{}4 & -0.106245999 & 0.490783238 &  -0.2164825\\\\\n",
       "\\end{tabular}\n"
      ],
      "text/markdown": [
       "\n",
       "A matrix: 13 × 3 of type dbl\n",
       "\n",
       "| <!--/--> | Value | Std. Error | t value |\n",
       "|---|---|---|---|\n",
       "| hchol_yes | -0.686010601 | 0.373406226 |  -1.8371697 |\n",
       "| diab_yes |  0.963942413 | 0.535054931 |   1.8015765 |\n",
       "| study_t2e | -0.256591932 | 0.245779540 |  -1.0439922 |\n",
       "| white_yes | -0.985405768 | 1.038394434 |  -0.9489706 |\n",
       "| acc_age | -0.033929186 | 0.022433841 |  -1.5124109 |\n",
       "| male | -0.265368791 | 0.363894866 |  -0.7292458 |\n",
       "| sleep_filter | -0.721845515 | 0.383095919 |  -1.8842422 |\n",
       "| pa_sed_convert |  0.003003442 | 0.001804231 |   1.6646656 |\n",
       "| pa_light_convert | -0.002415701 | 0.001899525 |  -1.2717397 |\n",
       "| pa_mv_convert_log | -0.150144687 | 0.155342373 |  -0.9665405 |\n",
       "| 1|2 | -3.253925771 | 0.255842185 | -12.7184880 |\n",
       "| 2|3 | -0.984873289 | 0.399345700 |  -2.4662173 |\n",
       "| 3|4 | -0.106245999 | 0.490783238 |  -0.2164825 |\n",
       "\n"
      ],
      "text/plain": [
       "                  Value        Std. Error  t value    \n",
       "hchol_yes         -0.686010601 0.373406226  -1.8371697\n",
       "diab_yes           0.963942413 0.535054931   1.8015765\n",
       "study_t2e         -0.256591932 0.245779540  -1.0439922\n",
       "white_yes         -0.985405768 1.038394434  -0.9489706\n",
       "acc_age           -0.033929186 0.022433841  -1.5124109\n",
       "male              -0.265368791 0.363894866  -0.7292458\n",
       "sleep_filter      -0.721845515 0.383095919  -1.8842422\n",
       "pa_sed_convert     0.003003442 0.001804231   1.6646656\n",
       "pa_light_convert  -0.002415701 0.001899525  -1.2717397\n",
       "pa_mv_convert_log -0.150144687 0.155342373  -0.9665405\n",
       "1|2               -3.253925771 0.255842185 -12.7184880\n",
       "2|3               -0.984873289 0.399345700  -2.4662173\n",
       "3|4               -0.106245999 0.490783238  -0.2164825"
      ]
     },
     "metadata": {},
     "output_type": "display_data"
    },
    {
     "data": {
      "text/html": [
       "<table class=\"dataframe\">\n",
       "<caption>A matrix: 13 × 4 of type dbl</caption>\n",
       "<thead>\n",
       "\t<tr><th></th><th scope=col>Value</th><th scope=col>Std. Error</th><th scope=col>t value</th><th scope=col>p value</th></tr>\n",
       "</thead>\n",
       "<tbody>\n",
       "\t<tr><th scope=row>hchol_yes</th><td>-0.686010601</td><td>0.373406226</td><td> -1.8371697</td><td>6.618485e-02</td></tr>\n",
       "\t<tr><th scope=row>diab_yes</th><td> 0.963942413</td><td>0.535054931</td><td>  1.8015765</td><td>7.161205e-02</td></tr>\n",
       "\t<tr><th scope=row>study_t2e</th><td>-0.256591932</td><td>0.245779540</td><td> -1.0439922</td><td>2.964890e-01</td></tr>\n",
       "\t<tr><th scope=row>white_yes</th><td>-0.985405768</td><td>1.038394434</td><td> -0.9489706</td><td>3.426356e-01</td></tr>\n",
       "\t<tr><th scope=row>acc_age</th><td>-0.033929186</td><td>0.022433841</td><td> -1.5124109</td><td>1.304294e-01</td></tr>\n",
       "\t<tr><th scope=row>male</th><td>-0.265368791</td><td>0.363894866</td><td> -0.7292458</td><td>4.658513e-01</td></tr>\n",
       "\t<tr><th scope=row>sleep_filter</th><td>-0.721845515</td><td>0.383095919</td><td> -1.8842422</td><td>5.953222e-02</td></tr>\n",
       "\t<tr><th scope=row>pa_sed_convert</th><td> 0.003003442</td><td>0.001804231</td><td>  1.6646656</td><td>9.597950e-02</td></tr>\n",
       "\t<tr><th scope=row>pa_light_convert</th><td>-0.002415701</td><td>0.001899525</td><td> -1.2717397</td><td>2.034656e-01</td></tr>\n",
       "\t<tr><th scope=row>pa_mv_convert_log</th><td>-0.150144687</td><td>0.155342373</td><td> -0.9665405</td><td>3.337738e-01</td></tr>\n",
       "\t<tr><th scope=row>1|2</th><td>-3.253925771</td><td>0.255842185</td><td>-12.7184880</td><td>4.668054e-37</td></tr>\n",
       "\t<tr><th scope=row>2|3</th><td>-0.984873289</td><td>0.399345700</td><td> -2.4662173</td><td>1.365485e-02</td></tr>\n",
       "\t<tr><th scope=row>3|4</th><td>-0.106245999</td><td>0.490783238</td><td> -0.2164825</td><td>8.286116e-01</td></tr>\n",
       "</tbody>\n",
       "</table>\n"
      ],
      "text/latex": [
       "A matrix: 13 × 4 of type dbl\n",
       "\\begin{tabular}{r|llll}\n",
       "  & Value & Std. Error & t value & p value\\\\\n",
       "\\hline\n",
       "\thchol\\_yes & -0.686010601 & 0.373406226 &  -1.8371697 & 6.618485e-02\\\\\n",
       "\tdiab\\_yes &  0.963942413 & 0.535054931 &   1.8015765 & 7.161205e-02\\\\\n",
       "\tstudy\\_t2e & -0.256591932 & 0.245779540 &  -1.0439922 & 2.964890e-01\\\\\n",
       "\twhite\\_yes & -0.985405768 & 1.038394434 &  -0.9489706 & 3.426356e-01\\\\\n",
       "\tacc\\_age & -0.033929186 & 0.022433841 &  -1.5124109 & 1.304294e-01\\\\\n",
       "\tmale & -0.265368791 & 0.363894866 &  -0.7292458 & 4.658513e-01\\\\\n",
       "\tsleep\\_filter & -0.721845515 & 0.383095919 &  -1.8842422 & 5.953222e-02\\\\\n",
       "\tpa\\_sed\\_convert &  0.003003442 & 0.001804231 &   1.6646656 & 9.597950e-02\\\\\n",
       "\tpa\\_light\\_convert & -0.002415701 & 0.001899525 &  -1.2717397 & 2.034656e-01\\\\\n",
       "\tpa\\_mv\\_convert\\_log & -0.150144687 & 0.155342373 &  -0.9665405 & 3.337738e-01\\\\\n",
       "\t1\\textbar{}2 & -3.253925771 & 0.255842185 & -12.7184880 & 4.668054e-37\\\\\n",
       "\t2\\textbar{}3 & -0.984873289 & 0.399345700 &  -2.4662173 & 1.365485e-02\\\\\n",
       "\t3\\textbar{}4 & -0.106245999 & 0.490783238 &  -0.2164825 & 8.286116e-01\\\\\n",
       "\\end{tabular}\n"
      ],
      "text/markdown": [
       "\n",
       "A matrix: 13 × 4 of type dbl\n",
       "\n",
       "| <!--/--> | Value | Std. Error | t value | p value |\n",
       "|---|---|---|---|---|\n",
       "| hchol_yes | -0.686010601 | 0.373406226 |  -1.8371697 | 6.618485e-02 |\n",
       "| diab_yes |  0.963942413 | 0.535054931 |   1.8015765 | 7.161205e-02 |\n",
       "| study_t2e | -0.256591932 | 0.245779540 |  -1.0439922 | 2.964890e-01 |\n",
       "| white_yes | -0.985405768 | 1.038394434 |  -0.9489706 | 3.426356e-01 |\n",
       "| acc_age | -0.033929186 | 0.022433841 |  -1.5124109 | 1.304294e-01 |\n",
       "| male | -0.265368791 | 0.363894866 |  -0.7292458 | 4.658513e-01 |\n",
       "| sleep_filter | -0.721845515 | 0.383095919 |  -1.8842422 | 5.953222e-02 |\n",
       "| pa_sed_convert |  0.003003442 | 0.001804231 |   1.6646656 | 9.597950e-02 |\n",
       "| pa_light_convert | -0.002415701 | 0.001899525 |  -1.2717397 | 2.034656e-01 |\n",
       "| pa_mv_convert_log | -0.150144687 | 0.155342373 |  -0.9665405 | 3.337738e-01 |\n",
       "| 1|2 | -3.253925771 | 0.255842185 | -12.7184880 | 4.668054e-37 |\n",
       "| 2|3 | -0.984873289 | 0.399345700 |  -2.4662173 | 1.365485e-02 |\n",
       "| 3|4 | -0.106245999 | 0.490783238 |  -0.2164825 | 8.286116e-01 |\n",
       "\n"
      ],
      "text/plain": [
       "                  Value        Std. Error  t value     p value     \n",
       "hchol_yes         -0.686010601 0.373406226  -1.8371697 6.618485e-02\n",
       "diab_yes           0.963942413 0.535054931   1.8015765 7.161205e-02\n",
       "study_t2e         -0.256591932 0.245779540  -1.0439922 2.964890e-01\n",
       "white_yes         -0.985405768 1.038394434  -0.9489706 3.426356e-01\n",
       "acc_age           -0.033929186 0.022433841  -1.5124109 1.304294e-01\n",
       "male              -0.265368791 0.363894866  -0.7292458 4.658513e-01\n",
       "sleep_filter      -0.721845515 0.383095919  -1.8842422 5.953222e-02\n",
       "pa_sed_convert     0.003003442 0.001804231   1.6646656 9.597950e-02\n",
       "pa_light_convert  -0.002415701 0.001899525  -1.2717397 2.034656e-01\n",
       "pa_mv_convert_log -0.150144687 0.155342373  -0.9665405 3.337738e-01\n",
       "1|2               -3.253925771 0.255842185 -12.7184880 4.668054e-37\n",
       "2|3               -0.984873289 0.399345700  -2.4662173 1.365485e-02\n",
       "3|4               -0.106245999 0.490783238  -0.2164825 8.286116e-01"
      ]
     },
     "metadata": {},
     "output_type": "display_data"
    }
   ],
   "source": [
    "## store table\n",
    "(ctable_dy <- coef(summary(model_dy)))\n",
    "\n",
    "## calculate and store p values\n",
    "p_dy <- pnorm(abs(ctable_dy[, \"t value\"]), lower.tail = FALSE) * 2\n",
    "## combined table\n",
    "(ctable_dy <- cbind(ctable_dy, \"p value\" = p_dy))"
   ]
  },
  {
   "cell_type": "code",
   "execution_count": 16,
   "id": "a363de6b-bb50-4671-973e-bb55833e29b6",
   "metadata": {
    "tags": []
   },
   "outputs": [],
   "source": [
    "summary_model_dn <- summary(model_dn)"
   ]
  },
  {
   "cell_type": "code",
   "execution_count": 17,
   "id": "9364e726-7224-4653-a3f7-f13e88014a3a",
   "metadata": {
    "tags": []
   },
   "outputs": [
    {
     "name": "stdout",
     "output_type": "stream",
     "text": [
      "[1] \"Odds Ratios:\"\n",
      "        hchol_yes          diab_yes         study_t2e         white_yes \n",
      "        1.0092582         1.1148429         1.0817931         1.1777513 \n",
      "          acc_age              male      sleep_filter    pa_sed_convert \n",
      "        0.9655556         0.6481931         0.8815599         1.0003175 \n",
      " pa_light_convert pa_mv_convert_log               1|2               2|3 \n",
      "        0.9992721         0.7702306         0.1863077         1.2503077 \n",
      "              3|4 \n",
      "        2.7908439 \n"
     ]
    }
   ],
   "source": [
    "\n",
    "# Odds ratios (exponentiated coefficients)\n",
    "odds_ratios_dn <- exp(summary_model_dn$coefficients[, \"Value\"])\n",
    "\n",
    "# Display odds ratios\n",
    "print(\"Odds Ratios:\")\n",
    "print(odds_ratios_dn)\n"
   ]
  },
  {
   "cell_type": "code",
   "execution_count": 18,
   "id": "2aba1603-6afd-4c21-973b-f37b47ade901",
   "metadata": {
    "tags": []
   },
   "outputs": [
    {
     "name": "stdout",
     "output_type": "stream",
     "text": [
      "[1] \"Confidence Intervals:\"\n",
      "                         OR     lower     upper\n",
      "hchol_yes         1.0092582 0.7611973 1.3381579\n",
      "diab_yes          1.1148429 0.7123923 1.7446493\n",
      "study_t2e         1.0817931 0.8839403 1.3239314\n",
      "white_yes         1.1777513 0.5206143 2.6643488\n",
      "acc_age           0.9655556 0.9498226 0.9815493\n",
      "male              0.6481931 0.4869224 0.8628773\n",
      "sleep_filter      0.8815599 0.6548284 1.1867961\n",
      "pa_sed_convert    1.0003175 0.9990416 1.0015950\n",
      "pa_light_convert  0.9992721 0.9977587 1.0007878\n",
      "pa_mv_convert_log 0.7702306 0.6855854 0.8653264\n",
      "1|2               0.1863077 0.1483181 0.2340277\n",
      "2|3               1.2503077 0.8883964 1.7596530\n",
      "3|4               2.7908439 1.7767466 4.3837481\n"
     ]
    }
   ],
   "source": [
    "# Calculate standard errors\n",
    "std_errors_dn <- summary_model_dn$coefficients[, \"Std. Error\"]\n",
    "\n",
    "# Calculate confidence intervals (95%)\n",
    "conf_int_dn <- exp(cbind(\n",
    "  OR = summary_model_dn$coefficients[, \"Value\"],\n",
    "  lower = summary_model_dn$coefficients[, \"Value\"] - 1.96 * std_errors_dn,\n",
    "  upper = summary_model_dn$coefficients[, \"Value\"] + 1.96 * std_errors_dn\n",
    "))\n",
    "\n",
    "# Display confidence intervals\n",
    "print(\"Confidence Intervals:\")\n",
    "print(conf_int_dn)\n"
   ]
  },
  {
   "cell_type": "code",
   "execution_count": 19,
   "id": "77b04856-3e23-4576-8f7c-1f14528b1894",
   "metadata": {
    "tags": []
   },
   "outputs": [
    {
     "data": {
      "text/html": [
       "<table class=\"dataframe\">\n",
       "<caption>A matrix: 13 × 3 of type dbl</caption>\n",
       "<thead>\n",
       "\t<tr><th></th><th scope=col>Value</th><th scope=col>Std. Error</th><th scope=col>t value</th></tr>\n",
       "</thead>\n",
       "<tbody>\n",
       "\t<tr><th scope=row>hchol_yes</th><td> 0.0092156352</td><td>0.1439175205</td><td>  0.06403414</td></tr>\n",
       "\t<tr><th scope=row>diab_yes</th><td> 0.1087135182</td><td>0.2284898237</td><td>  0.47579151</td></tr>\n",
       "\t<tr><th scope=row>study_t2e</th><td> 0.0786199227</td><td>0.1030539299</td><td>  0.76290077</td></tr>\n",
       "\t<tr><th scope=row>white_yes</th><td> 0.1636069296</td><td>0.4165064960</td><td>  0.39280763</td></tr>\n",
       "\t<tr><th scope=row>acc_age</th><td>-0.0350515615</td><td>0.0083818754</td><td> -4.18182803</td></tr>\n",
       "\t<tr><th scope=row>male</th><td>-0.4335666694</td><td>0.1459611404</td><td> -2.97042534</td></tr>\n",
       "\t<tr><th scope=row>sleep_filter</th><td>-0.1260623511</td><td>0.1516937155</td><td> -0.83103213</td></tr>\n",
       "\t<tr><th scope=row>pa_sed_convert</th><td> 0.0003174369</td><td>0.0006511564</td><td>  0.48749720</td></tr>\n",
       "\t<tr><th scope=row>pa_light_convert</th><td>-0.0007281600</td><td>0.0007732849</td><td> -0.94164521</td></tr>\n",
       "\t<tr><th scope=row>pa_mv_convert_log</th><td>-0.2610653829</td><td>0.0593963567</td><td> -4.39530970</td></tr>\n",
       "\t<tr><th scope=row>1|2</th><td>-1.6803558993</td><td>0.1163468957</td><td>-14.44263630</td></tr>\n",
       "\t<tr><th scope=row>2|3</th><td> 0.2233896634</td><td>0.1743504879</td><td>  1.28126778</td></tr>\n",
       "\t<tr><th scope=row>3|4</th><td> 1.0263440182</td><td>0.2303877964</td><td>  4.45485410</td></tr>\n",
       "</tbody>\n",
       "</table>\n"
      ],
      "text/latex": [
       "A matrix: 13 × 3 of type dbl\n",
       "\\begin{tabular}{r|lll}\n",
       "  & Value & Std. Error & t value\\\\\n",
       "\\hline\n",
       "\thchol\\_yes &  0.0092156352 & 0.1439175205 &   0.06403414\\\\\n",
       "\tdiab\\_yes &  0.1087135182 & 0.2284898237 &   0.47579151\\\\\n",
       "\tstudy\\_t2e &  0.0786199227 & 0.1030539299 &   0.76290077\\\\\n",
       "\twhite\\_yes &  0.1636069296 & 0.4165064960 &   0.39280763\\\\\n",
       "\tacc\\_age & -0.0350515615 & 0.0083818754 &  -4.18182803\\\\\n",
       "\tmale & -0.4335666694 & 0.1459611404 &  -2.97042534\\\\\n",
       "\tsleep\\_filter & -0.1260623511 & 0.1516937155 &  -0.83103213\\\\\n",
       "\tpa\\_sed\\_convert &  0.0003174369 & 0.0006511564 &   0.48749720\\\\\n",
       "\tpa\\_light\\_convert & -0.0007281600 & 0.0007732849 &  -0.94164521\\\\\n",
       "\tpa\\_mv\\_convert\\_log & -0.2610653829 & 0.0593963567 &  -4.39530970\\\\\n",
       "\t1\\textbar{}2 & -1.6803558993 & 0.1163468957 & -14.44263630\\\\\n",
       "\t2\\textbar{}3 &  0.2233896634 & 0.1743504879 &   1.28126778\\\\\n",
       "\t3\\textbar{}4 &  1.0263440182 & 0.2303877964 &   4.45485410\\\\\n",
       "\\end{tabular}\n"
      ],
      "text/markdown": [
       "\n",
       "A matrix: 13 × 3 of type dbl\n",
       "\n",
       "| <!--/--> | Value | Std. Error | t value |\n",
       "|---|---|---|---|\n",
       "| hchol_yes |  0.0092156352 | 0.1439175205 |   0.06403414 |\n",
       "| diab_yes |  0.1087135182 | 0.2284898237 |   0.47579151 |\n",
       "| study_t2e |  0.0786199227 | 0.1030539299 |   0.76290077 |\n",
       "| white_yes |  0.1636069296 | 0.4165064960 |   0.39280763 |\n",
       "| acc_age | -0.0350515615 | 0.0083818754 |  -4.18182803 |\n",
       "| male | -0.4335666694 | 0.1459611404 |  -2.97042534 |\n",
       "| sleep_filter | -0.1260623511 | 0.1516937155 |  -0.83103213 |\n",
       "| pa_sed_convert |  0.0003174369 | 0.0006511564 |   0.48749720 |\n",
       "| pa_light_convert | -0.0007281600 | 0.0007732849 |  -0.94164521 |\n",
       "| pa_mv_convert_log | -0.2610653829 | 0.0593963567 |  -4.39530970 |\n",
       "| 1|2 | -1.6803558993 | 0.1163468957 | -14.44263630 |\n",
       "| 2|3 |  0.2233896634 | 0.1743504879 |   1.28126778 |\n",
       "| 3|4 |  1.0263440182 | 0.2303877964 |   4.45485410 |\n",
       "\n"
      ],
      "text/plain": [
       "                  Value         Std. Error   t value     \n",
       "hchol_yes          0.0092156352 0.1439175205   0.06403414\n",
       "diab_yes           0.1087135182 0.2284898237   0.47579151\n",
       "study_t2e          0.0786199227 0.1030539299   0.76290077\n",
       "white_yes          0.1636069296 0.4165064960   0.39280763\n",
       "acc_age           -0.0350515615 0.0083818754  -4.18182803\n",
       "male              -0.4335666694 0.1459611404  -2.97042534\n",
       "sleep_filter      -0.1260623511 0.1516937155  -0.83103213\n",
       "pa_sed_convert     0.0003174369 0.0006511564   0.48749720\n",
       "pa_light_convert  -0.0007281600 0.0007732849  -0.94164521\n",
       "pa_mv_convert_log -0.2610653829 0.0593963567  -4.39530970\n",
       "1|2               -1.6803558993 0.1163468957 -14.44263630\n",
       "2|3                0.2233896634 0.1743504879   1.28126778\n",
       "3|4                1.0263440182 0.2303877964   4.45485410"
      ]
     },
     "metadata": {},
     "output_type": "display_data"
    },
    {
     "data": {
      "text/html": [
       "<table class=\"dataframe\">\n",
       "<caption>A matrix: 13 × 4 of type dbl</caption>\n",
       "<thead>\n",
       "\t<tr><th></th><th scope=col>Value</th><th scope=col>Std. Error</th><th scope=col>t value</th><th scope=col>p value</th></tr>\n",
       "</thead>\n",
       "<tbody>\n",
       "\t<tr><th scope=row>hchol_yes</th><td> 0.0092156352</td><td>0.1439175205</td><td>  0.06403414</td><td>9.489430e-01</td></tr>\n",
       "\t<tr><th scope=row>diab_yes</th><td> 0.1087135182</td><td>0.2284898237</td><td>  0.47579151</td><td>6.342229e-01</td></tr>\n",
       "\t<tr><th scope=row>study_t2e</th><td> 0.0786199227</td><td>0.1030539299</td><td>  0.76290077</td><td>4.455226e-01</td></tr>\n",
       "\t<tr><th scope=row>white_yes</th><td> 0.1636069296</td><td>0.4165064960</td><td>  0.39280763</td><td>6.944616e-01</td></tr>\n",
       "\t<tr><th scope=row>acc_age</th><td>-0.0350515615</td><td>0.0083818754</td><td> -4.18182803</td><td>2.891747e-05</td></tr>\n",
       "\t<tr><th scope=row>male</th><td>-0.4335666694</td><td>0.1459611404</td><td> -2.97042534</td><td>2.973877e-03</td></tr>\n",
       "\t<tr><th scope=row>sleep_filter</th><td>-0.1260623511</td><td>0.1516937155</td><td> -0.83103213</td><td>4.059555e-01</td></tr>\n",
       "\t<tr><th scope=row>pa_sed_convert</th><td> 0.0003174369</td><td>0.0006511564</td><td>  0.48749720</td><td>6.259060e-01</td></tr>\n",
       "\t<tr><th scope=row>pa_light_convert</th><td>-0.0007281600</td><td>0.0007732849</td><td> -0.94164521</td><td>3.463743e-01</td></tr>\n",
       "\t<tr><th scope=row>pa_mv_convert_log</th><td>-0.2610653829</td><td>0.0593963567</td><td> -4.39530970</td><td>1.106149e-05</td></tr>\n",
       "\t<tr><th scope=row>1|2</th><td>-1.6803558993</td><td>0.1163468957</td><td>-14.44263630</td><td>2.789643e-47</td></tr>\n",
       "\t<tr><th scope=row>2|3</th><td> 0.2233896634</td><td>0.1743504879</td><td>  1.28126778</td><td>2.000996e-01</td></tr>\n",
       "\t<tr><th scope=row>3|4</th><td> 1.0263440182</td><td>0.2303877964</td><td>  4.45485410</td><td>8.395027e-06</td></tr>\n",
       "</tbody>\n",
       "</table>\n"
      ],
      "text/latex": [
       "A matrix: 13 × 4 of type dbl\n",
       "\\begin{tabular}{r|llll}\n",
       "  & Value & Std. Error & t value & p value\\\\\n",
       "\\hline\n",
       "\thchol\\_yes &  0.0092156352 & 0.1439175205 &   0.06403414 & 9.489430e-01\\\\\n",
       "\tdiab\\_yes &  0.1087135182 & 0.2284898237 &   0.47579151 & 6.342229e-01\\\\\n",
       "\tstudy\\_t2e &  0.0786199227 & 0.1030539299 &   0.76290077 & 4.455226e-01\\\\\n",
       "\twhite\\_yes &  0.1636069296 & 0.4165064960 &   0.39280763 & 6.944616e-01\\\\\n",
       "\tacc\\_age & -0.0350515615 & 0.0083818754 &  -4.18182803 & 2.891747e-05\\\\\n",
       "\tmale & -0.4335666694 & 0.1459611404 &  -2.97042534 & 2.973877e-03\\\\\n",
       "\tsleep\\_filter & -0.1260623511 & 0.1516937155 &  -0.83103213 & 4.059555e-01\\\\\n",
       "\tpa\\_sed\\_convert &  0.0003174369 & 0.0006511564 &   0.48749720 & 6.259060e-01\\\\\n",
       "\tpa\\_light\\_convert & -0.0007281600 & 0.0007732849 &  -0.94164521 & 3.463743e-01\\\\\n",
       "\tpa\\_mv\\_convert\\_log & -0.2610653829 & 0.0593963567 &  -4.39530970 & 1.106149e-05\\\\\n",
       "\t1\\textbar{}2 & -1.6803558993 & 0.1163468957 & -14.44263630 & 2.789643e-47\\\\\n",
       "\t2\\textbar{}3 &  0.2233896634 & 0.1743504879 &   1.28126778 & 2.000996e-01\\\\\n",
       "\t3\\textbar{}4 &  1.0263440182 & 0.2303877964 &   4.45485410 & 8.395027e-06\\\\\n",
       "\\end{tabular}\n"
      ],
      "text/markdown": [
       "\n",
       "A matrix: 13 × 4 of type dbl\n",
       "\n",
       "| <!--/--> | Value | Std. Error | t value | p value |\n",
       "|---|---|---|---|---|\n",
       "| hchol_yes |  0.0092156352 | 0.1439175205 |   0.06403414 | 9.489430e-01 |\n",
       "| diab_yes |  0.1087135182 | 0.2284898237 |   0.47579151 | 6.342229e-01 |\n",
       "| study_t2e |  0.0786199227 | 0.1030539299 |   0.76290077 | 4.455226e-01 |\n",
       "| white_yes |  0.1636069296 | 0.4165064960 |   0.39280763 | 6.944616e-01 |\n",
       "| acc_age | -0.0350515615 | 0.0083818754 |  -4.18182803 | 2.891747e-05 |\n",
       "| male | -0.4335666694 | 0.1459611404 |  -2.97042534 | 2.973877e-03 |\n",
       "| sleep_filter | -0.1260623511 | 0.1516937155 |  -0.83103213 | 4.059555e-01 |\n",
       "| pa_sed_convert |  0.0003174369 | 0.0006511564 |   0.48749720 | 6.259060e-01 |\n",
       "| pa_light_convert | -0.0007281600 | 0.0007732849 |  -0.94164521 | 3.463743e-01 |\n",
       "| pa_mv_convert_log | -0.2610653829 | 0.0593963567 |  -4.39530970 | 1.106149e-05 |\n",
       "| 1|2 | -1.6803558993 | 0.1163468957 | -14.44263630 | 2.789643e-47 |\n",
       "| 2|3 |  0.2233896634 | 0.1743504879 |   1.28126778 | 2.000996e-01 |\n",
       "| 3|4 |  1.0263440182 | 0.2303877964 |   4.45485410 | 8.395027e-06 |\n",
       "\n"
      ],
      "text/plain": [
       "                  Value         Std. Error   t value      p value     \n",
       "hchol_yes          0.0092156352 0.1439175205   0.06403414 9.489430e-01\n",
       "diab_yes           0.1087135182 0.2284898237   0.47579151 6.342229e-01\n",
       "study_t2e          0.0786199227 0.1030539299   0.76290077 4.455226e-01\n",
       "white_yes          0.1636069296 0.4165064960   0.39280763 6.944616e-01\n",
       "acc_age           -0.0350515615 0.0083818754  -4.18182803 2.891747e-05\n",
       "male              -0.4335666694 0.1459611404  -2.97042534 2.973877e-03\n",
       "sleep_filter      -0.1260623511 0.1516937155  -0.83103213 4.059555e-01\n",
       "pa_sed_convert     0.0003174369 0.0006511564   0.48749720 6.259060e-01\n",
       "pa_light_convert  -0.0007281600 0.0007732849  -0.94164521 3.463743e-01\n",
       "pa_mv_convert_log -0.2610653829 0.0593963567  -4.39530970 1.106149e-05\n",
       "1|2               -1.6803558993 0.1163468957 -14.44263630 2.789643e-47\n",
       "2|3                0.2233896634 0.1743504879   1.28126778 2.000996e-01\n",
       "3|4                1.0263440182 0.2303877964   4.45485410 8.395027e-06"
      ]
     },
     "metadata": {},
     "output_type": "display_data"
    }
   ],
   "source": [
    "## store table\n",
    "(ctable_dn <- coef(summary(model_dn)))\n",
    "\n",
    "## calculate and store p values\n",
    "p_dn <- pnorm(abs(ctable_dn[, \"t value\"]), lower.tail = FALSE) * 2\n",
    "## combined table\n",
    "(ctable_dn <- cbind(ctable_dn, \"p value\" = p_dn))"
   ]
  },
  {
   "cell_type": "code",
   "execution_count": 20,
   "id": "1bb849ea-d6a7-4940-b9ba-cca62b935607",
   "metadata": {
    "tags": []
   },
   "outputs": [],
   "source": [
    "#full data for all patients who have a future CeVD\n",
    "data <- read.csv(\"control_model.csv\")"
   ]
  },
  {
   "cell_type": "code",
   "execution_count": 21,
   "id": "c56c9f7b-7762-4f68-bcbc-03dee36323e1",
   "metadata": {
    "tags": []
   },
   "outputs": [],
   "source": [
    "data <- data.frame(data) "
   ]
  },
  {
   "cell_type": "code",
   "execution_count": 22,
   "id": "23705a63-1a72-4435-8383-d2713f2ddf66",
   "metadata": {
    "tags": []
   },
   "outputs": [
    {
     "name": "stdout",
     "output_type": "stream",
     "text": [
      "[1] 68685\n"
     ]
    }
   ],
   "source": [
    "# check number of rows - should be 5193 from initial baseline of px who have future cevd\n",
    "num_rows <- nrow(data)\n",
    "print(num_rows)"
   ]
  },
  {
   "cell_type": "code",
   "execution_count": 23,
   "id": "36190e1d-948c-4de1-8de1-7b3d93721bd1",
   "metadata": {
    "tags": []
   },
   "outputs": [],
   "source": [
    "# create 2 separate dataframes, 1 has depressed px, other has non-depressed px\n",
    "data_cevd <- data[data$dep_diag_yes == 1, ]\n",
    "data_cevdno <- data[data$dep_diag_yes == 0, ]"
   ]
  },
  {
   "cell_type": "code",
   "execution_count": 24,
   "id": "13a4cfb7-f03f-422f-8a51-b01b1ff34238",
   "metadata": {
    "tags": []
   },
   "outputs": [
    {
     "name": "stdout",
     "output_type": "stream",
     "text": [
      "[1] 6096\n",
      "[1] 62589\n"
     ]
    }
   ],
   "source": [
    "# check number of rows - should be 1402 from initial baseline of px who have future cevd\n",
    "num_rows_cevd <- nrow(data_cevd)\n",
    "print(num_rows_cevd)\n",
    "# check number of rows - should be 13106 from initial baseline of px who have future cevd\n",
    "num_rows_cevdno <- nrow(data_cevdno)\n",
    "print(num_rows_cevdno)"
   ]
  },
  {
   "cell_type": "code",
   "execution_count": 25,
   "id": "cf4f84f0-f14c-414d-a71d-125bdb78d6a9",
   "metadata": {
    "tags": []
   },
   "outputs": [],
   "source": [
    "# Convert the response variable to a factor with ordered levels\n",
    "#data$phq2_q1_diff <- factor(data$phq2_q1_diff, ordered = TRUE, levels = c(-1, 0, 1))\n",
    "data_cevd$p20510 <- factor(data_cevd$p20510, ordered = TRUE, levels = c( 1, 2, 3, 4))\n",
    "data_cevdno$p20510 <- factor(data_cevdno$p20510, ordered = TRUE, levels = c( 1, 2, 3, 4))\n",
    "data_cevd$sleep_filter <- ifelse(data_cevd$pa_sleep_convert_hr >= 7 & data_cevd$pa_sleep_convert_hr <= 9, 1, 0)\n",
    "data_cevdno$sleep_filter <- ifelse(data_cevdno$pa_sleep_convert_hr >= 7 & data_cevdno$pa_sleep_convert_hr <=9, 1, 0)"
   ]
  },
  {
   "cell_type": "code",
   "execution_count": 26,
   "id": "562aadf0-7876-471b-aef7-d1c1ab54b5d5",
   "metadata": {
    "tags": []
   },
   "outputs": [
    {
     "name": "stderr",
     "output_type": "stream",
     "text": [
      "Warning message in polr(p20510 ~ card_sum_filter + hchol_yes + diab_yes + study_t2e + :\n",
      "“design appears to be rank-deficient, so dropping some coefs”\n",
      "Warning message in polr(p20510 ~ card_sum_filter + hchol_yes + diab_yes + study_t2e + :\n",
      "“design appears to be rank-deficient, so dropping some coefs”\n"
     ]
    }
   ],
   "source": [
    "model_dy <- polr(p20510 ~ card_sum_filter +hchol_yes +  diab_yes+ study_t2e+   white_yes+ acc_age + male +sleep_filter +pa_sed_convert  + pa_light_convert + pa_mv_convert_log, data = data_cevd, Hess = TRUE)\n",
    "model_dn <- polr(p20510 ~ card_sum_filter +hchol_yes +  diab_yes+ study_t2e+   white_yes+ acc_age + male+ sleep_filter +pa_sed_convert  + pa_light_convert + pa_mv_convert_log, data = data_cevdno, Hess = TRUE)"
   ]
  },
  {
   "cell_type": "code",
   "execution_count": 27,
   "id": "d1c7dbfc-f9de-458c-ae49-dc4f51cabae0",
   "metadata": {
    "tags": []
   },
   "outputs": [],
   "source": [
    "summary_model_dy <- summary(model_dy)"
   ]
  },
  {
   "cell_type": "code",
   "execution_count": 28,
   "id": "bf67d4c5-bf2c-4b65-a199-6ea8bd775b5c",
   "metadata": {
    "tags": []
   },
   "outputs": [
    {
     "name": "stdout",
     "output_type": "stream",
     "text": [
      "[1] \"Odds Ratios:\"\n",
      "        hchol_yes          diab_yes         study_t2e         white_yes \n",
      "       1.16308726        1.43291210        1.08179692        0.92575461 \n",
      "          acc_age              male      sleep_filter    pa_sed_convert \n",
      "       0.96472300        1.09235980        1.02218650        1.00003835 \n",
      " pa_light_convert pa_mv_convert_log               1|2               2|3 \n",
      "       0.99983194        0.81555437        0.08292241        0.60524616 \n",
      "              3|4 \n",
      "       1.34597146 \n"
     ]
    }
   ],
   "source": [
    "\n",
    "# Odds ratios (exponentiated coefficients)\n",
    "odds_ratios_dy <- exp(summary_model_dy$coefficients[, \"Value\"])\n",
    "\n",
    "# Display odds ratios\n",
    "print(\"Odds Ratios:\")\n",
    "print(odds_ratios_dy)"
   ]
  },
  {
   "cell_type": "code",
   "execution_count": 29,
   "id": "36171063-ce3c-4426-9704-9874d2ddae47",
   "metadata": {
    "tags": []
   },
   "outputs": [
    {
     "name": "stdout",
     "output_type": "stream",
     "text": [
      "[1] \"Confidence Intervals:\"\n",
      "                          OR      lower      upper\n",
      "hchol_yes         1.16308726 1.01805640 1.32877900\n",
      "diab_yes          1.43291210 1.12336488 1.82775619\n",
      "study_t2e         1.08179692 1.00466426 1.16485141\n",
      "white_yes         0.92575461 0.69144055 1.23947258\n",
      "acc_age           0.96472300 0.95922148 0.97025607\n",
      "male              1.09235980 0.97527050 1.22350664\n",
      "sleep_filter      1.02218650 0.91617554 1.14046402\n",
      "pa_sed_convert    1.00003835 0.99957038 1.00050653\n",
      "pa_light_convert  0.99983194 0.99927221 1.00039199\n",
      "pa_mv_convert_log 0.81555437 0.78008214 0.85263961\n",
      "1|2               0.08292241 0.07739713 0.08884213\n",
      "2|3               0.60524616 0.54564963 0.67135191\n",
      "3|4               1.34597146 1.18009675 1.53516157\n"
     ]
    }
   ],
   "source": [
    "\n",
    "# Calculate standard errors\n",
    "std_errors_dy <- summary_model_dy$coefficients[, \"Std. Error\"]\n",
    "\n",
    "# Calculate confidence intervals (95%)\n",
    "conf_int_dy <- exp(cbind(\n",
    "  OR = summary_model_dy$coefficients[, \"Value\"],\n",
    "  lower = summary_model_dy$coefficients[, \"Value\"] - 1.96 * std_errors_dy,\n",
    "  upper = summary_model_dy$coefficients[, \"Value\"] + 1.96 * std_errors_dy\n",
    "))\n",
    "\n",
    "# Display confidence intervals\n",
    "print(\"Confidence Intervals:\")\n",
    "print(conf_int_dy)"
   ]
  },
  {
   "cell_type": "code",
   "execution_count": 30,
   "id": "992e7f4a-2a25-42ec-a563-b4368c8d7883",
   "metadata": {
    "tags": []
   },
   "outputs": [
    {
     "data": {
      "text/html": [
       "<table class=\"dataframe\">\n",
       "<caption>A matrix: 13 × 3 of type dbl</caption>\n",
       "<thead>\n",
       "\t<tr><th></th><th scope=col>Value</th><th scope=col>Std. Error</th><th scope=col>t value</th></tr>\n",
       "</thead>\n",
       "<tbody>\n",
       "\t<tr><th scope=row>hchol_yes</th><td> 0.1510779007</td><td>0.0679502952</td><td>  2.2233590</td></tr>\n",
       "\t<tr><th scope=row>diab_yes</th><td> 0.3597088104</td><td>0.1241736104</td><td>  2.8968217</td></tr>\n",
       "\t<tr><th scope=row>study_t2e</th><td> 0.0786234754</td><td>0.0377398259</td><td>  2.0833025</td></tr>\n",
       "\t<tr><th scope=row>white_yes</th><td>-0.0771460799</td><td>0.1488938916</td><td> -0.5181279</td></tr>\n",
       "\t<tr><th scope=row>acc_age</th><td>-0.0359142639</td><td>0.0029178639</td><td>-12.3084095</td></tr>\n",
       "\t<tr><th scope=row>male</th><td> 0.0883403129</td><td>0.0578473065</td><td>  1.5271292</td></tr>\n",
       "\t<tr><th scope=row>sleep_filter</th><td> 0.0219439613</td><td>0.0558628835</td><td>  0.3928183</td></tr>\n",
       "\t<tr><th scope=row>pa_sed_convert</th><td> 0.0000383451</td><td>0.0002388054</td><td>  0.1605705</td></tr>\n",
       "\t<tr><th scope=row>pa_light_convert</th><td>-0.0001680723</td><td>0.0002857060</td><td> -0.5882699</td></tr>\n",
       "\t<tr><th scope=row>pa_mv_convert_log</th><td>-0.2038871862</td><td>0.0226881989</td><td> -8.9864862</td></tr>\n",
       "\t<tr><th scope=row>1|2</th><td>-2.4898499824</td><td>0.0351814436</td><td>-70.7716832</td></tr>\n",
       "\t<tr><th scope=row>2|3</th><td>-0.5021200223</td><td>0.0528868358</td><td> -9.4942345</td></tr>\n",
       "\t<tr><th scope=row>3|4</th><td> 0.2971160283</td><td>0.0671018380</td><td>  4.4278374</td></tr>\n",
       "</tbody>\n",
       "</table>\n"
      ],
      "text/latex": [
       "A matrix: 13 × 3 of type dbl\n",
       "\\begin{tabular}{r|lll}\n",
       "  & Value & Std. Error & t value\\\\\n",
       "\\hline\n",
       "\thchol\\_yes &  0.1510779007 & 0.0679502952 &   2.2233590\\\\\n",
       "\tdiab\\_yes &  0.3597088104 & 0.1241736104 &   2.8968217\\\\\n",
       "\tstudy\\_t2e &  0.0786234754 & 0.0377398259 &   2.0833025\\\\\n",
       "\twhite\\_yes & -0.0771460799 & 0.1488938916 &  -0.5181279\\\\\n",
       "\tacc\\_age & -0.0359142639 & 0.0029178639 & -12.3084095\\\\\n",
       "\tmale &  0.0883403129 & 0.0578473065 &   1.5271292\\\\\n",
       "\tsleep\\_filter &  0.0219439613 & 0.0558628835 &   0.3928183\\\\\n",
       "\tpa\\_sed\\_convert &  0.0000383451 & 0.0002388054 &   0.1605705\\\\\n",
       "\tpa\\_light\\_convert & -0.0001680723 & 0.0002857060 &  -0.5882699\\\\\n",
       "\tpa\\_mv\\_convert\\_log & -0.2038871862 & 0.0226881989 &  -8.9864862\\\\\n",
       "\t1\\textbar{}2 & -2.4898499824 & 0.0351814436 & -70.7716832\\\\\n",
       "\t2\\textbar{}3 & -0.5021200223 & 0.0528868358 &  -9.4942345\\\\\n",
       "\t3\\textbar{}4 &  0.2971160283 & 0.0671018380 &   4.4278374\\\\\n",
       "\\end{tabular}\n"
      ],
      "text/markdown": [
       "\n",
       "A matrix: 13 × 3 of type dbl\n",
       "\n",
       "| <!--/--> | Value | Std. Error | t value |\n",
       "|---|---|---|---|\n",
       "| hchol_yes |  0.1510779007 | 0.0679502952 |   2.2233590 |\n",
       "| diab_yes |  0.3597088104 | 0.1241736104 |   2.8968217 |\n",
       "| study_t2e |  0.0786234754 | 0.0377398259 |   2.0833025 |\n",
       "| white_yes | -0.0771460799 | 0.1488938916 |  -0.5181279 |\n",
       "| acc_age | -0.0359142639 | 0.0029178639 | -12.3084095 |\n",
       "| male |  0.0883403129 | 0.0578473065 |   1.5271292 |\n",
       "| sleep_filter |  0.0219439613 | 0.0558628835 |   0.3928183 |\n",
       "| pa_sed_convert |  0.0000383451 | 0.0002388054 |   0.1605705 |\n",
       "| pa_light_convert | -0.0001680723 | 0.0002857060 |  -0.5882699 |\n",
       "| pa_mv_convert_log | -0.2038871862 | 0.0226881989 |  -8.9864862 |\n",
       "| 1|2 | -2.4898499824 | 0.0351814436 | -70.7716832 |\n",
       "| 2|3 | -0.5021200223 | 0.0528868358 |  -9.4942345 |\n",
       "| 3|4 |  0.2971160283 | 0.0671018380 |   4.4278374 |\n",
       "\n"
      ],
      "text/plain": [
       "                  Value         Std. Error   t value    \n",
       "hchol_yes          0.1510779007 0.0679502952   2.2233590\n",
       "diab_yes           0.3597088104 0.1241736104   2.8968217\n",
       "study_t2e          0.0786234754 0.0377398259   2.0833025\n",
       "white_yes         -0.0771460799 0.1488938916  -0.5181279\n",
       "acc_age           -0.0359142639 0.0029178639 -12.3084095\n",
       "male               0.0883403129 0.0578473065   1.5271292\n",
       "sleep_filter       0.0219439613 0.0558628835   0.3928183\n",
       "pa_sed_convert     0.0000383451 0.0002388054   0.1605705\n",
       "pa_light_convert  -0.0001680723 0.0002857060  -0.5882699\n",
       "pa_mv_convert_log -0.2038871862 0.0226881989  -8.9864862\n",
       "1|2               -2.4898499824 0.0351814436 -70.7716832\n",
       "2|3               -0.5021200223 0.0528868358  -9.4942345\n",
       "3|4                0.2971160283 0.0671018380   4.4278374"
      ]
     },
     "metadata": {},
     "output_type": "display_data"
    },
    {
     "data": {
      "text/html": [
       "<table class=\"dataframe\">\n",
       "<caption>A matrix: 13 × 4 of type dbl</caption>\n",
       "<thead>\n",
       "\t<tr><th></th><th scope=col>Value</th><th scope=col>Std. Error</th><th scope=col>t value</th><th scope=col>p value</th></tr>\n",
       "</thead>\n",
       "<tbody>\n",
       "\t<tr><th scope=row>hchol_yes</th><td> 0.1510779007</td><td>0.0679502952</td><td>  2.2233590</td><td>2.619160e-02</td></tr>\n",
       "\t<tr><th scope=row>diab_yes</th><td> 0.3597088104</td><td>0.1241736104</td><td>  2.8968217</td><td>3.769639e-03</td></tr>\n",
       "\t<tr><th scope=row>study_t2e</th><td> 0.0786234754</td><td>0.0377398259</td><td>  2.0833025</td><td>3.722365e-02</td></tr>\n",
       "\t<tr><th scope=row>white_yes</th><td>-0.0771460799</td><td>0.1488938916</td><td> -0.5181279</td><td>6.043690e-01</td></tr>\n",
       "\t<tr><th scope=row>acc_age</th><td>-0.0359142639</td><td>0.0029178639</td><td>-12.3084095</td><td>8.161570e-35</td></tr>\n",
       "\t<tr><th scope=row>male</th><td> 0.0883403129</td><td>0.0578473065</td><td>  1.5271292</td><td>1.267289e-01</td></tr>\n",
       "\t<tr><th scope=row>sleep_filter</th><td> 0.0219439613</td><td>0.0558628835</td><td>  0.3928183</td><td>6.944537e-01</td></tr>\n",
       "\t<tr><th scope=row>pa_sed_convert</th><td> 0.0000383451</td><td>0.0002388054</td><td>  0.1605705</td><td>8.724317e-01</td></tr>\n",
       "\t<tr><th scope=row>pa_light_convert</th><td>-0.0001680723</td><td>0.0002857060</td><td> -0.5882699</td><td>5.563512e-01</td></tr>\n",
       "\t<tr><th scope=row>pa_mv_convert_log</th><td>-0.2038871862</td><td>0.0226881989</td><td> -8.9864862</td><td>2.552608e-19</td></tr>\n",
       "\t<tr><th scope=row>1|2</th><td>-2.4898499824</td><td>0.0351814436</td><td>-70.7716832</td><td>0.000000e+00</td></tr>\n",
       "\t<tr><th scope=row>2|3</th><td>-0.5021200223</td><td>0.0528868358</td><td> -9.4942345</td><td>2.218352e-21</td></tr>\n",
       "\t<tr><th scope=row>3|4</th><td> 0.2971160283</td><td>0.0671018380</td><td>  4.4278374</td><td>9.518261e-06</td></tr>\n",
       "</tbody>\n",
       "</table>\n"
      ],
      "text/latex": [
       "A matrix: 13 × 4 of type dbl\n",
       "\\begin{tabular}{r|llll}\n",
       "  & Value & Std. Error & t value & p value\\\\\n",
       "\\hline\n",
       "\thchol\\_yes &  0.1510779007 & 0.0679502952 &   2.2233590 & 2.619160e-02\\\\\n",
       "\tdiab\\_yes &  0.3597088104 & 0.1241736104 &   2.8968217 & 3.769639e-03\\\\\n",
       "\tstudy\\_t2e &  0.0786234754 & 0.0377398259 &   2.0833025 & 3.722365e-02\\\\\n",
       "\twhite\\_yes & -0.0771460799 & 0.1488938916 &  -0.5181279 & 6.043690e-01\\\\\n",
       "\tacc\\_age & -0.0359142639 & 0.0029178639 & -12.3084095 & 8.161570e-35\\\\\n",
       "\tmale &  0.0883403129 & 0.0578473065 &   1.5271292 & 1.267289e-01\\\\\n",
       "\tsleep\\_filter &  0.0219439613 & 0.0558628835 &   0.3928183 & 6.944537e-01\\\\\n",
       "\tpa\\_sed\\_convert &  0.0000383451 & 0.0002388054 &   0.1605705 & 8.724317e-01\\\\\n",
       "\tpa\\_light\\_convert & -0.0001680723 & 0.0002857060 &  -0.5882699 & 5.563512e-01\\\\\n",
       "\tpa\\_mv\\_convert\\_log & -0.2038871862 & 0.0226881989 &  -8.9864862 & 2.552608e-19\\\\\n",
       "\t1\\textbar{}2 & -2.4898499824 & 0.0351814436 & -70.7716832 & 0.000000e+00\\\\\n",
       "\t2\\textbar{}3 & -0.5021200223 & 0.0528868358 &  -9.4942345 & 2.218352e-21\\\\\n",
       "\t3\\textbar{}4 &  0.2971160283 & 0.0671018380 &   4.4278374 & 9.518261e-06\\\\\n",
       "\\end{tabular}\n"
      ],
      "text/markdown": [
       "\n",
       "A matrix: 13 × 4 of type dbl\n",
       "\n",
       "| <!--/--> | Value | Std. Error | t value | p value |\n",
       "|---|---|---|---|---|\n",
       "| hchol_yes |  0.1510779007 | 0.0679502952 |   2.2233590 | 2.619160e-02 |\n",
       "| diab_yes |  0.3597088104 | 0.1241736104 |   2.8968217 | 3.769639e-03 |\n",
       "| study_t2e |  0.0786234754 | 0.0377398259 |   2.0833025 | 3.722365e-02 |\n",
       "| white_yes | -0.0771460799 | 0.1488938916 |  -0.5181279 | 6.043690e-01 |\n",
       "| acc_age | -0.0359142639 | 0.0029178639 | -12.3084095 | 8.161570e-35 |\n",
       "| male |  0.0883403129 | 0.0578473065 |   1.5271292 | 1.267289e-01 |\n",
       "| sleep_filter |  0.0219439613 | 0.0558628835 |   0.3928183 | 6.944537e-01 |\n",
       "| pa_sed_convert |  0.0000383451 | 0.0002388054 |   0.1605705 | 8.724317e-01 |\n",
       "| pa_light_convert | -0.0001680723 | 0.0002857060 |  -0.5882699 | 5.563512e-01 |\n",
       "| pa_mv_convert_log | -0.2038871862 | 0.0226881989 |  -8.9864862 | 2.552608e-19 |\n",
       "| 1|2 | -2.4898499824 | 0.0351814436 | -70.7716832 | 0.000000e+00 |\n",
       "| 2|3 | -0.5021200223 | 0.0528868358 |  -9.4942345 | 2.218352e-21 |\n",
       "| 3|4 |  0.2971160283 | 0.0671018380 |   4.4278374 | 9.518261e-06 |\n",
       "\n"
      ],
      "text/plain": [
       "                  Value         Std. Error   t value     p value     \n",
       "hchol_yes          0.1510779007 0.0679502952   2.2233590 2.619160e-02\n",
       "diab_yes           0.3597088104 0.1241736104   2.8968217 3.769639e-03\n",
       "study_t2e          0.0786234754 0.0377398259   2.0833025 3.722365e-02\n",
       "white_yes         -0.0771460799 0.1488938916  -0.5181279 6.043690e-01\n",
       "acc_age           -0.0359142639 0.0029178639 -12.3084095 8.161570e-35\n",
       "male               0.0883403129 0.0578473065   1.5271292 1.267289e-01\n",
       "sleep_filter       0.0219439613 0.0558628835   0.3928183 6.944537e-01\n",
       "pa_sed_convert     0.0000383451 0.0002388054   0.1605705 8.724317e-01\n",
       "pa_light_convert  -0.0001680723 0.0002857060  -0.5882699 5.563512e-01\n",
       "pa_mv_convert_log -0.2038871862 0.0226881989  -8.9864862 2.552608e-19\n",
       "1|2               -2.4898499824 0.0351814436 -70.7716832 0.000000e+00\n",
       "2|3               -0.5021200223 0.0528868358  -9.4942345 2.218352e-21\n",
       "3|4                0.2971160283 0.0671018380   4.4278374 9.518261e-06"
      ]
     },
     "metadata": {},
     "output_type": "display_data"
    }
   ],
   "source": [
    "# store table\n",
    "(ctable_dy <- coef(summary(model_dy)))\n",
    "\n",
    "## calculate and store p values\n",
    "p_dy <- pnorm(abs(ctable_dy[, \"t value\"]), lower.tail = FALSE) * 2\n",
    "## combined table\n",
    "(ctable_dy <- cbind(ctable_dy, \"p value\" = p_dy))"
   ]
  },
  {
   "cell_type": "code",
   "execution_count": 31,
   "id": "c4e4c35e-b6e5-41e6-aa3e-3e6eaf3bbe42",
   "metadata": {
    "tags": []
   },
   "outputs": [],
   "source": [
    "\n",
    "summary_model_dn <- summary(model_dn)"
   ]
  },
  {
   "cell_type": "code",
   "execution_count": 32,
   "id": "1b7c84be-f42f-4931-9831-907e4c45d269",
   "metadata": {
    "tags": []
   },
   "outputs": [
    {
     "name": "stdout",
     "output_type": "stream",
     "text": [
      "[1] \"Odds Ratios:\"\n",
      "        hchol_yes          diab_yes         study_t2e         white_yes \n",
      "        1.0610889         1.2347396         1.0013975         0.9479395 \n",
      "          acc_age              male      sleep_filter    pa_sed_convert \n",
      "        0.9646010         0.8114990         0.9472434         1.0002906 \n",
      " pa_light_convert pa_mv_convert_log               1|2               2|3 \n",
      "        0.9997576         0.8650631         0.2651575         2.6439879 \n",
      "              3|4 \n",
      "        7.0758318 \n"
     ]
    }
   ],
   "source": [
    "\n",
    "# Odds ratios (exponentiated coefficients)\n",
    "odds_ratios_dn <- exp(summary_model_dn$coefficients[, \"Value\"])\n",
    "\n",
    "# Display odds ratios\n",
    "print(\"Odds Ratios:\")\n",
    "print(odds_ratios_dn)"
   ]
  },
  {
   "cell_type": "code",
   "execution_count": 33,
   "id": "2c3b18e5-e8b8-4200-aea6-7e5a5984f470",
   "metadata": {
    "tags": []
   },
   "outputs": [
    {
     "name": "stdout",
     "output_type": "stream",
     "text": [
      "[1] \"Confidence Intervals:\"\n",
      "                         OR     lower     upper\n",
      "hchol_yes         1.0610889 0.9992826 1.1267180\n",
      "diab_yes          1.2347396 1.0976645 1.3889327\n",
      "study_t2e         1.0013975 0.9724317 1.0312262\n",
      "white_yes         0.9479395 0.8558139 1.0499822\n",
      "acc_age           0.9646010 0.9624628 0.9667439\n",
      "male              0.8114990 0.7769197 0.8476174\n",
      "sleep_filter      0.9472434 0.9068133 0.9894761\n",
      "pa_sed_convert    1.0002906 1.0001083 1.0004729\n",
      "pa_light_convert  0.9997576 0.9995406 0.9999747\n",
      "pa_mv_convert_log 0.8650631 0.8491652 0.8812586\n",
      "1|2               0.2651575 0.2609231 0.2694605\n",
      "2|3               2.6439879 2.5121603 2.7827333\n",
      "3|4               7.0758318 6.5172097 7.6823362\n"
     ]
    }
   ],
   "source": [
    "\n",
    "# Calculate standard errors\n",
    "std_errors_dn <- summary_model_dn$coefficients[, \"Std. Error\"]\n",
    "\n",
    "# Calculate confidence intervals (95%)\n",
    "conf_int_dn <- exp(cbind(\n",
    "  OR = summary_model_dn$coefficients[, \"Value\"],\n",
    "  lower = summary_model_dn$coefficients[, \"Value\"] - 1.96 * std_errors_dn,\n",
    "  upper = summary_model_dn$coefficients[, \"Value\"] + 1.96 * std_errors_dn\n",
    "))\n",
    "\n",
    "# Display confidence intervals\n",
    "print(\"Confidence Intervals:\")\n",
    "print(conf_int_dn)"
   ]
  },
  {
   "cell_type": "code",
   "execution_count": 34,
   "id": "5ec0f512-5887-4474-a178-c0c73192f3f5",
   "metadata": {
    "tags": []
   },
   "outputs": [
    {
     "data": {
      "text/html": [
       "<table class=\"dataframe\">\n",
       "<caption>A matrix: 13 × 3 of type dbl</caption>\n",
       "<thead>\n",
       "\t<tr><th></th><th scope=col>Value</th><th scope=col>Std. Error</th><th scope=col>t value</th></tr>\n",
       "</thead>\n",
       "<tbody>\n",
       "\t<tr><th scope=row>hchol_yes</th><td> 0.0592956512</td><td>3.061905e-02</td><td>   1.93656063</td></tr>\n",
       "\t<tr><th scope=row>diab_yes</th><td> 0.2108601377</td><td>6.003849e-02</td><td>   3.51208268</td></tr>\n",
       "\t<tr><th scope=row>study_t2e</th><td> 0.0013965734</td><td>1.497552e-02</td><td>   0.09325707</td></tr>\n",
       "\t<tr><th scope=row>white_yes</th><td>-0.0534645527</td><td>5.216213e-02</td><td>  -1.02496865</td></tr>\n",
       "\t<tr><th scope=row>acc_age</th><td>-0.0360407845</td><td>1.132201e-03</td><td> -31.83248748</td></tr>\n",
       "\t<tr><th scope=row>male</th><td>-0.2088721081</td><td>2.221742e-02</td><td>  -9.40127643</td></tr>\n",
       "\t<tr><th scope=row>sleep_filter</th><td>-0.0541991530</td><td>2.225484e-02</td><td>  -2.43538727</td></tr>\n",
       "\t<tr><th scope=row>pa_sed_convert</th><td> 0.0002905294</td><td>9.297034e-05</td><td>   3.12496907</td></tr>\n",
       "\t<tr><th scope=row>pa_light_convert</th><td>-0.0002424287</td><td>1.107618e-04</td><td>  -2.18873850</td></tr>\n",
       "\t<tr><th scope=row>pa_mv_convert_log</th><td>-0.1449528473</td><td>9.463640e-03</td><td> -15.31681682</td></tr>\n",
       "\t<tr><th scope=row>1|2</th><td>-1.3274314684</td><td>8.213250e-03</td><td>-161.62072286</td></tr>\n",
       "\t<tr><th scope=row>2|3</th><td> 0.9722883423</td><td>2.609454e-02</td><td>  37.26022471</td></tr>\n",
       "\t<tr><th scope=row>3|4</th><td> 1.9566850073</td><td>4.195851e-02</td><td>  46.63380219</td></tr>\n",
       "</tbody>\n",
       "</table>\n"
      ],
      "text/latex": [
       "A matrix: 13 × 3 of type dbl\n",
       "\\begin{tabular}{r|lll}\n",
       "  & Value & Std. Error & t value\\\\\n",
       "\\hline\n",
       "\thchol\\_yes &  0.0592956512 & 3.061905e-02 &    1.93656063\\\\\n",
       "\tdiab\\_yes &  0.2108601377 & 6.003849e-02 &    3.51208268\\\\\n",
       "\tstudy\\_t2e &  0.0013965734 & 1.497552e-02 &    0.09325707\\\\\n",
       "\twhite\\_yes & -0.0534645527 & 5.216213e-02 &   -1.02496865\\\\\n",
       "\tacc\\_age & -0.0360407845 & 1.132201e-03 &  -31.83248748\\\\\n",
       "\tmale & -0.2088721081 & 2.221742e-02 &   -9.40127643\\\\\n",
       "\tsleep\\_filter & -0.0541991530 & 2.225484e-02 &   -2.43538727\\\\\n",
       "\tpa\\_sed\\_convert &  0.0002905294 & 9.297034e-05 &    3.12496907\\\\\n",
       "\tpa\\_light\\_convert & -0.0002424287 & 1.107618e-04 &   -2.18873850\\\\\n",
       "\tpa\\_mv\\_convert\\_log & -0.1449528473 & 9.463640e-03 &  -15.31681682\\\\\n",
       "\t1\\textbar{}2 & -1.3274314684 & 8.213250e-03 & -161.62072286\\\\\n",
       "\t2\\textbar{}3 &  0.9722883423 & 2.609454e-02 &   37.26022471\\\\\n",
       "\t3\\textbar{}4 &  1.9566850073 & 4.195851e-02 &   46.63380219\\\\\n",
       "\\end{tabular}\n"
      ],
      "text/markdown": [
       "\n",
       "A matrix: 13 × 3 of type dbl\n",
       "\n",
       "| <!--/--> | Value | Std. Error | t value |\n",
       "|---|---|---|---|\n",
       "| hchol_yes |  0.0592956512 | 3.061905e-02 |    1.93656063 |\n",
       "| diab_yes |  0.2108601377 | 6.003849e-02 |    3.51208268 |\n",
       "| study_t2e |  0.0013965734 | 1.497552e-02 |    0.09325707 |\n",
       "| white_yes | -0.0534645527 | 5.216213e-02 |   -1.02496865 |\n",
       "| acc_age | -0.0360407845 | 1.132201e-03 |  -31.83248748 |\n",
       "| male | -0.2088721081 | 2.221742e-02 |   -9.40127643 |\n",
       "| sleep_filter | -0.0541991530 | 2.225484e-02 |   -2.43538727 |\n",
       "| pa_sed_convert |  0.0002905294 | 9.297034e-05 |    3.12496907 |\n",
       "| pa_light_convert | -0.0002424287 | 1.107618e-04 |   -2.18873850 |\n",
       "| pa_mv_convert_log | -0.1449528473 | 9.463640e-03 |  -15.31681682 |\n",
       "| 1|2 | -1.3274314684 | 8.213250e-03 | -161.62072286 |\n",
       "| 2|3 |  0.9722883423 | 2.609454e-02 |   37.26022471 |\n",
       "| 3|4 |  1.9566850073 | 4.195851e-02 |   46.63380219 |\n",
       "\n"
      ],
      "text/plain": [
       "                  Value         Std. Error   t value      \n",
       "hchol_yes          0.0592956512 3.061905e-02    1.93656063\n",
       "diab_yes           0.2108601377 6.003849e-02    3.51208268\n",
       "study_t2e          0.0013965734 1.497552e-02    0.09325707\n",
       "white_yes         -0.0534645527 5.216213e-02   -1.02496865\n",
       "acc_age           -0.0360407845 1.132201e-03  -31.83248748\n",
       "male              -0.2088721081 2.221742e-02   -9.40127643\n",
       "sleep_filter      -0.0541991530 2.225484e-02   -2.43538727\n",
       "pa_sed_convert     0.0002905294 9.297034e-05    3.12496907\n",
       "pa_light_convert  -0.0002424287 1.107618e-04   -2.18873850\n",
       "pa_mv_convert_log -0.1449528473 9.463640e-03  -15.31681682\n",
       "1|2               -1.3274314684 8.213250e-03 -161.62072286\n",
       "2|3                0.9722883423 2.609454e-02   37.26022471\n",
       "3|4                1.9566850073 4.195851e-02   46.63380219"
      ]
     },
     "metadata": {},
     "output_type": "display_data"
    },
    {
     "data": {
      "text/html": [
       "<table class=\"dataframe\">\n",
       "<caption>A matrix: 13 × 4 of type dbl</caption>\n",
       "<thead>\n",
       "\t<tr><th></th><th scope=col>Value</th><th scope=col>Std. Error</th><th scope=col>t value</th><th scope=col>p value</th></tr>\n",
       "</thead>\n",
       "<tbody>\n",
       "\t<tr><th scope=row>hchol_yes</th><td> 0.0592956512</td><td>3.061905e-02</td><td>   1.93656063</td><td> 5.279907e-02</td></tr>\n",
       "\t<tr><th scope=row>diab_yes</th><td> 0.2108601377</td><td>6.003849e-02</td><td>   3.51208268</td><td> 4.446097e-04</td></tr>\n",
       "\t<tr><th scope=row>study_t2e</th><td> 0.0013965734</td><td>1.497552e-02</td><td>   0.09325707</td><td> 9.256993e-01</td></tr>\n",
       "\t<tr><th scope=row>white_yes</th><td>-0.0534645527</td><td>5.216213e-02</td><td>  -1.02496865</td><td> 3.053780e-01</td></tr>\n",
       "\t<tr><th scope=row>acc_age</th><td>-0.0360407845</td><td>1.132201e-03</td><td> -31.83248748</td><td>2.300204e-222</td></tr>\n",
       "\t<tr><th scope=row>male</th><td>-0.2088721081</td><td>2.221742e-02</td><td>  -9.40127643</td><td> 5.390510e-21</td></tr>\n",
       "\t<tr><th scope=row>sleep_filter</th><td>-0.0541991530</td><td>2.225484e-02</td><td>  -2.43538727</td><td> 1.487586e-02</td></tr>\n",
       "\t<tr><th scope=row>pa_sed_convert</th><td> 0.0002905294</td><td>9.297034e-05</td><td>   3.12496907</td><td> 1.778238e-03</td></tr>\n",
       "\t<tr><th scope=row>pa_light_convert</th><td>-0.0002424287</td><td>1.107618e-04</td><td>  -2.18873850</td><td> 2.861585e-02</td></tr>\n",
       "\t<tr><th scope=row>pa_mv_convert_log</th><td>-0.1449528473</td><td>9.463640e-03</td><td> -15.31681682</td><td> 5.903884e-53</td></tr>\n",
       "\t<tr><th scope=row>1|2</th><td>-1.3274314684</td><td>8.213250e-03</td><td>-161.62072286</td><td> 0.000000e+00</td></tr>\n",
       "\t<tr><th scope=row>2|3</th><td> 0.9722883423</td><td>2.609454e-02</td><td>  37.26022471</td><td>7.237378e-304</td></tr>\n",
       "\t<tr><th scope=row>3|4</th><td> 1.9566850073</td><td>4.195851e-02</td><td>  46.63380219</td><td> 0.000000e+00</td></tr>\n",
       "</tbody>\n",
       "</table>\n"
      ],
      "text/latex": [
       "A matrix: 13 × 4 of type dbl\n",
       "\\begin{tabular}{r|llll}\n",
       "  & Value & Std. Error & t value & p value\\\\\n",
       "\\hline\n",
       "\thchol\\_yes &  0.0592956512 & 3.061905e-02 &    1.93656063 &  5.279907e-02\\\\\n",
       "\tdiab\\_yes &  0.2108601377 & 6.003849e-02 &    3.51208268 &  4.446097e-04\\\\\n",
       "\tstudy\\_t2e &  0.0013965734 & 1.497552e-02 &    0.09325707 &  9.256993e-01\\\\\n",
       "\twhite\\_yes & -0.0534645527 & 5.216213e-02 &   -1.02496865 &  3.053780e-01\\\\\n",
       "\tacc\\_age & -0.0360407845 & 1.132201e-03 &  -31.83248748 & 2.300204e-222\\\\\n",
       "\tmale & -0.2088721081 & 2.221742e-02 &   -9.40127643 &  5.390510e-21\\\\\n",
       "\tsleep\\_filter & -0.0541991530 & 2.225484e-02 &   -2.43538727 &  1.487586e-02\\\\\n",
       "\tpa\\_sed\\_convert &  0.0002905294 & 9.297034e-05 &    3.12496907 &  1.778238e-03\\\\\n",
       "\tpa\\_light\\_convert & -0.0002424287 & 1.107618e-04 &   -2.18873850 &  2.861585e-02\\\\\n",
       "\tpa\\_mv\\_convert\\_log & -0.1449528473 & 9.463640e-03 &  -15.31681682 &  5.903884e-53\\\\\n",
       "\t1\\textbar{}2 & -1.3274314684 & 8.213250e-03 & -161.62072286 &  0.000000e+00\\\\\n",
       "\t2\\textbar{}3 &  0.9722883423 & 2.609454e-02 &   37.26022471 & 7.237378e-304\\\\\n",
       "\t3\\textbar{}4 &  1.9566850073 & 4.195851e-02 &   46.63380219 &  0.000000e+00\\\\\n",
       "\\end{tabular}\n"
      ],
      "text/markdown": [
       "\n",
       "A matrix: 13 × 4 of type dbl\n",
       "\n",
       "| <!--/--> | Value | Std. Error | t value | p value |\n",
       "|---|---|---|---|---|\n",
       "| hchol_yes |  0.0592956512 | 3.061905e-02 |    1.93656063 |  5.279907e-02 |\n",
       "| diab_yes |  0.2108601377 | 6.003849e-02 |    3.51208268 |  4.446097e-04 |\n",
       "| study_t2e |  0.0013965734 | 1.497552e-02 |    0.09325707 |  9.256993e-01 |\n",
       "| white_yes | -0.0534645527 | 5.216213e-02 |   -1.02496865 |  3.053780e-01 |\n",
       "| acc_age | -0.0360407845 | 1.132201e-03 |  -31.83248748 | 2.300204e-222 |\n",
       "| male | -0.2088721081 | 2.221742e-02 |   -9.40127643 |  5.390510e-21 |\n",
       "| sleep_filter | -0.0541991530 | 2.225484e-02 |   -2.43538727 |  1.487586e-02 |\n",
       "| pa_sed_convert |  0.0002905294 | 9.297034e-05 |    3.12496907 |  1.778238e-03 |\n",
       "| pa_light_convert | -0.0002424287 | 1.107618e-04 |   -2.18873850 |  2.861585e-02 |\n",
       "| pa_mv_convert_log | -0.1449528473 | 9.463640e-03 |  -15.31681682 |  5.903884e-53 |\n",
       "| 1|2 | -1.3274314684 | 8.213250e-03 | -161.62072286 |  0.000000e+00 |\n",
       "| 2|3 |  0.9722883423 | 2.609454e-02 |   37.26022471 | 7.237378e-304 |\n",
       "| 3|4 |  1.9566850073 | 4.195851e-02 |   46.63380219 |  0.000000e+00 |\n",
       "\n"
      ],
      "text/plain": [
       "                  Value         Std. Error   t value       p value      \n",
       "hchol_yes          0.0592956512 3.061905e-02    1.93656063  5.279907e-02\n",
       "diab_yes           0.2108601377 6.003849e-02    3.51208268  4.446097e-04\n",
       "study_t2e          0.0013965734 1.497552e-02    0.09325707  9.256993e-01\n",
       "white_yes         -0.0534645527 5.216213e-02   -1.02496865  3.053780e-01\n",
       "acc_age           -0.0360407845 1.132201e-03  -31.83248748 2.300204e-222\n",
       "male              -0.2088721081 2.221742e-02   -9.40127643  5.390510e-21\n",
       "sleep_filter      -0.0541991530 2.225484e-02   -2.43538727  1.487586e-02\n",
       "pa_sed_convert     0.0002905294 9.297034e-05    3.12496907  1.778238e-03\n",
       "pa_light_convert  -0.0002424287 1.107618e-04   -2.18873850  2.861585e-02\n",
       "pa_mv_convert_log -0.1449528473 9.463640e-03  -15.31681682  5.903884e-53\n",
       "1|2               -1.3274314684 8.213250e-03 -161.62072286  0.000000e+00\n",
       "2|3                0.9722883423 2.609454e-02   37.26022471 7.237378e-304\n",
       "3|4                1.9566850073 4.195851e-02   46.63380219  0.000000e+00"
      ]
     },
     "metadata": {},
     "output_type": "display_data"
    }
   ],
   "source": [
    "## store table\n",
    "(ctable_dn <- coef(summary(model_dn)))\n",
    "\n",
    "## calculate and store p values\n",
    "p_dn <- pnorm(abs(ctable_dn[, \"t value\"]), lower.tail = FALSE) * 2\n",
    "## combined table\n",
    "(ctable_dn <- cbind(ctable_dn, \"p value\" = p_dn))"
   ]
  },
  {
   "cell_type": "code",
   "execution_count": 35,
   "id": "97b81ede-22f8-4970-872c-7acc6623bb8b",
   "metadata": {
    "tags": []
   },
   "outputs": [
    {
     "name": "stdout",
     "output_type": "stream",
     "text": [
      "[1] 1173\n",
      "[1] 100\n",
      "[1] 1073\n"
     ]
    }
   ],
   "source": [
    "#full data for all patients who have a future CeVD\n",
    "data <- read.csv(\"incidentstroke_df.csv\")\n",
    "data <- data.frame(data) \n",
    "# check number of rows - should be 5193 from initial baseline of px who have future cevd\n",
    "num_rows <- nrow(data)\n",
    "print(num_rows)\n",
    "# create 2 separate dataframes, 1 has depressed px, other has non-depressed px\n",
    "data_cevd <- data[data$dep_diag_yes == 1, ]\n",
    "data_cevdno <- data[data$dep_diag_yes == 0, ]\n",
    "# check number of rows - should be 1402 from initial baseline of px who have future cevd\n",
    "num_rows_cevd <- nrow(data_cevd)\n",
    "print(num_rows_cevd)\n",
    "# check number of rows - should be 13106 from initial baseline of px who have future cevd\n",
    "num_rows_cevdno <- nrow(data_cevdno)\n",
    "print(num_rows_cevdno)"
   ]
  },
  {
   "cell_type": "code",
   "execution_count": 36,
   "id": "6053f207-c665-4f8a-90f8-597974b4829d",
   "metadata": {
    "tags": []
   },
   "outputs": [],
   "source": [
    "# Convert the response variable to a factor with ordered levels\n",
    "#data$phq2_q1_diff <- factor(data$phq2_q1_diff, ordered = TRUE, levels = c(-1, 0, 1))\n",
    "data_cevd$p20510 <- factor(data_cevd$p20510, ordered = TRUE, levels = c( 1, 2, 3, 4))\n",
    "data_cevdno$p20510 <- factor(data_cevdno$p20510, ordered = TRUE, levels = c( 1, 2, 3, 4))\n",
    "data_cevd$ethnicity <- ifelse(data_cevd$ethnicity > 0, 1, 0)\n",
    "data_cevdno$ethnicity <- ifelse(data_cevdno$ethnicity > 0, 1, 0)\n",
    "data_cevd$sleep_filter <- ifelse(data_cevd$pa_sleep_convert_hr >= 7 & data_cevd$pa_sleep_convert_hr <= 9, 1, 0)\n",
    "data_cevdno$sleep_filter <- ifelse(data_cevdno$pa_sleep_convert_hr >= 7 & data_cevdno$pa_sleep_convert_hr <=9, 1, 0)"
   ]
  },
  {
   "cell_type": "code",
   "execution_count": 37,
   "id": "341d3014-2850-4c1a-b9c1-a896320cb056",
   "metadata": {
    "tags": []
   },
   "outputs": [
    {
     "name": "stderr",
     "output_type": "stream",
     "text": [
      "Warning message in polr(p20510 ~ card_sum_filter + hchol_yes + diab_yes + study_t2e + :\n",
      "“design appears to be rank-deficient, so dropping some coefs”\n",
      "Warning message in polr(p20510 ~ card_sum_filter + hchol_yes + diab_yes + study_t2e + :\n",
      "“design appears to be rank-deficient, so dropping some coefs”\n"
     ]
    }
   ],
   "source": [
    "model_dy <- polr(p20510 ~  card_sum_filter +hchol_yes +  diab_yes+ study_t2e+ white_yes + acc_age + male +sleep_filter +pa_sed_convert  + pa_light_convert + pa_mv_convert_log, data = data_cevd, Hess = TRUE)\n",
    "model_dn <- polr(p20510 ~ card_sum_filter +hchol_yes +  diab_yes+ study_t2e+ white_yes + acc_age + male+ sleep_filter +pa_sed_convert  + pa_light_convert + pa_mv_convert_log, data = data_cevdno, Hess = TRUE)"
   ]
  },
  {
   "cell_type": "code",
   "execution_count": 38,
   "id": "b8a9978e-32c3-47df-87ad-42680b072255",
   "metadata": {
    "tags": []
   },
   "outputs": [],
   "source": [
    "summary_model_dy <- summary(model_dy)"
   ]
  },
  {
   "cell_type": "code",
   "execution_count": 39,
   "id": "1c67e88c-234b-4afa-a688-cf86e69324bd",
   "metadata": {
    "tags": []
   },
   "outputs": [
    {
     "name": "stdout",
     "output_type": "stream",
     "text": [
      "[1] \"Odds Ratios:\"\n",
      "        hchol_yes          diab_yes         study_t2e         white_yes \n",
      "     1.366486e+00      7.687180e-01      1.477457e+00      8.979685e+05 \n",
      "          acc_age              male      sleep_filter    pa_sed_convert \n",
      "     9.592472e-01      1.618332e+00      1.619905e+00      1.004183e+00 \n",
      " pa_light_convert pa_mv_convert_log               1|2               2|3 \n",
      "     1.002675e+00      8.681865e-01      3.657908e+06      5.205134e+07 \n",
      "              3|4 \n",
      "     7.692291e+07 \n"
     ]
    }
   ],
   "source": [
    "# Odds ratios (exponentiated coefficients)\n",
    "odds_ratios_dy <- exp(summary_model_dy$coefficients[, \"Value\"])\n",
    "\n",
    "# Display odds ratios\n",
    "print(\"Odds Ratios:\")\n",
    "print(odds_ratios_dy)\n"
   ]
  },
  {
   "cell_type": "code",
   "execution_count": 40,
   "id": "73a1ec79-f1b9-465b-8f1d-64bacb2ad489",
   "metadata": {
    "tags": []
   },
   "outputs": [
    {
     "name": "stdout",
     "output_type": "stream",
     "text": [
      "[1] \"Confidence Intervals:\"\n",
      "                            OR        lower        upper\n",
      "hchol_yes         1.366486e+00 4.640430e-01 4.023947e+00\n",
      "diab_yes          7.687180e-01 1.545459e-01 3.823636e+00\n",
      "study_t2e         1.477457e+00 7.823057e-01 2.790315e+00\n",
      "white_yes         8.979685e+05 3.298582e+04 2.444527e+07\n",
      "acc_age           9.592472e-01 9.010016e-01 1.021258e+00\n",
      "male              1.618332e+00 6.754194e-01 3.877590e+00\n",
      "sleep_filter      1.619905e+00 6.435563e-01 4.077484e+00\n",
      "pa_sed_convert    1.004183e+00 9.981583e-01 1.010245e+00\n",
      "pa_light_convert  1.002675e+00 9.962777e-01 1.009113e+00\n",
      "pa_mv_convert_log 8.681865e-01 6.029996e-01 1.249997e+00\n",
      "1|2               3.657908e+06 1.343719e+05 9.957657e+07\n",
      "2|3               5.205134e+07 1.684849e+06 1.608062e+09\n",
      "3|4               7.692291e+07 2.401892e+06 2.463531e+09\n"
     ]
    }
   ],
   "source": [
    "# Calculate standard errors\n",
    "std_errors_dy <- summary_model_dy$coefficients[, \"Std. Error\"]\n",
    "\n",
    "# Calculate confidence intervals (95%)\n",
    "conf_int_dy <- exp(cbind(\n",
    "  OR = summary_model_dy$coefficients[, \"Value\"],\n",
    "  lower = summary_model_dy$coefficients[, \"Value\"] - 1.96 * std_errors_dy,\n",
    "  upper = summary_model_dy$coefficients[, \"Value\"] + 1.96 * std_errors_dy\n",
    "))\n",
    "\n",
    "# Display confidence intervals\n",
    "print(\"Confidence Intervals:\")\n",
    "print(conf_int_dy)\n"
   ]
  },
  {
   "cell_type": "code",
   "execution_count": 41,
   "id": "558bfd4d-87c6-40f4-a99e-ccdeb7cfc108",
   "metadata": {
    "tags": []
   },
   "outputs": [
    {
     "data": {
      "text/html": [
       "<table class=\"dataframe\">\n",
       "<caption>A matrix: 13 × 3 of type dbl</caption>\n",
       "<thead>\n",
       "\t<tr><th></th><th scope=col>Value</th><th scope=col>Std. Error</th><th scope=col>t value</th></tr>\n",
       "</thead>\n",
       "<tbody>\n",
       "\t<tr><th scope=row>hchol_yes</th><td> 0.312242614</td><td>0.551030950</td><td> 0.5666517</td></tr>\n",
       "\t<tr><th scope=row>diab_yes</th><td>-0.263031076</td><td>0.818486108</td><td>-0.3213629</td></tr>\n",
       "\t<tr><th scope=row>study_t2e</th><td> 0.390322419</td><td>0.324404156</td><td> 1.2031980</td></tr>\n",
       "\t<tr><th scope=row>white_yes</th><td>13.707890243</td><td>1.685743415</td><td> 8.1316588</td></tr>\n",
       "\t<tr><th scope=row>acc_age</th><td>-0.041606437</td><td>0.031960131</td><td>-1.3018231</td></tr>\n",
       "\t<tr><th scope=row>male</th><td> 0.481396276</td><td>0.445825344</td><td> 1.0797867</td></tr>\n",
       "\t<tr><th scope=row>sleep_filter</th><td> 0.482367203</td><td>0.470976001</td><td> 1.0241864</td></tr>\n",
       "\t<tr><th scope=row>pa_sed_convert</th><td> 0.004174516</td><td>0.003070385</td><td> 1.3596066</td></tr>\n",
       "\t<tr><th scope=row>pa_light_convert</th><td> 0.002671386</td><td>0.003265633</td><td> 0.8180301</td></tr>\n",
       "\t<tr><th scope=row>pa_mv_convert_log</th><td>-0.141348772</td><td>0.185964312</td><td>-0.7600855</td></tr>\n",
       "\t<tr><th scope=row>1|2</th><td>15.112401922</td><td>1.685732393</td><td> 8.9648879</td></tr>\n",
       "\t<tr><th scope=row>2|3</th><td>17.767741006</td><td>1.750282853</td><td>10.1513541</td></tr>\n",
       "\t<tr><th scope=row>3|4</th><td>18.158314364</td><td>1.768646495</td><td>10.2667856</td></tr>\n",
       "</tbody>\n",
       "</table>\n"
      ],
      "text/latex": [
       "A matrix: 13 × 3 of type dbl\n",
       "\\begin{tabular}{r|lll}\n",
       "  & Value & Std. Error & t value\\\\\n",
       "\\hline\n",
       "\thchol\\_yes &  0.312242614 & 0.551030950 &  0.5666517\\\\\n",
       "\tdiab\\_yes & -0.263031076 & 0.818486108 & -0.3213629\\\\\n",
       "\tstudy\\_t2e &  0.390322419 & 0.324404156 &  1.2031980\\\\\n",
       "\twhite\\_yes & 13.707890243 & 1.685743415 &  8.1316588\\\\\n",
       "\tacc\\_age & -0.041606437 & 0.031960131 & -1.3018231\\\\\n",
       "\tmale &  0.481396276 & 0.445825344 &  1.0797867\\\\\n",
       "\tsleep\\_filter &  0.482367203 & 0.470976001 &  1.0241864\\\\\n",
       "\tpa\\_sed\\_convert &  0.004174516 & 0.003070385 &  1.3596066\\\\\n",
       "\tpa\\_light\\_convert &  0.002671386 & 0.003265633 &  0.8180301\\\\\n",
       "\tpa\\_mv\\_convert\\_log & -0.141348772 & 0.185964312 & -0.7600855\\\\\n",
       "\t1\\textbar{}2 & 15.112401922 & 1.685732393 &  8.9648879\\\\\n",
       "\t2\\textbar{}3 & 17.767741006 & 1.750282853 & 10.1513541\\\\\n",
       "\t3\\textbar{}4 & 18.158314364 & 1.768646495 & 10.2667856\\\\\n",
       "\\end{tabular}\n"
      ],
      "text/markdown": [
       "\n",
       "A matrix: 13 × 3 of type dbl\n",
       "\n",
       "| <!--/--> | Value | Std. Error | t value |\n",
       "|---|---|---|---|\n",
       "| hchol_yes |  0.312242614 | 0.551030950 |  0.5666517 |\n",
       "| diab_yes | -0.263031076 | 0.818486108 | -0.3213629 |\n",
       "| study_t2e |  0.390322419 | 0.324404156 |  1.2031980 |\n",
       "| white_yes | 13.707890243 | 1.685743415 |  8.1316588 |\n",
       "| acc_age | -0.041606437 | 0.031960131 | -1.3018231 |\n",
       "| male |  0.481396276 | 0.445825344 |  1.0797867 |\n",
       "| sleep_filter |  0.482367203 | 0.470976001 |  1.0241864 |\n",
       "| pa_sed_convert |  0.004174516 | 0.003070385 |  1.3596066 |\n",
       "| pa_light_convert |  0.002671386 | 0.003265633 |  0.8180301 |\n",
       "| pa_mv_convert_log | -0.141348772 | 0.185964312 | -0.7600855 |\n",
       "| 1|2 | 15.112401922 | 1.685732393 |  8.9648879 |\n",
       "| 2|3 | 17.767741006 | 1.750282853 | 10.1513541 |\n",
       "| 3|4 | 18.158314364 | 1.768646495 | 10.2667856 |\n",
       "\n"
      ],
      "text/plain": [
       "                  Value        Std. Error  t value   \n",
       "hchol_yes          0.312242614 0.551030950  0.5666517\n",
       "diab_yes          -0.263031076 0.818486108 -0.3213629\n",
       "study_t2e          0.390322419 0.324404156  1.2031980\n",
       "white_yes         13.707890243 1.685743415  8.1316588\n",
       "acc_age           -0.041606437 0.031960131 -1.3018231\n",
       "male               0.481396276 0.445825344  1.0797867\n",
       "sleep_filter       0.482367203 0.470976001  1.0241864\n",
       "pa_sed_convert     0.004174516 0.003070385  1.3596066\n",
       "pa_light_convert   0.002671386 0.003265633  0.8180301\n",
       "pa_mv_convert_log -0.141348772 0.185964312 -0.7600855\n",
       "1|2               15.112401922 1.685732393  8.9648879\n",
       "2|3               17.767741006 1.750282853 10.1513541\n",
       "3|4               18.158314364 1.768646495 10.2667856"
      ]
     },
     "metadata": {},
     "output_type": "display_data"
    },
    {
     "data": {
      "text/html": [
       "<table class=\"dataframe\">\n",
       "<caption>A matrix: 13 × 4 of type dbl</caption>\n",
       "<thead>\n",
       "\t<tr><th></th><th scope=col>Value</th><th scope=col>Std. Error</th><th scope=col>t value</th><th scope=col>p value</th></tr>\n",
       "</thead>\n",
       "<tbody>\n",
       "\t<tr><th scope=row>hchol_yes</th><td> 0.312242614</td><td>0.551030950</td><td> 0.5666517</td><td>5.709509e-01</td></tr>\n",
       "\t<tr><th scope=row>diab_yes</th><td>-0.263031076</td><td>0.818486108</td><td>-0.3213629</td><td>7.479354e-01</td></tr>\n",
       "\t<tr><th scope=row>study_t2e</th><td> 0.390322419</td><td>0.324404156</td><td> 1.2031980</td><td>2.288997e-01</td></tr>\n",
       "\t<tr><th scope=row>white_yes</th><td>13.707890243</td><td>1.685743415</td><td> 8.1316588</td><td>4.234554e-16</td></tr>\n",
       "\t<tr><th scope=row>acc_age</th><td>-0.041606437</td><td>0.031960131</td><td>-1.3018231</td><td>1.929769e-01</td></tr>\n",
       "\t<tr><th scope=row>male</th><td> 0.481396276</td><td>0.445825344</td><td> 1.0797867</td><td>2.802372e-01</td></tr>\n",
       "\t<tr><th scope=row>sleep_filter</th><td> 0.482367203</td><td>0.470976001</td><td> 1.0241864</td><td>3.057473e-01</td></tr>\n",
       "\t<tr><th scope=row>pa_sed_convert</th><td> 0.004174516</td><td>0.003070385</td><td> 1.3596066</td><td>1.739544e-01</td></tr>\n",
       "\t<tr><th scope=row>pa_light_convert</th><td> 0.002671386</td><td>0.003265633</td><td> 0.8180301</td><td>4.133400e-01</td></tr>\n",
       "\t<tr><th scope=row>pa_mv_convert_log</th><td>-0.141348772</td><td>0.185964312</td><td>-0.7600855</td><td>4.472035e-01</td></tr>\n",
       "\t<tr><th scope=row>1|2</th><td>15.112401922</td><td>1.685732393</td><td> 8.9648879</td><td>3.105967e-19</td></tr>\n",
       "\t<tr><th scope=row>2|3</th><td>17.767741006</td><td>1.750282853</td><td>10.1513541</td><td>3.267972e-24</td></tr>\n",
       "\t<tr><th scope=row>3|4</th><td>18.158314364</td><td>1.768646495</td><td>10.2667856</td><td>9.946361e-25</td></tr>\n",
       "</tbody>\n",
       "</table>\n"
      ],
      "text/latex": [
       "A matrix: 13 × 4 of type dbl\n",
       "\\begin{tabular}{r|llll}\n",
       "  & Value & Std. Error & t value & p value\\\\\n",
       "\\hline\n",
       "\thchol\\_yes &  0.312242614 & 0.551030950 &  0.5666517 & 5.709509e-01\\\\\n",
       "\tdiab\\_yes & -0.263031076 & 0.818486108 & -0.3213629 & 7.479354e-01\\\\\n",
       "\tstudy\\_t2e &  0.390322419 & 0.324404156 &  1.2031980 & 2.288997e-01\\\\\n",
       "\twhite\\_yes & 13.707890243 & 1.685743415 &  8.1316588 & 4.234554e-16\\\\\n",
       "\tacc\\_age & -0.041606437 & 0.031960131 & -1.3018231 & 1.929769e-01\\\\\n",
       "\tmale &  0.481396276 & 0.445825344 &  1.0797867 & 2.802372e-01\\\\\n",
       "\tsleep\\_filter &  0.482367203 & 0.470976001 &  1.0241864 & 3.057473e-01\\\\\n",
       "\tpa\\_sed\\_convert &  0.004174516 & 0.003070385 &  1.3596066 & 1.739544e-01\\\\\n",
       "\tpa\\_light\\_convert &  0.002671386 & 0.003265633 &  0.8180301 & 4.133400e-01\\\\\n",
       "\tpa\\_mv\\_convert\\_log & -0.141348772 & 0.185964312 & -0.7600855 & 4.472035e-01\\\\\n",
       "\t1\\textbar{}2 & 15.112401922 & 1.685732393 &  8.9648879 & 3.105967e-19\\\\\n",
       "\t2\\textbar{}3 & 17.767741006 & 1.750282853 & 10.1513541 & 3.267972e-24\\\\\n",
       "\t3\\textbar{}4 & 18.158314364 & 1.768646495 & 10.2667856 & 9.946361e-25\\\\\n",
       "\\end{tabular}\n"
      ],
      "text/markdown": [
       "\n",
       "A matrix: 13 × 4 of type dbl\n",
       "\n",
       "| <!--/--> | Value | Std. Error | t value | p value |\n",
       "|---|---|---|---|---|\n",
       "| hchol_yes |  0.312242614 | 0.551030950 |  0.5666517 | 5.709509e-01 |\n",
       "| diab_yes | -0.263031076 | 0.818486108 | -0.3213629 | 7.479354e-01 |\n",
       "| study_t2e |  0.390322419 | 0.324404156 |  1.2031980 | 2.288997e-01 |\n",
       "| white_yes | 13.707890243 | 1.685743415 |  8.1316588 | 4.234554e-16 |\n",
       "| acc_age | -0.041606437 | 0.031960131 | -1.3018231 | 1.929769e-01 |\n",
       "| male |  0.481396276 | 0.445825344 |  1.0797867 | 2.802372e-01 |\n",
       "| sleep_filter |  0.482367203 | 0.470976001 |  1.0241864 | 3.057473e-01 |\n",
       "| pa_sed_convert |  0.004174516 | 0.003070385 |  1.3596066 | 1.739544e-01 |\n",
       "| pa_light_convert |  0.002671386 | 0.003265633 |  0.8180301 | 4.133400e-01 |\n",
       "| pa_mv_convert_log | -0.141348772 | 0.185964312 | -0.7600855 | 4.472035e-01 |\n",
       "| 1|2 | 15.112401922 | 1.685732393 |  8.9648879 | 3.105967e-19 |\n",
       "| 2|3 | 17.767741006 | 1.750282853 | 10.1513541 | 3.267972e-24 |\n",
       "| 3|4 | 18.158314364 | 1.768646495 | 10.2667856 | 9.946361e-25 |\n",
       "\n"
      ],
      "text/plain": [
       "                  Value        Std. Error  t value    p value     \n",
       "hchol_yes          0.312242614 0.551030950  0.5666517 5.709509e-01\n",
       "diab_yes          -0.263031076 0.818486108 -0.3213629 7.479354e-01\n",
       "study_t2e          0.390322419 0.324404156  1.2031980 2.288997e-01\n",
       "white_yes         13.707890243 1.685743415  8.1316588 4.234554e-16\n",
       "acc_age           -0.041606437 0.031960131 -1.3018231 1.929769e-01\n",
       "male               0.481396276 0.445825344  1.0797867 2.802372e-01\n",
       "sleep_filter       0.482367203 0.470976001  1.0241864 3.057473e-01\n",
       "pa_sed_convert     0.004174516 0.003070385  1.3596066 1.739544e-01\n",
       "pa_light_convert   0.002671386 0.003265633  0.8180301 4.133400e-01\n",
       "pa_mv_convert_log -0.141348772 0.185964312 -0.7600855 4.472035e-01\n",
       "1|2               15.112401922 1.685732393  8.9648879 3.105967e-19\n",
       "2|3               17.767741006 1.750282853 10.1513541 3.267972e-24\n",
       "3|4               18.158314364 1.768646495 10.2667856 9.946361e-25"
      ]
     },
     "metadata": {},
     "output_type": "display_data"
    }
   ],
   "source": [
    "## store table\n",
    "(ctable_dy <- coef(summary(model_dy)))\n",
    "\n",
    "## calculate and store p values\n",
    "p_dy <- pnorm(abs(ctable_dy[, \"t value\"]), lower.tail = FALSE) * 2\n",
    "## combined table\n",
    "(ctable_dy <- cbind(ctable_dy, \"p value\" = p_dy))"
   ]
  },
  {
   "cell_type": "code",
   "execution_count": 42,
   "id": "e5983729-ada9-4762-8fbf-a41f27e81972",
   "metadata": {
    "tags": []
   },
   "outputs": [
    {
     "name": "stdout",
     "output_type": "stream",
     "text": [
      "[1] \"Odds Ratios:\"\n",
      "        hchol_yes          diab_yes         study_t2e         white_yes \n",
      "        1.5694275         0.9890082         0.8594103         2.3532968 \n",
      "          acc_age              male      sleep_filter    pa_sed_convert \n",
      "        0.9632279         0.6092550         0.7734710         0.9995471 \n",
      " pa_light_convert pa_mv_convert_log               1|2               2|3 \n",
      "        0.9993326         0.9619771         0.2778664         2.6781473 \n",
      "              3|4 \n",
      "        8.5617645 \n"
     ]
    }
   ],
   "source": [
    "summary_model_dn <- summary(model_dn)\n",
    "# Odds ratios (exponentiated coefficients)\n",
    "odds_ratios_dn <- exp(summary_model_dn$coefficients[, \"Value\"])\n",
    "\n",
    "# Display odds ratios\n",
    "print(\"Odds Ratios:\")\n",
    "print(odds_ratios_dn)\n"
   ]
  },
  {
   "cell_type": "code",
   "execution_count": 43,
   "id": "51bb3784-00be-420f-a548-c904a2cb3c96",
   "metadata": {
    "tags": []
   },
   "outputs": [
    {
     "name": "stdout",
     "output_type": "stream",
     "text": [
      "[1] \"Confidence Intervals:\"\n",
      "                         OR     lower      upper\n",
      "hchol_yes         1.5694275 1.0574832  2.3292120\n",
      "diab_yes          0.9890082 0.4751320  2.0586643\n",
      "study_t2e         0.8594103 0.6769008  1.0911288\n",
      "white_yes         2.3532968 0.8495922  6.5184281\n",
      "acc_age           0.9632279 0.9446179  0.9822045\n",
      "male              0.6092550 0.4341388  0.8550070\n",
      "sleep_filter      0.7734710 0.5453013  1.0971135\n",
      "pa_sed_convert    0.9995471 0.9980597  1.0010368\n",
      "pa_light_convert  0.9993326 0.9974905  1.0011780\n",
      "pa_mv_convert_log 0.9619771 0.8316904  1.1126735\n",
      "1|2               0.2778664 0.2134102  0.3617902\n",
      "2|3               2.6781473 1.6950480  4.2314277\n",
      "3|4               8.5617645 4.1158377 17.8101803\n"
     ]
    }
   ],
   "source": [
    "# Calculate standard errors\n",
    "std_errors_dn <- summary_model_dn$coefficients[, \"Std. Error\"]\n",
    "\n",
    "# Calculate confidence intervals (95%)\n",
    "conf_int_dn <- exp(cbind(\n",
    "  OR = summary_model_dn$coefficients[, \"Value\"],\n",
    "  lower = summary_model_dn$coefficients[, \"Value\"] - 1.96 * std_errors_dn,\n",
    "  upper = summary_model_dn$coefficients[, \"Value\"] + 1.96 * std_errors_dn\n",
    "))\n",
    "\n",
    "# Display confidence intervals\n",
    "print(\"Confidence Intervals:\")\n",
    "print(conf_int_dn)\n"
   ]
  },
  {
   "cell_type": "code",
   "execution_count": 44,
   "id": "a0d57e24-0ab7-472e-a0ff-671c9c168adc",
   "metadata": {
    "tags": []
   },
   "outputs": [
    {
     "data": {
      "text/html": [
       "<table class=\"dataframe\">\n",
       "<caption>A matrix: 13 × 3 of type dbl</caption>\n",
       "<thead>\n",
       "\t<tr><th></th><th scope=col>Value</th><th scope=col>Std. Error</th><th scope=col>t value</th></tr>\n",
       "</thead>\n",
       "<tbody>\n",
       "\t<tr><th scope=row>hchol_yes</th><td> 0.4507109031</td><td>0.2014383220</td><td> 2.23746355</td></tr>\n",
       "\t<tr><th scope=row>diab_yes</th><td>-0.0110526555</td><td>0.3740357242</td><td>-0.02954973</td></tr>\n",
       "\t<tr><th scope=row>study_t2e</th><td>-0.1515088754</td><td>0.1217967719</td><td>-1.24394820</td></tr>\n",
       "\t<tr><th scope=row>white_yes</th><td> 0.8558172239</td><td>0.5198041009</td><td> 1.64642261</td></tr>\n",
       "\t<tr><th scope=row>acc_age</th><td>-0.0374652800</td><td>0.0099538489</td><td>-3.76389882</td></tr>\n",
       "\t<tr><th scope=row>male</th><td>-0.4955182980</td><td>0.1728942395</td><td>-2.86601971</td></tr>\n",
       "\t<tr><th scope=row>sleep_filter</th><td>-0.2568670626</td><td>0.1783416916</td><td>-1.44030855</td></tr>\n",
       "\t<tr><th scope=row>pa_sed_convert</th><td>-0.0004529671</td><td>0.0007598081</td><td>-0.59615990</td></tr>\n",
       "\t<tr><th scope=row>pa_light_convert</th><td>-0.0006676486</td><td>0.0009413254</td><td>-0.70926436</td></tr>\n",
       "\t<tr><th scope=row>pa_mv_convert_log</th><td>-0.0387646549</td><td>0.0742501890</td><td>-0.52208157</td></tr>\n",
       "\t<tr><th scope=row>1|2</th><td>-1.2806148991</td><td>0.1346551233</td><td>-9.51033179</td></tr>\n",
       "\t<tr><th scope=row>2|3</th><td> 0.9851252587</td><td>0.2333745834</td><td> 4.22121914</td></tr>\n",
       "\t<tr><th scope=row>3|4</th><td> 2.1473063078</td><td>0.3737060790</td><td> 5.74597639</td></tr>\n",
       "</tbody>\n",
       "</table>\n"
      ],
      "text/latex": [
       "A matrix: 13 × 3 of type dbl\n",
       "\\begin{tabular}{r|lll}\n",
       "  & Value & Std. Error & t value\\\\\n",
       "\\hline\n",
       "\thchol\\_yes &  0.4507109031 & 0.2014383220 &  2.23746355\\\\\n",
       "\tdiab\\_yes & -0.0110526555 & 0.3740357242 & -0.02954973\\\\\n",
       "\tstudy\\_t2e & -0.1515088754 & 0.1217967719 & -1.24394820\\\\\n",
       "\twhite\\_yes &  0.8558172239 & 0.5198041009 &  1.64642261\\\\\n",
       "\tacc\\_age & -0.0374652800 & 0.0099538489 & -3.76389882\\\\\n",
       "\tmale & -0.4955182980 & 0.1728942395 & -2.86601971\\\\\n",
       "\tsleep\\_filter & -0.2568670626 & 0.1783416916 & -1.44030855\\\\\n",
       "\tpa\\_sed\\_convert & -0.0004529671 & 0.0007598081 & -0.59615990\\\\\n",
       "\tpa\\_light\\_convert & -0.0006676486 & 0.0009413254 & -0.70926436\\\\\n",
       "\tpa\\_mv\\_convert\\_log & -0.0387646549 & 0.0742501890 & -0.52208157\\\\\n",
       "\t1\\textbar{}2 & -1.2806148991 & 0.1346551233 & -9.51033179\\\\\n",
       "\t2\\textbar{}3 &  0.9851252587 & 0.2333745834 &  4.22121914\\\\\n",
       "\t3\\textbar{}4 &  2.1473063078 & 0.3737060790 &  5.74597639\\\\\n",
       "\\end{tabular}\n"
      ],
      "text/markdown": [
       "\n",
       "A matrix: 13 × 3 of type dbl\n",
       "\n",
       "| <!--/--> | Value | Std. Error | t value |\n",
       "|---|---|---|---|\n",
       "| hchol_yes |  0.4507109031 | 0.2014383220 |  2.23746355 |\n",
       "| diab_yes | -0.0110526555 | 0.3740357242 | -0.02954973 |\n",
       "| study_t2e | -0.1515088754 | 0.1217967719 | -1.24394820 |\n",
       "| white_yes |  0.8558172239 | 0.5198041009 |  1.64642261 |\n",
       "| acc_age | -0.0374652800 | 0.0099538489 | -3.76389882 |\n",
       "| male | -0.4955182980 | 0.1728942395 | -2.86601971 |\n",
       "| sleep_filter | -0.2568670626 | 0.1783416916 | -1.44030855 |\n",
       "| pa_sed_convert | -0.0004529671 | 0.0007598081 | -0.59615990 |\n",
       "| pa_light_convert | -0.0006676486 | 0.0009413254 | -0.70926436 |\n",
       "| pa_mv_convert_log | -0.0387646549 | 0.0742501890 | -0.52208157 |\n",
       "| 1|2 | -1.2806148991 | 0.1346551233 | -9.51033179 |\n",
       "| 2|3 |  0.9851252587 | 0.2333745834 |  4.22121914 |\n",
       "| 3|4 |  2.1473063078 | 0.3737060790 |  5.74597639 |\n",
       "\n"
      ],
      "text/plain": [
       "                  Value         Std. Error   t value    \n",
       "hchol_yes          0.4507109031 0.2014383220  2.23746355\n",
       "diab_yes          -0.0110526555 0.3740357242 -0.02954973\n",
       "study_t2e         -0.1515088754 0.1217967719 -1.24394820\n",
       "white_yes          0.8558172239 0.5198041009  1.64642261\n",
       "acc_age           -0.0374652800 0.0099538489 -3.76389882\n",
       "male              -0.4955182980 0.1728942395 -2.86601971\n",
       "sleep_filter      -0.2568670626 0.1783416916 -1.44030855\n",
       "pa_sed_convert    -0.0004529671 0.0007598081 -0.59615990\n",
       "pa_light_convert  -0.0006676486 0.0009413254 -0.70926436\n",
       "pa_mv_convert_log -0.0387646549 0.0742501890 -0.52208157\n",
       "1|2               -1.2806148991 0.1346551233 -9.51033179\n",
       "2|3                0.9851252587 0.2333745834  4.22121914\n",
       "3|4                2.1473063078 0.3737060790  5.74597639"
      ]
     },
     "metadata": {},
     "output_type": "display_data"
    },
    {
     "data": {
      "text/html": [
       "<table class=\"dataframe\">\n",
       "<caption>A matrix: 13 × 4 of type dbl</caption>\n",
       "<thead>\n",
       "\t<tr><th></th><th scope=col>Value</th><th scope=col>Std. Error</th><th scope=col>t value</th><th scope=col>p value</th></tr>\n",
       "</thead>\n",
       "<tbody>\n",
       "\t<tr><th scope=row>hchol_yes</th><td> 0.4507109031</td><td>0.2014383220</td><td> 2.23746355</td><td>2.525606e-02</td></tr>\n",
       "\t<tr><th scope=row>diab_yes</th><td>-0.0110526555</td><td>0.3740357242</td><td>-0.02954973</td><td>9.764262e-01</td></tr>\n",
       "\t<tr><th scope=row>study_t2e</th><td>-0.1515088754</td><td>0.1217967719</td><td>-1.24394820</td><td>2.135186e-01</td></tr>\n",
       "\t<tr><th scope=row>white_yes</th><td> 0.8558172239</td><td>0.5198041009</td><td> 1.64642261</td><td>9.967678e-02</td></tr>\n",
       "\t<tr><th scope=row>acc_age</th><td>-0.0374652800</td><td>0.0099538489</td><td>-3.76389882</td><td>1.672846e-04</td></tr>\n",
       "\t<tr><th scope=row>male</th><td>-0.4955182980</td><td>0.1728942395</td><td>-2.86601971</td><td>4.156684e-03</td></tr>\n",
       "\t<tr><th scope=row>sleep_filter</th><td>-0.2568670626</td><td>0.1783416916</td><td>-1.44030855</td><td>1.497801e-01</td></tr>\n",
       "\t<tr><th scope=row>pa_sed_convert</th><td>-0.0004529671</td><td>0.0007598081</td><td>-0.59615990</td><td>5.510684e-01</td></tr>\n",
       "\t<tr><th scope=row>pa_light_convert</th><td>-0.0006676486</td><td>0.0009413254</td><td>-0.70926436</td><td>4.781604e-01</td></tr>\n",
       "\t<tr><th scope=row>pa_mv_convert_log</th><td>-0.0387646549</td><td>0.0742501890</td><td>-0.52208157</td><td>6.016135e-01</td></tr>\n",
       "\t<tr><th scope=row>1|2</th><td>-1.2806148991</td><td>0.1346551233</td><td>-9.51033179</td><td>1.900554e-21</td></tr>\n",
       "\t<tr><th scope=row>2|3</th><td> 0.9851252587</td><td>0.2333745834</td><td> 4.22121914</td><td>2.429846e-05</td></tr>\n",
       "\t<tr><th scope=row>3|4</th><td> 2.1473063078</td><td>0.3737060790</td><td> 5.74597639</td><td>9.139206e-09</td></tr>\n",
       "</tbody>\n",
       "</table>\n"
      ],
      "text/latex": [
       "A matrix: 13 × 4 of type dbl\n",
       "\\begin{tabular}{r|llll}\n",
       "  & Value & Std. Error & t value & p value\\\\\n",
       "\\hline\n",
       "\thchol\\_yes &  0.4507109031 & 0.2014383220 &  2.23746355 & 2.525606e-02\\\\\n",
       "\tdiab\\_yes & -0.0110526555 & 0.3740357242 & -0.02954973 & 9.764262e-01\\\\\n",
       "\tstudy\\_t2e & -0.1515088754 & 0.1217967719 & -1.24394820 & 2.135186e-01\\\\\n",
       "\twhite\\_yes &  0.8558172239 & 0.5198041009 &  1.64642261 & 9.967678e-02\\\\\n",
       "\tacc\\_age & -0.0374652800 & 0.0099538489 & -3.76389882 & 1.672846e-04\\\\\n",
       "\tmale & -0.4955182980 & 0.1728942395 & -2.86601971 & 4.156684e-03\\\\\n",
       "\tsleep\\_filter & -0.2568670626 & 0.1783416916 & -1.44030855 & 1.497801e-01\\\\\n",
       "\tpa\\_sed\\_convert & -0.0004529671 & 0.0007598081 & -0.59615990 & 5.510684e-01\\\\\n",
       "\tpa\\_light\\_convert & -0.0006676486 & 0.0009413254 & -0.70926436 & 4.781604e-01\\\\\n",
       "\tpa\\_mv\\_convert\\_log & -0.0387646549 & 0.0742501890 & -0.52208157 & 6.016135e-01\\\\\n",
       "\t1\\textbar{}2 & -1.2806148991 & 0.1346551233 & -9.51033179 & 1.900554e-21\\\\\n",
       "\t2\\textbar{}3 &  0.9851252587 & 0.2333745834 &  4.22121914 & 2.429846e-05\\\\\n",
       "\t3\\textbar{}4 &  2.1473063078 & 0.3737060790 &  5.74597639 & 9.139206e-09\\\\\n",
       "\\end{tabular}\n"
      ],
      "text/markdown": [
       "\n",
       "A matrix: 13 × 4 of type dbl\n",
       "\n",
       "| <!--/--> | Value | Std. Error | t value | p value |\n",
       "|---|---|---|---|---|\n",
       "| hchol_yes |  0.4507109031 | 0.2014383220 |  2.23746355 | 2.525606e-02 |\n",
       "| diab_yes | -0.0110526555 | 0.3740357242 | -0.02954973 | 9.764262e-01 |\n",
       "| study_t2e | -0.1515088754 | 0.1217967719 | -1.24394820 | 2.135186e-01 |\n",
       "| white_yes |  0.8558172239 | 0.5198041009 |  1.64642261 | 9.967678e-02 |\n",
       "| acc_age | -0.0374652800 | 0.0099538489 | -3.76389882 | 1.672846e-04 |\n",
       "| male | -0.4955182980 | 0.1728942395 | -2.86601971 | 4.156684e-03 |\n",
       "| sleep_filter | -0.2568670626 | 0.1783416916 | -1.44030855 | 1.497801e-01 |\n",
       "| pa_sed_convert | -0.0004529671 | 0.0007598081 | -0.59615990 | 5.510684e-01 |\n",
       "| pa_light_convert | -0.0006676486 | 0.0009413254 | -0.70926436 | 4.781604e-01 |\n",
       "| pa_mv_convert_log | -0.0387646549 | 0.0742501890 | -0.52208157 | 6.016135e-01 |\n",
       "| 1|2 | -1.2806148991 | 0.1346551233 | -9.51033179 | 1.900554e-21 |\n",
       "| 2|3 |  0.9851252587 | 0.2333745834 |  4.22121914 | 2.429846e-05 |\n",
       "| 3|4 |  2.1473063078 | 0.3737060790 |  5.74597639 | 9.139206e-09 |\n",
       "\n"
      ],
      "text/plain": [
       "                  Value         Std. Error   t value     p value     \n",
       "hchol_yes          0.4507109031 0.2014383220  2.23746355 2.525606e-02\n",
       "diab_yes          -0.0110526555 0.3740357242 -0.02954973 9.764262e-01\n",
       "study_t2e         -0.1515088754 0.1217967719 -1.24394820 2.135186e-01\n",
       "white_yes          0.8558172239 0.5198041009  1.64642261 9.967678e-02\n",
       "acc_age           -0.0374652800 0.0099538489 -3.76389882 1.672846e-04\n",
       "male              -0.4955182980 0.1728942395 -2.86601971 4.156684e-03\n",
       "sleep_filter      -0.2568670626 0.1783416916 -1.44030855 1.497801e-01\n",
       "pa_sed_convert    -0.0004529671 0.0007598081 -0.59615990 5.510684e-01\n",
       "pa_light_convert  -0.0006676486 0.0009413254 -0.70926436 4.781604e-01\n",
       "pa_mv_convert_log -0.0387646549 0.0742501890 -0.52208157 6.016135e-01\n",
       "1|2               -1.2806148991 0.1346551233 -9.51033179 1.900554e-21\n",
       "2|3                0.9851252587 0.2333745834  4.22121914 2.429846e-05\n",
       "3|4                2.1473063078 0.3737060790  5.74597639 9.139206e-09"
      ]
     },
     "metadata": {},
     "output_type": "display_data"
    }
   ],
   "source": [
    "## store table\n",
    "(ctable_dn <- coef(summary(model_dn)))\n",
    "\n",
    "## calculate and store p values\n",
    "p_dn <- pnorm(abs(ctable_dn[, \"t value\"]), lower.tail = FALSE) * 2\n",
    "## combined table\n",
    "(ctable_dn <- cbind(ctable_dn, \"p value\" = p_dn))"
   ]
  },
  {
   "cell_type": "code",
   "execution_count": 45,
   "id": "4a25bd48-f5e7-4155-a63e-08337e3bd70e",
   "metadata": {
    "tags": []
   },
   "outputs": [
    {
     "name": "stdout",
     "output_type": "stream",
     "text": [
      "[1] 1678\n",
      "[1] 152\n",
      "[1] 1526\n"
     ]
    }
   ],
   "source": [
    "#full data for all patients who have a future CeVD\n",
    "data <- read.csv(\"incident_cevd_sort_model.csv\")\n",
    "data <- data.frame(data) \n",
    "# check number of rows - should be 5193 from initial baseline of px who have future cevd\n",
    "num_rows <- nrow(data)\n",
    "print(num_rows)\n",
    "# create 2 separate dataframes, 1 has depressed px, other has non-depressed px\n",
    "data_cevd <- data[data$dep_diag_yes == 1, ]\n",
    "data_cevdno <- data[data$dep_diag_yes == 0, ]\n",
    "# check number of rows - should be 1402 from initial baseline of px who have future cevd\n",
    "num_rows_cevd <- nrow(data_cevd)\n",
    "print(num_rows_cevd)\n",
    "# check number of rows - should be 13106 from initial baseline of px who have future cevd\n",
    "num_rows_cevdno <- nrow(data_cevdno)\n",
    "print(num_rows_cevdno)"
   ]
  },
  {
   "cell_type": "code",
   "execution_count": 46,
   "id": "eb8cd675-e148-4e84-85c0-20c4a11965b7",
   "metadata": {
    "tags": []
   },
   "outputs": [],
   "source": [
    "# Convert the response variable to a factor with ordered levels\n",
    "#data$phq2_q1_diff <- factor(data$phq2_q1_diff, ordered = TRUE, levels = c(-1, 0, 1))\n",
    "data_cevd$p20510 <- factor(data_cevd$p20510, ordered = TRUE, levels = c( 1, 2, 3, 4))\n",
    "data_cevdno$p20510 <- factor(data_cevdno$p20510, ordered = TRUE, levels = c( 1, 2, 3, 4))\n",
    "data_cevd$ethnicity <- ifelse(data_cevd$ethnicity > 0, 1, 0)\n",
    "data_cevdno$ethnicity <- ifelse(data_cevdno$ethnicity > 0, 1, 0)\n",
    "data_cevd$sleep_filter <- ifelse(data_cevd$pa_sleep_convert_hr >= 7 & data_cevd$pa_sleep_convert_hr <= 9, 1, 0)\n",
    "data_cevdno$sleep_filter <- ifelse(data_cevdno$pa_sleep_convert_hr >= 7 & data_cevdno$pa_sleep_convert_hr <=9, 1, 0)"
   ]
  },
  {
   "cell_type": "code",
   "execution_count": 47,
   "id": "d559d806-cccc-491e-b14c-542e49d0a5d1",
   "metadata": {
    "tags": []
   },
   "outputs": [
    {
     "name": "stderr",
     "output_type": "stream",
     "text": [
      "Warning message in polr(p20510 ~ card_sum_filter + hchol_yes + diab_yes + study_t2e + :\n",
      "“design appears to be rank-deficient, so dropping some coefs”\n",
      "Warning message in polr(p20510 ~ card_sum_filter + hchol_yes + diab_yes + study_t2e + :\n",
      "“design appears to be rank-deficient, so dropping some coefs”\n"
     ]
    }
   ],
   "source": [
    "model_dy <- polr(p20510 ~  card_sum_filter +hchol_yes +  diab_yes+ study_t2e+ white_yes + acc_age + male +sleep_filter +pa_sed_convert  + pa_light_convert + pa_mv_convert_log, data = data_cevd, Hess = TRUE)\n",
    "model_dn <- polr(p20510 ~ card_sum_filter +hchol_yes +  diab_yes+ study_t2e+ white_yes + acc_age + male+ sleep_filter +pa_sed_convert  + pa_light_convert + pa_mv_convert_log, data = data_cevdno, Hess = TRUE)"
   ]
  },
  {
   "cell_type": "code",
   "execution_count": 48,
   "id": "075df95e-1a0c-4aeb-9177-ad319a41c01c",
   "metadata": {
    "tags": []
   },
   "outputs": [],
   "source": [
    "summary_model_dy <- summary(model_dy)"
   ]
  },
  {
   "cell_type": "code",
   "execution_count": 49,
   "id": "05076439-b2c6-4d83-8a1f-f657017c4067",
   "metadata": {
    "tags": []
   },
   "outputs": [
    {
     "name": "stdout",
     "output_type": "stream",
     "text": [
      "[1] \"Odds Ratios:\"\n",
      "        hchol_yes          diab_yes         study_t2e         white_yes \n",
      "     1.341062e+00      4.153841e-01      1.276714e+00      1.027310e+06 \n",
      "          acc_age              male      sleep_filter    pa_sed_convert \n",
      "     9.710613e-01      1.157040e+00      8.839301e-01      1.002669e+00 \n",
      " pa_light_convert pa_mv_convert_log               1|2               2|3 \n",
      "     1.001551e+00      8.729114e-01      1.349623e+06      1.154464e+07 \n",
      "              3|4 \n",
      "     1.812344e+07 \n"
     ]
    }
   ],
   "source": [
    "# Odds ratios (exponentiated coefficients)\n",
    "odds_ratios_dy <- exp(summary_model_dy$coefficients[, \"Value\"])\n",
    "\n",
    "# Display odds ratios\n",
    "print(\"Odds Ratios:\")\n",
    "print(odds_ratios_dy)"
   ]
  },
  {
   "cell_type": "code",
   "execution_count": 50,
   "id": "142cc38e-4aeb-4c97-ac4e-a5680dcaf6d5",
   "metadata": {
    "tags": []
   },
   "outputs": [
    {
     "name": "stdout",
     "output_type": "stream",
     "text": [
      "[1] \"Confidence Intervals:\"\n",
      "                            OR        lower        upper\n",
      "hchol_yes         1.341062e+00 6.151096e-01 2.923784e+00\n",
      "diab_yes          4.153841e-01 9.488516e-02 1.818451e+00\n",
      "study_t2e         1.276714e+00 7.747996e-01 2.103768e+00\n",
      "white_yes         1.027310e+06 8.186117e+04 1.289214e+07\n",
      "acc_age           9.710613e-01 9.250295e-01 1.019384e+00\n",
      "male              1.157040e+00 5.784279e-01 2.314450e+00\n",
      "sleep_filter      8.839301e-01 4.260109e-01 1.834067e+00\n",
      "pa_sed_convert    1.002669e+00 9.980518e-01 1.007308e+00\n",
      "pa_light_convert  1.001551e+00 9.969191e-01 1.006205e+00\n",
      "pa_mv_convert_log 8.729114e-01 6.498660e-01 1.172510e+00\n",
      "1|2               1.349623e+06 1.075454e+05 1.693685e+07\n",
      "2|3               1.154464e+07 8.542253e+05 1.560229e+08\n",
      "3|4               1.812344e+07 1.301690e+06 2.523329e+08\n"
     ]
    }
   ],
   "source": [
    "# Calculate standard errors\n",
    "std_errors_dy <- summary_model_dy$coefficients[, \"Std. Error\"]\n",
    "\n",
    "# Calculate confidence intervals (95%)\n",
    "conf_int_dy <- exp(cbind(\n",
    "  OR = summary_model_dy$coefficients[, \"Value\"],\n",
    "  lower = summary_model_dy$coefficients[, \"Value\"] - 1.96 * std_errors_dy,\n",
    "  upper = summary_model_dy$coefficients[, \"Value\"] + 1.96 * std_errors_dy\n",
    "))\n",
    "\n",
    "# Display confidence intervals\n",
    "print(\"Confidence Intervals:\")\n",
    "print(conf_int_dy)"
   ]
  },
  {
   "cell_type": "code",
   "execution_count": 51,
   "id": "8802af15-e0fa-4eb8-ac9f-3532e69232b0",
   "metadata": {
    "tags": []
   },
   "outputs": [
    {
     "data": {
      "text/html": [
       "<table class=\"dataframe\">\n",
       "<caption>A matrix: 13 × 3 of type dbl</caption>\n",
       "<thead>\n",
       "\t<tr><th></th><th scope=col>Value</th><th scope=col>Std. Error</th><th scope=col>t value</th></tr>\n",
       "</thead>\n",
       "<tbody>\n",
       "\t<tr><th scope=row>hchol_yes</th><td> 0.293461961</td><td>0.397661619</td><td> 0.7379690</td></tr>\n",
       "\t<tr><th scope=row>diab_yes</th><td>-0.878551546</td><td>0.753334931</td><td>-1.1662164</td></tr>\n",
       "\t<tr><th scope=row>study_t2e</th><td> 0.244289607</td><td>0.254816569</td><td> 0.9586881</td></tr>\n",
       "\t<tr><th scope=row>white_yes</th><td>13.842454175</td><td>1.290650084</td><td>10.7251798</td></tr>\n",
       "\t<tr><th scope=row>acc_age</th><td>-0.029365643</td><td>0.024777566</td><td>-1.1851706</td></tr>\n",
       "\t<tr><th scope=row>male</th><td> 0.145865373</td><td>0.353727888</td><td> 0.4123661</td></tr>\n",
       "\t<tr><th scope=row>sleep_filter</th><td>-0.123377341</td><td>0.372404601</td><td>-0.3312992</td></tr>\n",
       "\t<tr><th scope=row>pa_sed_convert</th><td> 0.002665812</td><td>0.002355043</td><td> 1.1319589</td></tr>\n",
       "\t<tr><th scope=row>pa_light_convert</th><td> 0.001549892</td><td>0.002365095</td><td> 0.6553192</td></tr>\n",
       "\t<tr><th scope=row>pa_mv_convert_log</th><td>-0.135921263</td><td>0.150544807</td><td>-0.9028625</td></tr>\n",
       "\t<tr><th scope=row>1|2</th><td>14.115335525</td><td>1.290646357</td><td>10.9366407</td></tr>\n",
       "\t<tr><th scope=row>2|3</th><td>16.261731622</td><td>1.328459905</td><td>12.2410406</td></tr>\n",
       "\t<tr><th scope=row>3|4</th><td>16.712716935</td><td>1.343644274</td><td>12.4383494</td></tr>\n",
       "</tbody>\n",
       "</table>\n"
      ],
      "text/latex": [
       "A matrix: 13 × 3 of type dbl\n",
       "\\begin{tabular}{r|lll}\n",
       "  & Value & Std. Error & t value\\\\\n",
       "\\hline\n",
       "\thchol\\_yes &  0.293461961 & 0.397661619 &  0.7379690\\\\\n",
       "\tdiab\\_yes & -0.878551546 & 0.753334931 & -1.1662164\\\\\n",
       "\tstudy\\_t2e &  0.244289607 & 0.254816569 &  0.9586881\\\\\n",
       "\twhite\\_yes & 13.842454175 & 1.290650084 & 10.7251798\\\\\n",
       "\tacc\\_age & -0.029365643 & 0.024777566 & -1.1851706\\\\\n",
       "\tmale &  0.145865373 & 0.353727888 &  0.4123661\\\\\n",
       "\tsleep\\_filter & -0.123377341 & 0.372404601 & -0.3312992\\\\\n",
       "\tpa\\_sed\\_convert &  0.002665812 & 0.002355043 &  1.1319589\\\\\n",
       "\tpa\\_light\\_convert &  0.001549892 & 0.002365095 &  0.6553192\\\\\n",
       "\tpa\\_mv\\_convert\\_log & -0.135921263 & 0.150544807 & -0.9028625\\\\\n",
       "\t1\\textbar{}2 & 14.115335525 & 1.290646357 & 10.9366407\\\\\n",
       "\t2\\textbar{}3 & 16.261731622 & 1.328459905 & 12.2410406\\\\\n",
       "\t3\\textbar{}4 & 16.712716935 & 1.343644274 & 12.4383494\\\\\n",
       "\\end{tabular}\n"
      ],
      "text/markdown": [
       "\n",
       "A matrix: 13 × 3 of type dbl\n",
       "\n",
       "| <!--/--> | Value | Std. Error | t value |\n",
       "|---|---|---|---|\n",
       "| hchol_yes |  0.293461961 | 0.397661619 |  0.7379690 |\n",
       "| diab_yes | -0.878551546 | 0.753334931 | -1.1662164 |\n",
       "| study_t2e |  0.244289607 | 0.254816569 |  0.9586881 |\n",
       "| white_yes | 13.842454175 | 1.290650084 | 10.7251798 |\n",
       "| acc_age | -0.029365643 | 0.024777566 | -1.1851706 |\n",
       "| male |  0.145865373 | 0.353727888 |  0.4123661 |\n",
       "| sleep_filter | -0.123377341 | 0.372404601 | -0.3312992 |\n",
       "| pa_sed_convert |  0.002665812 | 0.002355043 |  1.1319589 |\n",
       "| pa_light_convert |  0.001549892 | 0.002365095 |  0.6553192 |\n",
       "| pa_mv_convert_log | -0.135921263 | 0.150544807 | -0.9028625 |\n",
       "| 1|2 | 14.115335525 | 1.290646357 | 10.9366407 |\n",
       "| 2|3 | 16.261731622 | 1.328459905 | 12.2410406 |\n",
       "| 3|4 | 16.712716935 | 1.343644274 | 12.4383494 |\n",
       "\n"
      ],
      "text/plain": [
       "                  Value        Std. Error  t value   \n",
       "hchol_yes          0.293461961 0.397661619  0.7379690\n",
       "diab_yes          -0.878551546 0.753334931 -1.1662164\n",
       "study_t2e          0.244289607 0.254816569  0.9586881\n",
       "white_yes         13.842454175 1.290650084 10.7251798\n",
       "acc_age           -0.029365643 0.024777566 -1.1851706\n",
       "male               0.145865373 0.353727888  0.4123661\n",
       "sleep_filter      -0.123377341 0.372404601 -0.3312992\n",
       "pa_sed_convert     0.002665812 0.002355043  1.1319589\n",
       "pa_light_convert   0.001549892 0.002365095  0.6553192\n",
       "pa_mv_convert_log -0.135921263 0.150544807 -0.9028625\n",
       "1|2               14.115335525 1.290646357 10.9366407\n",
       "2|3               16.261731622 1.328459905 12.2410406\n",
       "3|4               16.712716935 1.343644274 12.4383494"
      ]
     },
     "metadata": {},
     "output_type": "display_data"
    },
    {
     "data": {
      "text/html": [
       "<table class=\"dataframe\">\n",
       "<caption>A matrix: 13 × 4 of type dbl</caption>\n",
       "<thead>\n",
       "\t<tr><th></th><th scope=col>Value</th><th scope=col>Std. Error</th><th scope=col>t value</th><th scope=col>p value</th></tr>\n",
       "</thead>\n",
       "<tbody>\n",
       "\t<tr><th scope=row>hchol_yes</th><td> 0.293461961</td><td>0.397661619</td><td> 0.7379690</td><td>4.605333e-01</td></tr>\n",
       "\t<tr><th scope=row>diab_yes</th><td>-0.878551546</td><td>0.753334931</td><td>-1.1662164</td><td>2.435270e-01</td></tr>\n",
       "\t<tr><th scope=row>study_t2e</th><td> 0.244289607</td><td>0.254816569</td><td> 0.9586881</td><td>3.377159e-01</td></tr>\n",
       "\t<tr><th scope=row>white_yes</th><td>13.842454175</td><td>1.290650084</td><td>10.7251798</td><td>7.753615e-27</td></tr>\n",
       "\t<tr><th scope=row>acc_age</th><td>-0.029365643</td><td>0.024777566</td><td>-1.1851706</td><td>2.359500e-01</td></tr>\n",
       "\t<tr><th scope=row>male</th><td> 0.145865373</td><td>0.353727888</td><td> 0.4123661</td><td>6.800711e-01</td></tr>\n",
       "\t<tr><th scope=row>sleep_filter</th><td>-0.123377341</td><td>0.372404601</td><td>-0.3312992</td><td>7.404185e-01</td></tr>\n",
       "\t<tr><th scope=row>pa_sed_convert</th><td> 0.002665812</td><td>0.002355043</td><td> 1.1319589</td><td>2.576517e-01</td></tr>\n",
       "\t<tr><th scope=row>pa_light_convert</th><td> 0.001549892</td><td>0.002365095</td><td> 0.6553192</td><td>5.122622e-01</td></tr>\n",
       "\t<tr><th scope=row>pa_mv_convert_log</th><td>-0.135921263</td><td>0.150544807</td><td>-0.9028625</td><td>3.665989e-01</td></tr>\n",
       "\t<tr><th scope=row>1|2</th><td>14.115335525</td><td>1.290646357</td><td>10.9366407</td><td>7.700034e-28</td></tr>\n",
       "\t<tr><th scope=row>2|3</th><td>16.261731622</td><td>1.328459905</td><td>12.2410406</td><td>1.876117e-34</td></tr>\n",
       "\t<tr><th scope=row>3|4</th><td>16.712716935</td><td>1.343644274</td><td>12.4383494</td><td>1.618132e-35</td></tr>\n",
       "</tbody>\n",
       "</table>\n"
      ],
      "text/latex": [
       "A matrix: 13 × 4 of type dbl\n",
       "\\begin{tabular}{r|llll}\n",
       "  & Value & Std. Error & t value & p value\\\\\n",
       "\\hline\n",
       "\thchol\\_yes &  0.293461961 & 0.397661619 &  0.7379690 & 4.605333e-01\\\\\n",
       "\tdiab\\_yes & -0.878551546 & 0.753334931 & -1.1662164 & 2.435270e-01\\\\\n",
       "\tstudy\\_t2e &  0.244289607 & 0.254816569 &  0.9586881 & 3.377159e-01\\\\\n",
       "\twhite\\_yes & 13.842454175 & 1.290650084 & 10.7251798 & 7.753615e-27\\\\\n",
       "\tacc\\_age & -0.029365643 & 0.024777566 & -1.1851706 & 2.359500e-01\\\\\n",
       "\tmale &  0.145865373 & 0.353727888 &  0.4123661 & 6.800711e-01\\\\\n",
       "\tsleep\\_filter & -0.123377341 & 0.372404601 & -0.3312992 & 7.404185e-01\\\\\n",
       "\tpa\\_sed\\_convert &  0.002665812 & 0.002355043 &  1.1319589 & 2.576517e-01\\\\\n",
       "\tpa\\_light\\_convert &  0.001549892 & 0.002365095 &  0.6553192 & 5.122622e-01\\\\\n",
       "\tpa\\_mv\\_convert\\_log & -0.135921263 & 0.150544807 & -0.9028625 & 3.665989e-01\\\\\n",
       "\t1\\textbar{}2 & 14.115335525 & 1.290646357 & 10.9366407 & 7.700034e-28\\\\\n",
       "\t2\\textbar{}3 & 16.261731622 & 1.328459905 & 12.2410406 & 1.876117e-34\\\\\n",
       "\t3\\textbar{}4 & 16.712716935 & 1.343644274 & 12.4383494 & 1.618132e-35\\\\\n",
       "\\end{tabular}\n"
      ],
      "text/markdown": [
       "\n",
       "A matrix: 13 × 4 of type dbl\n",
       "\n",
       "| <!--/--> | Value | Std. Error | t value | p value |\n",
       "|---|---|---|---|---|\n",
       "| hchol_yes |  0.293461961 | 0.397661619 |  0.7379690 | 4.605333e-01 |\n",
       "| diab_yes | -0.878551546 | 0.753334931 | -1.1662164 | 2.435270e-01 |\n",
       "| study_t2e |  0.244289607 | 0.254816569 |  0.9586881 | 3.377159e-01 |\n",
       "| white_yes | 13.842454175 | 1.290650084 | 10.7251798 | 7.753615e-27 |\n",
       "| acc_age | -0.029365643 | 0.024777566 | -1.1851706 | 2.359500e-01 |\n",
       "| male |  0.145865373 | 0.353727888 |  0.4123661 | 6.800711e-01 |\n",
       "| sleep_filter | -0.123377341 | 0.372404601 | -0.3312992 | 7.404185e-01 |\n",
       "| pa_sed_convert |  0.002665812 | 0.002355043 |  1.1319589 | 2.576517e-01 |\n",
       "| pa_light_convert |  0.001549892 | 0.002365095 |  0.6553192 | 5.122622e-01 |\n",
       "| pa_mv_convert_log | -0.135921263 | 0.150544807 | -0.9028625 | 3.665989e-01 |\n",
       "| 1|2 | 14.115335525 | 1.290646357 | 10.9366407 | 7.700034e-28 |\n",
       "| 2|3 | 16.261731622 | 1.328459905 | 12.2410406 | 1.876117e-34 |\n",
       "| 3|4 | 16.712716935 | 1.343644274 | 12.4383494 | 1.618132e-35 |\n",
       "\n"
      ],
      "text/plain": [
       "                  Value        Std. Error  t value    p value     \n",
       "hchol_yes          0.293461961 0.397661619  0.7379690 4.605333e-01\n",
       "diab_yes          -0.878551546 0.753334931 -1.1662164 2.435270e-01\n",
       "study_t2e          0.244289607 0.254816569  0.9586881 3.377159e-01\n",
       "white_yes         13.842454175 1.290650084 10.7251798 7.753615e-27\n",
       "acc_age           -0.029365643 0.024777566 -1.1851706 2.359500e-01\n",
       "male               0.145865373 0.353727888  0.4123661 6.800711e-01\n",
       "sleep_filter      -0.123377341 0.372404601 -0.3312992 7.404185e-01\n",
       "pa_sed_convert     0.002665812 0.002355043  1.1319589 2.576517e-01\n",
       "pa_light_convert   0.001549892 0.002365095  0.6553192 5.122622e-01\n",
       "pa_mv_convert_log -0.135921263 0.150544807 -0.9028625 3.665989e-01\n",
       "1|2               14.115335525 1.290646357 10.9366407 7.700034e-28\n",
       "2|3               16.261731622 1.328459905 12.2410406 1.876117e-34\n",
       "3|4               16.712716935 1.343644274 12.4383494 1.618132e-35"
      ]
     },
     "metadata": {},
     "output_type": "display_data"
    }
   ],
   "source": [
    "\n",
    "## store table\n",
    "(ctable_dy <- coef(summary(model_dy)))\n",
    "\n",
    "## calculate and store p values\n",
    "p_dy <- pnorm(abs(ctable_dy[, \"t value\"]), lower.tail = FALSE) * 2\n",
    "## combined table\n",
    "(ctable_dy <- cbind(ctable_dy, \"p value\" = p_dy))"
   ]
  },
  {
   "cell_type": "code",
   "execution_count": 52,
   "id": "5fb4f144-fdab-4751-90dd-b8cda8a56872",
   "metadata": {
    "tags": []
   },
   "outputs": [
    {
     "name": "stdout",
     "output_type": "stream",
     "text": [
      "[1] \"Odds Ratios:\"\n",
      "        hchol_yes          diab_yes         study_t2e         white_yes \n",
      "       1.44938634        1.08030865        0.80928135        1.23814908 \n",
      "          acc_age              male      sleep_filter    pa_sed_convert \n",
      "       0.95973262        0.68419161        0.90034726        0.99989659 \n",
      " pa_light_convert pa_mv_convert_log               1|2               2|3 \n",
      "       0.99949158        0.87807646        0.09937998        0.74915513 \n",
      "              3|4 \n",
      "       2.18626251 \n"
     ]
    }
   ],
   "source": [
    "\n",
    "summary_model_dn <- summary(model_dn)\n",
    "# Odds ratios (exponentiated coefficients)\n",
    "odds_ratios_dn <- exp(summary_model_dn$coefficients[, \"Value\"])\n",
    "\n",
    "# Display odds ratios\n",
    "print(\"Odds Ratios:\")\n",
    "print(odds_ratios_dn)\n"
   ]
  },
  {
   "cell_type": "code",
   "execution_count": 53,
   "id": "17a25eee-69d8-4d74-8160-fc597ec46d78",
   "metadata": {
    "tags": []
   },
   "outputs": [
    {
     "name": "stdout",
     "output_type": "stream",
     "text": [
      "[1] \"Confidence Intervals:\"\n",
      "                          OR      lower     upper\n",
      "hchol_yes         1.44938634 1.06633421 1.9700397\n",
      "diab_yes          1.08030865 0.63885276 1.8268165\n",
      "study_t2e         0.80928135 0.66877001 0.9793147\n",
      "white_yes         1.23814908 0.60366927 2.5394918\n",
      "acc_age           0.95973262 0.94540321 0.9742792\n",
      "male              0.68419161 0.51996750 0.9002835\n",
      "sleep_filter      0.90034726 0.68119283 1.1900084\n",
      "pa_sed_convert    0.99989659 0.99870811 1.0010865\n",
      "pa_light_convert  0.99949158 0.99802862 1.0009567\n",
      "pa_mv_convert_log 0.87807646 0.78395583 0.9834971\n",
      "1|2               0.09937998 0.08810998 0.1120915\n",
      "2|3               0.74915513 0.56204519 0.9985557\n",
      "3|4               2.18626251 1.36538363 3.5006599\n"
     ]
    }
   ],
   "source": [
    "\n",
    "# Calculate standard errors\n",
    "std_errors_dn <- summary_model_dn$coefficients[, \"Std. Error\"]\n",
    "\n",
    "# Calculate confidence intervals (95%)\n",
    "conf_int_dn <- exp(cbind(\n",
    "  OR = summary_model_dn$coefficients[, \"Value\"],\n",
    "  lower = summary_model_dn$coefficients[, \"Value\"] - 1.96 * std_errors_dn,\n",
    "  upper = summary_model_dn$coefficients[, \"Value\"] + 1.96 * std_errors_dn\n",
    "))\n",
    "\n",
    "# Display confidence intervals\n",
    "print(\"Confidence Intervals:\")\n",
    "print(conf_int_dn)\n"
   ]
  },
  {
   "cell_type": "code",
   "execution_count": 54,
   "id": "23766fd3-3399-42e1-a896-fca67d5a5c6d",
   "metadata": {
    "tags": []
   },
   "outputs": [
    {
     "data": {
      "text/html": [
       "<table class=\"dataframe\">\n",
       "<caption>A matrix: 13 × 3 of type dbl</caption>\n",
       "<thead>\n",
       "\t<tr><th></th><th scope=col>Value</th><th scope=col>Std. Error</th><th scope=col>t value</th></tr>\n",
       "</thead>\n",
       "<tbody>\n",
       "\t<tr><th scope=row>hchol_yes</th><td> 0.3711402521</td><td>0.1565884991</td><td>  2.3701629</td></tr>\n",
       "\t<tr><th scope=row>diab_yes</th><td> 0.0772467881</td><td>0.2680245236</td><td>  0.2882079</td></tr>\n",
       "\t<tr><th scope=row>study_t2e</th><td>-0.2116086415</td><td>0.0972991958</td><td> -2.1748242</td></tr>\n",
       "\t<tr><th scope=row>white_yes</th><td> 0.2136175867</td><td>0.3665032596</td><td>  0.5828532</td></tr>\n",
       "\t<tr><th scope=row>acc_age</th><td>-0.0411005588</td><td>0.0076751047</td><td> -5.3550486</td></tr>\n",
       "\t<tr><th scope=row>male</th><td>-0.3795172722</td><td>0.1400365812</td><td> -2.7101295</td></tr>\n",
       "\t<tr><th scope=row>sleep_filter</th><td>-0.1049747511</td><td>0.1423138320</td><td> -0.7376286</td></tr>\n",
       "\t<tr><th scope=row>pa_sed_convert</th><td>-0.0001034188</td><td>0.0006067912</td><td> -0.1704356</td></tr>\n",
       "\t<tr><th scope=row>pa_light_convert</th><td>-0.0005085509</td><td>0.0007473350</td><td> -0.6804858</td></tr>\n",
       "\t<tr><th scope=row>pa_mv_convert_log</th><td>-0.1300216022</td><td>0.0578474450</td><td> -2.2476637</td></tr>\n",
       "\t<tr><th scope=row>1|2</th><td>-2.3088045561</td><td>0.0614106642</td><td>-37.5961502</td></tr>\n",
       "\t<tr><th scope=row>2|3</th><td>-0.2888091970</td><td>0.1466141931</td><td> -1.9698584</td></tr>\n",
       "\t<tr><th scope=row>3|4</th><td> 0.7821934688</td><td>0.2401826708</td><td>  3.2566607</td></tr>\n",
       "</tbody>\n",
       "</table>\n"
      ],
      "text/latex": [
       "A matrix: 13 × 3 of type dbl\n",
       "\\begin{tabular}{r|lll}\n",
       "  & Value & Std. Error & t value\\\\\n",
       "\\hline\n",
       "\thchol\\_yes &  0.3711402521 & 0.1565884991 &   2.3701629\\\\\n",
       "\tdiab\\_yes &  0.0772467881 & 0.2680245236 &   0.2882079\\\\\n",
       "\tstudy\\_t2e & -0.2116086415 & 0.0972991958 &  -2.1748242\\\\\n",
       "\twhite\\_yes &  0.2136175867 & 0.3665032596 &   0.5828532\\\\\n",
       "\tacc\\_age & -0.0411005588 & 0.0076751047 &  -5.3550486\\\\\n",
       "\tmale & -0.3795172722 & 0.1400365812 &  -2.7101295\\\\\n",
       "\tsleep\\_filter & -0.1049747511 & 0.1423138320 &  -0.7376286\\\\\n",
       "\tpa\\_sed\\_convert & -0.0001034188 & 0.0006067912 &  -0.1704356\\\\\n",
       "\tpa\\_light\\_convert & -0.0005085509 & 0.0007473350 &  -0.6804858\\\\\n",
       "\tpa\\_mv\\_convert\\_log & -0.1300216022 & 0.0578474450 &  -2.2476637\\\\\n",
       "\t1\\textbar{}2 & -2.3088045561 & 0.0614106642 & -37.5961502\\\\\n",
       "\t2\\textbar{}3 & -0.2888091970 & 0.1466141931 &  -1.9698584\\\\\n",
       "\t3\\textbar{}4 &  0.7821934688 & 0.2401826708 &   3.2566607\\\\\n",
       "\\end{tabular}\n"
      ],
      "text/markdown": [
       "\n",
       "A matrix: 13 × 3 of type dbl\n",
       "\n",
       "| <!--/--> | Value | Std. Error | t value |\n",
       "|---|---|---|---|\n",
       "| hchol_yes |  0.3711402521 | 0.1565884991 |   2.3701629 |\n",
       "| diab_yes |  0.0772467881 | 0.2680245236 |   0.2882079 |\n",
       "| study_t2e | -0.2116086415 | 0.0972991958 |  -2.1748242 |\n",
       "| white_yes |  0.2136175867 | 0.3665032596 |   0.5828532 |\n",
       "| acc_age | -0.0411005588 | 0.0076751047 |  -5.3550486 |\n",
       "| male | -0.3795172722 | 0.1400365812 |  -2.7101295 |\n",
       "| sleep_filter | -0.1049747511 | 0.1423138320 |  -0.7376286 |\n",
       "| pa_sed_convert | -0.0001034188 | 0.0006067912 |  -0.1704356 |\n",
       "| pa_light_convert | -0.0005085509 | 0.0007473350 |  -0.6804858 |\n",
       "| pa_mv_convert_log | -0.1300216022 | 0.0578474450 |  -2.2476637 |\n",
       "| 1|2 | -2.3088045561 | 0.0614106642 | -37.5961502 |\n",
       "| 2|3 | -0.2888091970 | 0.1466141931 |  -1.9698584 |\n",
       "| 3|4 |  0.7821934688 | 0.2401826708 |   3.2566607 |\n",
       "\n"
      ],
      "text/plain": [
       "                  Value         Std. Error   t value    \n",
       "hchol_yes          0.3711402521 0.1565884991   2.3701629\n",
       "diab_yes           0.0772467881 0.2680245236   0.2882079\n",
       "study_t2e         -0.2116086415 0.0972991958  -2.1748242\n",
       "white_yes          0.2136175867 0.3665032596   0.5828532\n",
       "acc_age           -0.0411005588 0.0076751047  -5.3550486\n",
       "male              -0.3795172722 0.1400365812  -2.7101295\n",
       "sleep_filter      -0.1049747511 0.1423138320  -0.7376286\n",
       "pa_sed_convert    -0.0001034188 0.0006067912  -0.1704356\n",
       "pa_light_convert  -0.0005085509 0.0007473350  -0.6804858\n",
       "pa_mv_convert_log -0.1300216022 0.0578474450  -2.2476637\n",
       "1|2               -2.3088045561 0.0614106642 -37.5961502\n",
       "2|3               -0.2888091970 0.1466141931  -1.9698584\n",
       "3|4                0.7821934688 0.2401826708   3.2566607"
      ]
     },
     "metadata": {},
     "output_type": "display_data"
    },
    {
     "data": {
      "text/html": [
       "<table class=\"dataframe\">\n",
       "<caption>A matrix: 13 × 4 of type dbl</caption>\n",
       "<thead>\n",
       "\t<tr><th></th><th scope=col>Value</th><th scope=col>Std. Error</th><th scope=col>t value</th><th scope=col>p value</th></tr>\n",
       "</thead>\n",
       "<tbody>\n",
       "\t<tr><th scope=row>hchol_yes</th><td> 0.3711402521</td><td>0.1565884991</td><td>  2.3701629</td><td>1.778025e-02</td></tr>\n",
       "\t<tr><th scope=row>diab_yes</th><td> 0.0772467881</td><td>0.2680245236</td><td>  0.2882079</td><td>7.731876e-01</td></tr>\n",
       "\t<tr><th scope=row>study_t2e</th><td>-0.2116086415</td><td>0.0972991958</td><td> -2.1748242</td><td>2.964330e-02</td></tr>\n",
       "\t<tr><th scope=row>white_yes</th><td> 0.2136175867</td><td>0.3665032596</td><td>  0.5828532</td><td>5.599921e-01</td></tr>\n",
       "\t<tr><th scope=row>acc_age</th><td>-0.0411005588</td><td>0.0076751047</td><td> -5.3550486</td><td>8.553340e-08</td></tr>\n",
       "\t<tr><th scope=row>male</th><td>-0.3795172722</td><td>0.1400365812</td><td> -2.7101295</td><td>6.725694e-03</td></tr>\n",
       "\t<tr><th scope=row>sleep_filter</th><td>-0.1049747511</td><td>0.1423138320</td><td> -0.7376286</td><td>4.607402e-01</td></tr>\n",
       "\t<tr><th scope=row>pa_sed_convert</th><td>-0.0001034188</td><td>0.0006067912</td><td> -0.1704356</td><td>8.646675e-01</td></tr>\n",
       "\t<tr><th scope=row>pa_light_convert</th><td>-0.0005085509</td><td>0.0007473350</td><td> -0.6804858</td><td>4.961969e-01</td></tr>\n",
       "\t<tr><th scope=row>pa_mv_convert_log</th><td>-0.1300216022</td><td>0.0578474450</td><td> -2.2476637</td><td>2.459764e-02</td></tr>\n",
       "\t<tr><th scope=row>1|2</th><td>-2.3088045561</td><td>0.0614106642</td><td>-37.5961502</td><td>0.000000e+00</td></tr>\n",
       "\t<tr><th scope=row>2|3</th><td>-0.2888091970</td><td>0.1466141931</td><td> -1.9698584</td><td>4.885460e-02</td></tr>\n",
       "\t<tr><th scope=row>3|4</th><td> 0.7821934688</td><td>0.2401826708</td><td>  3.2566607</td><td>1.127311e-03</td></tr>\n",
       "</tbody>\n",
       "</table>\n"
      ],
      "text/latex": [
       "A matrix: 13 × 4 of type dbl\n",
       "\\begin{tabular}{r|llll}\n",
       "  & Value & Std. Error & t value & p value\\\\\n",
       "\\hline\n",
       "\thchol\\_yes &  0.3711402521 & 0.1565884991 &   2.3701629 & 1.778025e-02\\\\\n",
       "\tdiab\\_yes &  0.0772467881 & 0.2680245236 &   0.2882079 & 7.731876e-01\\\\\n",
       "\tstudy\\_t2e & -0.2116086415 & 0.0972991958 &  -2.1748242 & 2.964330e-02\\\\\n",
       "\twhite\\_yes &  0.2136175867 & 0.3665032596 &   0.5828532 & 5.599921e-01\\\\\n",
       "\tacc\\_age & -0.0411005588 & 0.0076751047 &  -5.3550486 & 8.553340e-08\\\\\n",
       "\tmale & -0.3795172722 & 0.1400365812 &  -2.7101295 & 6.725694e-03\\\\\n",
       "\tsleep\\_filter & -0.1049747511 & 0.1423138320 &  -0.7376286 & 4.607402e-01\\\\\n",
       "\tpa\\_sed\\_convert & -0.0001034188 & 0.0006067912 &  -0.1704356 & 8.646675e-01\\\\\n",
       "\tpa\\_light\\_convert & -0.0005085509 & 0.0007473350 &  -0.6804858 & 4.961969e-01\\\\\n",
       "\tpa\\_mv\\_convert\\_log & -0.1300216022 & 0.0578474450 &  -2.2476637 & 2.459764e-02\\\\\n",
       "\t1\\textbar{}2 & -2.3088045561 & 0.0614106642 & -37.5961502 & 0.000000e+00\\\\\n",
       "\t2\\textbar{}3 & -0.2888091970 & 0.1466141931 &  -1.9698584 & 4.885460e-02\\\\\n",
       "\t3\\textbar{}4 &  0.7821934688 & 0.2401826708 &   3.2566607 & 1.127311e-03\\\\\n",
       "\\end{tabular}\n"
      ],
      "text/markdown": [
       "\n",
       "A matrix: 13 × 4 of type dbl\n",
       "\n",
       "| <!--/--> | Value | Std. Error | t value | p value |\n",
       "|---|---|---|---|---|\n",
       "| hchol_yes |  0.3711402521 | 0.1565884991 |   2.3701629 | 1.778025e-02 |\n",
       "| diab_yes |  0.0772467881 | 0.2680245236 |   0.2882079 | 7.731876e-01 |\n",
       "| study_t2e | -0.2116086415 | 0.0972991958 |  -2.1748242 | 2.964330e-02 |\n",
       "| white_yes |  0.2136175867 | 0.3665032596 |   0.5828532 | 5.599921e-01 |\n",
       "| acc_age | -0.0411005588 | 0.0076751047 |  -5.3550486 | 8.553340e-08 |\n",
       "| male | -0.3795172722 | 0.1400365812 |  -2.7101295 | 6.725694e-03 |\n",
       "| sleep_filter | -0.1049747511 | 0.1423138320 |  -0.7376286 | 4.607402e-01 |\n",
       "| pa_sed_convert | -0.0001034188 | 0.0006067912 |  -0.1704356 | 8.646675e-01 |\n",
       "| pa_light_convert | -0.0005085509 | 0.0007473350 |  -0.6804858 | 4.961969e-01 |\n",
       "| pa_mv_convert_log | -0.1300216022 | 0.0578474450 |  -2.2476637 | 2.459764e-02 |\n",
       "| 1|2 | -2.3088045561 | 0.0614106642 | -37.5961502 | 0.000000e+00 |\n",
       "| 2|3 | -0.2888091970 | 0.1466141931 |  -1.9698584 | 4.885460e-02 |\n",
       "| 3|4 |  0.7821934688 | 0.2401826708 |   3.2566607 | 1.127311e-03 |\n",
       "\n"
      ],
      "text/plain": [
       "                  Value         Std. Error   t value     p value     \n",
       "hchol_yes          0.3711402521 0.1565884991   2.3701629 1.778025e-02\n",
       "diab_yes           0.0772467881 0.2680245236   0.2882079 7.731876e-01\n",
       "study_t2e         -0.2116086415 0.0972991958  -2.1748242 2.964330e-02\n",
       "white_yes          0.2136175867 0.3665032596   0.5828532 5.599921e-01\n",
       "acc_age           -0.0411005588 0.0076751047  -5.3550486 8.553340e-08\n",
       "male              -0.3795172722 0.1400365812  -2.7101295 6.725694e-03\n",
       "sleep_filter      -0.1049747511 0.1423138320  -0.7376286 4.607402e-01\n",
       "pa_sed_convert    -0.0001034188 0.0006067912  -0.1704356 8.646675e-01\n",
       "pa_light_convert  -0.0005085509 0.0007473350  -0.6804858 4.961969e-01\n",
       "pa_mv_convert_log -0.1300216022 0.0578474450  -2.2476637 2.459764e-02\n",
       "1|2               -2.3088045561 0.0614106642 -37.5961502 0.000000e+00\n",
       "2|3               -0.2888091970 0.1466141931  -1.9698584 4.885460e-02\n",
       "3|4                0.7821934688 0.2401826708   3.2566607 1.127311e-03"
      ]
     },
     "metadata": {},
     "output_type": "display_data"
    }
   ],
   "source": [
    "## store table\n",
    "(ctable_dn <- coef(summary(model_dn)))\n",
    "\n",
    "## calculate and store p values\n",
    "p_dn <- pnorm(abs(ctable_dn[, \"t value\"]), lower.tail = FALSE) * 2\n",
    "## combined table\n",
    "(ctable_dn <- cbind(ctable_dn, \"p value\" = p_dn))"
   ]
  },
  {
   "cell_type": "code",
   "execution_count": null,
   "id": "7ff9f770-78a7-4536-acc5-d11063050512",
   "metadata": {},
   "outputs": [],
   "source": []
  },
  {
   "cell_type": "code",
   "execution_count": null,
   "id": "d55464f0-0b9f-45a0-be7e-b5264b273bf9",
   "metadata": {},
   "outputs": [],
   "source": []
  }
 ],
 "metadata": {
  "kernelspec": {
   "display_name": "R",
   "language": "R",
   "name": "ir"
  },
  "language_info": {
   "codemirror_mode": "r",
   "file_extension": ".r",
   "mimetype": "text/x-r-source",
   "name": "R",
   "pygments_lexer": "r",
   "version": "4.4.1"
  }
 },
 "nbformat": 4,
 "nbformat_minor": 5
}
