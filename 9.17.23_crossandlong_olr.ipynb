{
 "cells": [
  {
   "cell_type": "code",
   "execution_count": 1,
   "id": "ee318ae9-3dda-41df-843c-2895919a2561",
   "metadata": {
    "tags": []
   },
   "outputs": [
    {
     "name": "stderr",
     "output_type": "stream",
     "text": [
      "Installing package into ‘/usr/local/lib/R/site-library’\n",
      "(as ‘lib’ is unspecified)\n",
      "\n"
     ]
    }
   ],
   "source": [
    "install.packages(\"MASS\")\n",
    "library(MASS)"
   ]
  },
  {
   "cell_type": "code",
   "execution_count": 2,
   "id": "5b39f686-5a7e-43aa-8d16-10d878290a41",
   "metadata": {
    "tags": []
   },
   "outputs": [],
   "source": [
    "#full data for all patients who have a future CeVD\n",
    "data <- read.csv(\"cevd_first_model.csv\")"
   ]
  },
  {
   "cell_type": "code",
   "execution_count": 3,
   "id": "f1c579a0-b214-436d-bc37-8f7d345bd8ff",
   "metadata": {
    "tags": []
   },
   "outputs": [
    {
     "name": "stdout",
     "output_type": "stream",
     "text": [
      "[1] 14508\n"
     ]
    }
   ],
   "source": [
    "# check number of rows - should be 5193 from initial baseline of px who have future cevd\n",
    "num_rows <- nrow(data)\n",
    "print(num_rows)"
   ]
  },
  {
   "cell_type": "code",
   "execution_count": 4,
   "id": "9d486124-6f72-43e1-a007-21a2fe8f08a4",
   "metadata": {
    "tags": []
   },
   "outputs": [],
   "source": [
    "# create 2 separate dataframes, 1 has depressed px, other has non-depressed px\n",
    "data_dy <- data[data$dep_diag_yes == 1, ]\n",
    "data_dn <- data[data$dep_diag_yes == 0, ]"
   ]
  },
  {
   "cell_type": "code",
   "execution_count": 6,
   "id": "ae2451c9-864e-4f8e-8523-09b76aeb437e",
   "metadata": {
    "tags": []
   },
   "outputs": [
    {
     "name": "stdout",
     "output_type": "stream",
     "text": [
      "[1] 1402\n",
      "[1] 13106\n"
     ]
    }
   ],
   "source": [
    "# check number of rows - should be 1402 from initial baseline of px who have future cevd\n",
    "num_rows_dy <- nrow(data_dy)\n",
    "print(num_rows_dy)\n",
    "# check number of rows - should be 13106 from initial baseline of px who have future cevd\n",
    "num_rows_dn <- nrow(data_dn)\n",
    "print(num_rows_dn)"
   ]
  },
  {
   "cell_type": "code",
   "execution_count": 7,
   "id": "700c4c3c-3115-487c-b491-a5d4b7238b72",
   "metadata": {
    "tags": []
   },
   "outputs": [],
   "source": [
    "#data$age_filter_i0 <- ifelse(data$age_i0 < 60, 0, 1)\n",
    "data_dy$age_filter_i0 <- ifelse(data_dy$age_i0 < 60, 0, 1)\n",
    "data_dn$age_filter_i0 <- ifelse(data_dn$age_i0 < 60, 0, 1)\n",
    "#data$age_filter_i0 <- ifelse(data$age_i0 < 60, 0, 1)\n",
    "data_dy$sleep_filter <- ifelse(data_dy$sleep > 6 & data_dy$sleep < 10, 1, 0)\n",
    "data_dn$sleep_filter <- ifelse(data_dn$sleep > 6 & data_dn$sleep < 10, 1, 0)\n",
    "#data$age_filter_i0 <- ifelse(data$age_i0 < 60, 0, 1)\n",
    "data_dy$bmi_filter <- ifelse(data_dy$bmi > 18.4 & data_dy$bmi < 26, 1, 0)\n",
    "data_dn$bmi_filter <- ifelse(data_dn$bmi > 18.4 & data_dn$bmi < 26, 1, 0)\n",
    "#data$age_filter_i0 <- ifelse(data$age_i0 < 60, 0, 1)\n",
    "data_dy$smok_filter <- ifelse(data_dy$smok_stat > 0, 1, 0)\n",
    "data_dn$smok_filter <- ifelse(data_dn$smok_stat > 0, 1, 0)"
   ]
  },
  {
   "cell_type": "code",
   "execution_count": 8,
   "id": "467d19e0-bc05-4665-b8d9-4f0e2fb944ab",
   "metadata": {
    "tags": []
   },
   "outputs": [],
   "source": [
    "# Convert the response variable to a factor with ordered levels\n",
    "#data$phq2_q1_diff <- factor(data$phq2_q1_diff, ordered = TRUE, levels = c(-1, 0, 1))\n",
    "data_dy$phq2_1 <- factor(data_dy$phq2_1, ordered = TRUE, levels = c(0, 1, 2, 3, 4))\n",
    "data_dn$phq2_1 <- factor(data_dn$phq2_1, ordered = TRUE, levels = c(0, 1, 2, 3, 4))"
   ]
  },
  {
   "cell_type": "code",
   "execution_count": 9,
   "id": "879761b8-2dcb-4540-aaec-844b8016000d",
   "metadata": {
    "tags": []
   },
   "outputs": [],
   "source": [
    "model_dy <- polr(phq2_1 ~  male  + age_filter_i0 + tdi + bmi_filter +  sleep_filter + smok_stat + full_screen_time + alc_freq_filter + met_minweek_filter, data = data_dy, method = \"logistic\")\n",
    "model_dn <- polr(phq2_1 ~  male   +   age_filter_i0 + tdi + bmi_filter +  sleep_filter + smok_stat + full_screen_time + alc_freq_filter + met_minweek_filter, data = data_dn, method = \"logistic\")"
   ]
  },
  {
   "cell_type": "code",
   "execution_count": 11,
   "id": "0e5fabd7-7dc3-4ca7-bcab-7c41b9f98655",
   "metadata": {
    "tags": []
   },
   "outputs": [
    {
     "name": "stderr",
     "output_type": "stream",
     "text": [
      "\n",
      "Re-fitting to get Hessian\n",
      "\n",
      "\n"
     ]
    },
    {
     "data": {
      "text/plain": [
       "Call:\n",
       "polr(formula = phq2_1 ~ male + age_filter_i0 + tdi + bmi_filter + \n",
       "    sleep_filter + smok_stat + full_screen_time + alc_freq_filter + \n",
       "    met_minweek_filter, data = data_dy, method = \"logistic\")\n",
       "\n",
       "Coefficients:\n",
       "                      Value Std. Error t value\n",
       "male               -0.04771   0.105125 -0.4538\n",
       "age_filter_i0      -0.64712   0.103303 -6.2642\n",
       "tdi                 0.04730   0.015263  3.0990\n",
       "bmi_filter          0.01379   0.109815  0.1256\n",
       "sleep_filter       -0.54226   0.107757 -5.0323\n",
       "smok_stat           0.14043   0.068968  2.0361\n",
       "full_screen_time    0.05627   0.020681  2.7208\n",
       "alc_freq_filter    -0.09638   0.069345 -1.3899\n",
       "met_minweek_filter -0.01568   0.008246 -1.9011\n",
       "\n",
       "Intercepts:\n",
       "    Value    Std. Error t value \n",
       "0|1  -4.0301   0.2399   -16.8002\n",
       "1|2  -0.7354   0.1968    -3.7363\n",
       "2|3   0.9731   0.1988     4.8949\n",
       "3|4   1.6704   0.2058     8.1166\n",
       "\n",
       "Residual Deviance: 3452.982 \n",
       "AIC: 3478.982 "
      ]
     },
     "metadata": {},
     "output_type": "display_data"
    }
   ],
   "source": [
    "summary(model_dy)"
   ]
  },
  {
   "cell_type": "code",
   "execution_count": 12,
   "id": "534dc6c4-84eb-42d3-9c1b-75855310ce8a",
   "metadata": {
    "tags": []
   },
   "outputs": [
    {
     "name": "stderr",
     "output_type": "stream",
     "text": [
      "\n",
      "Re-fitting to get Hessian\n",
      "\n",
      "\n"
     ]
    },
    {
     "data": {
      "text/plain": [
       "Call:\n",
       "polr(formula = phq2_1 ~ male + age_filter_i0 + tdi + bmi_filter + \n",
       "    sleep_filter + smok_stat + full_screen_time + alc_freq_filter + \n",
       "    met_minweek_filter, data = data_dn, method = \"logistic\")\n",
       "\n",
       "Coefficients:\n",
       "                      Value Std. Error t value\n",
       "male               -0.33771   0.044041 -7.6683\n",
       "age_filter_i0      -0.40063   0.043790 -9.1487\n",
       "tdi                 0.04007   0.006885  5.8197\n",
       "bmi_filter         -0.07558   0.044623 -1.6938\n",
       "sleep_filter       -0.34363   0.046226 -7.4336\n",
       "smok_stat           0.13594   0.031152  4.3639\n",
       "full_screen_time    0.03805   0.009441  4.0310\n",
       "alc_freq_filter    -0.01729   0.030040 -0.5754\n",
       "met_minweek_filter -0.01063   0.003293 -3.2265\n",
       "\n",
       "Intercepts:\n",
       "    Value    Std. Error t value \n",
       "0|1  -4.1654   0.1037   -40.1859\n",
       "1|2   0.8288   0.0889     9.3265\n",
       "2|3   2.7837   0.0981    28.3708\n",
       "3|4   3.8471   0.1172    32.8290\n",
       "\n",
       "Residual Deviance: 18801.43 \n",
       "AIC: 18827.43 "
      ]
     },
     "metadata": {},
     "output_type": "display_data"
    }
   ],
   "source": [
    "summary(model_dn)"
   ]
  },
  {
   "cell_type": "code",
   "execution_count": 13,
   "id": "d106887f-ed97-4534-86f4-0b885fc72788",
   "metadata": {
    "tags": []
   },
   "outputs": [
    {
     "name": "stderr",
     "output_type": "stream",
     "text": [
      "\n",
      "Re-fitting to get Hessian\n",
      "\n",
      "\n"
     ]
    },
    {
     "data": {
      "text/html": [
       "<table class=\"dataframe\">\n",
       "<caption>A matrix: 13 × 3 of type dbl</caption>\n",
       "<thead>\n",
       "\t<tr><th></th><th scope=col>Value</th><th scope=col>Std. Error</th><th scope=col>t value</th></tr>\n",
       "</thead>\n",
       "<tbody>\n",
       "\t<tr><th scope=row>male</th><td>-0.04770547</td><td>0.105124592</td><td> -0.4537994</td></tr>\n",
       "\t<tr><th scope=row>age_filter_i0</th><td>-0.64711560</td><td>0.103303071</td><td> -6.2642436</td></tr>\n",
       "\t<tr><th scope=row>tdi</th><td> 0.04729876</td><td>0.015262528</td><td>  3.0990119</td></tr>\n",
       "\t<tr><th scope=row>bmi_filter</th><td> 0.01378744</td><td>0.109814697</td><td>  0.1255519</td></tr>\n",
       "\t<tr><th scope=row>sleep_filter</th><td>-0.54226415</td><td>0.107757035</td><td> -5.0322854</td></tr>\n",
       "\t<tr><th scope=row>smok_stat</th><td> 0.14042796</td><td>0.068967620</td><td>  2.0361433</td></tr>\n",
       "\t<tr><th scope=row>full_screen_time</th><td> 0.05627082</td><td>0.020681340</td><td>  2.7208495</td></tr>\n",
       "\t<tr><th scope=row>alc_freq_filter</th><td>-0.09638181</td><td>0.069345491</td><td> -1.3898785</td></tr>\n",
       "\t<tr><th scope=row>met_minweek_filter</th><td>-0.01567613</td><td>0.008245657</td><td> -1.9011380</td></tr>\n",
       "\t<tr><th scope=row>0|1</th><td>-4.03007715</td><td>0.239883332</td><td>-16.8001550</td></tr>\n",
       "\t<tr><th scope=row>1|2</th><td>-0.73535067</td><td>0.196811929</td><td> -3.7363115</td></tr>\n",
       "\t<tr><th scope=row>2|3</th><td> 0.97306217</td><td>0.198791545</td><td>  4.8948871</td></tr>\n",
       "\t<tr><th scope=row>3|4</th><td> 1.67037271</td><td>0.205797414</td><td>  8.1165875</td></tr>\n",
       "</tbody>\n",
       "</table>\n"
      ],
      "text/latex": [
       "A matrix: 13 × 3 of type dbl\n",
       "\\begin{tabular}{r|lll}\n",
       "  & Value & Std. Error & t value\\\\\n",
       "\\hline\n",
       "\tmale & -0.04770547 & 0.105124592 &  -0.4537994\\\\\n",
       "\tage\\_filter\\_i0 & -0.64711560 & 0.103303071 &  -6.2642436\\\\\n",
       "\ttdi &  0.04729876 & 0.015262528 &   3.0990119\\\\\n",
       "\tbmi\\_filter &  0.01378744 & 0.109814697 &   0.1255519\\\\\n",
       "\tsleep\\_filter & -0.54226415 & 0.107757035 &  -5.0322854\\\\\n",
       "\tsmok\\_stat &  0.14042796 & 0.068967620 &   2.0361433\\\\\n",
       "\tfull\\_screen\\_time &  0.05627082 & 0.020681340 &   2.7208495\\\\\n",
       "\talc\\_freq\\_filter & -0.09638181 & 0.069345491 &  -1.3898785\\\\\n",
       "\tmet\\_minweek\\_filter & -0.01567613 & 0.008245657 &  -1.9011380\\\\\n",
       "\t0\\textbar{}1 & -4.03007715 & 0.239883332 & -16.8001550\\\\\n",
       "\t1\\textbar{}2 & -0.73535067 & 0.196811929 &  -3.7363115\\\\\n",
       "\t2\\textbar{}3 &  0.97306217 & 0.198791545 &   4.8948871\\\\\n",
       "\t3\\textbar{}4 &  1.67037271 & 0.205797414 &   8.1165875\\\\\n",
       "\\end{tabular}\n"
      ],
      "text/markdown": [
       "\n",
       "A matrix: 13 × 3 of type dbl\n",
       "\n",
       "| <!--/--> | Value | Std. Error | t value |\n",
       "|---|---|---|---|\n",
       "| male | -0.04770547 | 0.105124592 |  -0.4537994 |\n",
       "| age_filter_i0 | -0.64711560 | 0.103303071 |  -6.2642436 |\n",
       "| tdi |  0.04729876 | 0.015262528 |   3.0990119 |\n",
       "| bmi_filter |  0.01378744 | 0.109814697 |   0.1255519 |\n",
       "| sleep_filter | -0.54226415 | 0.107757035 |  -5.0322854 |\n",
       "| smok_stat |  0.14042796 | 0.068967620 |   2.0361433 |\n",
       "| full_screen_time |  0.05627082 | 0.020681340 |   2.7208495 |\n",
       "| alc_freq_filter | -0.09638181 | 0.069345491 |  -1.3898785 |\n",
       "| met_minweek_filter | -0.01567613 | 0.008245657 |  -1.9011380 |\n",
       "| 0|1 | -4.03007715 | 0.239883332 | -16.8001550 |\n",
       "| 1|2 | -0.73535067 | 0.196811929 |  -3.7363115 |\n",
       "| 2|3 |  0.97306217 | 0.198791545 |   4.8948871 |\n",
       "| 3|4 |  1.67037271 | 0.205797414 |   8.1165875 |\n",
       "\n"
      ],
      "text/plain": [
       "                   Value       Std. Error  t value    \n",
       "male               -0.04770547 0.105124592  -0.4537994\n",
       "age_filter_i0      -0.64711560 0.103303071  -6.2642436\n",
       "tdi                 0.04729876 0.015262528   3.0990119\n",
       "bmi_filter          0.01378744 0.109814697   0.1255519\n",
       "sleep_filter       -0.54226415 0.107757035  -5.0322854\n",
       "smok_stat           0.14042796 0.068967620   2.0361433\n",
       "full_screen_time    0.05627082 0.020681340   2.7208495\n",
       "alc_freq_filter    -0.09638181 0.069345491  -1.3898785\n",
       "met_minweek_filter -0.01567613 0.008245657  -1.9011380\n",
       "0|1                -4.03007715 0.239883332 -16.8001550\n",
       "1|2                -0.73535067 0.196811929  -3.7363115\n",
       "2|3                 0.97306217 0.198791545   4.8948871\n",
       "3|4                 1.67037271 0.205797414   8.1165875"
      ]
     },
     "metadata": {},
     "output_type": "display_data"
    }
   ],
   "source": [
    "## store table\n",
    "(ctable_dy <- coef(summary(model_dy)))"
   ]
  },
  {
   "cell_type": "code",
   "execution_count": 14,
   "id": "05396d37-2fb0-451b-9b6a-f332d1a26098",
   "metadata": {
    "tags": []
   },
   "outputs": [
    {
     "name": "stderr",
     "output_type": "stream",
     "text": [
      "\n",
      "Re-fitting to get Hessian\n",
      "\n",
      "\n"
     ]
    },
    {
     "data": {
      "text/html": [
       "<table class=\"dataframe\">\n",
       "<caption>A matrix: 13 × 3 of type dbl</caption>\n",
       "<thead>\n",
       "\t<tr><th></th><th scope=col>Value</th><th scope=col>Std. Error</th><th scope=col>t value</th></tr>\n",
       "</thead>\n",
       "<tbody>\n",
       "\t<tr><th scope=row>male</th><td>-0.33771470</td><td>0.044040563</td><td> -7.6682649</td></tr>\n",
       "\t<tr><th scope=row>age_filter_i0</th><td>-0.40062594</td><td>0.043790253</td><td> -9.1487468</td></tr>\n",
       "\t<tr><th scope=row>tdi</th><td> 0.04007090</td><td>0.006885343</td><td>  5.8197390</td></tr>\n",
       "\t<tr><th scope=row>bmi_filter</th><td>-0.07558182</td><td>0.044622899</td><td> -1.6937899</td></tr>\n",
       "\t<tr><th scope=row>sleep_filter</th><td>-0.34363005</td><td>0.046226302</td><td> -7.4336478</td></tr>\n",
       "\t<tr><th scope=row>smok_stat</th><td> 0.13594483</td><td>0.031151939</td><td>  4.3639283</td></tr>\n",
       "\t<tr><th scope=row>full_screen_time</th><td> 0.03805484</td><td>0.009440537</td><td>  4.0310035</td></tr>\n",
       "\t<tr><th scope=row>alc_freq_filter</th><td>-0.01728586</td><td>0.030040407</td><td> -0.5754205</td></tr>\n",
       "\t<tr><th scope=row>met_minweek_filter</th><td>-0.01062509</td><td>0.003293029</td><td> -3.2265417</td></tr>\n",
       "\t<tr><th scope=row>0|1</th><td>-4.16539158</td><td>0.103653069</td><td>-40.1858974</td></tr>\n",
       "\t<tr><th scope=row>1|2</th><td> 0.82884048</td><td>0.088869540</td><td>  9.3264855</td></tr>\n",
       "\t<tr><th scope=row>2|3</th><td> 2.78374610</td><td>0.098120148</td><td> 28.3707899</td></tr>\n",
       "\t<tr><th scope=row>3|4</th><td> 3.84714839</td><td>0.117187523</td><td> 32.8289931</td></tr>\n",
       "</tbody>\n",
       "</table>\n"
      ],
      "text/latex": [
       "A matrix: 13 × 3 of type dbl\n",
       "\\begin{tabular}{r|lll}\n",
       "  & Value & Std. Error & t value\\\\\n",
       "\\hline\n",
       "\tmale & -0.33771470 & 0.044040563 &  -7.6682649\\\\\n",
       "\tage\\_filter\\_i0 & -0.40062594 & 0.043790253 &  -9.1487468\\\\\n",
       "\ttdi &  0.04007090 & 0.006885343 &   5.8197390\\\\\n",
       "\tbmi\\_filter & -0.07558182 & 0.044622899 &  -1.6937899\\\\\n",
       "\tsleep\\_filter & -0.34363005 & 0.046226302 &  -7.4336478\\\\\n",
       "\tsmok\\_stat &  0.13594483 & 0.031151939 &   4.3639283\\\\\n",
       "\tfull\\_screen\\_time &  0.03805484 & 0.009440537 &   4.0310035\\\\\n",
       "\talc\\_freq\\_filter & -0.01728586 & 0.030040407 &  -0.5754205\\\\\n",
       "\tmet\\_minweek\\_filter & -0.01062509 & 0.003293029 &  -3.2265417\\\\\n",
       "\t0\\textbar{}1 & -4.16539158 & 0.103653069 & -40.1858974\\\\\n",
       "\t1\\textbar{}2 &  0.82884048 & 0.088869540 &   9.3264855\\\\\n",
       "\t2\\textbar{}3 &  2.78374610 & 0.098120148 &  28.3707899\\\\\n",
       "\t3\\textbar{}4 &  3.84714839 & 0.117187523 &  32.8289931\\\\\n",
       "\\end{tabular}\n"
      ],
      "text/markdown": [
       "\n",
       "A matrix: 13 × 3 of type dbl\n",
       "\n",
       "| <!--/--> | Value | Std. Error | t value |\n",
       "|---|---|---|---|\n",
       "| male | -0.33771470 | 0.044040563 |  -7.6682649 |\n",
       "| age_filter_i0 | -0.40062594 | 0.043790253 |  -9.1487468 |\n",
       "| tdi |  0.04007090 | 0.006885343 |   5.8197390 |\n",
       "| bmi_filter | -0.07558182 | 0.044622899 |  -1.6937899 |\n",
       "| sleep_filter | -0.34363005 | 0.046226302 |  -7.4336478 |\n",
       "| smok_stat |  0.13594483 | 0.031151939 |   4.3639283 |\n",
       "| full_screen_time |  0.03805484 | 0.009440537 |   4.0310035 |\n",
       "| alc_freq_filter | -0.01728586 | 0.030040407 |  -0.5754205 |\n",
       "| met_minweek_filter | -0.01062509 | 0.003293029 |  -3.2265417 |\n",
       "| 0|1 | -4.16539158 | 0.103653069 | -40.1858974 |\n",
       "| 1|2 |  0.82884048 | 0.088869540 |   9.3264855 |\n",
       "| 2|3 |  2.78374610 | 0.098120148 |  28.3707899 |\n",
       "| 3|4 |  3.84714839 | 0.117187523 |  32.8289931 |\n",
       "\n"
      ],
      "text/plain": [
       "                   Value       Std. Error  t value    \n",
       "male               -0.33771470 0.044040563  -7.6682649\n",
       "age_filter_i0      -0.40062594 0.043790253  -9.1487468\n",
       "tdi                 0.04007090 0.006885343   5.8197390\n",
       "bmi_filter         -0.07558182 0.044622899  -1.6937899\n",
       "sleep_filter       -0.34363005 0.046226302  -7.4336478\n",
       "smok_stat           0.13594483 0.031151939   4.3639283\n",
       "full_screen_time    0.03805484 0.009440537   4.0310035\n",
       "alc_freq_filter    -0.01728586 0.030040407  -0.5754205\n",
       "met_minweek_filter -0.01062509 0.003293029  -3.2265417\n",
       "0|1                -4.16539158 0.103653069 -40.1858974\n",
       "1|2                 0.82884048 0.088869540   9.3264855\n",
       "2|3                 2.78374610 0.098120148  28.3707899\n",
       "3|4                 3.84714839 0.117187523  32.8289931"
      ]
     },
     "metadata": {},
     "output_type": "display_data"
    }
   ],
   "source": [
    "## store table\n",
    "(ctable_dn <- coef(summary(model_dn)))"
   ]
  },
  {
   "cell_type": "code",
   "execution_count": 15,
   "id": "36d0696f-e6b7-4d9b-8205-a560d9e20b8e",
   "metadata": {
    "tags": []
   },
   "outputs": [
    {
     "data": {
      "text/html": [
       "<table class=\"dataframe\">\n",
       "<caption>A matrix: 13 × 4 of type dbl</caption>\n",
       "<thead>\n",
       "\t<tr><th></th><th scope=col>Value</th><th scope=col>Std. Error</th><th scope=col>t value</th><th scope=col>p value</th></tr>\n",
       "</thead>\n",
       "<tbody>\n",
       "\t<tr><th scope=row>male</th><td>-0.04770547</td><td>0.105124592</td><td> -0.4537994</td><td>6.499732e-01</td></tr>\n",
       "\t<tr><th scope=row>age_filter_i0</th><td>-0.64711560</td><td>0.103303071</td><td> -6.2642436</td><td>3.746395e-10</td></tr>\n",
       "\t<tr><th scope=row>tdi</th><td> 0.04729876</td><td>0.015262528</td><td>  3.0990119</td><td>1.941672e-03</td></tr>\n",
       "\t<tr><th scope=row>bmi_filter</th><td> 0.01378744</td><td>0.109814697</td><td>  0.1255519</td><td>9.000866e-01</td></tr>\n",
       "\t<tr><th scope=row>sleep_filter</th><td>-0.54226415</td><td>0.107757035</td><td> -5.0322854</td><td>4.846670e-07</td></tr>\n",
       "\t<tr><th scope=row>smok_stat</th><td> 0.14042796</td><td>0.068967620</td><td>  2.0361433</td><td>4.173596e-02</td></tr>\n",
       "\t<tr><th scope=row>full_screen_time</th><td> 0.05627082</td><td>0.020681340</td><td>  2.7208495</td><td>6.511439e-03</td></tr>\n",
       "\t<tr><th scope=row>alc_freq_filter</th><td>-0.09638181</td><td>0.069345491</td><td> -1.3898785</td><td>1.645658e-01</td></tr>\n",
       "\t<tr><th scope=row>met_minweek_filter</th><td>-0.01567613</td><td>0.008245657</td><td> -1.9011380</td><td>5.728394e-02</td></tr>\n",
       "\t<tr><th scope=row>0|1</th><td>-4.03007715</td><td>0.239883332</td><td>-16.8001550</td><td>2.434073e-63</td></tr>\n",
       "\t<tr><th scope=row>1|2</th><td>-0.73535067</td><td>0.196811929</td><td> -3.7363115</td><td>1.867393e-04</td></tr>\n",
       "\t<tr><th scope=row>2|3</th><td> 0.97306217</td><td>0.198791545</td><td>  4.8948871</td><td>9.836219e-07</td></tr>\n",
       "\t<tr><th scope=row>3|4</th><td> 1.67037271</td><td>0.205797414</td><td>  8.1165875</td><td>4.794751e-16</td></tr>\n",
       "</tbody>\n",
       "</table>\n"
      ],
      "text/latex": [
       "A matrix: 13 × 4 of type dbl\n",
       "\\begin{tabular}{r|llll}\n",
       "  & Value & Std. Error & t value & p value\\\\\n",
       "\\hline\n",
       "\tmale & -0.04770547 & 0.105124592 &  -0.4537994 & 6.499732e-01\\\\\n",
       "\tage\\_filter\\_i0 & -0.64711560 & 0.103303071 &  -6.2642436 & 3.746395e-10\\\\\n",
       "\ttdi &  0.04729876 & 0.015262528 &   3.0990119 & 1.941672e-03\\\\\n",
       "\tbmi\\_filter &  0.01378744 & 0.109814697 &   0.1255519 & 9.000866e-01\\\\\n",
       "\tsleep\\_filter & -0.54226415 & 0.107757035 &  -5.0322854 & 4.846670e-07\\\\\n",
       "\tsmok\\_stat &  0.14042796 & 0.068967620 &   2.0361433 & 4.173596e-02\\\\\n",
       "\tfull\\_screen\\_time &  0.05627082 & 0.020681340 &   2.7208495 & 6.511439e-03\\\\\n",
       "\talc\\_freq\\_filter & -0.09638181 & 0.069345491 &  -1.3898785 & 1.645658e-01\\\\\n",
       "\tmet\\_minweek\\_filter & -0.01567613 & 0.008245657 &  -1.9011380 & 5.728394e-02\\\\\n",
       "\t0\\textbar{}1 & -4.03007715 & 0.239883332 & -16.8001550 & 2.434073e-63\\\\\n",
       "\t1\\textbar{}2 & -0.73535067 & 0.196811929 &  -3.7363115 & 1.867393e-04\\\\\n",
       "\t2\\textbar{}3 &  0.97306217 & 0.198791545 &   4.8948871 & 9.836219e-07\\\\\n",
       "\t3\\textbar{}4 &  1.67037271 & 0.205797414 &   8.1165875 & 4.794751e-16\\\\\n",
       "\\end{tabular}\n"
      ],
      "text/markdown": [
       "\n",
       "A matrix: 13 × 4 of type dbl\n",
       "\n",
       "| <!--/--> | Value | Std. Error | t value | p value |\n",
       "|---|---|---|---|---|\n",
       "| male | -0.04770547 | 0.105124592 |  -0.4537994 | 6.499732e-01 |\n",
       "| age_filter_i0 | -0.64711560 | 0.103303071 |  -6.2642436 | 3.746395e-10 |\n",
       "| tdi |  0.04729876 | 0.015262528 |   3.0990119 | 1.941672e-03 |\n",
       "| bmi_filter |  0.01378744 | 0.109814697 |   0.1255519 | 9.000866e-01 |\n",
       "| sleep_filter | -0.54226415 | 0.107757035 |  -5.0322854 | 4.846670e-07 |\n",
       "| smok_stat |  0.14042796 | 0.068967620 |   2.0361433 | 4.173596e-02 |\n",
       "| full_screen_time |  0.05627082 | 0.020681340 |   2.7208495 | 6.511439e-03 |\n",
       "| alc_freq_filter | -0.09638181 | 0.069345491 |  -1.3898785 | 1.645658e-01 |\n",
       "| met_minweek_filter | -0.01567613 | 0.008245657 |  -1.9011380 | 5.728394e-02 |\n",
       "| 0|1 | -4.03007715 | 0.239883332 | -16.8001550 | 2.434073e-63 |\n",
       "| 1|2 | -0.73535067 | 0.196811929 |  -3.7363115 | 1.867393e-04 |\n",
       "| 2|3 |  0.97306217 | 0.198791545 |   4.8948871 | 9.836219e-07 |\n",
       "| 3|4 |  1.67037271 | 0.205797414 |   8.1165875 | 4.794751e-16 |\n",
       "\n"
      ],
      "text/plain": [
       "                   Value       Std. Error  t value     p value     \n",
       "male               -0.04770547 0.105124592  -0.4537994 6.499732e-01\n",
       "age_filter_i0      -0.64711560 0.103303071  -6.2642436 3.746395e-10\n",
       "tdi                 0.04729876 0.015262528   3.0990119 1.941672e-03\n",
       "bmi_filter          0.01378744 0.109814697   0.1255519 9.000866e-01\n",
       "sleep_filter       -0.54226415 0.107757035  -5.0322854 4.846670e-07\n",
       "smok_stat           0.14042796 0.068967620   2.0361433 4.173596e-02\n",
       "full_screen_time    0.05627082 0.020681340   2.7208495 6.511439e-03\n",
       "alc_freq_filter    -0.09638181 0.069345491  -1.3898785 1.645658e-01\n",
       "met_minweek_filter -0.01567613 0.008245657  -1.9011380 5.728394e-02\n",
       "0|1                -4.03007715 0.239883332 -16.8001550 2.434073e-63\n",
       "1|2                -0.73535067 0.196811929  -3.7363115 1.867393e-04\n",
       "2|3                 0.97306217 0.198791545   4.8948871 9.836219e-07\n",
       "3|4                 1.67037271 0.205797414   8.1165875 4.794751e-16"
      ]
     },
     "metadata": {},
     "output_type": "display_data"
    }
   ],
   "source": [
    "## calculate and store p values\n",
    "p_dy <- pnorm(abs(ctable_dy[, \"t value\"]), lower.tail = FALSE) * 2\n",
    "## combined table\n",
    "(ctable_dy <- cbind(ctable_dy, \"p value\" = p_dy))"
   ]
  },
  {
   "cell_type": "code",
   "execution_count": 17,
   "id": "c92c823a-ea98-43b5-84ef-6e6f951be4db",
   "metadata": {
    "tags": []
   },
   "outputs": [
    {
     "data": {
      "text/html": [
       "<table class=\"dataframe\">\n",
       "<caption>A matrix: 13 × 4 of type dbl</caption>\n",
       "<thead>\n",
       "\t<tr><th></th><th scope=col>Value</th><th scope=col>Std. Error</th><th scope=col>t value</th><th scope=col>p value</th></tr>\n",
       "</thead>\n",
       "<tbody>\n",
       "\t<tr><th scope=row>male</th><td>-0.33771470</td><td>0.044040563</td><td> -7.6682649</td><td> 1.743385e-14</td></tr>\n",
       "\t<tr><th scope=row>age_filter_i0</th><td>-0.40062594</td><td>0.043790253</td><td> -9.1487468</td><td> 5.759781e-20</td></tr>\n",
       "\t<tr><th scope=row>tdi</th><td> 0.04007090</td><td>0.006885343</td><td>  5.8197390</td><td> 5.893958e-09</td></tr>\n",
       "\t<tr><th scope=row>bmi_filter</th><td>-0.07558182</td><td>0.044622899</td><td> -1.6937899</td><td> 9.030521e-02</td></tr>\n",
       "\t<tr><th scope=row>sleep_filter</th><td>-0.34363005</td><td>0.046226302</td><td> -7.4336478</td><td> 1.056430e-13</td></tr>\n",
       "\t<tr><th scope=row>smok_stat</th><td> 0.13594483</td><td>0.031151939</td><td>  4.3639283</td><td> 1.277474e-05</td></tr>\n",
       "\t<tr><th scope=row>full_screen_time</th><td> 0.03805484</td><td>0.009440537</td><td>  4.0310035</td><td> 5.553922e-05</td></tr>\n",
       "\t<tr><th scope=row>alc_freq_filter</th><td>-0.01728586</td><td>0.030040407</td><td> -0.5754205</td><td> 5.650070e-01</td></tr>\n",
       "\t<tr><th scope=row>met_minweek_filter</th><td>-0.01062509</td><td>0.003293029</td><td> -3.2265417</td><td> 1.252960e-03</td></tr>\n",
       "\t<tr><th scope=row>0|1</th><td>-4.16539158</td><td>0.103653069</td><td>-40.1858974</td><td> 0.000000e+00</td></tr>\n",
       "\t<tr><th scope=row>1|2</th><td> 0.82884048</td><td>0.088869540</td><td>  9.3264855</td><td> 1.094396e-20</td></tr>\n",
       "\t<tr><th scope=row>2|3</th><td> 2.78374610</td><td>0.098120148</td><td> 28.3707899</td><td>4.638128e-177</td></tr>\n",
       "\t<tr><th scope=row>3|4</th><td> 3.84714839</td><td>0.117187523</td><td> 32.8289931</td><td>2.271998e-236</td></tr>\n",
       "</tbody>\n",
       "</table>\n"
      ],
      "text/latex": [
       "A matrix: 13 × 4 of type dbl\n",
       "\\begin{tabular}{r|llll}\n",
       "  & Value & Std. Error & t value & p value\\\\\n",
       "\\hline\n",
       "\tmale & -0.33771470 & 0.044040563 &  -7.6682649 &  1.743385e-14\\\\\n",
       "\tage\\_filter\\_i0 & -0.40062594 & 0.043790253 &  -9.1487468 &  5.759781e-20\\\\\n",
       "\ttdi &  0.04007090 & 0.006885343 &   5.8197390 &  5.893958e-09\\\\\n",
       "\tbmi\\_filter & -0.07558182 & 0.044622899 &  -1.6937899 &  9.030521e-02\\\\\n",
       "\tsleep\\_filter & -0.34363005 & 0.046226302 &  -7.4336478 &  1.056430e-13\\\\\n",
       "\tsmok\\_stat &  0.13594483 & 0.031151939 &   4.3639283 &  1.277474e-05\\\\\n",
       "\tfull\\_screen\\_time &  0.03805484 & 0.009440537 &   4.0310035 &  5.553922e-05\\\\\n",
       "\talc\\_freq\\_filter & -0.01728586 & 0.030040407 &  -0.5754205 &  5.650070e-01\\\\\n",
       "\tmet\\_minweek\\_filter & -0.01062509 & 0.003293029 &  -3.2265417 &  1.252960e-03\\\\\n",
       "\t0\\textbar{}1 & -4.16539158 & 0.103653069 & -40.1858974 &  0.000000e+00\\\\\n",
       "\t1\\textbar{}2 &  0.82884048 & 0.088869540 &   9.3264855 &  1.094396e-20\\\\\n",
       "\t2\\textbar{}3 &  2.78374610 & 0.098120148 &  28.3707899 & 4.638128e-177\\\\\n",
       "\t3\\textbar{}4 &  3.84714839 & 0.117187523 &  32.8289931 & 2.271998e-236\\\\\n",
       "\\end{tabular}\n"
      ],
      "text/markdown": [
       "\n",
       "A matrix: 13 × 4 of type dbl\n",
       "\n",
       "| <!--/--> | Value | Std. Error | t value | p value |\n",
       "|---|---|---|---|---|\n",
       "| male | -0.33771470 | 0.044040563 |  -7.6682649 |  1.743385e-14 |\n",
       "| age_filter_i0 | -0.40062594 | 0.043790253 |  -9.1487468 |  5.759781e-20 |\n",
       "| tdi |  0.04007090 | 0.006885343 |   5.8197390 |  5.893958e-09 |\n",
       "| bmi_filter | -0.07558182 | 0.044622899 |  -1.6937899 |  9.030521e-02 |\n",
       "| sleep_filter | -0.34363005 | 0.046226302 |  -7.4336478 |  1.056430e-13 |\n",
       "| smok_stat |  0.13594483 | 0.031151939 |   4.3639283 |  1.277474e-05 |\n",
       "| full_screen_time |  0.03805484 | 0.009440537 |   4.0310035 |  5.553922e-05 |\n",
       "| alc_freq_filter | -0.01728586 | 0.030040407 |  -0.5754205 |  5.650070e-01 |\n",
       "| met_minweek_filter | -0.01062509 | 0.003293029 |  -3.2265417 |  1.252960e-03 |\n",
       "| 0|1 | -4.16539158 | 0.103653069 | -40.1858974 |  0.000000e+00 |\n",
       "| 1|2 |  0.82884048 | 0.088869540 |   9.3264855 |  1.094396e-20 |\n",
       "| 2|3 |  2.78374610 | 0.098120148 |  28.3707899 | 4.638128e-177 |\n",
       "| 3|4 |  3.84714839 | 0.117187523 |  32.8289931 | 2.271998e-236 |\n",
       "\n"
      ],
      "text/plain": [
       "                   Value       Std. Error  t value     p value      \n",
       "male               -0.33771470 0.044040563  -7.6682649  1.743385e-14\n",
       "age_filter_i0      -0.40062594 0.043790253  -9.1487468  5.759781e-20\n",
       "tdi                 0.04007090 0.006885343   5.8197390  5.893958e-09\n",
       "bmi_filter         -0.07558182 0.044622899  -1.6937899  9.030521e-02\n",
       "sleep_filter       -0.34363005 0.046226302  -7.4336478  1.056430e-13\n",
       "smok_stat           0.13594483 0.031151939   4.3639283  1.277474e-05\n",
       "full_screen_time    0.03805484 0.009440537   4.0310035  5.553922e-05\n",
       "alc_freq_filter    -0.01728586 0.030040407  -0.5754205  5.650070e-01\n",
       "met_minweek_filter -0.01062509 0.003293029  -3.2265417  1.252960e-03\n",
       "0|1                -4.16539158 0.103653069 -40.1858974  0.000000e+00\n",
       "1|2                 0.82884048 0.088869540   9.3264855  1.094396e-20\n",
       "2|3                 2.78374610 0.098120148  28.3707899 4.638128e-177\n",
       "3|4                 3.84714839 0.117187523  32.8289931 2.271998e-236"
      ]
     },
     "metadata": {},
     "output_type": "display_data"
    }
   ],
   "source": [
    "## calculate and store p values\n",
    "p_dn <- pnorm(abs(ctable_dn[, \"t value\"]), lower.tail = FALSE) * 2\n",
    "## combined table\n",
    "(ctable_dn <- cbind(ctable_dn, \"p value\" = p_dn))"
   ]
  },
  {
   "cell_type": "code",
   "execution_count": 18,
   "id": "175d053b-659f-4bfb-9e9b-dc6168783f99",
   "metadata": {
    "tags": []
   },
   "outputs": [
    {
     "data": {
      "text/html": [
       "<style>\n",
       ".dl-inline {width: auto; margin:0; padding: 0}\n",
       ".dl-inline>dt, .dl-inline>dd {float: none; width: auto; display: inline-block}\n",
       ".dl-inline>dt::after {content: \":\\0020\"; padding-right: .5ex}\n",
       ".dl-inline>dt:not(:first-of-type) {padding-left: .5ex}\n",
       "</style><dl class=dl-inline><dt>male</dt><dd>0.953414551326367</dd><dt>age_filter_i0</dt><dd>0.523553740139915</dd><dt>tdi</dt><dd>1.04843518769706</dd><dt>bmi_filter</dt><dd>1.01388292822202</dd><dt>sleep_filter</dt><dd>0.581430313935815</dd><dt>smok_stat</dt><dd>1.15076617399009</dd><dt>full_screen_time</dt><dd>1.05788413642426</dd><dt>alc_freq_filter</dt><dd>0.90811722296002</dd><dt>met_minweek_filter</dt><dd>0.98444609977401</dd></dl>\n"
      ],
      "text/latex": [
       "\\begin{description*}\n",
       "\\item[male] 0.953414551326367\n",
       "\\item[age\\textbackslash{}\\_filter\\textbackslash{}\\_i0] 0.523553740139915\n",
       "\\item[tdi] 1.04843518769706\n",
       "\\item[bmi\\textbackslash{}\\_filter] 1.01388292822202\n",
       "\\item[sleep\\textbackslash{}\\_filter] 0.581430313935815\n",
       "\\item[smok\\textbackslash{}\\_stat] 1.15076617399009\n",
       "\\item[full\\textbackslash{}\\_screen\\textbackslash{}\\_time] 1.05788413642426\n",
       "\\item[alc\\textbackslash{}\\_freq\\textbackslash{}\\_filter] 0.90811722296002\n",
       "\\item[met\\textbackslash{}\\_minweek\\textbackslash{}\\_filter] 0.98444609977401\n",
       "\\end{description*}\n"
      ],
      "text/markdown": [
       "male\n",
       ":   0.953414551326367age_filter_i0\n",
       ":   0.523553740139915tdi\n",
       ":   1.04843518769706bmi_filter\n",
       ":   1.01388292822202sleep_filter\n",
       ":   0.581430313935815smok_stat\n",
       ":   1.15076617399009full_screen_time\n",
       ":   1.05788413642426alc_freq_filter\n",
       ":   0.90811722296002met_minweek_filter\n",
       ":   0.98444609977401\n",
       "\n"
      ],
      "text/plain": [
       "              male      age_filter_i0                tdi         bmi_filter \n",
       "         0.9534146          0.5235537          1.0484352          1.0138829 \n",
       "      sleep_filter          smok_stat   full_screen_time    alc_freq_filter \n",
       "         0.5814303          1.1507662          1.0578841          0.9081172 \n",
       "met_minweek_filter \n",
       "         0.9844461 "
      ]
     },
     "metadata": {},
     "output_type": "display_data"
    }
   ],
   "source": [
    "## odds ratios\n",
    "exp(coef(model_dy))"
   ]
  },
  {
   "cell_type": "code",
   "execution_count": 19,
   "id": "58bb0992-4c54-4f8d-b3f3-97256910efc4",
   "metadata": {
    "tags": []
   },
   "outputs": [
    {
     "data": {
      "text/html": [
       "<style>\n",
       ".dl-inline {width: auto; margin:0; padding: 0}\n",
       ".dl-inline>dt, .dl-inline>dd {float: none; width: auto; display: inline-block}\n",
       ".dl-inline>dt::after {content: \":\\0020\"; padding-right: .5ex}\n",
       ".dl-inline>dt:not(:first-of-type) {padding-left: .5ex}\n",
       "</style><dl class=dl-inline><dt>male</dt><dd>0.713398791028679</dd><dt>age_filter_i0</dt><dd>0.669900598492983</dd><dt>tdi</dt><dd>1.04088456858583</dd><dt>bmi_filter</dt><dd>0.927203867185674</dd><dt>sleep_filter</dt><dd>0.709191247812831</dd><dt>smok_stat</dt><dd>1.14561868662383</dd><dt>full_screen_time</dt><dd>1.03878819588163</dd><dt>alc_freq_filter</dt><dd>0.982862678575832</dd><dt>met_minweek_filter</dt><dd>0.989431152965943</dd></dl>\n"
      ],
      "text/latex": [
       "\\begin{description*}\n",
       "\\item[male] 0.713398791028679\n",
       "\\item[age\\textbackslash{}\\_filter\\textbackslash{}\\_i0] 0.669900598492983\n",
       "\\item[tdi] 1.04088456858583\n",
       "\\item[bmi\\textbackslash{}\\_filter] 0.927203867185674\n",
       "\\item[sleep\\textbackslash{}\\_filter] 0.709191247812831\n",
       "\\item[smok\\textbackslash{}\\_stat] 1.14561868662383\n",
       "\\item[full\\textbackslash{}\\_screen\\textbackslash{}\\_time] 1.03878819588163\n",
       "\\item[alc\\textbackslash{}\\_freq\\textbackslash{}\\_filter] 0.982862678575832\n",
       "\\item[met\\textbackslash{}\\_minweek\\textbackslash{}\\_filter] 0.989431152965943\n",
       "\\end{description*}\n"
      ],
      "text/markdown": [
       "male\n",
       ":   0.713398791028679age_filter_i0\n",
       ":   0.669900598492983tdi\n",
       ":   1.04088456858583bmi_filter\n",
       ":   0.927203867185674sleep_filter\n",
       ":   0.709191247812831smok_stat\n",
       ":   1.14561868662383full_screen_time\n",
       ":   1.03878819588163alc_freq_filter\n",
       ":   0.982862678575832met_minweek_filter\n",
       ":   0.989431152965943\n",
       "\n"
      ],
      "text/plain": [
       "              male      age_filter_i0                tdi         bmi_filter \n",
       "         0.7133988          0.6699006          1.0408846          0.9272039 \n",
       "      sleep_filter          smok_stat   full_screen_time    alc_freq_filter \n",
       "         0.7091912          1.1456187          1.0387882          0.9828627 \n",
       "met_minweek_filter \n",
       "         0.9894312 "
      ]
     },
     "metadata": {},
     "output_type": "display_data"
    }
   ],
   "source": [
    "## odds ratios\n",
    "exp(coef(model_dn))"
   ]
  },
  {
   "cell_type": "code",
   "execution_count": 20,
   "id": "07e66ed8-115a-4e76-9437-c4fc1ed8bb34",
   "metadata": {
    "tags": []
   },
   "outputs": [
    {
     "name": "stderr",
     "output_type": "stream",
     "text": [
      "Waiting for profiling to be done...\n",
      "\n",
      "\n",
      "Re-fitting to get Hessian\n",
      "\n",
      "\n"
     ]
    },
    {
     "data": {
      "text/html": [
       "<table class=\"dataframe\">\n",
       "<caption>A matrix: 9 × 2 of type dbl</caption>\n",
       "<thead>\n",
       "\t<tr><th></th><th scope=col>2.5 %</th><th scope=col>97.5 %</th></tr>\n",
       "</thead>\n",
       "<tbody>\n",
       "\t<tr><th scope=row>male</th><td>-0.253932569</td><td> 0.1582411511</td></tr>\n",
       "\t<tr><th scope=row>age_filter_i0</th><td>-0.850048727</td><td>-0.4450231978</td></tr>\n",
       "\t<tr><th scope=row>tdi</th><td> 0.017385330</td><td> 0.0772338923</td></tr>\n",
       "\t<tr><th scope=row>bmi_filter</th><td>-0.201741734</td><td> 0.2288354486</td></tr>\n",
       "\t<tr><th scope=row>sleep_filter</th><td>-0.753725127</td><td>-0.3312231137</td></tr>\n",
       "\t<tr><th scope=row>smok_stat</th><td> 0.005238743</td><td> 0.2756615345</td></tr>\n",
       "\t<tr><th scope=row>full_screen_time</th><td> 0.015784511</td><td> 0.0969065905</td></tr>\n",
       "\t<tr><th scope=row>alc_freq_filter</th><td>-0.232471127</td><td> 0.0394349804</td></tr>\n",
       "\t<tr><th scope=row>met_minweek_filter</th><td>-0.031954824</td><td> 0.0003878255</td></tr>\n",
       "</tbody>\n",
       "</table>\n"
      ],
      "text/latex": [
       "A matrix: 9 × 2 of type dbl\n",
       "\\begin{tabular}{r|ll}\n",
       "  & 2.5 \\% & 97.5 \\%\\\\\n",
       "\\hline\n",
       "\tmale & -0.253932569 &  0.1582411511\\\\\n",
       "\tage\\_filter\\_i0 & -0.850048727 & -0.4450231978\\\\\n",
       "\ttdi &  0.017385330 &  0.0772338923\\\\\n",
       "\tbmi\\_filter & -0.201741734 &  0.2288354486\\\\\n",
       "\tsleep\\_filter & -0.753725127 & -0.3312231137\\\\\n",
       "\tsmok\\_stat &  0.005238743 &  0.2756615345\\\\\n",
       "\tfull\\_screen\\_time &  0.015784511 &  0.0969065905\\\\\n",
       "\talc\\_freq\\_filter & -0.232471127 &  0.0394349804\\\\\n",
       "\tmet\\_minweek\\_filter & -0.031954824 &  0.0003878255\\\\\n",
       "\\end{tabular}\n"
      ],
      "text/markdown": [
       "\n",
       "A matrix: 9 × 2 of type dbl\n",
       "\n",
       "| <!--/--> | 2.5 % | 97.5 % |\n",
       "|---|---|---|\n",
       "| male | -0.253932569 |  0.1582411511 |\n",
       "| age_filter_i0 | -0.850048727 | -0.4450231978 |\n",
       "| tdi |  0.017385330 |  0.0772338923 |\n",
       "| bmi_filter | -0.201741734 |  0.2288354486 |\n",
       "| sleep_filter | -0.753725127 | -0.3312231137 |\n",
       "| smok_stat |  0.005238743 |  0.2756615345 |\n",
       "| full_screen_time |  0.015784511 |  0.0969065905 |\n",
       "| alc_freq_filter | -0.232471127 |  0.0394349804 |\n",
       "| met_minweek_filter | -0.031954824 |  0.0003878255 |\n",
       "\n"
      ],
      "text/plain": [
       "                   2.5 %        97.5 %       \n",
       "male               -0.253932569  0.1582411511\n",
       "age_filter_i0      -0.850048727 -0.4450231978\n",
       "tdi                 0.017385330  0.0772338923\n",
       "bmi_filter         -0.201741734  0.2288354486\n",
       "sleep_filter       -0.753725127 -0.3312231137\n",
       "smok_stat           0.005238743  0.2756615345\n",
       "full_screen_time    0.015784511  0.0969065905\n",
       "alc_freq_filter    -0.232471127  0.0394349804\n",
       "met_minweek_filter -0.031954824  0.0003878255"
      ]
     },
     "metadata": {},
     "output_type": "display_data"
    }
   ],
   "source": [
    "(ci_dy <- confint(model_dy)) # default method gives profiled CIs\n"
   ]
  },
  {
   "cell_type": "code",
   "execution_count": 21,
   "id": "c48112b6-adca-48b1-b025-690a9af6a9f5",
   "metadata": {
    "tags": []
   },
   "outputs": [
    {
     "name": "stderr",
     "output_type": "stream",
     "text": [
      "Waiting for profiling to be done...\n",
      "\n",
      "\n",
      "Re-fitting to get Hessian\n",
      "\n",
      "\n"
     ]
    },
    {
     "data": {
      "text/html": [
       "<table class=\"dataframe\">\n",
       "<caption>A matrix: 9 × 2 of type dbl</caption>\n",
       "<thead>\n",
       "\t<tr><th></th><th scope=col>2.5 %</th><th scope=col>97.5 %</th></tr>\n",
       "</thead>\n",
       "<tbody>\n",
       "\t<tr><th scope=row>male</th><td>-0.42408052</td><td>-0.25143304</td></tr>\n",
       "\t<tr><th scope=row>age_filter_i0</th><td>-0.48642015</td><td>-0.31475006</td></tr>\n",
       "\t<tr><th scope=row>tdi</th><td> 0.02654900</td><td> 0.05354106</td></tr>\n",
       "\t<tr><th scope=row>bmi_filter</th><td>-0.16322392</td><td> 0.01170930</td></tr>\n",
       "\t<tr><th scope=row>sleep_filter</th><td>-0.43411220</td><td>-0.25289531</td></tr>\n",
       "\t<tr><th scope=row>smok_stat</th><td> 0.07484228</td><td> 0.19696280</td></tr>\n",
       "\t<tr><th scope=row>full_screen_time</th><td> 0.01950445</td><td> 0.05651567</td></tr>\n",
       "\t<tr><th scope=row>alc_freq_filter</th><td>-0.07622690</td><td> 0.04153709</td></tr>\n",
       "\t<tr><th scope=row>met_minweek_filter</th><td>-0.01710405</td><td>-0.00419558</td></tr>\n",
       "</tbody>\n",
       "</table>\n"
      ],
      "text/latex": [
       "A matrix: 9 × 2 of type dbl\n",
       "\\begin{tabular}{r|ll}\n",
       "  & 2.5 \\% & 97.5 \\%\\\\\n",
       "\\hline\n",
       "\tmale & -0.42408052 & -0.25143304\\\\\n",
       "\tage\\_filter\\_i0 & -0.48642015 & -0.31475006\\\\\n",
       "\ttdi &  0.02654900 &  0.05354106\\\\\n",
       "\tbmi\\_filter & -0.16322392 &  0.01170930\\\\\n",
       "\tsleep\\_filter & -0.43411220 & -0.25289531\\\\\n",
       "\tsmok\\_stat &  0.07484228 &  0.19696280\\\\\n",
       "\tfull\\_screen\\_time &  0.01950445 &  0.05651567\\\\\n",
       "\talc\\_freq\\_filter & -0.07622690 &  0.04153709\\\\\n",
       "\tmet\\_minweek\\_filter & -0.01710405 & -0.00419558\\\\\n",
       "\\end{tabular}\n"
      ],
      "text/markdown": [
       "\n",
       "A matrix: 9 × 2 of type dbl\n",
       "\n",
       "| <!--/--> | 2.5 % | 97.5 % |\n",
       "|---|---|---|\n",
       "| male | -0.42408052 | -0.25143304 |\n",
       "| age_filter_i0 | -0.48642015 | -0.31475006 |\n",
       "| tdi |  0.02654900 |  0.05354106 |\n",
       "| bmi_filter | -0.16322392 |  0.01170930 |\n",
       "| sleep_filter | -0.43411220 | -0.25289531 |\n",
       "| smok_stat |  0.07484228 |  0.19696280 |\n",
       "| full_screen_time |  0.01950445 |  0.05651567 |\n",
       "| alc_freq_filter | -0.07622690 |  0.04153709 |\n",
       "| met_minweek_filter | -0.01710405 | -0.00419558 |\n",
       "\n"
      ],
      "text/plain": [
       "                   2.5 %       97.5 %     \n",
       "male               -0.42408052 -0.25143304\n",
       "age_filter_i0      -0.48642015 -0.31475006\n",
       "tdi                 0.02654900  0.05354106\n",
       "bmi_filter         -0.16322392  0.01170930\n",
       "sleep_filter       -0.43411220 -0.25289531\n",
       "smok_stat           0.07484228  0.19696280\n",
       "full_screen_time    0.01950445  0.05651567\n",
       "alc_freq_filter    -0.07622690  0.04153709\n",
       "met_minweek_filter -0.01710405 -0.00419558"
      ]
     },
     "metadata": {},
     "output_type": "display_data"
    }
   ],
   "source": [
    "(ci_dn <- confint(model_dn)) # default method gives profiled CIs"
   ]
  },
  {
   "cell_type": "code",
   "execution_count": 22,
   "id": "4e97673b-34af-497b-8ecd-83ae7d212913",
   "metadata": {
    "tags": []
   },
   "outputs": [
    {
     "name": "stderr",
     "output_type": "stream",
     "text": [
      "\n",
      "Re-fitting to get Hessian\n",
      "\n",
      "\n"
     ]
    },
    {
     "data": {
      "text/html": [
       "<table class=\"dataframe\">\n",
       "<caption>A matrix: 9 × 2 of type dbl</caption>\n",
       "<thead>\n",
       "\t<tr><th></th><th scope=col>2.5 %</th><th scope=col>97.5 %</th></tr>\n",
       "</thead>\n",
       "<tbody>\n",
       "\t<tr><th scope=row>male</th><td>-0.253745888</td><td> 0.158334940</td></tr>\n",
       "\t<tr><th scope=row>age_filter_i0</th><td>-0.849585897</td><td>-0.444645300</td></tr>\n",
       "\t<tr><th scope=row>tdi</th><td> 0.017384750</td><td> 0.077212760</td></tr>\n",
       "\t<tr><th scope=row>bmi_filter</th><td>-0.201445408</td><td> 0.229020294</td></tr>\n",
       "\t<tr><th scope=row>sleep_filter</th><td>-0.753464060</td><td>-0.331064245</td></tr>\n",
       "\t<tr><th scope=row>smok_stat</th><td> 0.005253908</td><td> 0.275602009</td></tr>\n",
       "\t<tr><th scope=row>full_screen_time</th><td> 0.015736133</td><td> 0.096805498</td></tr>\n",
       "\t<tr><th scope=row>alc_freq_filter</th><td>-0.232296473</td><td> 0.039532856</td></tr>\n",
       "\t<tr><th scope=row>met_minweek_filter</th><td>-0.031837322</td><td> 0.000485059</td></tr>\n",
       "</tbody>\n",
       "</table>\n"
      ],
      "text/latex": [
       "A matrix: 9 × 2 of type dbl\n",
       "\\begin{tabular}{r|ll}\n",
       "  & 2.5 \\% & 97.5 \\%\\\\\n",
       "\\hline\n",
       "\tmale & -0.253745888 &  0.158334940\\\\\n",
       "\tage\\_filter\\_i0 & -0.849585897 & -0.444645300\\\\\n",
       "\ttdi &  0.017384750 &  0.077212760\\\\\n",
       "\tbmi\\_filter & -0.201445408 &  0.229020294\\\\\n",
       "\tsleep\\_filter & -0.753464060 & -0.331064245\\\\\n",
       "\tsmok\\_stat &  0.005253908 &  0.275602009\\\\\n",
       "\tfull\\_screen\\_time &  0.015736133 &  0.096805498\\\\\n",
       "\talc\\_freq\\_filter & -0.232296473 &  0.039532856\\\\\n",
       "\tmet\\_minweek\\_filter & -0.031837322 &  0.000485059\\\\\n",
       "\\end{tabular}\n"
      ],
      "text/markdown": [
       "\n",
       "A matrix: 9 × 2 of type dbl\n",
       "\n",
       "| <!--/--> | 2.5 % | 97.5 % |\n",
       "|---|---|---|\n",
       "| male | -0.253745888 |  0.158334940 |\n",
       "| age_filter_i0 | -0.849585897 | -0.444645300 |\n",
       "| tdi |  0.017384750 |  0.077212760 |\n",
       "| bmi_filter | -0.201445408 |  0.229020294 |\n",
       "| sleep_filter | -0.753464060 | -0.331064245 |\n",
       "| smok_stat |  0.005253908 |  0.275602009 |\n",
       "| full_screen_time |  0.015736133 |  0.096805498 |\n",
       "| alc_freq_filter | -0.232296473 |  0.039532856 |\n",
       "| met_minweek_filter | -0.031837322 |  0.000485059 |\n",
       "\n"
      ],
      "text/plain": [
       "                   2.5 %        97.5 %      \n",
       "male               -0.253745888  0.158334940\n",
       "age_filter_i0      -0.849585897 -0.444645300\n",
       "tdi                 0.017384750  0.077212760\n",
       "bmi_filter         -0.201445408  0.229020294\n",
       "sleep_filter       -0.753464060 -0.331064245\n",
       "smok_stat           0.005253908  0.275602009\n",
       "full_screen_time    0.015736133  0.096805498\n",
       "alc_freq_filter    -0.232296473  0.039532856\n",
       "met_minweek_filter -0.031837322  0.000485059"
      ]
     },
     "metadata": {},
     "output_type": "display_data"
    }
   ],
   "source": [
    "confint.default(model_dy) # CIs assuming normality"
   ]
  },
  {
   "cell_type": "code",
   "execution_count": 23,
   "id": "6eee016b-2800-4b32-ac78-b1d124c2da27",
   "metadata": {
    "tags": []
   },
   "outputs": [
    {
     "name": "stderr",
     "output_type": "stream",
     "text": [
      "\n",
      "Re-fitting to get Hessian\n",
      "\n",
      "\n"
     ]
    },
    {
     "data": {
      "text/html": [
       "<table class=\"dataframe\">\n",
       "<caption>A matrix: 9 × 2 of type dbl</caption>\n",
       "<thead>\n",
       "\t<tr><th></th><th scope=col>2.5 %</th><th scope=col>97.5 %</th></tr>\n",
       "</thead>\n",
       "<tbody>\n",
       "\t<tr><th scope=row>male</th><td>-0.42403262</td><td>-0.251396784</td></tr>\n",
       "\t<tr><th scope=row>age_filter_i0</th><td>-0.48645326</td><td>-0.314798619</td></tr>\n",
       "\t<tr><th scope=row>tdi</th><td> 0.02657587</td><td> 0.053565922</td></tr>\n",
       "\t<tr><th scope=row>bmi_filter</th><td>-0.16304109</td><td> 0.011877458</td></tr>\n",
       "\t<tr><th scope=row>sleep_filter</th><td>-0.43423193</td><td>-0.253028159</td></tr>\n",
       "\t<tr><th scope=row>smok_stat</th><td> 0.07488815</td><td> 0.197001507</td></tr>\n",
       "\t<tr><th scope=row>full_screen_time</th><td> 0.01955173</td><td> 0.056557950</td></tr>\n",
       "\t<tr><th scope=row>alc_freq_filter</th><td>-0.07616398</td><td> 0.041592252</td></tr>\n",
       "\t<tr><th scope=row>met_minweek_filter</th><td>-0.01707931</td><td>-0.004170877</td></tr>\n",
       "</tbody>\n",
       "</table>\n"
      ],
      "text/latex": [
       "A matrix: 9 × 2 of type dbl\n",
       "\\begin{tabular}{r|ll}\n",
       "  & 2.5 \\% & 97.5 \\%\\\\\n",
       "\\hline\n",
       "\tmale & -0.42403262 & -0.251396784\\\\\n",
       "\tage\\_filter\\_i0 & -0.48645326 & -0.314798619\\\\\n",
       "\ttdi &  0.02657587 &  0.053565922\\\\\n",
       "\tbmi\\_filter & -0.16304109 &  0.011877458\\\\\n",
       "\tsleep\\_filter & -0.43423193 & -0.253028159\\\\\n",
       "\tsmok\\_stat &  0.07488815 &  0.197001507\\\\\n",
       "\tfull\\_screen\\_time &  0.01955173 &  0.056557950\\\\\n",
       "\talc\\_freq\\_filter & -0.07616398 &  0.041592252\\\\\n",
       "\tmet\\_minweek\\_filter & -0.01707931 & -0.004170877\\\\\n",
       "\\end{tabular}\n"
      ],
      "text/markdown": [
       "\n",
       "A matrix: 9 × 2 of type dbl\n",
       "\n",
       "| <!--/--> | 2.5 % | 97.5 % |\n",
       "|---|---|---|\n",
       "| male | -0.42403262 | -0.251396784 |\n",
       "| age_filter_i0 | -0.48645326 | -0.314798619 |\n",
       "| tdi |  0.02657587 |  0.053565922 |\n",
       "| bmi_filter | -0.16304109 |  0.011877458 |\n",
       "| sleep_filter | -0.43423193 | -0.253028159 |\n",
       "| smok_stat |  0.07488815 |  0.197001507 |\n",
       "| full_screen_time |  0.01955173 |  0.056557950 |\n",
       "| alc_freq_filter | -0.07616398 |  0.041592252 |\n",
       "| met_minweek_filter | -0.01707931 | -0.004170877 |\n",
       "\n"
      ],
      "text/plain": [
       "                   2.5 %       97.5 %      \n",
       "male               -0.42403262 -0.251396784\n",
       "age_filter_i0      -0.48645326 -0.314798619\n",
       "tdi                 0.02657587  0.053565922\n",
       "bmi_filter         -0.16304109  0.011877458\n",
       "sleep_filter       -0.43423193 -0.253028159\n",
       "smok_stat           0.07488815  0.197001507\n",
       "full_screen_time    0.01955173  0.056557950\n",
       "alc_freq_filter    -0.07616398  0.041592252\n",
       "met_minweek_filter -0.01707931 -0.004170877"
      ]
     },
     "metadata": {},
     "output_type": "display_data"
    }
   ],
   "source": [
    "confint.default(model_dn) # CIs assuming normality"
   ]
  },
  {
   "cell_type": "code",
   "execution_count": 24,
   "id": "f8519579-1c13-441d-b147-e9a86a5189eb",
   "metadata": {
    "tags": []
   },
   "outputs": [
    {
     "data": {
      "text/html": [
       "<table class=\"dataframe\">\n",
       "<caption>A matrix: 9 × 3 of type dbl</caption>\n",
       "<thead>\n",
       "\t<tr><th></th><th scope=col>OR</th><th scope=col>2.5 %</th><th scope=col>97.5 %</th></tr>\n",
       "</thead>\n",
       "<tbody>\n",
       "\t<tr><th scope=row>male</th><td>0.9534146</td><td>0.7757441</td><td>1.1714487</td></tr>\n",
       "\t<tr><th scope=row>age_filter_i0</th><td>0.5235537</td><td>0.4273941</td><td>0.6408094</td></tr>\n",
       "\t<tr><th scope=row>tdi</th><td>1.0484352</td><td>1.0175373</td><td>1.0802947</td></tr>\n",
       "\t<tr><th scope=row>bmi_filter</th><td>1.0138829</td><td>0.8173060</td><td>1.2571352</td></tr>\n",
       "\t<tr><th scope=row>sleep_filter</th><td>0.5814303</td><td>0.4706102</td><td>0.7180449</td></tr>\n",
       "\t<tr><th scope=row>smok_stat</th><td>1.1507662</td><td>1.0052525</td><td>1.3174019</td></tr>\n",
       "\t<tr><th scope=row>full_screen_time</th><td>1.0578841</td><td>1.0159097</td><td>1.1017575</td></tr>\n",
       "\t<tr><th scope=row>alc_freq_filter</th><td>0.9081172</td><td>0.7925726</td><td>1.0402229</td></tr>\n",
       "\t<tr><th scope=row>met_minweek_filter</th><td>0.9844461</td><td>0.9685503</td><td>1.0003879</td></tr>\n",
       "</tbody>\n",
       "</table>\n"
      ],
      "text/latex": [
       "A matrix: 9 × 3 of type dbl\n",
       "\\begin{tabular}{r|lll}\n",
       "  & OR & 2.5 \\% & 97.5 \\%\\\\\n",
       "\\hline\n",
       "\tmale & 0.9534146 & 0.7757441 & 1.1714487\\\\\n",
       "\tage\\_filter\\_i0 & 0.5235537 & 0.4273941 & 0.6408094\\\\\n",
       "\ttdi & 1.0484352 & 1.0175373 & 1.0802947\\\\\n",
       "\tbmi\\_filter & 1.0138829 & 0.8173060 & 1.2571352\\\\\n",
       "\tsleep\\_filter & 0.5814303 & 0.4706102 & 0.7180449\\\\\n",
       "\tsmok\\_stat & 1.1507662 & 1.0052525 & 1.3174019\\\\\n",
       "\tfull\\_screen\\_time & 1.0578841 & 1.0159097 & 1.1017575\\\\\n",
       "\talc\\_freq\\_filter & 0.9081172 & 0.7925726 & 1.0402229\\\\\n",
       "\tmet\\_minweek\\_filter & 0.9844461 & 0.9685503 & 1.0003879\\\\\n",
       "\\end{tabular}\n"
      ],
      "text/markdown": [
       "\n",
       "A matrix: 9 × 3 of type dbl\n",
       "\n",
       "| <!--/--> | OR | 2.5 % | 97.5 % |\n",
       "|---|---|---|---|\n",
       "| male | 0.9534146 | 0.7757441 | 1.1714487 |\n",
       "| age_filter_i0 | 0.5235537 | 0.4273941 | 0.6408094 |\n",
       "| tdi | 1.0484352 | 1.0175373 | 1.0802947 |\n",
       "| bmi_filter | 1.0138829 | 0.8173060 | 1.2571352 |\n",
       "| sleep_filter | 0.5814303 | 0.4706102 | 0.7180449 |\n",
       "| smok_stat | 1.1507662 | 1.0052525 | 1.3174019 |\n",
       "| full_screen_time | 1.0578841 | 1.0159097 | 1.1017575 |\n",
       "| alc_freq_filter | 0.9081172 | 0.7925726 | 1.0402229 |\n",
       "| met_minweek_filter | 0.9844461 | 0.9685503 | 1.0003879 |\n",
       "\n"
      ],
      "text/plain": [
       "                   OR        2.5 %     97.5 %   \n",
       "male               0.9534146 0.7757441 1.1714487\n",
       "age_filter_i0      0.5235537 0.4273941 0.6408094\n",
       "tdi                1.0484352 1.0175373 1.0802947\n",
       "bmi_filter         1.0138829 0.8173060 1.2571352\n",
       "sleep_filter       0.5814303 0.4706102 0.7180449\n",
       "smok_stat          1.1507662 1.0052525 1.3174019\n",
       "full_screen_time   1.0578841 1.0159097 1.1017575\n",
       "alc_freq_filter    0.9081172 0.7925726 1.0402229\n",
       "met_minweek_filter 0.9844461 0.9685503 1.0003879"
      ]
     },
     "metadata": {},
     "output_type": "display_data"
    }
   ],
   "source": [
    "## OR and CI\n",
    "exp(cbind(OR = coef(model_dy), ci_dy))"
   ]
  },
  {
   "cell_type": "code",
   "execution_count": 25,
   "id": "f689ea26-95e8-477c-b80c-7880ad4d98ba",
   "metadata": {
    "tags": []
   },
   "outputs": [
    {
     "data": {
      "text/html": [
       "<table class=\"dataframe\">\n",
       "<caption>A matrix: 9 × 3 of type dbl</caption>\n",
       "<thead>\n",
       "\t<tr><th></th><th scope=col>OR</th><th scope=col>2.5 %</th><th scope=col>97.5 %</th></tr>\n",
       "</thead>\n",
       "<tbody>\n",
       "\t<tr><th scope=row>male</th><td>0.7133988</td><td>0.6543712</td><td>0.7776855</td></tr>\n",
       "\t<tr><th scope=row>age_filter_i0</th><td>0.6699006</td><td>0.6148234</td><td>0.7299713</td></tr>\n",
       "\t<tr><th scope=row>tdi</th><td>1.0408846</td><td>1.0269046</td><td>1.0550003</td></tr>\n",
       "\t<tr><th scope=row>bmi_filter</th><td>0.9272039</td><td>0.8494010</td><td>1.0117781</td></tr>\n",
       "\t<tr><th scope=row>sleep_filter</th><td>0.7091912</td><td>0.6478396</td><td>0.7765492</td></tr>\n",
       "\t<tr><th scope=row>smok_stat</th><td>1.1456187</td><td>1.0777142</td><td>1.2176987</td></tr>\n",
       "\t<tr><th scope=row>full_screen_time</th><td>1.0387882</td><td>1.0196959</td><td>1.0581432</td></tr>\n",
       "\t<tr><th scope=row>alc_freq_filter</th><td>0.9828627</td><td>0.9266059</td><td>1.0424118</td></tr>\n",
       "\t<tr><th scope=row>met_minweek_filter</th><td>0.9894312</td><td>0.9830414</td><td>0.9958132</td></tr>\n",
       "</tbody>\n",
       "</table>\n"
      ],
      "text/latex": [
       "A matrix: 9 × 3 of type dbl\n",
       "\\begin{tabular}{r|lll}\n",
       "  & OR & 2.5 \\% & 97.5 \\%\\\\\n",
       "\\hline\n",
       "\tmale & 0.7133988 & 0.6543712 & 0.7776855\\\\\n",
       "\tage\\_filter\\_i0 & 0.6699006 & 0.6148234 & 0.7299713\\\\\n",
       "\ttdi & 1.0408846 & 1.0269046 & 1.0550003\\\\\n",
       "\tbmi\\_filter & 0.9272039 & 0.8494010 & 1.0117781\\\\\n",
       "\tsleep\\_filter & 0.7091912 & 0.6478396 & 0.7765492\\\\\n",
       "\tsmok\\_stat & 1.1456187 & 1.0777142 & 1.2176987\\\\\n",
       "\tfull\\_screen\\_time & 1.0387882 & 1.0196959 & 1.0581432\\\\\n",
       "\talc\\_freq\\_filter & 0.9828627 & 0.9266059 & 1.0424118\\\\\n",
       "\tmet\\_minweek\\_filter & 0.9894312 & 0.9830414 & 0.9958132\\\\\n",
       "\\end{tabular}\n"
      ],
      "text/markdown": [
       "\n",
       "A matrix: 9 × 3 of type dbl\n",
       "\n",
       "| <!--/--> | OR | 2.5 % | 97.5 % |\n",
       "|---|---|---|---|\n",
       "| male | 0.7133988 | 0.6543712 | 0.7776855 |\n",
       "| age_filter_i0 | 0.6699006 | 0.6148234 | 0.7299713 |\n",
       "| tdi | 1.0408846 | 1.0269046 | 1.0550003 |\n",
       "| bmi_filter | 0.9272039 | 0.8494010 | 1.0117781 |\n",
       "| sleep_filter | 0.7091912 | 0.6478396 | 0.7765492 |\n",
       "| smok_stat | 1.1456187 | 1.0777142 | 1.2176987 |\n",
       "| full_screen_time | 1.0387882 | 1.0196959 | 1.0581432 |\n",
       "| alc_freq_filter | 0.9828627 | 0.9266059 | 1.0424118 |\n",
       "| met_minweek_filter | 0.9894312 | 0.9830414 | 0.9958132 |\n",
       "\n"
      ],
      "text/plain": [
       "                   OR        2.5 %     97.5 %   \n",
       "male               0.7133988 0.6543712 0.7776855\n",
       "age_filter_i0      0.6699006 0.6148234 0.7299713\n",
       "tdi                1.0408846 1.0269046 1.0550003\n",
       "bmi_filter         0.9272039 0.8494010 1.0117781\n",
       "sleep_filter       0.7091912 0.6478396 0.7765492\n",
       "smok_stat          1.1456187 1.0777142 1.2176987\n",
       "full_screen_time   1.0387882 1.0196959 1.0581432\n",
       "alc_freq_filter    0.9828627 0.9266059 1.0424118\n",
       "met_minweek_filter 0.9894312 0.9830414 0.9958132"
      ]
     },
     "metadata": {},
     "output_type": "display_data"
    }
   ],
   "source": [
    "## OR and CI\n",
    "exp(cbind(OR = coef(model_dn), ci_dn))"
   ]
  },
  {
   "cell_type": "code",
   "execution_count": 26,
   "id": "10bd6d06-0a02-4df1-b088-0c258db678b6",
   "metadata": {
    "tags": []
   },
   "outputs": [],
   "source": [
    "#next model = px who had a cevd after followup visit"
   ]
  },
  {
   "cell_type": "code",
   "execution_count": null,
   "id": "6319d1bf-2910-4744-839d-2621a475f8bb",
   "metadata": {},
   "outputs": [],
   "source": []
  },
  {
   "cell_type": "code",
   "execution_count": 30,
   "id": "f62ed780-0e18-4ebf-b245-7f3d4b48c315",
   "metadata": {
    "tags": []
   },
   "outputs": [
    {
     "name": "stdout",
     "output_type": "stream",
     "text": [
      "[1] 603\n"
     ]
    }
   ],
   "source": [
    "data_1 <- read.csv(\"cevd_second_model.csv\")\n",
    "# check number of rows - should be 603 from initial baseline of px who have future cevd\n",
    "num_rows_1 <- nrow(data_1)\n",
    "print(num_rows_1)\n",
    "# create 2 separate dataframes, 1 has depressed px, other has non-depressed px\n",
    "data_dy_1 <-data_1[data_1$dep_diag_yes_1 == 1, ]\n",
    "data_dn_1 <- data_1[data_1$dep_diag_yes_1 == 0, ]"
   ]
  },
  {
   "cell_type": "code",
   "execution_count": 31,
   "id": "2409e866-6893-4168-a5c7-767e9f7f1eff",
   "metadata": {
    "tags": []
   },
   "outputs": [
    {
     "name": "stdout",
     "output_type": "stream",
     "text": [
      "[1] 64\n"
     ]
    }
   ],
   "source": [
    "num_rows_1 <- nrow(data_dy_1)\n",
    "print(num_rows_1)"
   ]
  },
  {
   "cell_type": "code",
   "execution_count": 32,
   "id": "9fd33cad-d0e8-413c-ac08-9081b24c587f",
   "metadata": {
    "tags": []
   },
   "outputs": [
    {
     "name": "stdout",
     "output_type": "stream",
     "text": [
      "[1] 539\n"
     ]
    }
   ],
   "source": [
    "num_rows_1 <- nrow(data_dn_1)\n",
    "print(num_rows_1)"
   ]
  },
  {
   "cell_type": "code",
   "execution_count": 39,
   "id": "34730692-b588-4b5a-9a03-204ea6a9a2e7",
   "metadata": {
    "tags": []
   },
   "outputs": [],
   "source": [
    "#data$age_filter_i0 <- ifelse(data$age_i0 < 60, 0, 1)\n",
    "data_dy_1$age_filter_i0 <- ifelse(data_dy_1$age_i0 < 60, 0, 1)\n",
    "data_dn_1$age_filter_i0 <- ifelse(data_dn_1$age_i0 < 60, 0, 1)\n",
    "#data$age_filter_i0 <- ifelse(data$age_i0 < 60, 0, 1)\n",
    "data_dy_1$sleep_filter_1 <- ifelse(data_dy_1$sleep_1 > 6 & data_dy_1$sleep_1 < 10, 1, 0)\n",
    "data_dn_1$sleep_filter_1 <- ifelse(data_dn_1$sleep_1 > 6 & data_dn_1$sleep_1 < 10, 1, 0)\n",
    "#data$age_filter_i0 <- ifelse(data$age_i0 < 60, 0, 1)\n",
    "data_dy_1$bmi_filter_1 <- ifelse(data_dy_1$bmi_1 > 18.4 & data_dy_1$bmi_1 < 26, 1, 0)\n",
    "data_dn_1$bmi_filter_1 <- ifelse(data_dn_1$bmi_1 > 18.4 & data_dn_1$bmi_1 < 26, 1, 0)\n",
    "#data$age_filter_i0 <- ifelse(data$age_i0 < 60, 0, 1)\n",
    "data_dy_1$smok_filter <- ifelse(data_dy_1$smok_stat > 0, 1, 0)\n",
    "data_dn_1$smok_filter <- ifelse(data_dn_1$smok_stat > 0, 1, 0)"
   ]
  },
  {
   "cell_type": "code",
   "execution_count": 40,
   "id": "a6a0c7ae-f7f8-4d0c-b7d2-b90378024222",
   "metadata": {
    "tags": []
   },
   "outputs": [],
   "source": [
    "# Convert the response variable to a factor with ordered levels\n",
    "data_dy_1$phq2_1_followup <- factor(data_dy_1$phq2_1_followup, ordered = TRUE, levels = c(0, 1, 2, 3, 4))\n",
    "data_dn_1$phq2_1_followup <- factor(data_dn_1$phq2_1_followup, ordered = TRUE, levels = c(0, 1, 2, 3, 4))"
   ]
  },
  {
   "cell_type": "code",
   "execution_count": 42,
   "id": "e4dde77b-1057-4eb9-bd5a-fa375389c84e",
   "metadata": {
    "tags": []
   },
   "outputs": [],
   "source": [
    "model_dy_1 <- polr(phq2_1_followup ~ phq2_1 + male  + age_filter_i0 + tdi + bmi_filter_1 +  sleep_filter_1 + smok_stat_1 + full_screen_time_1 + alc_freq_filter_1 + met_minweek_filter + cevd_before_i1, data = data_dy_1, method = \"logistic\")\n",
    "#model_dy_1 <- polr(phq2_1_followup ~ phq2_1 + sleep_filter + smok_filter + full_screen_time + alc_freq_filter +ipaq + cevd_before_i1, data = data_dy_1, method = \"logistic\")"
   ]
  },
  {
   "cell_type": "code",
   "execution_count": 43,
   "id": "fb8da998-89d6-4459-bc19-042efb73b8c5",
   "metadata": {
    "tags": []
   },
   "outputs": [],
   "source": [
    "model_dn_1 <- polr(phq2_1_followup ~ phq2_1 + male  + age_filter_i0 + tdi + bmi_filter_1 +  sleep_filter_1 + smok_stat_1 + full_screen_time_1 + alc_freq_filter_1 + met_minweek_filter + cevd_before_i1, data = data_dn_1, method = \"logistic\")\n",
    "#model_dy_1 <- polr(phq2_1_followup ~ phq2_1 + sleep_filter + smok_filter + full_screen_time + alc_freq_filter +ipaq + cevd_before_i1, data = data_dy_1, method = \"logistic\")"
   ]
  },
  {
   "cell_type": "code",
   "execution_count": 44,
   "id": "cab6ec41-4c75-4da1-9cae-66f43f164cbf",
   "metadata": {
    "tags": []
   },
   "outputs": [
    {
     "name": "stderr",
     "output_type": "stream",
     "text": [
      "\n",
      "Re-fitting to get Hessian\n",
      "\n",
      "\n"
     ]
    },
    {
     "data": {
      "text/plain": [
       "Call:\n",
       "polr(formula = phq2_1_followup ~ phq2_1 + male + age_filter_i0 + \n",
       "    tdi + bmi_filter_1 + sleep_filter_1 + smok_stat_1 + full_screen_time_1 + \n",
       "    alc_freq_filter_1 + met_minweek_filter + cevd_before_i1, \n",
       "    data = data_dy_1, method = \"logistic\")\n",
       "\n",
       "Coefficients:\n",
       "                      Value Std. Error  t value\n",
       "phq2_1              0.01519    0.32346  0.04696\n",
       "male               -0.28555    0.53998 -0.52881\n",
       "age_filter_i0      -0.56578    0.58265 -0.97105\n",
       "tdi                 0.01087    0.08608  0.12632\n",
       "bmi_filter_1       -0.71403    0.64259 -1.11117\n",
       "sleep_filter_1      0.06322    0.57497  0.10996\n",
       "smok_stat_1        -0.30527    0.55771 -0.54737\n",
       "full_screen_time_1  0.32144    0.13235  2.42878\n",
       "alc_freq_filter_1   0.02293    0.37697  0.06082\n",
       "met_minweek_filter -0.05019    0.06447 -0.77845\n",
       "cevd_before_i1     -0.26656    0.57354 -0.46476\n",
       "\n",
       "Intercepts:\n",
       "    Value   Std. Error t value\n",
       "0|1 -2.4698  1.4654    -1.6854\n",
       "1|2  0.5632  1.3720     0.4105\n",
       "2|3  2.6675  1.4357     1.8580\n",
       "3|4  3.7855  1.5055     2.5145\n",
       "\n",
       "Residual Deviance: 148.8823 \n",
       "AIC: 178.8823 "
      ]
     },
     "metadata": {},
     "output_type": "display_data"
    }
   ],
   "source": [
    "summary(model_dy_1)"
   ]
  },
  {
   "cell_type": "code",
   "execution_count": 45,
   "id": "475ec18a-8ec5-40a7-990f-309f8937e3d1",
   "metadata": {
    "tags": []
   },
   "outputs": [
    {
     "name": "stderr",
     "output_type": "stream",
     "text": [
      "\n",
      "Re-fitting to get Hessian\n",
      "\n",
      "\n"
     ]
    },
    {
     "data": {
      "text/plain": [
       "Call:\n",
       "polr(formula = phq2_1_followup ~ phq2_1 + male + age_filter_i0 + \n",
       "    tdi + bmi_filter_1 + sleep_filter_1 + smok_stat_1 + full_screen_time_1 + \n",
       "    alc_freq_filter_1 + met_minweek_filter + cevd_before_i1, \n",
       "    data = data_dn_1, method = \"logistic\")\n",
       "\n",
       "Coefficients:\n",
       "                      Value Std. Error t value\n",
       "phq2_1              1.77450    0.21717  8.1709\n",
       "male               -0.15090    0.26245 -0.5750\n",
       "age_filter_i0      -0.59423    0.25831 -2.3004\n",
       "tdi                -0.04941    0.05188 -0.9524\n",
       "bmi_filter_1       -0.37750    0.27020 -1.3971\n",
       "sleep_filter_1     -0.15795    0.29066 -0.5434\n",
       "smok_stat_1         0.15514    0.21785  0.7121\n",
       "full_screen_time_1 -0.03898    0.05891 -0.6617\n",
       "alc_freq_filter_1  -0.04807    0.18358 -0.2618\n",
       "met_minweek_filter  0.01941    0.02064  0.9407\n",
       "cevd_before_i1      0.18369    0.30817  0.5961\n",
       "\n",
       "Intercepts:\n",
       "    Value   Std. Error t value\n",
       "0|1 -2.9522  0.7350    -4.0168\n",
       "1|2  3.3729  0.6699     5.0352\n",
       "2|3  5.8133  0.7696     7.5534\n",
       "3|4  7.4892  0.9718     7.7066\n",
       "\n",
       "Residual Deviance: 539.7995 \n",
       "AIC: 569.7995 "
      ]
     },
     "metadata": {},
     "output_type": "display_data"
    }
   ],
   "source": [
    "summary(model_dn_1)"
   ]
  },
  {
   "cell_type": "code",
   "execution_count": 46,
   "id": "c8068a7e-3d78-4a8b-ac69-71dc66f64ea0",
   "metadata": {
    "tags": []
   },
   "outputs": [
    {
     "name": "stderr",
     "output_type": "stream",
     "text": [
      "\n",
      "Re-fitting to get Hessian\n",
      "\n",
      "\n"
     ]
    },
    {
     "data": {
      "text/html": [
       "<table class=\"dataframe\">\n",
       "<caption>A matrix: 15 × 3 of type dbl</caption>\n",
       "<thead>\n",
       "\t<tr><th></th><th scope=col>Value</th><th scope=col>Std. Error</th><th scope=col>t value</th></tr>\n",
       "</thead>\n",
       "<tbody>\n",
       "\t<tr><th scope=row>phq2_1</th><td> 0.01519086</td><td>0.32346456</td><td> 0.04696299</td></tr>\n",
       "\t<tr><th scope=row>male</th><td>-0.28554511</td><td>0.53997609</td><td>-0.52881066</td></tr>\n",
       "\t<tr><th scope=row>age_filter_i0</th><td>-0.56577904</td><td>0.58264577</td><td>-0.97105149</td></tr>\n",
       "\t<tr><th scope=row>tdi</th><td> 0.01087314</td><td>0.08607603</td><td> 0.12632018</td></tr>\n",
       "\t<tr><th scope=row>bmi_filter_1</th><td>-0.71402894</td><td>0.64259337</td><td>-1.11116761</td></tr>\n",
       "\t<tr><th scope=row>sleep_filter_1</th><td> 0.06322073</td><td>0.57496867</td><td> 0.10995509</td></tr>\n",
       "\t<tr><th scope=row>smok_stat_1</th><td>-0.30527364</td><td>0.55771226</td><td>-0.54736763</td></tr>\n",
       "\t<tr><th scope=row>full_screen_time_1</th><td> 0.32144179</td><td>0.13234692</td><td> 2.42878176</td></tr>\n",
       "\t<tr><th scope=row>alc_freq_filter_1</th><td> 0.02292632</td><td>0.37696766</td><td> 0.06081773</td></tr>\n",
       "\t<tr><th scope=row>met_minweek_filter</th><td>-0.05018783</td><td>0.06447137</td><td>-0.77845141</td></tr>\n",
       "\t<tr><th scope=row>cevd_before_i1</th><td>-0.26656105</td><td>0.57354413</td><td>-0.46476118</td></tr>\n",
       "\t<tr><th scope=row>0|1</th><td>-2.46976205</td><td>1.46540620</td><td>-1.68537710</td></tr>\n",
       "\t<tr><th scope=row>1|2</th><td> 0.56324940</td><td>1.37200011</td><td> 0.41053160</td></tr>\n",
       "\t<tr><th scope=row>2|3</th><td> 2.66747527</td><td>1.43566884</td><td> 1.85800178</td></tr>\n",
       "\t<tr><th scope=row>3|4</th><td> 3.78546637</td><td>1.50546130</td><td> 2.51448933</td></tr>\n",
       "</tbody>\n",
       "</table>\n"
      ],
      "text/latex": [
       "A matrix: 15 × 3 of type dbl\n",
       "\\begin{tabular}{r|lll}\n",
       "  & Value & Std. Error & t value\\\\\n",
       "\\hline\n",
       "\tphq2\\_1 &  0.01519086 & 0.32346456 &  0.04696299\\\\\n",
       "\tmale & -0.28554511 & 0.53997609 & -0.52881066\\\\\n",
       "\tage\\_filter\\_i0 & -0.56577904 & 0.58264577 & -0.97105149\\\\\n",
       "\ttdi &  0.01087314 & 0.08607603 &  0.12632018\\\\\n",
       "\tbmi\\_filter\\_1 & -0.71402894 & 0.64259337 & -1.11116761\\\\\n",
       "\tsleep\\_filter\\_1 &  0.06322073 & 0.57496867 &  0.10995509\\\\\n",
       "\tsmok\\_stat\\_1 & -0.30527364 & 0.55771226 & -0.54736763\\\\\n",
       "\tfull\\_screen\\_time\\_1 &  0.32144179 & 0.13234692 &  2.42878176\\\\\n",
       "\talc\\_freq\\_filter\\_1 &  0.02292632 & 0.37696766 &  0.06081773\\\\\n",
       "\tmet\\_minweek\\_filter & -0.05018783 & 0.06447137 & -0.77845141\\\\\n",
       "\tcevd\\_before\\_i1 & -0.26656105 & 0.57354413 & -0.46476118\\\\\n",
       "\t0\\textbar{}1 & -2.46976205 & 1.46540620 & -1.68537710\\\\\n",
       "\t1\\textbar{}2 &  0.56324940 & 1.37200011 &  0.41053160\\\\\n",
       "\t2\\textbar{}3 &  2.66747527 & 1.43566884 &  1.85800178\\\\\n",
       "\t3\\textbar{}4 &  3.78546637 & 1.50546130 &  2.51448933\\\\\n",
       "\\end{tabular}\n"
      ],
      "text/markdown": [
       "\n",
       "A matrix: 15 × 3 of type dbl\n",
       "\n",
       "| <!--/--> | Value | Std. Error | t value |\n",
       "|---|---|---|---|\n",
       "| phq2_1 |  0.01519086 | 0.32346456 |  0.04696299 |\n",
       "| male | -0.28554511 | 0.53997609 | -0.52881066 |\n",
       "| age_filter_i0 | -0.56577904 | 0.58264577 | -0.97105149 |\n",
       "| tdi |  0.01087314 | 0.08607603 |  0.12632018 |\n",
       "| bmi_filter_1 | -0.71402894 | 0.64259337 | -1.11116761 |\n",
       "| sleep_filter_1 |  0.06322073 | 0.57496867 |  0.10995509 |\n",
       "| smok_stat_1 | -0.30527364 | 0.55771226 | -0.54736763 |\n",
       "| full_screen_time_1 |  0.32144179 | 0.13234692 |  2.42878176 |\n",
       "| alc_freq_filter_1 |  0.02292632 | 0.37696766 |  0.06081773 |\n",
       "| met_minweek_filter | -0.05018783 | 0.06447137 | -0.77845141 |\n",
       "| cevd_before_i1 | -0.26656105 | 0.57354413 | -0.46476118 |\n",
       "| 0|1 | -2.46976205 | 1.46540620 | -1.68537710 |\n",
       "| 1|2 |  0.56324940 | 1.37200011 |  0.41053160 |\n",
       "| 2|3 |  2.66747527 | 1.43566884 |  1.85800178 |\n",
       "| 3|4 |  3.78546637 | 1.50546130 |  2.51448933 |\n",
       "\n"
      ],
      "text/plain": [
       "                   Value       Std. Error t value    \n",
       "phq2_1              0.01519086 0.32346456  0.04696299\n",
       "male               -0.28554511 0.53997609 -0.52881066\n",
       "age_filter_i0      -0.56577904 0.58264577 -0.97105149\n",
       "tdi                 0.01087314 0.08607603  0.12632018\n",
       "bmi_filter_1       -0.71402894 0.64259337 -1.11116761\n",
       "sleep_filter_1      0.06322073 0.57496867  0.10995509\n",
       "smok_stat_1        -0.30527364 0.55771226 -0.54736763\n",
       "full_screen_time_1  0.32144179 0.13234692  2.42878176\n",
       "alc_freq_filter_1   0.02292632 0.37696766  0.06081773\n",
       "met_minweek_filter -0.05018783 0.06447137 -0.77845141\n",
       "cevd_before_i1     -0.26656105 0.57354413 -0.46476118\n",
       "0|1                -2.46976205 1.46540620 -1.68537710\n",
       "1|2                 0.56324940 1.37200011  0.41053160\n",
       "2|3                 2.66747527 1.43566884  1.85800178\n",
       "3|4                 3.78546637 1.50546130  2.51448933"
      ]
     },
     "metadata": {},
     "output_type": "display_data"
    }
   ],
   "source": [
    "## store table\n",
    "(ctable_dy_1 <- coef(summary(model_dy_1)))"
   ]
  },
  {
   "cell_type": "code",
   "execution_count": 47,
   "id": "8fc7ed24-b520-4401-b1e4-0ba2e5433609",
   "metadata": {
    "tags": []
   },
   "outputs": [
    {
     "name": "stderr",
     "output_type": "stream",
     "text": [
      "\n",
      "Re-fitting to get Hessian\n",
      "\n",
      "\n"
     ]
    },
    {
     "data": {
      "text/html": [
       "<table class=\"dataframe\">\n",
       "<caption>A matrix: 15 × 3 of type dbl</caption>\n",
       "<thead>\n",
       "\t<tr><th></th><th scope=col>Value</th><th scope=col>Std. Error</th><th scope=col>t value</th></tr>\n",
       "</thead>\n",
       "<tbody>\n",
       "\t<tr><th scope=row>phq2_1</th><td> 1.77450104</td><td>0.21717229</td><td> 8.1709367</td></tr>\n",
       "\t<tr><th scope=row>male</th><td>-0.15089757</td><td>0.26245227</td><td>-0.5749524</td></tr>\n",
       "\t<tr><th scope=row>age_filter_i0</th><td>-0.59423104</td><td>0.25831267</td><td>-2.3004332</td></tr>\n",
       "\t<tr><th scope=row>tdi</th><td>-0.04941260</td><td>0.05188373</td><td>-0.9523719</td></tr>\n",
       "\t<tr><th scope=row>bmi_filter_1</th><td>-0.37750201</td><td>0.27020253</td><td>-1.3971076</td></tr>\n",
       "\t<tr><th scope=row>sleep_filter_1</th><td>-0.15794605</td><td>0.29066396</td><td>-0.5433974</td></tr>\n",
       "\t<tr><th scope=row>smok_stat_1</th><td> 0.15514237</td><td>0.21785384</td><td> 0.7121397</td></tr>\n",
       "\t<tr><th scope=row>full_screen_time_1</th><td>-0.03897992</td><td>0.05890730</td><td>-0.6617164</td></tr>\n",
       "\t<tr><th scope=row>alc_freq_filter_1</th><td>-0.04807091</td><td>0.18358235</td><td>-0.2618493</td></tr>\n",
       "\t<tr><th scope=row>met_minweek_filter</th><td> 0.01941100</td><td>0.02063527</td><td> 0.9406712</td></tr>\n",
       "\t<tr><th scope=row>cevd_before_i1</th><td> 0.18369465</td><td>0.30817189</td><td> 0.5960785</td></tr>\n",
       "\t<tr><th scope=row>0|1</th><td>-2.95222189</td><td>0.73497631</td><td>-4.0167579</td></tr>\n",
       "\t<tr><th scope=row>1|2</th><td> 3.37285202</td><td>0.66986091</td><td> 5.0351528</td></tr>\n",
       "\t<tr><th scope=row>2|3</th><td> 5.81334327</td><td>0.76963557</td><td> 7.5533713</td></tr>\n",
       "\t<tr><th scope=row>3|4</th><td> 7.48918110</td><td>0.97178435</td><td> 7.7066286</td></tr>\n",
       "</tbody>\n",
       "</table>\n"
      ],
      "text/latex": [
       "A matrix: 15 × 3 of type dbl\n",
       "\\begin{tabular}{r|lll}\n",
       "  & Value & Std. Error & t value\\\\\n",
       "\\hline\n",
       "\tphq2\\_1 &  1.77450104 & 0.21717229 &  8.1709367\\\\\n",
       "\tmale & -0.15089757 & 0.26245227 & -0.5749524\\\\\n",
       "\tage\\_filter\\_i0 & -0.59423104 & 0.25831267 & -2.3004332\\\\\n",
       "\ttdi & -0.04941260 & 0.05188373 & -0.9523719\\\\\n",
       "\tbmi\\_filter\\_1 & -0.37750201 & 0.27020253 & -1.3971076\\\\\n",
       "\tsleep\\_filter\\_1 & -0.15794605 & 0.29066396 & -0.5433974\\\\\n",
       "\tsmok\\_stat\\_1 &  0.15514237 & 0.21785384 &  0.7121397\\\\\n",
       "\tfull\\_screen\\_time\\_1 & -0.03897992 & 0.05890730 & -0.6617164\\\\\n",
       "\talc\\_freq\\_filter\\_1 & -0.04807091 & 0.18358235 & -0.2618493\\\\\n",
       "\tmet\\_minweek\\_filter &  0.01941100 & 0.02063527 &  0.9406712\\\\\n",
       "\tcevd\\_before\\_i1 &  0.18369465 & 0.30817189 &  0.5960785\\\\\n",
       "\t0\\textbar{}1 & -2.95222189 & 0.73497631 & -4.0167579\\\\\n",
       "\t1\\textbar{}2 &  3.37285202 & 0.66986091 &  5.0351528\\\\\n",
       "\t2\\textbar{}3 &  5.81334327 & 0.76963557 &  7.5533713\\\\\n",
       "\t3\\textbar{}4 &  7.48918110 & 0.97178435 &  7.7066286\\\\\n",
       "\\end{tabular}\n"
      ],
      "text/markdown": [
       "\n",
       "A matrix: 15 × 3 of type dbl\n",
       "\n",
       "| <!--/--> | Value | Std. Error | t value |\n",
       "|---|---|---|---|\n",
       "| phq2_1 |  1.77450104 | 0.21717229 |  8.1709367 |\n",
       "| male | -0.15089757 | 0.26245227 | -0.5749524 |\n",
       "| age_filter_i0 | -0.59423104 | 0.25831267 | -2.3004332 |\n",
       "| tdi | -0.04941260 | 0.05188373 | -0.9523719 |\n",
       "| bmi_filter_1 | -0.37750201 | 0.27020253 | -1.3971076 |\n",
       "| sleep_filter_1 | -0.15794605 | 0.29066396 | -0.5433974 |\n",
       "| smok_stat_1 |  0.15514237 | 0.21785384 |  0.7121397 |\n",
       "| full_screen_time_1 | -0.03897992 | 0.05890730 | -0.6617164 |\n",
       "| alc_freq_filter_1 | -0.04807091 | 0.18358235 | -0.2618493 |\n",
       "| met_minweek_filter |  0.01941100 | 0.02063527 |  0.9406712 |\n",
       "| cevd_before_i1 |  0.18369465 | 0.30817189 |  0.5960785 |\n",
       "| 0|1 | -2.95222189 | 0.73497631 | -4.0167579 |\n",
       "| 1|2 |  3.37285202 | 0.66986091 |  5.0351528 |\n",
       "| 2|3 |  5.81334327 | 0.76963557 |  7.5533713 |\n",
       "| 3|4 |  7.48918110 | 0.97178435 |  7.7066286 |\n",
       "\n"
      ],
      "text/plain": [
       "                   Value       Std. Error t value   \n",
       "phq2_1              1.77450104 0.21717229  8.1709367\n",
       "male               -0.15089757 0.26245227 -0.5749524\n",
       "age_filter_i0      -0.59423104 0.25831267 -2.3004332\n",
       "tdi                -0.04941260 0.05188373 -0.9523719\n",
       "bmi_filter_1       -0.37750201 0.27020253 -1.3971076\n",
       "sleep_filter_1     -0.15794605 0.29066396 -0.5433974\n",
       "smok_stat_1         0.15514237 0.21785384  0.7121397\n",
       "full_screen_time_1 -0.03897992 0.05890730 -0.6617164\n",
       "alc_freq_filter_1  -0.04807091 0.18358235 -0.2618493\n",
       "met_minweek_filter  0.01941100 0.02063527  0.9406712\n",
       "cevd_before_i1      0.18369465 0.30817189  0.5960785\n",
       "0|1                -2.95222189 0.73497631 -4.0167579\n",
       "1|2                 3.37285202 0.66986091  5.0351528\n",
       "2|3                 5.81334327 0.76963557  7.5533713\n",
       "3|4                 7.48918110 0.97178435  7.7066286"
      ]
     },
     "metadata": {},
     "output_type": "display_data"
    }
   ],
   "source": [
    "## store table\n",
    "(ctable_dn_1 <- coef(summary(model_dn_1)))"
   ]
  },
  {
   "cell_type": "code",
   "execution_count": 48,
   "id": "d83bdb73-3b45-464f-a70c-d2e6a361b0ef",
   "metadata": {
    "tags": []
   },
   "outputs": [
    {
     "data": {
      "text/html": [
       "<table class=\"dataframe\">\n",
       "<caption>A matrix: 15 × 4 of type dbl</caption>\n",
       "<thead>\n",
       "\t<tr><th></th><th scope=col>Value</th><th scope=col>Std. Error</th><th scope=col>t value</th><th scope=col>p value</th></tr>\n",
       "</thead>\n",
       "<tbody>\n",
       "\t<tr><th scope=row>phq2_1</th><td> 0.01519086</td><td>0.32346456</td><td> 0.04696299</td><td>0.96254272</td></tr>\n",
       "\t<tr><th scope=row>male</th><td>-0.28554511</td><td>0.53997609</td><td>-0.52881066</td><td>0.59693680</td></tr>\n",
       "\t<tr><th scope=row>age_filter_i0</th><td>-0.56577904</td><td>0.58264577</td><td>-0.97105149</td><td>0.33152264</td></tr>\n",
       "\t<tr><th scope=row>tdi</th><td> 0.01087314</td><td>0.08607603</td><td> 0.12632018</td><td>0.89947849</td></tr>\n",
       "\t<tr><th scope=row>bmi_filter_1</th><td>-0.71402894</td><td>0.64259337</td><td>-1.11116761</td><td>0.26649621</td></tr>\n",
       "\t<tr><th scope=row>sleep_filter_1</th><td> 0.06322073</td><td>0.57496867</td><td> 0.10995509</td><td>0.91244499</td></tr>\n",
       "\t<tr><th scope=row>smok_stat_1</th><td>-0.30527364</td><td>0.55771226</td><td>-0.54736763</td><td>0.58412619</td></tr>\n",
       "\t<tr><th scope=row>full_screen_time_1</th><td> 0.32144179</td><td>0.13234692</td><td> 2.42878176</td><td>0.01514965</td></tr>\n",
       "\t<tr><th scope=row>alc_freq_filter_1</th><td> 0.02292632</td><td>0.37696766</td><td> 0.06081773</td><td>0.95150437</td></tr>\n",
       "\t<tr><th scope=row>met_minweek_filter</th><td>-0.05018783</td><td>0.06447137</td><td>-0.77845141</td><td>0.43630294</td></tr>\n",
       "\t<tr><th scope=row>cevd_before_i1</th><td>-0.26656105</td><td>0.57354413</td><td>-0.46476118</td><td>0.64210249</td></tr>\n",
       "\t<tr><th scope=row>0|1</th><td>-2.46976205</td><td>1.46540620</td><td>-1.68537710</td><td>0.09191584</td></tr>\n",
       "\t<tr><th scope=row>1|2</th><td> 0.56324940</td><td>1.37200011</td><td> 0.41053160</td><td>0.68141603</td></tr>\n",
       "\t<tr><th scope=row>2|3</th><td> 2.66747527</td><td>1.43566884</td><td> 1.85800178</td><td>0.06316876</td></tr>\n",
       "\t<tr><th scope=row>3|4</th><td> 3.78546637</td><td>1.50546130</td><td> 2.51448933</td><td>0.01192049</td></tr>\n",
       "</tbody>\n",
       "</table>\n"
      ],
      "text/latex": [
       "A matrix: 15 × 4 of type dbl\n",
       "\\begin{tabular}{r|llll}\n",
       "  & Value & Std. Error & t value & p value\\\\\n",
       "\\hline\n",
       "\tphq2\\_1 &  0.01519086 & 0.32346456 &  0.04696299 & 0.96254272\\\\\n",
       "\tmale & -0.28554511 & 0.53997609 & -0.52881066 & 0.59693680\\\\\n",
       "\tage\\_filter\\_i0 & -0.56577904 & 0.58264577 & -0.97105149 & 0.33152264\\\\\n",
       "\ttdi &  0.01087314 & 0.08607603 &  0.12632018 & 0.89947849\\\\\n",
       "\tbmi\\_filter\\_1 & -0.71402894 & 0.64259337 & -1.11116761 & 0.26649621\\\\\n",
       "\tsleep\\_filter\\_1 &  0.06322073 & 0.57496867 &  0.10995509 & 0.91244499\\\\\n",
       "\tsmok\\_stat\\_1 & -0.30527364 & 0.55771226 & -0.54736763 & 0.58412619\\\\\n",
       "\tfull\\_screen\\_time\\_1 &  0.32144179 & 0.13234692 &  2.42878176 & 0.01514965\\\\\n",
       "\talc\\_freq\\_filter\\_1 &  0.02292632 & 0.37696766 &  0.06081773 & 0.95150437\\\\\n",
       "\tmet\\_minweek\\_filter & -0.05018783 & 0.06447137 & -0.77845141 & 0.43630294\\\\\n",
       "\tcevd\\_before\\_i1 & -0.26656105 & 0.57354413 & -0.46476118 & 0.64210249\\\\\n",
       "\t0\\textbar{}1 & -2.46976205 & 1.46540620 & -1.68537710 & 0.09191584\\\\\n",
       "\t1\\textbar{}2 &  0.56324940 & 1.37200011 &  0.41053160 & 0.68141603\\\\\n",
       "\t2\\textbar{}3 &  2.66747527 & 1.43566884 &  1.85800178 & 0.06316876\\\\\n",
       "\t3\\textbar{}4 &  3.78546637 & 1.50546130 &  2.51448933 & 0.01192049\\\\\n",
       "\\end{tabular}\n"
      ],
      "text/markdown": [
       "\n",
       "A matrix: 15 × 4 of type dbl\n",
       "\n",
       "| <!--/--> | Value | Std. Error | t value | p value |\n",
       "|---|---|---|---|---|\n",
       "| phq2_1 |  0.01519086 | 0.32346456 |  0.04696299 | 0.96254272 |\n",
       "| male | -0.28554511 | 0.53997609 | -0.52881066 | 0.59693680 |\n",
       "| age_filter_i0 | -0.56577904 | 0.58264577 | -0.97105149 | 0.33152264 |\n",
       "| tdi |  0.01087314 | 0.08607603 |  0.12632018 | 0.89947849 |\n",
       "| bmi_filter_1 | -0.71402894 | 0.64259337 | -1.11116761 | 0.26649621 |\n",
       "| sleep_filter_1 |  0.06322073 | 0.57496867 |  0.10995509 | 0.91244499 |\n",
       "| smok_stat_1 | -0.30527364 | 0.55771226 | -0.54736763 | 0.58412619 |\n",
       "| full_screen_time_1 |  0.32144179 | 0.13234692 |  2.42878176 | 0.01514965 |\n",
       "| alc_freq_filter_1 |  0.02292632 | 0.37696766 |  0.06081773 | 0.95150437 |\n",
       "| met_minweek_filter | -0.05018783 | 0.06447137 | -0.77845141 | 0.43630294 |\n",
       "| cevd_before_i1 | -0.26656105 | 0.57354413 | -0.46476118 | 0.64210249 |\n",
       "| 0|1 | -2.46976205 | 1.46540620 | -1.68537710 | 0.09191584 |\n",
       "| 1|2 |  0.56324940 | 1.37200011 |  0.41053160 | 0.68141603 |\n",
       "| 2|3 |  2.66747527 | 1.43566884 |  1.85800178 | 0.06316876 |\n",
       "| 3|4 |  3.78546637 | 1.50546130 |  2.51448933 | 0.01192049 |\n",
       "\n"
      ],
      "text/plain": [
       "                   Value       Std. Error t value     p value   \n",
       "phq2_1              0.01519086 0.32346456  0.04696299 0.96254272\n",
       "male               -0.28554511 0.53997609 -0.52881066 0.59693680\n",
       "age_filter_i0      -0.56577904 0.58264577 -0.97105149 0.33152264\n",
       "tdi                 0.01087314 0.08607603  0.12632018 0.89947849\n",
       "bmi_filter_1       -0.71402894 0.64259337 -1.11116761 0.26649621\n",
       "sleep_filter_1      0.06322073 0.57496867  0.10995509 0.91244499\n",
       "smok_stat_1        -0.30527364 0.55771226 -0.54736763 0.58412619\n",
       "full_screen_time_1  0.32144179 0.13234692  2.42878176 0.01514965\n",
       "alc_freq_filter_1   0.02292632 0.37696766  0.06081773 0.95150437\n",
       "met_minweek_filter -0.05018783 0.06447137 -0.77845141 0.43630294\n",
       "cevd_before_i1     -0.26656105 0.57354413 -0.46476118 0.64210249\n",
       "0|1                -2.46976205 1.46540620 -1.68537710 0.09191584\n",
       "1|2                 0.56324940 1.37200011  0.41053160 0.68141603\n",
       "2|3                 2.66747527 1.43566884  1.85800178 0.06316876\n",
       "3|4                 3.78546637 1.50546130  2.51448933 0.01192049"
      ]
     },
     "metadata": {},
     "output_type": "display_data"
    }
   ],
   "source": [
    "## calculate and store p values\n",
    "p_dy_1 <- pnorm(abs(ctable_dy_1[, \"t value\"]), lower.tail = FALSE) * 2\n",
    "## combined table\n",
    "(ctable_dy_1 <- cbind(ctable_dy_1, \"p value\" = p_dy_1))"
   ]
  },
  {
   "cell_type": "code",
   "execution_count": 49,
   "id": "f6a22939-84ab-4e7e-8116-abe5f1094d24",
   "metadata": {
    "tags": []
   },
   "outputs": [
    {
     "data": {
      "text/html": [
       "<table class=\"dataframe\">\n",
       "<caption>A matrix: 15 × 4 of type dbl</caption>\n",
       "<thead>\n",
       "\t<tr><th></th><th scope=col>Value</th><th scope=col>Std. Error</th><th scope=col>t value</th><th scope=col>p value</th></tr>\n",
       "</thead>\n",
       "<tbody>\n",
       "\t<tr><th scope=row>phq2_1</th><td> 1.77450104</td><td>0.21717229</td><td> 8.1709367</td><td>3.060042e-16</td></tr>\n",
       "\t<tr><th scope=row>male</th><td>-0.15089757</td><td>0.26245227</td><td>-0.5749524</td><td>5.653235e-01</td></tr>\n",
       "\t<tr><th scope=row>age_filter_i0</th><td>-0.59423104</td><td>0.25831267</td><td>-2.3004332</td><td>2.142369e-02</td></tr>\n",
       "\t<tr><th scope=row>tdi</th><td>-0.04941260</td><td>0.05188373</td><td>-0.9523719</td><td>3.409084e-01</td></tr>\n",
       "\t<tr><th scope=row>bmi_filter_1</th><td>-0.37750201</td><td>0.27020253</td><td>-1.3971076</td><td>1.623812e-01</td></tr>\n",
       "\t<tr><th scope=row>sleep_filter_1</th><td>-0.15794605</td><td>0.29066396</td><td>-0.5433974</td><td>5.868562e-01</td></tr>\n",
       "\t<tr><th scope=row>smok_stat_1</th><td> 0.15514237</td><td>0.21785384</td><td> 0.7121397</td><td>4.763783e-01</td></tr>\n",
       "\t<tr><th scope=row>full_screen_time_1</th><td>-0.03897992</td><td>0.05890730</td><td>-0.6617164</td><td>5.081530e-01</td></tr>\n",
       "\t<tr><th scope=row>alc_freq_filter_1</th><td>-0.04807091</td><td>0.18358235</td><td>-0.2618493</td><td>7.934376e-01</td></tr>\n",
       "\t<tr><th scope=row>met_minweek_filter</th><td> 0.01941100</td><td>0.02063527</td><td> 0.9406712</td><td>3.468734e-01</td></tr>\n",
       "\t<tr><th scope=row>cevd_before_i1</th><td> 0.18369465</td><td>0.30817189</td><td> 0.5960785</td><td>5.511228e-01</td></tr>\n",
       "\t<tr><th scope=row>0|1</th><td>-2.95222189</td><td>0.73497631</td><td>-4.0167579</td><td>5.900429e-05</td></tr>\n",
       "\t<tr><th scope=row>1|2</th><td> 3.37285202</td><td>0.66986091</td><td> 5.0351528</td><td>4.774678e-07</td></tr>\n",
       "\t<tr><th scope=row>2|3</th><td> 5.81334327</td><td>0.76963557</td><td> 7.5533713</td><td>4.241336e-14</td></tr>\n",
       "\t<tr><th scope=row>3|4</th><td> 7.48918110</td><td>0.97178435</td><td> 7.7066286</td><td>1.291850e-14</td></tr>\n",
       "</tbody>\n",
       "</table>\n"
      ],
      "text/latex": [
       "A matrix: 15 × 4 of type dbl\n",
       "\\begin{tabular}{r|llll}\n",
       "  & Value & Std. Error & t value & p value\\\\\n",
       "\\hline\n",
       "\tphq2\\_1 &  1.77450104 & 0.21717229 &  8.1709367 & 3.060042e-16\\\\\n",
       "\tmale & -0.15089757 & 0.26245227 & -0.5749524 & 5.653235e-01\\\\\n",
       "\tage\\_filter\\_i0 & -0.59423104 & 0.25831267 & -2.3004332 & 2.142369e-02\\\\\n",
       "\ttdi & -0.04941260 & 0.05188373 & -0.9523719 & 3.409084e-01\\\\\n",
       "\tbmi\\_filter\\_1 & -0.37750201 & 0.27020253 & -1.3971076 & 1.623812e-01\\\\\n",
       "\tsleep\\_filter\\_1 & -0.15794605 & 0.29066396 & -0.5433974 & 5.868562e-01\\\\\n",
       "\tsmok\\_stat\\_1 &  0.15514237 & 0.21785384 &  0.7121397 & 4.763783e-01\\\\\n",
       "\tfull\\_screen\\_time\\_1 & -0.03897992 & 0.05890730 & -0.6617164 & 5.081530e-01\\\\\n",
       "\talc\\_freq\\_filter\\_1 & -0.04807091 & 0.18358235 & -0.2618493 & 7.934376e-01\\\\\n",
       "\tmet\\_minweek\\_filter &  0.01941100 & 0.02063527 &  0.9406712 & 3.468734e-01\\\\\n",
       "\tcevd\\_before\\_i1 &  0.18369465 & 0.30817189 &  0.5960785 & 5.511228e-01\\\\\n",
       "\t0\\textbar{}1 & -2.95222189 & 0.73497631 & -4.0167579 & 5.900429e-05\\\\\n",
       "\t1\\textbar{}2 &  3.37285202 & 0.66986091 &  5.0351528 & 4.774678e-07\\\\\n",
       "\t2\\textbar{}3 &  5.81334327 & 0.76963557 &  7.5533713 & 4.241336e-14\\\\\n",
       "\t3\\textbar{}4 &  7.48918110 & 0.97178435 &  7.7066286 & 1.291850e-14\\\\\n",
       "\\end{tabular}\n"
      ],
      "text/markdown": [
       "\n",
       "A matrix: 15 × 4 of type dbl\n",
       "\n",
       "| <!--/--> | Value | Std. Error | t value | p value |\n",
       "|---|---|---|---|---|\n",
       "| phq2_1 |  1.77450104 | 0.21717229 |  8.1709367 | 3.060042e-16 |\n",
       "| male | -0.15089757 | 0.26245227 | -0.5749524 | 5.653235e-01 |\n",
       "| age_filter_i0 | -0.59423104 | 0.25831267 | -2.3004332 | 2.142369e-02 |\n",
       "| tdi | -0.04941260 | 0.05188373 | -0.9523719 | 3.409084e-01 |\n",
       "| bmi_filter_1 | -0.37750201 | 0.27020253 | -1.3971076 | 1.623812e-01 |\n",
       "| sleep_filter_1 | -0.15794605 | 0.29066396 | -0.5433974 | 5.868562e-01 |\n",
       "| smok_stat_1 |  0.15514237 | 0.21785384 |  0.7121397 | 4.763783e-01 |\n",
       "| full_screen_time_1 | -0.03897992 | 0.05890730 | -0.6617164 | 5.081530e-01 |\n",
       "| alc_freq_filter_1 | -0.04807091 | 0.18358235 | -0.2618493 | 7.934376e-01 |\n",
       "| met_minweek_filter |  0.01941100 | 0.02063527 |  0.9406712 | 3.468734e-01 |\n",
       "| cevd_before_i1 |  0.18369465 | 0.30817189 |  0.5960785 | 5.511228e-01 |\n",
       "| 0|1 | -2.95222189 | 0.73497631 | -4.0167579 | 5.900429e-05 |\n",
       "| 1|2 |  3.37285202 | 0.66986091 |  5.0351528 | 4.774678e-07 |\n",
       "| 2|3 |  5.81334327 | 0.76963557 |  7.5533713 | 4.241336e-14 |\n",
       "| 3|4 |  7.48918110 | 0.97178435 |  7.7066286 | 1.291850e-14 |\n",
       "\n"
      ],
      "text/plain": [
       "                   Value       Std. Error t value    p value     \n",
       "phq2_1              1.77450104 0.21717229  8.1709367 3.060042e-16\n",
       "male               -0.15089757 0.26245227 -0.5749524 5.653235e-01\n",
       "age_filter_i0      -0.59423104 0.25831267 -2.3004332 2.142369e-02\n",
       "tdi                -0.04941260 0.05188373 -0.9523719 3.409084e-01\n",
       "bmi_filter_1       -0.37750201 0.27020253 -1.3971076 1.623812e-01\n",
       "sleep_filter_1     -0.15794605 0.29066396 -0.5433974 5.868562e-01\n",
       "smok_stat_1         0.15514237 0.21785384  0.7121397 4.763783e-01\n",
       "full_screen_time_1 -0.03897992 0.05890730 -0.6617164 5.081530e-01\n",
       "alc_freq_filter_1  -0.04807091 0.18358235 -0.2618493 7.934376e-01\n",
       "met_minweek_filter  0.01941100 0.02063527  0.9406712 3.468734e-01\n",
       "cevd_before_i1      0.18369465 0.30817189  0.5960785 5.511228e-01\n",
       "0|1                -2.95222189 0.73497631 -4.0167579 5.900429e-05\n",
       "1|2                 3.37285202 0.66986091  5.0351528 4.774678e-07\n",
       "2|3                 5.81334327 0.76963557  7.5533713 4.241336e-14\n",
       "3|4                 7.48918110 0.97178435  7.7066286 1.291850e-14"
      ]
     },
     "metadata": {},
     "output_type": "display_data"
    }
   ],
   "source": [
    "## calculate and store p values\n",
    "p_dn_1 <- pnorm(abs(ctable_dn_1[, \"t value\"]), lower.tail = FALSE) * 2\n",
    "## combined table\n",
    "(ctable_dn_1 <- cbind(ctable_dn_1, \"p value\" = p_dn_1))"
   ]
  },
  {
   "cell_type": "code",
   "execution_count": 50,
   "id": "b4814f45-21a6-4ffb-8886-dce0dcb17242",
   "metadata": {
    "tags": []
   },
   "outputs": [
    {
     "data": {
      "text/html": [
       "<style>\n",
       ".dl-inline {width: auto; margin:0; padding: 0}\n",
       ".dl-inline>dt, .dl-inline>dd {float: none; width: auto; display: inline-block}\n",
       ".dl-inline>dt::after {content: \":\\0020\"; padding-right: .5ex}\n",
       ".dl-inline>dt:not(:first-of-type) {padding-left: .5ex}\n",
       "</style><dl class=dl-inline><dt>phq2_1</dt><dd>1.01530683079391</dd><dt>male</dt><dd>0.751604433267387</dd><dt>age_filter_i0</dt><dd>0.567917544210686</dd><dt>tdi</dt><dd>1.01093246729947</dd><dt>bmi_filter_1</dt><dd>0.489667376556222</dd><dt>sleep_filter_1</dt><dd>1.06526195039699</dd><dt>smok_stat_1</dt><dd>0.736921697081567</dd><dt>full_screen_time_1</dt><dd>1.37911472059233</dd><dt>alc_freq_filter_1</dt><dd>1.02319114622112</dd><dt>met_minweek_filter</dt><dd>0.951050773601745</dd><dt>cevd_before_i1</dt><dd>0.766009241125499</dd></dl>\n"
      ],
      "text/latex": [
       "\\begin{description*}\n",
       "\\item[phq2\\textbackslash{}\\_1] 1.01530683079391\n",
       "\\item[male] 0.751604433267387\n",
       "\\item[age\\textbackslash{}\\_filter\\textbackslash{}\\_i0] 0.567917544210686\n",
       "\\item[tdi] 1.01093246729947\n",
       "\\item[bmi\\textbackslash{}\\_filter\\textbackslash{}\\_1] 0.489667376556222\n",
       "\\item[sleep\\textbackslash{}\\_filter\\textbackslash{}\\_1] 1.06526195039699\n",
       "\\item[smok\\textbackslash{}\\_stat\\textbackslash{}\\_1] 0.736921697081567\n",
       "\\item[full\\textbackslash{}\\_screen\\textbackslash{}\\_time\\textbackslash{}\\_1] 1.37911472059233\n",
       "\\item[alc\\textbackslash{}\\_freq\\textbackslash{}\\_filter\\textbackslash{}\\_1] 1.02319114622112\n",
       "\\item[met\\textbackslash{}\\_minweek\\textbackslash{}\\_filter] 0.951050773601745\n",
       "\\item[cevd\\textbackslash{}\\_before\\textbackslash{}\\_i1] 0.766009241125499\n",
       "\\end{description*}\n"
      ],
      "text/markdown": [
       "phq2_1\n",
       ":   1.01530683079391male\n",
       ":   0.751604433267387age_filter_i0\n",
       ":   0.567917544210686tdi\n",
       ":   1.01093246729947bmi_filter_1\n",
       ":   0.489667376556222sleep_filter_1\n",
       ":   1.06526195039699smok_stat_1\n",
       ":   0.736921697081567full_screen_time_1\n",
       ":   1.37911472059233alc_freq_filter_1\n",
       ":   1.02319114622112met_minweek_filter\n",
       ":   0.951050773601745cevd_before_i1\n",
       ":   0.766009241125499\n",
       "\n"
      ],
      "text/plain": [
       "            phq2_1               male      age_filter_i0                tdi \n",
       "         1.0153068          0.7516044          0.5679175          1.0109325 \n",
       "      bmi_filter_1     sleep_filter_1        smok_stat_1 full_screen_time_1 \n",
       "         0.4896674          1.0652620          0.7369217          1.3791147 \n",
       " alc_freq_filter_1 met_minweek_filter     cevd_before_i1 \n",
       "         1.0231911          0.9510508          0.7660092 "
      ]
     },
     "metadata": {},
     "output_type": "display_data"
    }
   ],
   "source": [
    "## odds ratios\n",
    "exp(coef(model_dy_1))"
   ]
  },
  {
   "cell_type": "code",
   "execution_count": 51,
   "id": "ce8d2c9e-c4c0-4235-8063-5203243960a9",
   "metadata": {
    "tags": []
   },
   "outputs": [
    {
     "data": {
      "text/html": [
       "<style>\n",
       ".dl-inline {width: auto; margin:0; padding: 0}\n",
       ".dl-inline>dt, .dl-inline>dd {float: none; width: auto; display: inline-block}\n",
       ".dl-inline>dt::after {content: \":\\0020\"; padding-right: .5ex}\n",
       ".dl-inline>dt:not(:first-of-type) {padding-left: .5ex}\n",
       "</style><dl class=dl-inline><dt>phq2_1</dt><dd>5.8973378688898</dd><dt>male</dt><dd>0.859935776764962</dd><dt>age_filter_i0</dt><dd>0.551986857480752</dd><dt>tdi</dt><dd>0.951788341022653</dd><dt>bmi_filter_1</dt><dd>0.685571824495988</dd><dt>sleep_filter_1</dt><dd>0.853895848533576</dd><dt>smok_stat_1</dt><dd>1.16782421259797</dd><dt>full_screen_time_1</dt><dd>0.961770017174279</dd><dt>alc_freq_filter_1</dt><dd>0.95306620096776</dd><dt>met_minweek_filter</dt><dd>1.01960062121423</dd><dt>cevd_before_i1</dt><dd>1.20164884220208</dd></dl>\n"
      ],
      "text/latex": [
       "\\begin{description*}\n",
       "\\item[phq2\\textbackslash{}\\_1] 5.8973378688898\n",
       "\\item[male] 0.859935776764962\n",
       "\\item[age\\textbackslash{}\\_filter\\textbackslash{}\\_i0] 0.551986857480752\n",
       "\\item[tdi] 0.951788341022653\n",
       "\\item[bmi\\textbackslash{}\\_filter\\textbackslash{}\\_1] 0.685571824495988\n",
       "\\item[sleep\\textbackslash{}\\_filter\\textbackslash{}\\_1] 0.853895848533576\n",
       "\\item[smok\\textbackslash{}\\_stat\\textbackslash{}\\_1] 1.16782421259797\n",
       "\\item[full\\textbackslash{}\\_screen\\textbackslash{}\\_time\\textbackslash{}\\_1] 0.961770017174279\n",
       "\\item[alc\\textbackslash{}\\_freq\\textbackslash{}\\_filter\\textbackslash{}\\_1] 0.95306620096776\n",
       "\\item[met\\textbackslash{}\\_minweek\\textbackslash{}\\_filter] 1.01960062121423\n",
       "\\item[cevd\\textbackslash{}\\_before\\textbackslash{}\\_i1] 1.20164884220208\n",
       "\\end{description*}\n"
      ],
      "text/markdown": [
       "phq2_1\n",
       ":   5.8973378688898male\n",
       ":   0.859935776764962age_filter_i0\n",
       ":   0.551986857480752tdi\n",
       ":   0.951788341022653bmi_filter_1\n",
       ":   0.685571824495988sleep_filter_1\n",
       ":   0.853895848533576smok_stat_1\n",
       ":   1.16782421259797full_screen_time_1\n",
       ":   0.961770017174279alc_freq_filter_1\n",
       ":   0.95306620096776met_minweek_filter\n",
       ":   1.01960062121423cevd_before_i1\n",
       ":   1.20164884220208\n",
       "\n"
      ],
      "text/plain": [
       "            phq2_1               male      age_filter_i0                tdi \n",
       "         5.8973379          0.8599358          0.5519869          0.9517883 \n",
       "      bmi_filter_1     sleep_filter_1        smok_stat_1 full_screen_time_1 \n",
       "         0.6855718          0.8538958          1.1678242          0.9617700 \n",
       " alc_freq_filter_1 met_minweek_filter     cevd_before_i1 \n",
       "         0.9530662          1.0196006          1.2016488 "
      ]
     },
     "metadata": {},
     "output_type": "display_data"
    }
   ],
   "source": [
    "## odds ratios\n",
    "exp(coef(model_dn_1))"
   ]
  },
  {
   "cell_type": "code",
   "execution_count": 52,
   "id": "1417cc5c-67bf-4201-bbca-120782bd7fa7",
   "metadata": {
    "tags": []
   },
   "outputs": [
    {
     "name": "stderr",
     "output_type": "stream",
     "text": [
      "Waiting for profiling to be done...\n",
      "\n",
      "\n",
      "Re-fitting to get Hessian\n",
      "\n",
      "\n"
     ]
    },
    {
     "data": {
      "text/html": [
       "<table class=\"dataframe\">\n",
       "<caption>A matrix: 11 × 2 of type dbl</caption>\n",
       "<thead>\n",
       "\t<tr><th></th><th scope=col>2.5 %</th><th scope=col>97.5 %</th></tr>\n",
       "</thead>\n",
       "<tbody>\n",
       "\t<tr><th scope=row>phq2_1</th><td>-0.62813761</td><td>0.64832749</td></tr>\n",
       "\t<tr><th scope=row>male</th><td>-1.35366708</td><td>0.77471986</td></tr>\n",
       "\t<tr><th scope=row>age_filter_i0</th><td>-1.73025899</td><td>0.56634257</td></tr>\n",
       "\t<tr><th scope=row>tdi</th><td>-0.15766632</td><td>0.18122630</td></tr>\n",
       "\t<tr><th scope=row>bmi_filter_1</th><td>-2.00687441</td><td>0.52924994</td></tr>\n",
       "\t<tr><th scope=row>sleep_filter_1</th><td>-1.07967036</td><td>1.18664517</td></tr>\n",
       "\t<tr><th scope=row>smok_stat_1</th><td>-1.40020325</td><td>0.80314679</td></tr>\n",
       "\t<tr><th scope=row>full_screen_time_1</th><td> 0.06687994</td><td>0.58944865</td></tr>\n",
       "\t<tr><th scope=row>alc_freq_filter_1</th><td>-0.71958590</td><td>0.76761213</td></tr>\n",
       "\t<tr><th scope=row>met_minweek_filter</th><td>-0.17938803</td><td>0.07508364</td></tr>\n",
       "\t<tr><th scope=row>cevd_before_i1</th><td>-1.40720324</td><td>0.85620611</td></tr>\n",
       "</tbody>\n",
       "</table>\n"
      ],
      "text/latex": [
       "A matrix: 11 × 2 of type dbl\n",
       "\\begin{tabular}{r|ll}\n",
       "  & 2.5 \\% & 97.5 \\%\\\\\n",
       "\\hline\n",
       "\tphq2\\_1 & -0.62813761 & 0.64832749\\\\\n",
       "\tmale & -1.35366708 & 0.77471986\\\\\n",
       "\tage\\_filter\\_i0 & -1.73025899 & 0.56634257\\\\\n",
       "\ttdi & -0.15766632 & 0.18122630\\\\\n",
       "\tbmi\\_filter\\_1 & -2.00687441 & 0.52924994\\\\\n",
       "\tsleep\\_filter\\_1 & -1.07967036 & 1.18664517\\\\\n",
       "\tsmok\\_stat\\_1 & -1.40020325 & 0.80314679\\\\\n",
       "\tfull\\_screen\\_time\\_1 &  0.06687994 & 0.58944865\\\\\n",
       "\talc\\_freq\\_filter\\_1 & -0.71958590 & 0.76761213\\\\\n",
       "\tmet\\_minweek\\_filter & -0.17938803 & 0.07508364\\\\\n",
       "\tcevd\\_before\\_i1 & -1.40720324 & 0.85620611\\\\\n",
       "\\end{tabular}\n"
      ],
      "text/markdown": [
       "\n",
       "A matrix: 11 × 2 of type dbl\n",
       "\n",
       "| <!--/--> | 2.5 % | 97.5 % |\n",
       "|---|---|---|\n",
       "| phq2_1 | -0.62813761 | 0.64832749 |\n",
       "| male | -1.35366708 | 0.77471986 |\n",
       "| age_filter_i0 | -1.73025899 | 0.56634257 |\n",
       "| tdi | -0.15766632 | 0.18122630 |\n",
       "| bmi_filter_1 | -2.00687441 | 0.52924994 |\n",
       "| sleep_filter_1 | -1.07967036 | 1.18664517 |\n",
       "| smok_stat_1 | -1.40020325 | 0.80314679 |\n",
       "| full_screen_time_1 |  0.06687994 | 0.58944865 |\n",
       "| alc_freq_filter_1 | -0.71958590 | 0.76761213 |\n",
       "| met_minweek_filter | -0.17938803 | 0.07508364 |\n",
       "| cevd_before_i1 | -1.40720324 | 0.85620611 |\n",
       "\n"
      ],
      "text/plain": [
       "                   2.5 %       97.5 %    \n",
       "phq2_1             -0.62813761 0.64832749\n",
       "male               -1.35366708 0.77471986\n",
       "age_filter_i0      -1.73025899 0.56634257\n",
       "tdi                -0.15766632 0.18122630\n",
       "bmi_filter_1       -2.00687441 0.52924994\n",
       "sleep_filter_1     -1.07967036 1.18664517\n",
       "smok_stat_1        -1.40020325 0.80314679\n",
       "full_screen_time_1  0.06687994 0.58944865\n",
       "alc_freq_filter_1  -0.71958590 0.76761213\n",
       "met_minweek_filter -0.17938803 0.07508364\n",
       "cevd_before_i1     -1.40720324 0.85620611"
      ]
     },
     "metadata": {},
     "output_type": "display_data"
    }
   ],
   "source": [
    "(ci_dy_1 <- confint(model_dy_1)) # default method gives profiled CIs"
   ]
  },
  {
   "cell_type": "code",
   "execution_count": 53,
   "id": "0372a85b-3591-4c35-b6ef-12ae7eb4a904",
   "metadata": {
    "tags": []
   },
   "outputs": [
    {
     "name": "stderr",
     "output_type": "stream",
     "text": [
      "Waiting for profiling to be done...\n",
      "\n",
      "\n",
      "Re-fitting to get Hessian\n",
      "\n",
      "\n"
     ]
    },
    {
     "data": {
      "text/html": [
       "<table class=\"dataframe\">\n",
       "<caption>A matrix: 11 × 2 of type dbl</caption>\n",
       "<thead>\n",
       "\t<tr><th></th><th scope=col>2.5 %</th><th scope=col>97.5 %</th></tr>\n",
       "</thead>\n",
       "<tbody>\n",
       "\t<tr><th scope=row>phq2_1</th><td> 1.35407929</td><td> 2.20773465</td></tr>\n",
       "\t<tr><th scope=row>male</th><td>-0.66408643</td><td> 0.36717189</td></tr>\n",
       "\t<tr><th scope=row>age_filter_i0</th><td>-1.10248091</td><td>-0.08739397</td></tr>\n",
       "\t<tr><th scope=row>tdi</th><td>-0.15330108</td><td> 0.05031420</td></tr>\n",
       "\t<tr><th scope=row>bmi_filter_1</th><td>-0.91527488</td><td> 0.14664352</td></tr>\n",
       "\t<tr><th scope=row>sleep_filter_1</th><td>-0.71870196</td><td> 0.42305796</td></tr>\n",
       "\t<tr><th scope=row>smok_stat_1</th><td>-0.27581216</td><td> 0.57959531</td></tr>\n",
       "\t<tr><th scope=row>full_screen_time_1</th><td>-0.15638360</td><td> 0.07332623</td></tr>\n",
       "\t<tr><th scope=row>alc_freq_filter_1</th><td>-0.40973065</td><td> 0.31117724</td></tr>\n",
       "\t<tr><th scope=row>met_minweek_filter</th><td>-0.02203451</td><td> 0.05909677</td></tr>\n",
       "\t<tr><th scope=row>cevd_before_i1</th><td>-0.43560191</td><td> 0.77591421</td></tr>\n",
       "</tbody>\n",
       "</table>\n"
      ],
      "text/latex": [
       "A matrix: 11 × 2 of type dbl\n",
       "\\begin{tabular}{r|ll}\n",
       "  & 2.5 \\% & 97.5 \\%\\\\\n",
       "\\hline\n",
       "\tphq2\\_1 &  1.35407929 &  2.20773465\\\\\n",
       "\tmale & -0.66408643 &  0.36717189\\\\\n",
       "\tage\\_filter\\_i0 & -1.10248091 & -0.08739397\\\\\n",
       "\ttdi & -0.15330108 &  0.05031420\\\\\n",
       "\tbmi\\_filter\\_1 & -0.91527488 &  0.14664352\\\\\n",
       "\tsleep\\_filter\\_1 & -0.71870196 &  0.42305796\\\\\n",
       "\tsmok\\_stat\\_1 & -0.27581216 &  0.57959531\\\\\n",
       "\tfull\\_screen\\_time\\_1 & -0.15638360 &  0.07332623\\\\\n",
       "\talc\\_freq\\_filter\\_1 & -0.40973065 &  0.31117724\\\\\n",
       "\tmet\\_minweek\\_filter & -0.02203451 &  0.05909677\\\\\n",
       "\tcevd\\_before\\_i1 & -0.43560191 &  0.77591421\\\\\n",
       "\\end{tabular}\n"
      ],
      "text/markdown": [
       "\n",
       "A matrix: 11 × 2 of type dbl\n",
       "\n",
       "| <!--/--> | 2.5 % | 97.5 % |\n",
       "|---|---|---|\n",
       "| phq2_1 |  1.35407929 |  2.20773465 |\n",
       "| male | -0.66408643 |  0.36717189 |\n",
       "| age_filter_i0 | -1.10248091 | -0.08739397 |\n",
       "| tdi | -0.15330108 |  0.05031420 |\n",
       "| bmi_filter_1 | -0.91527488 |  0.14664352 |\n",
       "| sleep_filter_1 | -0.71870196 |  0.42305796 |\n",
       "| smok_stat_1 | -0.27581216 |  0.57959531 |\n",
       "| full_screen_time_1 | -0.15638360 |  0.07332623 |\n",
       "| alc_freq_filter_1 | -0.40973065 |  0.31117724 |\n",
       "| met_minweek_filter | -0.02203451 |  0.05909677 |\n",
       "| cevd_before_i1 | -0.43560191 |  0.77591421 |\n",
       "\n"
      ],
      "text/plain": [
       "                   2.5 %       97.5 %     \n",
       "phq2_1              1.35407929  2.20773465\n",
       "male               -0.66408643  0.36717189\n",
       "age_filter_i0      -1.10248091 -0.08739397\n",
       "tdi                -0.15330108  0.05031420\n",
       "bmi_filter_1       -0.91527488  0.14664352\n",
       "sleep_filter_1     -0.71870196  0.42305796\n",
       "smok_stat_1        -0.27581216  0.57959531\n",
       "full_screen_time_1 -0.15638360  0.07332623\n",
       "alc_freq_filter_1  -0.40973065  0.31117724\n",
       "met_minweek_filter -0.02203451  0.05909677\n",
       "cevd_before_i1     -0.43560191  0.77591421"
      ]
     },
     "metadata": {},
     "output_type": "display_data"
    }
   ],
   "source": [
    "(ci_dn_1 <- confint(model_dn_1)) # default method gives profiled CIs"
   ]
  },
  {
   "cell_type": "code",
   "execution_count": 54,
   "id": "afea075c-6a51-4334-aa29-f0f876e6c588",
   "metadata": {
    "tags": []
   },
   "outputs": [
    {
     "data": {
      "text/html": [
       "<table class=\"dataframe\">\n",
       "<caption>A matrix: 11 × 3 of type dbl</caption>\n",
       "<thead>\n",
       "\t<tr><th></th><th scope=col>OR</th><th scope=col>2.5 %</th><th scope=col>97.5 %</th></tr>\n",
       "</thead>\n",
       "<tbody>\n",
       "\t<tr><th scope=row>phq2_1</th><td>1.0153068</td><td>0.5335846</td><td>1.912340</td></tr>\n",
       "\t<tr><th scope=row>male</th><td>0.7516044</td><td>0.2582913</td><td>2.169984</td></tr>\n",
       "\t<tr><th scope=row>age_filter_i0</th><td>0.5679175</td><td>0.1772385</td><td>1.761812</td></tr>\n",
       "\t<tr><th scope=row>tdi</th><td>1.0109325</td><td>0.8541347</td><td>1.198686</td></tr>\n",
       "\t<tr><th scope=row>bmi_filter_1</th><td>0.4896674</td><td>0.1344081</td><td>1.697658</td></tr>\n",
       "\t<tr><th scope=row>sleep_filter_1</th><td>1.0652620</td><td>0.3397075</td><td>3.276072</td></tr>\n",
       "\t<tr><th scope=row>smok_stat_1</th><td>0.7369217</td><td>0.2465468</td><td>2.232555</td></tr>\n",
       "\t<tr><th scope=row>full_screen_time_1</th><td>1.3791147</td><td>1.0691671</td><td>1.802994</td></tr>\n",
       "\t<tr><th scope=row>alc_freq_filter_1</th><td>1.0231911</td><td>0.4869539</td><td>2.154615</td></tr>\n",
       "\t<tr><th scope=row>met_minweek_filter</th><td>0.9510508</td><td>0.8357815</td><td>1.077974</td></tr>\n",
       "\t<tr><th scope=row>cevd_before_i1</th><td>0.7660092</td><td>0.2448270</td><td>2.354212</td></tr>\n",
       "</tbody>\n",
       "</table>\n"
      ],
      "text/latex": [
       "A matrix: 11 × 3 of type dbl\n",
       "\\begin{tabular}{r|lll}\n",
       "  & OR & 2.5 \\% & 97.5 \\%\\\\\n",
       "\\hline\n",
       "\tphq2\\_1 & 1.0153068 & 0.5335846 & 1.912340\\\\\n",
       "\tmale & 0.7516044 & 0.2582913 & 2.169984\\\\\n",
       "\tage\\_filter\\_i0 & 0.5679175 & 0.1772385 & 1.761812\\\\\n",
       "\ttdi & 1.0109325 & 0.8541347 & 1.198686\\\\\n",
       "\tbmi\\_filter\\_1 & 0.4896674 & 0.1344081 & 1.697658\\\\\n",
       "\tsleep\\_filter\\_1 & 1.0652620 & 0.3397075 & 3.276072\\\\\n",
       "\tsmok\\_stat\\_1 & 0.7369217 & 0.2465468 & 2.232555\\\\\n",
       "\tfull\\_screen\\_time\\_1 & 1.3791147 & 1.0691671 & 1.802994\\\\\n",
       "\talc\\_freq\\_filter\\_1 & 1.0231911 & 0.4869539 & 2.154615\\\\\n",
       "\tmet\\_minweek\\_filter & 0.9510508 & 0.8357815 & 1.077974\\\\\n",
       "\tcevd\\_before\\_i1 & 0.7660092 & 0.2448270 & 2.354212\\\\\n",
       "\\end{tabular}\n"
      ],
      "text/markdown": [
       "\n",
       "A matrix: 11 × 3 of type dbl\n",
       "\n",
       "| <!--/--> | OR | 2.5 % | 97.5 % |\n",
       "|---|---|---|---|\n",
       "| phq2_1 | 1.0153068 | 0.5335846 | 1.912340 |\n",
       "| male | 0.7516044 | 0.2582913 | 2.169984 |\n",
       "| age_filter_i0 | 0.5679175 | 0.1772385 | 1.761812 |\n",
       "| tdi | 1.0109325 | 0.8541347 | 1.198686 |\n",
       "| bmi_filter_1 | 0.4896674 | 0.1344081 | 1.697658 |\n",
       "| sleep_filter_1 | 1.0652620 | 0.3397075 | 3.276072 |\n",
       "| smok_stat_1 | 0.7369217 | 0.2465468 | 2.232555 |\n",
       "| full_screen_time_1 | 1.3791147 | 1.0691671 | 1.802994 |\n",
       "| alc_freq_filter_1 | 1.0231911 | 0.4869539 | 2.154615 |\n",
       "| met_minweek_filter | 0.9510508 | 0.8357815 | 1.077974 |\n",
       "| cevd_before_i1 | 0.7660092 | 0.2448270 | 2.354212 |\n",
       "\n"
      ],
      "text/plain": [
       "                   OR        2.5 %     97.5 %  \n",
       "phq2_1             1.0153068 0.5335846 1.912340\n",
       "male               0.7516044 0.2582913 2.169984\n",
       "age_filter_i0      0.5679175 0.1772385 1.761812\n",
       "tdi                1.0109325 0.8541347 1.198686\n",
       "bmi_filter_1       0.4896674 0.1344081 1.697658\n",
       "sleep_filter_1     1.0652620 0.3397075 3.276072\n",
       "smok_stat_1        0.7369217 0.2465468 2.232555\n",
       "full_screen_time_1 1.3791147 1.0691671 1.802994\n",
       "alc_freq_filter_1  1.0231911 0.4869539 2.154615\n",
       "met_minweek_filter 0.9510508 0.8357815 1.077974\n",
       "cevd_before_i1     0.7660092 0.2448270 2.354212"
      ]
     },
     "metadata": {},
     "output_type": "display_data"
    }
   ],
   "source": [
    "## OR and CI\n",
    "exp(cbind(OR = coef(model_dy_1), ci_dy_1))"
   ]
  },
  {
   "cell_type": "code",
   "execution_count": 55,
   "id": "146fef93-0ad8-4511-bd20-17954d7c8d3b",
   "metadata": {
    "tags": []
   },
   "outputs": [
    {
     "data": {
      "text/html": [
       "<table class=\"dataframe\">\n",
       "<caption>A matrix: 11 × 3 of type dbl</caption>\n",
       "<thead>\n",
       "\t<tr><th></th><th scope=col>OR</th><th scope=col>2.5 %</th><th scope=col>97.5 %</th></tr>\n",
       "</thead>\n",
       "<tbody>\n",
       "\t<tr><th scope=row>phq2_1</th><td>5.8973379</td><td>3.8731932</td><td>9.095089</td></tr>\n",
       "\t<tr><th scope=row>male</th><td>0.8599358</td><td>0.5147436</td><td>1.443646</td></tr>\n",
       "\t<tr><th scope=row>age_filter_i0</th><td>0.5519869</td><td>0.3320463</td><td>0.916316</td></tr>\n",
       "\t<tr><th scope=row>tdi</th><td>0.9517883</td><td>0.8578714</td><td>1.051601</td></tr>\n",
       "\t<tr><th scope=row>bmi_filter_1</th><td>0.6855718</td><td>0.4004065</td><td>1.157941</td></tr>\n",
       "\t<tr><th scope=row>sleep_filter_1</th><td>0.8538958</td><td>0.4873845</td><td>1.526623</td></tr>\n",
       "\t<tr><th scope=row>smok_stat_1</th><td>1.1678242</td><td>0.7589555</td><td>1.785316</td></tr>\n",
       "\t<tr><th scope=row>full_screen_time_1</th><td>0.9617700</td><td>0.8552311</td><td>1.076082</td></tr>\n",
       "\t<tr><th scope=row>alc_freq_filter_1</th><td>0.9530662</td><td>0.6638290</td><td>1.365031</td></tr>\n",
       "\t<tr><th scope=row>met_minweek_filter</th><td>1.0196006</td><td>0.9782065</td><td>1.060878</td></tr>\n",
       "\t<tr><th scope=row>cevd_before_i1</th><td>1.2016488</td><td>0.6468752</td><td>2.172577</td></tr>\n",
       "</tbody>\n",
       "</table>\n"
      ],
      "text/latex": [
       "A matrix: 11 × 3 of type dbl\n",
       "\\begin{tabular}{r|lll}\n",
       "  & OR & 2.5 \\% & 97.5 \\%\\\\\n",
       "\\hline\n",
       "\tphq2\\_1 & 5.8973379 & 3.8731932 & 9.095089\\\\\n",
       "\tmale & 0.8599358 & 0.5147436 & 1.443646\\\\\n",
       "\tage\\_filter\\_i0 & 0.5519869 & 0.3320463 & 0.916316\\\\\n",
       "\ttdi & 0.9517883 & 0.8578714 & 1.051601\\\\\n",
       "\tbmi\\_filter\\_1 & 0.6855718 & 0.4004065 & 1.157941\\\\\n",
       "\tsleep\\_filter\\_1 & 0.8538958 & 0.4873845 & 1.526623\\\\\n",
       "\tsmok\\_stat\\_1 & 1.1678242 & 0.7589555 & 1.785316\\\\\n",
       "\tfull\\_screen\\_time\\_1 & 0.9617700 & 0.8552311 & 1.076082\\\\\n",
       "\talc\\_freq\\_filter\\_1 & 0.9530662 & 0.6638290 & 1.365031\\\\\n",
       "\tmet\\_minweek\\_filter & 1.0196006 & 0.9782065 & 1.060878\\\\\n",
       "\tcevd\\_before\\_i1 & 1.2016488 & 0.6468752 & 2.172577\\\\\n",
       "\\end{tabular}\n"
      ],
      "text/markdown": [
       "\n",
       "A matrix: 11 × 3 of type dbl\n",
       "\n",
       "| <!--/--> | OR | 2.5 % | 97.5 % |\n",
       "|---|---|---|---|\n",
       "| phq2_1 | 5.8973379 | 3.8731932 | 9.095089 |\n",
       "| male | 0.8599358 | 0.5147436 | 1.443646 |\n",
       "| age_filter_i0 | 0.5519869 | 0.3320463 | 0.916316 |\n",
       "| tdi | 0.9517883 | 0.8578714 | 1.051601 |\n",
       "| bmi_filter_1 | 0.6855718 | 0.4004065 | 1.157941 |\n",
       "| sleep_filter_1 | 0.8538958 | 0.4873845 | 1.526623 |\n",
       "| smok_stat_1 | 1.1678242 | 0.7589555 | 1.785316 |\n",
       "| full_screen_time_1 | 0.9617700 | 0.8552311 | 1.076082 |\n",
       "| alc_freq_filter_1 | 0.9530662 | 0.6638290 | 1.365031 |\n",
       "| met_minweek_filter | 1.0196006 | 0.9782065 | 1.060878 |\n",
       "| cevd_before_i1 | 1.2016488 | 0.6468752 | 2.172577 |\n",
       "\n"
      ],
      "text/plain": [
       "                   OR        2.5 %     97.5 %  \n",
       "phq2_1             5.8973379 3.8731932 9.095089\n",
       "male               0.8599358 0.5147436 1.443646\n",
       "age_filter_i0      0.5519869 0.3320463 0.916316\n",
       "tdi                0.9517883 0.8578714 1.051601\n",
       "bmi_filter_1       0.6855718 0.4004065 1.157941\n",
       "sleep_filter_1     0.8538958 0.4873845 1.526623\n",
       "smok_stat_1        1.1678242 0.7589555 1.785316\n",
       "full_screen_time_1 0.9617700 0.8552311 1.076082\n",
       "alc_freq_filter_1  0.9530662 0.6638290 1.365031\n",
       "met_minweek_filter 1.0196006 0.9782065 1.060878\n",
       "cevd_before_i1     1.2016488 0.6468752 2.172577"
      ]
     },
     "metadata": {},
     "output_type": "display_data"
    }
   ],
   "source": [
    "## OR and CI\n",
    "exp(cbind(OR = coef(model_dn_1), ci_dn_1))"
   ]
  },
  {
   "cell_type": "code",
   "execution_count": null,
   "id": "16ae4d55-c7e6-43b0-b07e-63042dd4e0d2",
   "metadata": {},
   "outputs": [],
   "source": []
  },
  {
   "cell_type": "code",
   "execution_count": null,
   "id": "89ece751-27a8-4e6c-ae5b-ea939e3e30c5",
   "metadata": {},
   "outputs": [],
   "source": []
  },
  {
   "cell_type": "code",
   "execution_count": null,
   "id": "a4d9c618-4a11-41e3-a4b1-5d96eeb317be",
   "metadata": {},
   "outputs": [],
   "source": []
  },
  {
   "cell_type": "code",
   "execution_count": null,
   "id": "95fb1018-246a-4b3c-99a2-f2e821766211",
   "metadata": {},
   "outputs": [],
   "source": []
  }
 ],
 "metadata": {
  "kernelspec": {
   "display_name": "R",
   "language": "R",
   "name": "ir"
  },
  "language_info": {
   "codemirror_mode": "r",
   "file_extension": ".r",
   "mimetype": "text/x-r-source",
   "name": "R",
   "pygments_lexer": "r",
   "version": "4.3.1"
  }
 },
 "nbformat": 4,
 "nbformat_minor": 5
}
