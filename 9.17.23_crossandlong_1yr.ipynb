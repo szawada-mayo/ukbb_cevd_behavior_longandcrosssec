{
 "cells": [
  {
   "cell_type": "code",
   "execution_count": 1,
   "id": "ee318ae9-3dda-41df-843c-2895919a2561",
   "metadata": {
    "tags": []
   },
   "outputs": [
    {
     "name": "stderr",
     "output_type": "stream",
     "text": [
      "Installing package into ‘/usr/local/lib/R/site-library’\n",
      "(as ‘lib’ is unspecified)\n",
      "\n"
     ]
    }
   ],
   "source": [
    "install.packages(\"MASS\")\n",
    "library(MASS)"
   ]
  },
  {
   "cell_type": "code",
   "execution_count": 2,
   "id": "5b39f686-5a7e-43aa-8d16-10d878290a41",
   "metadata": {
    "tags": []
   },
   "outputs": [],
   "source": [
    "#full data for all patients who have a future CeVD\n",
    "data <- read.csv(\"cevd_first_model.csv\")"
   ]
  },
  {
   "cell_type": "code",
   "execution_count": 5,
   "id": "044b591e-b6a6-483c-8cff-6b896d284b27",
   "metadata": {
    "tags": []
   },
   "outputs": [
    {
     "name": "stdout",
     "output_type": "stream",
     "text": [
      "Number of future F01 diagnoses: 4 \n",
      "Number of future g45 diagnoses: 308 \n",
      "Number of future g46 diagnoses: 4 \n",
      "Number of future h34 diagnoses: 71 \n",
      "Number of future i60 diagnoses: 48 \n",
      "Number of future i61 diagnoses: 32 \n",
      "Number of future i62 diagnoses: 12 \n",
      "Number of future i63 diagnoses: 151 \n",
      "Number of future i64 diagnoses: 479 \n",
      "Number of future i65 diagnoses: 57 \n",
      "Number of future i66 diagnoses: 3 \n",
      "Number of future i67 diagnoses: 112 \n",
      "Number of future i68 diagnoses: 0 \n",
      "Number of future i69 diagnoses: 45 \n"
     ]
    }
   ],
   "source": [
    "#count number of future CeVD events by type\n",
    "data$f01_time <- as.integer(data$f01_time)\n",
    "count_events <- sum(data$f01_time > 0, na.rm = TRUE)\n",
    "cat(\"Number of future F01 diagnoses:\", count_events, \"\\n\")\n",
    "\n",
    "data$g45_time <- as.integer(data$g45_time)\n",
    "count_events <- sum(data$g45_time > 0, na.rm = TRUE)\n",
    "cat(\"Number of future g45 diagnoses:\", count_events, \"\\n\")\n",
    "\n",
    "data$g46_time <- as.integer(data$g46_time)\n",
    "count_events <- sum(data$g46_time > 0, na.rm = TRUE)\n",
    "cat(\"Number of future g46 diagnoses:\", count_events, \"\\n\")\n",
    "\n",
    "data$h34_time <- as.integer(data$h34_time)\n",
    "count_events <- sum(data$h34_time > 0, na.rm = TRUE)\n",
    "cat(\"Number of future h34 diagnoses:\", count_events, \"\\n\")\n",
    "\n",
    "data$i60_time <- as.integer(data$i60_time)\n",
    "count_events <- sum(data$i60_time > 0, na.rm = TRUE)\n",
    "cat(\"Number of future i60 diagnoses:\", count_events, \"\\n\")\n",
    "\n",
    "data$i61_time <- as.integer(data$i61_time)\n",
    "count_events <- sum(data$i61_time > 0, na.rm = TRUE)\n",
    "cat(\"Number of future i61 diagnoses:\", count_events, \"\\n\")\n",
    "\n",
    "data$i62_time <- as.integer(data$i62_time)\n",
    "count_events <- sum(data$i62_time > 0, na.rm = TRUE)\n",
    "cat(\"Number of future i62 diagnoses:\", count_events, \"\\n\")\n",
    "\n",
    "data$i63_time <- as.integer(data$i63_time)\n",
    "count_events <- sum(data$i63_time > 0, na.rm = TRUE)\n",
    "cat(\"Number of future i63 diagnoses:\", count_events, \"\\n\")\n",
    "\n",
    "data$i64_time <- as.integer(data$i64_time)\n",
    "count_events <- sum(data$i64_time > 0, na.rm = TRUE)\n",
    "cat(\"Number of future i64 diagnoses:\", count_events, \"\\n\")\n",
    "\n",
    "data$i65_time <- as.integer(data$i65_time)\n",
    "count_events <- sum(data$i65_time > 0, na.rm = TRUE)\n",
    "cat(\"Number of future i65 diagnoses:\", count_events, \"\\n\")\n",
    "\n",
    "data$i66_time <- as.integer(data$i66_time)\n",
    "count_events <- sum(data$i66_time > 0, na.rm = TRUE)\n",
    "cat(\"Number of future i66 diagnoses:\", count_events, \"\\n\")\n",
    "\n",
    "data$i67_time <- as.integer(data$i67_time)\n",
    "count_events <- sum(data$i67_time > 0, na.rm = TRUE)\n",
    "cat(\"Number of future i67 diagnoses:\", count_events, \"\\n\")\n",
    "\n",
    "data$i68_time <- as.integer(data$i68_time)\n",
    "count_events <- sum(data$i68_time > 0, na.rm = TRUE)\n",
    "cat(\"Number of future i68 diagnoses:\", count_events, \"\\n\")\n",
    "\n",
    "data$i69_time <- as.integer(data$i69_time)\n",
    "count_events <- sum(data$i69_time > 0, na.rm = TRUE)\n",
    "cat(\"Number of future i69 diagnoses:\", count_events, \"\\n\")\n",
    "     "
   ]
  },
  {
   "cell_type": "code",
   "execution_count": 6,
   "id": "f1c579a0-b214-436d-bc37-8f7d345bd8ff",
   "metadata": {
    "tags": []
   },
   "outputs": [
    {
     "name": "stdout",
     "output_type": "stream",
     "text": [
      "[1] 807\n"
     ]
    }
   ],
   "source": [
    "# check number of rows - should be 5193 from initial baseline of px who have future cevd\n",
    "num_rows <- nrow(data)\n",
    "print(num_rows)"
   ]
  },
  {
   "cell_type": "code",
   "execution_count": 7,
   "id": "9d486124-6f72-43e1-a007-21a2fe8f08a4",
   "metadata": {
    "tags": []
   },
   "outputs": [],
   "source": [
    "# create 2 separate dataframes, 1 has depressed px, other has non-depressed px\n",
    "data_dy <- data[data$dep_diag_yes == 1, ]\n",
    "data_dn <- data[data$dep_diag_yes == 0, ]"
   ]
  },
  {
   "cell_type": "code",
   "execution_count": 8,
   "id": "ae2451c9-864e-4f8e-8523-09b76aeb437e",
   "metadata": {
    "tags": []
   },
   "outputs": [
    {
     "name": "stdout",
     "output_type": "stream",
     "text": [
      "[1] 124\n",
      "[1] 683\n"
     ]
    }
   ],
   "source": [
    "# check number of rows - should be 1402 from initial baseline of px who have future cevd\n",
    "num_rows_dy <- nrow(data_dy)\n",
    "print(num_rows_dy)\n",
    "# check number of rows - should be 13106 from initial baseline of px who have future cevd\n",
    "num_rows_dn <- nrow(data_dn)\n",
    "print(num_rows_dn)"
   ]
  },
  {
   "cell_type": "code",
   "execution_count": 9,
   "id": "700c4c3c-3115-487c-b491-a5d4b7238b72",
   "metadata": {
    "tags": []
   },
   "outputs": [],
   "source": [
    "#data$age_filter_i0 <- ifelse(data$age_i0 < 60, 0, 1)\n",
    "data_dy$age_filter_i0 <- ifelse(data_dy$age_i0 < 60, 0, 1)\n",
    "data_dn$age_filter_i0 <- ifelse(data_dn$age_i0 < 60, 0, 1)\n",
    "#data$age_filter_i0 <- ifelse(data$age_i0 < 60, 0, 1)\n",
    "data_dy$sleep_filter <- ifelse(data_dy$sleep > 6 & data_dy$sleep < 10, 1, 0)\n",
    "data_dn$sleep_filter <- ifelse(data_dn$sleep > 6 & data_dn$sleep < 10, 1, 0)\n",
    "#data$age_filter_i0 <- ifelse(data$age_i0 < 60, 0, 1)\n",
    "data_dy$bmi_filter <- ifelse(data_dy$bmi > 18.4 & data_dy$bmi < 26, 1, 0)\n",
    "data_dn$bmi_filter <- ifelse(data_dn$bmi > 18.4 & data_dn$bmi < 26, 1, 0)\n",
    "#data$age_filter_i0 <- ifelse(data$age_i0 < 60, 0, 1)\n",
    "data_dy$smok_filter <- ifelse(data_dy$smok_stat > 0, 1, 0)\n",
    "data_dn$smok_filter <- ifelse(data_dn$smok_stat > 0, 1, 0)"
   ]
  },
  {
   "cell_type": "code",
   "execution_count": 10,
   "id": "467d19e0-bc05-4665-b8d9-4f0e2fb944ab",
   "metadata": {
    "tags": []
   },
   "outputs": [],
   "source": [
    "# Convert the response variable to a factor with ordered levels\n",
    "#data$phq2_q1_diff <- factor(data$phq2_q1_diff, ordered = TRUE, levels = c(-1, 0, 1))\n",
    "data_dy$phq2_1 <- factor(data_dy$phq2_1, ordered = TRUE, levels = c(0, 1, 2, 3, 4))\n",
    "data_dn$phq2_1 <- factor(data_dn$phq2_1, ordered = TRUE, levels = c(0, 1, 2, 3, 4))"
   ]
  },
  {
   "cell_type": "code",
   "execution_count": 11,
   "id": "879761b8-2dcb-4540-aaec-844b8016000d",
   "metadata": {
    "tags": []
   },
   "outputs": [],
   "source": [
    "model_dy <- polr(phq2_1 ~  male  + age_filter_i0 + tdi + bmi_filter +  sleep_filter + smok_stat + full_screen_time + alc_freq_filter + met_minweek_filter, data = data_dy, method = \"logistic\")\n",
    "model_dn <- polr(phq2_1 ~  male   +   age_filter_i0 + tdi + bmi_filter +  sleep_filter + smok_stat + full_screen_time + alc_freq_filter + met_minweek_filter, data = data_dn, method = \"logistic\")"
   ]
  },
  {
   "cell_type": "code",
   "execution_count": 12,
   "id": "0e5fabd7-7dc3-4ca7-bcab-7c41b9f98655",
   "metadata": {
    "tags": []
   },
   "outputs": [
    {
     "name": "stderr",
     "output_type": "stream",
     "text": [
      "\n",
      "Re-fitting to get Hessian\n",
      "\n",
      "\n"
     ]
    },
    {
     "data": {
      "text/plain": [
       "Call:\n",
       "polr(formula = phq2_1 ~ male + age_filter_i0 + tdi + bmi_filter + \n",
       "    sleep_filter + smok_stat + full_screen_time + alc_freq_filter + \n",
       "    met_minweek_filter, data = data_dy, method = \"logistic\")\n",
       "\n",
       "Coefficients:\n",
       "                      Value Std. Error t value\n",
       "male                0.23398    0.40935  0.5716\n",
       "age_filter_i0      -0.78665    0.36487 -2.1560\n",
       "tdi                 0.02359    0.05452  0.4326\n",
       "bmi_filter         -0.09835    0.39342 -0.2500\n",
       "sleep_filter       -0.22336    0.36664 -0.6092\n",
       "smok_stat           0.35853    0.25362  1.4136\n",
       "full_screen_time    0.03763    0.05253  0.7162\n",
       "alc_freq_filter    -0.16175    0.24534 -0.6593\n",
       "met_minweek_filter  0.01078    0.03261  0.3307\n",
       "\n",
       "Intercepts:\n",
       "    Value   Std. Error t value\n",
       "0|1 -3.5973  0.8127    -4.4265\n",
       "1|2 -0.6109  0.6835    -0.8937\n",
       "2|3  1.3935  0.7014     1.9869\n",
       "3|4  1.7498  0.7119     2.4578\n",
       "\n",
       "Residual Deviance: 298.9893 \n",
       "AIC: 324.9893 "
      ]
     },
     "metadata": {},
     "output_type": "display_data"
    }
   ],
   "source": [
    "summary(model_dy)"
   ]
  },
  {
   "cell_type": "code",
   "execution_count": 13,
   "id": "534dc6c4-84eb-42d3-9c1b-75855310ce8a",
   "metadata": {
    "tags": []
   },
   "outputs": [
    {
     "name": "stderr",
     "output_type": "stream",
     "text": [
      "\n",
      "Re-fitting to get Hessian\n",
      "\n",
      "\n"
     ]
    },
    {
     "data": {
      "text/plain": [
       "Call:\n",
       "polr(formula = phq2_1 ~ male + age_filter_i0 + tdi + bmi_filter + \n",
       "    sleep_filter + smok_stat + full_screen_time + alc_freq_filter + \n",
       "    met_minweek_filter, data = data_dn, method = \"logistic\")\n",
       "\n",
       "Coefficients:\n",
       "                       Value Std. Error t value\n",
       "male               -0.546779    0.17995 -3.0385\n",
       "age_filter_i0      -0.479132    0.17869 -2.6813\n",
       "tdi                 0.071407    0.02791  2.5581\n",
       "bmi_filter         -0.205598    0.18815 -1.0927\n",
       "sleep_filter       -0.724001    0.18006 -4.0209\n",
       "smok_stat           0.429804    0.12879  3.3372\n",
       "full_screen_time    0.028760    0.03699  0.7776\n",
       "alc_freq_filter    -0.146258    0.12162 -1.2026\n",
       "met_minweek_filter -0.006841    0.01307 -0.5236\n",
       "\n",
       "Intercepts:\n",
       "    Value    Std. Error t value \n",
       "0|1  -4.8691   0.4405   -11.0546\n",
       "1|2  -0.0508   0.3610    -0.1407\n",
       "2|3   1.7657   0.3787     4.6630\n",
       "3|4   3.2327   0.4583     7.0543\n",
       "\n",
       "Residual Deviance: 1134.687 \n",
       "AIC: 1160.687 "
      ]
     },
     "metadata": {},
     "output_type": "display_data"
    }
   ],
   "source": [
    "summary(model_dn)"
   ]
  },
  {
   "cell_type": "code",
   "execution_count": 14,
   "id": "d106887f-ed97-4534-86f4-0b885fc72788",
   "metadata": {
    "tags": []
   },
   "outputs": [
    {
     "name": "stderr",
     "output_type": "stream",
     "text": [
      "\n",
      "Re-fitting to get Hessian\n",
      "\n",
      "\n"
     ]
    },
    {
     "data": {
      "text/html": [
       "<table class=\"dataframe\">\n",
       "<caption>A matrix: 13 × 3 of type dbl</caption>\n",
       "<thead>\n",
       "\t<tr><th></th><th scope=col>Value</th><th scope=col>Std. Error</th><th scope=col>t value</th></tr>\n",
       "</thead>\n",
       "<tbody>\n",
       "\t<tr><th scope=row>male</th><td> 0.23397648</td><td>0.40935268</td><td> 0.5715768</td></tr>\n",
       "\t<tr><th scope=row>age_filter_i0</th><td>-0.78665480</td><td>0.36486807</td><td>-2.1559979</td></tr>\n",
       "\t<tr><th scope=row>tdi</th><td> 0.02358556</td><td>0.05452099</td><td> 0.4325959</td></tr>\n",
       "\t<tr><th scope=row>bmi_filter</th><td>-0.09834932</td><td>0.39342136</td><td>-0.2499847</td></tr>\n",
       "\t<tr><th scope=row>sleep_filter</th><td>-0.22335759</td><td>0.36663810</td><td>-0.6092045</td></tr>\n",
       "\t<tr><th scope=row>smok_stat</th><td> 0.35852826</td><td>0.25361959</td><td> 1.4136457</td></tr>\n",
       "\t<tr><th scope=row>full_screen_time</th><td> 0.03762613</td><td>0.05253491</td><td> 0.7162119</td></tr>\n",
       "\t<tr><th scope=row>alc_freq_filter</th><td>-0.16174551</td><td>0.24533574</td><td>-0.6592823</td></tr>\n",
       "\t<tr><th scope=row>met_minweek_filter</th><td> 0.01078431</td><td>0.03261212</td><td> 0.3306841</td></tr>\n",
       "\t<tr><th scope=row>0|1</th><td>-3.59730241</td><td>0.81268057</td><td>-4.4264654</td></tr>\n",
       "\t<tr><th scope=row>1|2</th><td>-0.61085114</td><td>0.68347207</td><td>-0.8937470</td></tr>\n",
       "\t<tr><th scope=row>2|3</th><td> 1.39349187</td><td>0.70135609</td><td> 1.9868536</td></tr>\n",
       "\t<tr><th scope=row>3|4</th><td> 1.74979731</td><td>0.71193469</td><td> 2.4578059</td></tr>\n",
       "</tbody>\n",
       "</table>\n"
      ],
      "text/latex": [
       "A matrix: 13 × 3 of type dbl\n",
       "\\begin{tabular}{r|lll}\n",
       "  & Value & Std. Error & t value\\\\\n",
       "\\hline\n",
       "\tmale &  0.23397648 & 0.40935268 &  0.5715768\\\\\n",
       "\tage\\_filter\\_i0 & -0.78665480 & 0.36486807 & -2.1559979\\\\\n",
       "\ttdi &  0.02358556 & 0.05452099 &  0.4325959\\\\\n",
       "\tbmi\\_filter & -0.09834932 & 0.39342136 & -0.2499847\\\\\n",
       "\tsleep\\_filter & -0.22335759 & 0.36663810 & -0.6092045\\\\\n",
       "\tsmok\\_stat &  0.35852826 & 0.25361959 &  1.4136457\\\\\n",
       "\tfull\\_screen\\_time &  0.03762613 & 0.05253491 &  0.7162119\\\\\n",
       "\talc\\_freq\\_filter & -0.16174551 & 0.24533574 & -0.6592823\\\\\n",
       "\tmet\\_minweek\\_filter &  0.01078431 & 0.03261212 &  0.3306841\\\\\n",
       "\t0\\textbar{}1 & -3.59730241 & 0.81268057 & -4.4264654\\\\\n",
       "\t1\\textbar{}2 & -0.61085114 & 0.68347207 & -0.8937470\\\\\n",
       "\t2\\textbar{}3 &  1.39349187 & 0.70135609 &  1.9868536\\\\\n",
       "\t3\\textbar{}4 &  1.74979731 & 0.71193469 &  2.4578059\\\\\n",
       "\\end{tabular}\n"
      ],
      "text/markdown": [
       "\n",
       "A matrix: 13 × 3 of type dbl\n",
       "\n",
       "| <!--/--> | Value | Std. Error | t value |\n",
       "|---|---|---|---|\n",
       "| male |  0.23397648 | 0.40935268 |  0.5715768 |\n",
       "| age_filter_i0 | -0.78665480 | 0.36486807 | -2.1559979 |\n",
       "| tdi |  0.02358556 | 0.05452099 |  0.4325959 |\n",
       "| bmi_filter | -0.09834932 | 0.39342136 | -0.2499847 |\n",
       "| sleep_filter | -0.22335759 | 0.36663810 | -0.6092045 |\n",
       "| smok_stat |  0.35852826 | 0.25361959 |  1.4136457 |\n",
       "| full_screen_time |  0.03762613 | 0.05253491 |  0.7162119 |\n",
       "| alc_freq_filter | -0.16174551 | 0.24533574 | -0.6592823 |\n",
       "| met_minweek_filter |  0.01078431 | 0.03261212 |  0.3306841 |\n",
       "| 0|1 | -3.59730241 | 0.81268057 | -4.4264654 |\n",
       "| 1|2 | -0.61085114 | 0.68347207 | -0.8937470 |\n",
       "| 2|3 |  1.39349187 | 0.70135609 |  1.9868536 |\n",
       "| 3|4 |  1.74979731 | 0.71193469 |  2.4578059 |\n",
       "\n"
      ],
      "text/plain": [
       "                   Value       Std. Error t value   \n",
       "male                0.23397648 0.40935268  0.5715768\n",
       "age_filter_i0      -0.78665480 0.36486807 -2.1559979\n",
       "tdi                 0.02358556 0.05452099  0.4325959\n",
       "bmi_filter         -0.09834932 0.39342136 -0.2499847\n",
       "sleep_filter       -0.22335759 0.36663810 -0.6092045\n",
       "smok_stat           0.35852826 0.25361959  1.4136457\n",
       "full_screen_time    0.03762613 0.05253491  0.7162119\n",
       "alc_freq_filter    -0.16174551 0.24533574 -0.6592823\n",
       "met_minweek_filter  0.01078431 0.03261212  0.3306841\n",
       "0|1                -3.59730241 0.81268057 -4.4264654\n",
       "1|2                -0.61085114 0.68347207 -0.8937470\n",
       "2|3                 1.39349187 0.70135609  1.9868536\n",
       "3|4                 1.74979731 0.71193469  2.4578059"
      ]
     },
     "metadata": {},
     "output_type": "display_data"
    }
   ],
   "source": [
    "## store table\n",
    "(ctable_dy <- coef(summary(model_dy)))"
   ]
  },
  {
   "cell_type": "code",
   "execution_count": 15,
   "id": "05396d37-2fb0-451b-9b6a-f332d1a26098",
   "metadata": {
    "tags": []
   },
   "outputs": [
    {
     "name": "stderr",
     "output_type": "stream",
     "text": [
      "\n",
      "Re-fitting to get Hessian\n",
      "\n",
      "\n"
     ]
    },
    {
     "data": {
      "text/html": [
       "<table class=\"dataframe\">\n",
       "<caption>A matrix: 13 × 3 of type dbl</caption>\n",
       "<thead>\n",
       "\t<tr><th></th><th scope=col>Value</th><th scope=col>Std. Error</th><th scope=col>t value</th></tr>\n",
       "</thead>\n",
       "<tbody>\n",
       "\t<tr><th scope=row>male</th><td>-0.546779311</td><td>0.17994768</td><td> -3.0385460</td></tr>\n",
       "\t<tr><th scope=row>age_filter_i0</th><td>-0.479131659</td><td>0.17869090</td><td> -2.6813434</td></tr>\n",
       "\t<tr><th scope=row>tdi</th><td> 0.071406999</td><td>0.02791365</td><td>  2.5581391</td></tr>\n",
       "\t<tr><th scope=row>bmi_filter</th><td>-0.205598270</td><td>0.18815348</td><td> -1.0927157</td></tr>\n",
       "\t<tr><th scope=row>sleep_filter</th><td>-0.724000751</td><td>0.18006134</td><td> -4.0208562</td></tr>\n",
       "\t<tr><th scope=row>smok_stat</th><td> 0.429804055</td><td>0.12879088</td><td>  3.3372244</td></tr>\n",
       "\t<tr><th scope=row>full_screen_time</th><td> 0.028759973</td><td>0.03698756</td><td>  0.7775579</td></tr>\n",
       "\t<tr><th scope=row>alc_freq_filter</th><td>-0.146257945</td><td>0.12162311</td><td> -1.2025506</td></tr>\n",
       "\t<tr><th scope=row>met_minweek_filter</th><td>-0.006841151</td><td>0.01306658</td><td> -0.5235609</td></tr>\n",
       "\t<tr><th scope=row>0|1</th><td>-4.869145935</td><td>0.44046298</td><td>-11.0546088</td></tr>\n",
       "\t<tr><th scope=row>1|2</th><td>-0.050803622</td><td>0.36101978</td><td> -0.1407225</td></tr>\n",
       "\t<tr><th scope=row>2|3</th><td> 1.765688875</td><td>0.37866288</td><td>  4.6629574</td></tr>\n",
       "\t<tr><th scope=row>3|4</th><td> 3.232653942</td><td>0.45825169</td><td>  7.0543197</td></tr>\n",
       "</tbody>\n",
       "</table>\n"
      ],
      "text/latex": [
       "A matrix: 13 × 3 of type dbl\n",
       "\\begin{tabular}{r|lll}\n",
       "  & Value & Std. Error & t value\\\\\n",
       "\\hline\n",
       "\tmale & -0.546779311 & 0.17994768 &  -3.0385460\\\\\n",
       "\tage\\_filter\\_i0 & -0.479131659 & 0.17869090 &  -2.6813434\\\\\n",
       "\ttdi &  0.071406999 & 0.02791365 &   2.5581391\\\\\n",
       "\tbmi\\_filter & -0.205598270 & 0.18815348 &  -1.0927157\\\\\n",
       "\tsleep\\_filter & -0.724000751 & 0.18006134 &  -4.0208562\\\\\n",
       "\tsmok\\_stat &  0.429804055 & 0.12879088 &   3.3372244\\\\\n",
       "\tfull\\_screen\\_time &  0.028759973 & 0.03698756 &   0.7775579\\\\\n",
       "\talc\\_freq\\_filter & -0.146257945 & 0.12162311 &  -1.2025506\\\\\n",
       "\tmet\\_minweek\\_filter & -0.006841151 & 0.01306658 &  -0.5235609\\\\\n",
       "\t0\\textbar{}1 & -4.869145935 & 0.44046298 & -11.0546088\\\\\n",
       "\t1\\textbar{}2 & -0.050803622 & 0.36101978 &  -0.1407225\\\\\n",
       "\t2\\textbar{}3 &  1.765688875 & 0.37866288 &   4.6629574\\\\\n",
       "\t3\\textbar{}4 &  3.232653942 & 0.45825169 &   7.0543197\\\\\n",
       "\\end{tabular}\n"
      ],
      "text/markdown": [
       "\n",
       "A matrix: 13 × 3 of type dbl\n",
       "\n",
       "| <!--/--> | Value | Std. Error | t value |\n",
       "|---|---|---|---|\n",
       "| male | -0.546779311 | 0.17994768 |  -3.0385460 |\n",
       "| age_filter_i0 | -0.479131659 | 0.17869090 |  -2.6813434 |\n",
       "| tdi |  0.071406999 | 0.02791365 |   2.5581391 |\n",
       "| bmi_filter | -0.205598270 | 0.18815348 |  -1.0927157 |\n",
       "| sleep_filter | -0.724000751 | 0.18006134 |  -4.0208562 |\n",
       "| smok_stat |  0.429804055 | 0.12879088 |   3.3372244 |\n",
       "| full_screen_time |  0.028759973 | 0.03698756 |   0.7775579 |\n",
       "| alc_freq_filter | -0.146257945 | 0.12162311 |  -1.2025506 |\n",
       "| met_minweek_filter | -0.006841151 | 0.01306658 |  -0.5235609 |\n",
       "| 0|1 | -4.869145935 | 0.44046298 | -11.0546088 |\n",
       "| 1|2 | -0.050803622 | 0.36101978 |  -0.1407225 |\n",
       "| 2|3 |  1.765688875 | 0.37866288 |   4.6629574 |\n",
       "| 3|4 |  3.232653942 | 0.45825169 |   7.0543197 |\n",
       "\n"
      ],
      "text/plain": [
       "                   Value        Std. Error t value    \n",
       "male               -0.546779311 0.17994768  -3.0385460\n",
       "age_filter_i0      -0.479131659 0.17869090  -2.6813434\n",
       "tdi                 0.071406999 0.02791365   2.5581391\n",
       "bmi_filter         -0.205598270 0.18815348  -1.0927157\n",
       "sleep_filter       -0.724000751 0.18006134  -4.0208562\n",
       "smok_stat           0.429804055 0.12879088   3.3372244\n",
       "full_screen_time    0.028759973 0.03698756   0.7775579\n",
       "alc_freq_filter    -0.146257945 0.12162311  -1.2025506\n",
       "met_minweek_filter -0.006841151 0.01306658  -0.5235609\n",
       "0|1                -4.869145935 0.44046298 -11.0546088\n",
       "1|2                -0.050803622 0.36101978  -0.1407225\n",
       "2|3                 1.765688875 0.37866288   4.6629574\n",
       "3|4                 3.232653942 0.45825169   7.0543197"
      ]
     },
     "metadata": {},
     "output_type": "display_data"
    }
   ],
   "source": [
    "## store table\n",
    "(ctable_dn <- coef(summary(model_dn)))"
   ]
  },
  {
   "cell_type": "code",
   "execution_count": 16,
   "id": "36d0696f-e6b7-4d9b-8205-a560d9e20b8e",
   "metadata": {
    "tags": []
   },
   "outputs": [
    {
     "data": {
      "text/html": [
       "<table class=\"dataframe\">\n",
       "<caption>A matrix: 13 × 4 of type dbl</caption>\n",
       "<thead>\n",
       "\t<tr><th></th><th scope=col>Value</th><th scope=col>Std. Error</th><th scope=col>t value</th><th scope=col>p value</th></tr>\n",
       "</thead>\n",
       "<tbody>\n",
       "\t<tr><th scope=row>male</th><td> 0.23397648</td><td>0.40935268</td><td> 0.5715768</td><td>5.676087e-01</td></tr>\n",
       "\t<tr><th scope=row>age_filter_i0</th><td>-0.78665480</td><td>0.36486807</td><td>-2.1559979</td><td>3.108383e-02</td></tr>\n",
       "\t<tr><th scope=row>tdi</th><td> 0.02358556</td><td>0.05452099</td><td> 0.4325959</td><td>6.653083e-01</td></tr>\n",
       "\t<tr><th scope=row>bmi_filter</th><td>-0.09834932</td><td>0.39342136</td><td>-0.2499847</td><td>8.025992e-01</td></tr>\n",
       "\t<tr><th scope=row>sleep_filter</th><td>-0.22335759</td><td>0.36663810</td><td>-0.6092045</td><td>5.423889e-01</td></tr>\n",
       "\t<tr><th scope=row>smok_stat</th><td> 0.35852826</td><td>0.25361959</td><td> 1.4136457</td><td>1.574659e-01</td></tr>\n",
       "\t<tr><th scope=row>full_screen_time</th><td> 0.03762613</td><td>0.05253491</td><td> 0.7162119</td><td>4.738605e-01</td></tr>\n",
       "\t<tr><th scope=row>alc_freq_filter</th><td>-0.16174551</td><td>0.24533574</td><td>-0.6592823</td><td>5.097145e-01</td></tr>\n",
       "\t<tr><th scope=row>met_minweek_filter</th><td> 0.01078431</td><td>0.03261212</td><td> 0.3306841</td><td>7.408831e-01</td></tr>\n",
       "\t<tr><th scope=row>0|1</th><td>-3.59730241</td><td>0.81268057</td><td>-4.4264654</td><td>9.578974e-06</td></tr>\n",
       "\t<tr><th scope=row>1|2</th><td>-0.61085114</td><td>0.68347207</td><td>-0.8937470</td><td>3.714572e-01</td></tr>\n",
       "\t<tr><th scope=row>2|3</th><td> 1.39349187</td><td>0.70135609</td><td> 1.9868536</td><td>4.693862e-02</td></tr>\n",
       "\t<tr><th scope=row>3|4</th><td> 1.74979731</td><td>0.71193469</td><td> 2.4578059</td><td>1.397887e-02</td></tr>\n",
       "</tbody>\n",
       "</table>\n"
      ],
      "text/latex": [
       "A matrix: 13 × 4 of type dbl\n",
       "\\begin{tabular}{r|llll}\n",
       "  & Value & Std. Error & t value & p value\\\\\n",
       "\\hline\n",
       "\tmale &  0.23397648 & 0.40935268 &  0.5715768 & 5.676087e-01\\\\\n",
       "\tage\\_filter\\_i0 & -0.78665480 & 0.36486807 & -2.1559979 & 3.108383e-02\\\\\n",
       "\ttdi &  0.02358556 & 0.05452099 &  0.4325959 & 6.653083e-01\\\\\n",
       "\tbmi\\_filter & -0.09834932 & 0.39342136 & -0.2499847 & 8.025992e-01\\\\\n",
       "\tsleep\\_filter & -0.22335759 & 0.36663810 & -0.6092045 & 5.423889e-01\\\\\n",
       "\tsmok\\_stat &  0.35852826 & 0.25361959 &  1.4136457 & 1.574659e-01\\\\\n",
       "\tfull\\_screen\\_time &  0.03762613 & 0.05253491 &  0.7162119 & 4.738605e-01\\\\\n",
       "\talc\\_freq\\_filter & -0.16174551 & 0.24533574 & -0.6592823 & 5.097145e-01\\\\\n",
       "\tmet\\_minweek\\_filter &  0.01078431 & 0.03261212 &  0.3306841 & 7.408831e-01\\\\\n",
       "\t0\\textbar{}1 & -3.59730241 & 0.81268057 & -4.4264654 & 9.578974e-06\\\\\n",
       "\t1\\textbar{}2 & -0.61085114 & 0.68347207 & -0.8937470 & 3.714572e-01\\\\\n",
       "\t2\\textbar{}3 &  1.39349187 & 0.70135609 &  1.9868536 & 4.693862e-02\\\\\n",
       "\t3\\textbar{}4 &  1.74979731 & 0.71193469 &  2.4578059 & 1.397887e-02\\\\\n",
       "\\end{tabular}\n"
      ],
      "text/markdown": [
       "\n",
       "A matrix: 13 × 4 of type dbl\n",
       "\n",
       "| <!--/--> | Value | Std. Error | t value | p value |\n",
       "|---|---|---|---|---|\n",
       "| male |  0.23397648 | 0.40935268 |  0.5715768 | 5.676087e-01 |\n",
       "| age_filter_i0 | -0.78665480 | 0.36486807 | -2.1559979 | 3.108383e-02 |\n",
       "| tdi |  0.02358556 | 0.05452099 |  0.4325959 | 6.653083e-01 |\n",
       "| bmi_filter | -0.09834932 | 0.39342136 | -0.2499847 | 8.025992e-01 |\n",
       "| sleep_filter | -0.22335759 | 0.36663810 | -0.6092045 | 5.423889e-01 |\n",
       "| smok_stat |  0.35852826 | 0.25361959 |  1.4136457 | 1.574659e-01 |\n",
       "| full_screen_time |  0.03762613 | 0.05253491 |  0.7162119 | 4.738605e-01 |\n",
       "| alc_freq_filter | -0.16174551 | 0.24533574 | -0.6592823 | 5.097145e-01 |\n",
       "| met_minweek_filter |  0.01078431 | 0.03261212 |  0.3306841 | 7.408831e-01 |\n",
       "| 0|1 | -3.59730241 | 0.81268057 | -4.4264654 | 9.578974e-06 |\n",
       "| 1|2 | -0.61085114 | 0.68347207 | -0.8937470 | 3.714572e-01 |\n",
       "| 2|3 |  1.39349187 | 0.70135609 |  1.9868536 | 4.693862e-02 |\n",
       "| 3|4 |  1.74979731 | 0.71193469 |  2.4578059 | 1.397887e-02 |\n",
       "\n"
      ],
      "text/plain": [
       "                   Value       Std. Error t value    p value     \n",
       "male                0.23397648 0.40935268  0.5715768 5.676087e-01\n",
       "age_filter_i0      -0.78665480 0.36486807 -2.1559979 3.108383e-02\n",
       "tdi                 0.02358556 0.05452099  0.4325959 6.653083e-01\n",
       "bmi_filter         -0.09834932 0.39342136 -0.2499847 8.025992e-01\n",
       "sleep_filter       -0.22335759 0.36663810 -0.6092045 5.423889e-01\n",
       "smok_stat           0.35852826 0.25361959  1.4136457 1.574659e-01\n",
       "full_screen_time    0.03762613 0.05253491  0.7162119 4.738605e-01\n",
       "alc_freq_filter    -0.16174551 0.24533574 -0.6592823 5.097145e-01\n",
       "met_minweek_filter  0.01078431 0.03261212  0.3306841 7.408831e-01\n",
       "0|1                -3.59730241 0.81268057 -4.4264654 9.578974e-06\n",
       "1|2                -0.61085114 0.68347207 -0.8937470 3.714572e-01\n",
       "2|3                 1.39349187 0.70135609  1.9868536 4.693862e-02\n",
       "3|4                 1.74979731 0.71193469  2.4578059 1.397887e-02"
      ]
     },
     "metadata": {},
     "output_type": "display_data"
    }
   ],
   "source": [
    "## calculate and store p values\n",
    "p_dy <- pnorm(abs(ctable_dy[, \"t value\"]), lower.tail = FALSE) * 2\n",
    "## combined table\n",
    "(ctable_dy <- cbind(ctable_dy, \"p value\" = p_dy))"
   ]
  },
  {
   "cell_type": "code",
   "execution_count": 17,
   "id": "c92c823a-ea98-43b5-84ef-6e6f951be4db",
   "metadata": {
    "tags": []
   },
   "outputs": [
    {
     "data": {
      "text/html": [
       "<table class=\"dataframe\">\n",
       "<caption>A matrix: 13 × 4 of type dbl</caption>\n",
       "<thead>\n",
       "\t<tr><th></th><th scope=col>Value</th><th scope=col>Std. Error</th><th scope=col>t value</th><th scope=col>p value</th></tr>\n",
       "</thead>\n",
       "<tbody>\n",
       "\t<tr><th scope=row>male</th><td>-0.546779311</td><td>0.17994768</td><td> -3.0385460</td><td>2.377228e-03</td></tr>\n",
       "\t<tr><th scope=row>age_filter_i0</th><td>-0.479131659</td><td>0.17869090</td><td> -2.6813434</td><td>7.332723e-03</td></tr>\n",
       "\t<tr><th scope=row>tdi</th><td> 0.071406999</td><td>0.02791365</td><td>  2.5581391</td><td>1.052340e-02</td></tr>\n",
       "\t<tr><th scope=row>bmi_filter</th><td>-0.205598270</td><td>0.18815348</td><td> -1.0927157</td><td>2.745186e-01</td></tr>\n",
       "\t<tr><th scope=row>sleep_filter</th><td>-0.724000751</td><td>0.18006134</td><td> -4.0208562</td><td>5.798699e-05</td></tr>\n",
       "\t<tr><th scope=row>smok_stat</th><td> 0.429804055</td><td>0.12879088</td><td>  3.3372244</td><td>8.461959e-04</td></tr>\n",
       "\t<tr><th scope=row>full_screen_time</th><td> 0.028759973</td><td>0.03698756</td><td>  0.7775579</td><td>4.368297e-01</td></tr>\n",
       "\t<tr><th scope=row>alc_freq_filter</th><td>-0.146257945</td><td>0.12162311</td><td> -1.2025506</td><td>2.291503e-01</td></tr>\n",
       "\t<tr><th scope=row>met_minweek_filter</th><td>-0.006841151</td><td>0.01306658</td><td> -0.5235609</td><td>6.005840e-01</td></tr>\n",
       "\t<tr><th scope=row>0|1</th><td>-4.869145935</td><td>0.44046298</td><td>-11.0546088</td><td>2.082427e-28</td></tr>\n",
       "\t<tr><th scope=row>1|2</th><td>-0.050803622</td><td>0.36101978</td><td> -0.1407225</td><td>8.880891e-01</td></tr>\n",
       "\t<tr><th scope=row>2|3</th><td> 1.765688875</td><td>0.37866288</td><td>  4.6629574</td><td>3.116973e-06</td></tr>\n",
       "\t<tr><th scope=row>3|4</th><td> 3.232653942</td><td>0.45825169</td><td>  7.0543197</td><td>1.734472e-12</td></tr>\n",
       "</tbody>\n",
       "</table>\n"
      ],
      "text/latex": [
       "A matrix: 13 × 4 of type dbl\n",
       "\\begin{tabular}{r|llll}\n",
       "  & Value & Std. Error & t value & p value\\\\\n",
       "\\hline\n",
       "\tmale & -0.546779311 & 0.17994768 &  -3.0385460 & 2.377228e-03\\\\\n",
       "\tage\\_filter\\_i0 & -0.479131659 & 0.17869090 &  -2.6813434 & 7.332723e-03\\\\\n",
       "\ttdi &  0.071406999 & 0.02791365 &   2.5581391 & 1.052340e-02\\\\\n",
       "\tbmi\\_filter & -0.205598270 & 0.18815348 &  -1.0927157 & 2.745186e-01\\\\\n",
       "\tsleep\\_filter & -0.724000751 & 0.18006134 &  -4.0208562 & 5.798699e-05\\\\\n",
       "\tsmok\\_stat &  0.429804055 & 0.12879088 &   3.3372244 & 8.461959e-04\\\\\n",
       "\tfull\\_screen\\_time &  0.028759973 & 0.03698756 &   0.7775579 & 4.368297e-01\\\\\n",
       "\talc\\_freq\\_filter & -0.146257945 & 0.12162311 &  -1.2025506 & 2.291503e-01\\\\\n",
       "\tmet\\_minweek\\_filter & -0.006841151 & 0.01306658 &  -0.5235609 & 6.005840e-01\\\\\n",
       "\t0\\textbar{}1 & -4.869145935 & 0.44046298 & -11.0546088 & 2.082427e-28\\\\\n",
       "\t1\\textbar{}2 & -0.050803622 & 0.36101978 &  -0.1407225 & 8.880891e-01\\\\\n",
       "\t2\\textbar{}3 &  1.765688875 & 0.37866288 &   4.6629574 & 3.116973e-06\\\\\n",
       "\t3\\textbar{}4 &  3.232653942 & 0.45825169 &   7.0543197 & 1.734472e-12\\\\\n",
       "\\end{tabular}\n"
      ],
      "text/markdown": [
       "\n",
       "A matrix: 13 × 4 of type dbl\n",
       "\n",
       "| <!--/--> | Value | Std. Error | t value | p value |\n",
       "|---|---|---|---|---|\n",
       "| male | -0.546779311 | 0.17994768 |  -3.0385460 | 2.377228e-03 |\n",
       "| age_filter_i0 | -0.479131659 | 0.17869090 |  -2.6813434 | 7.332723e-03 |\n",
       "| tdi |  0.071406999 | 0.02791365 |   2.5581391 | 1.052340e-02 |\n",
       "| bmi_filter | -0.205598270 | 0.18815348 |  -1.0927157 | 2.745186e-01 |\n",
       "| sleep_filter | -0.724000751 | 0.18006134 |  -4.0208562 | 5.798699e-05 |\n",
       "| smok_stat |  0.429804055 | 0.12879088 |   3.3372244 | 8.461959e-04 |\n",
       "| full_screen_time |  0.028759973 | 0.03698756 |   0.7775579 | 4.368297e-01 |\n",
       "| alc_freq_filter | -0.146257945 | 0.12162311 |  -1.2025506 | 2.291503e-01 |\n",
       "| met_minweek_filter | -0.006841151 | 0.01306658 |  -0.5235609 | 6.005840e-01 |\n",
       "| 0|1 | -4.869145935 | 0.44046298 | -11.0546088 | 2.082427e-28 |\n",
       "| 1|2 | -0.050803622 | 0.36101978 |  -0.1407225 | 8.880891e-01 |\n",
       "| 2|3 |  1.765688875 | 0.37866288 |   4.6629574 | 3.116973e-06 |\n",
       "| 3|4 |  3.232653942 | 0.45825169 |   7.0543197 | 1.734472e-12 |\n",
       "\n"
      ],
      "text/plain": [
       "                   Value        Std. Error t value     p value     \n",
       "male               -0.546779311 0.17994768  -3.0385460 2.377228e-03\n",
       "age_filter_i0      -0.479131659 0.17869090  -2.6813434 7.332723e-03\n",
       "tdi                 0.071406999 0.02791365   2.5581391 1.052340e-02\n",
       "bmi_filter         -0.205598270 0.18815348  -1.0927157 2.745186e-01\n",
       "sleep_filter       -0.724000751 0.18006134  -4.0208562 5.798699e-05\n",
       "smok_stat           0.429804055 0.12879088   3.3372244 8.461959e-04\n",
       "full_screen_time    0.028759973 0.03698756   0.7775579 4.368297e-01\n",
       "alc_freq_filter    -0.146257945 0.12162311  -1.2025506 2.291503e-01\n",
       "met_minweek_filter -0.006841151 0.01306658  -0.5235609 6.005840e-01\n",
       "0|1                -4.869145935 0.44046298 -11.0546088 2.082427e-28\n",
       "1|2                -0.050803622 0.36101978  -0.1407225 8.880891e-01\n",
       "2|3                 1.765688875 0.37866288   4.6629574 3.116973e-06\n",
       "3|4                 3.232653942 0.45825169   7.0543197 1.734472e-12"
      ]
     },
     "metadata": {},
     "output_type": "display_data"
    }
   ],
   "source": [
    "## calculate and store p values\n",
    "p_dn <- pnorm(abs(ctable_dn[, \"t value\"]), lower.tail = FALSE) * 2\n",
    "## combined table\n",
    "(ctable_dn <- cbind(ctable_dn, \"p value\" = p_dn))"
   ]
  },
  {
   "cell_type": "code",
   "execution_count": 18,
   "id": "175d053b-659f-4bfb-9e9b-dc6168783f99",
   "metadata": {
    "tags": []
   },
   "outputs": [
    {
     "data": {
      "text/html": [
       "<style>\n",
       ".dl-inline {width: auto; margin:0; padding: 0}\n",
       ".dl-inline>dt, .dl-inline>dd {float: none; width: auto; display: inline-block}\n",
       ".dl-inline>dt::after {content: \":\\0020\"; padding-right: .5ex}\n",
       ".dl-inline>dt:not(:first-of-type) {padding-left: .5ex}\n",
       "</style><dl class=dl-inline><dt>male</dt><dd>1.2636147766475</dd><dt>age_filter_i0</dt><dd>0.45536553756431</dd><dt>tdi</dt><dd>1.02386589723552</dd><dt>bmi_filter</dt><dd>0.906332245707022</dd><dt>sleep_filter</dt><dd>0.799828784512126</dd><dt>smok_stat</dt><dd>1.4312214776095</dd><dt>full_screen_time</dt><dd>1.03834295332855</dd><dt>alc_freq_filter</dt><dd>0.850657656835448</dd><dt>met_minweek_filter</dt><dd>1.01084267033311</dd></dl>\n"
      ],
      "text/latex": [
       "\\begin{description*}\n",
       "\\item[male] 1.2636147766475\n",
       "\\item[age\\textbackslash{}\\_filter\\textbackslash{}\\_i0] 0.45536553756431\n",
       "\\item[tdi] 1.02386589723552\n",
       "\\item[bmi\\textbackslash{}\\_filter] 0.906332245707022\n",
       "\\item[sleep\\textbackslash{}\\_filter] 0.799828784512126\n",
       "\\item[smok\\textbackslash{}\\_stat] 1.4312214776095\n",
       "\\item[full\\textbackslash{}\\_screen\\textbackslash{}\\_time] 1.03834295332855\n",
       "\\item[alc\\textbackslash{}\\_freq\\textbackslash{}\\_filter] 0.850657656835448\n",
       "\\item[met\\textbackslash{}\\_minweek\\textbackslash{}\\_filter] 1.01084267033311\n",
       "\\end{description*}\n"
      ],
      "text/markdown": [
       "male\n",
       ":   1.2636147766475age_filter_i0\n",
       ":   0.45536553756431tdi\n",
       ":   1.02386589723552bmi_filter\n",
       ":   0.906332245707022sleep_filter\n",
       ":   0.799828784512126smok_stat\n",
       ":   1.4312214776095full_screen_time\n",
       ":   1.03834295332855alc_freq_filter\n",
       ":   0.850657656835448met_minweek_filter\n",
       ":   1.01084267033311\n",
       "\n"
      ],
      "text/plain": [
       "              male      age_filter_i0                tdi         bmi_filter \n",
       "         1.2636148          0.4553655          1.0238659          0.9063322 \n",
       "      sleep_filter          smok_stat   full_screen_time    alc_freq_filter \n",
       "         0.7998288          1.4312215          1.0383430          0.8506577 \n",
       "met_minweek_filter \n",
       "         1.0108427 "
      ]
     },
     "metadata": {},
     "output_type": "display_data"
    }
   ],
   "source": [
    "## odds ratios\n",
    "exp(coef(model_dy))"
   ]
  },
  {
   "cell_type": "code",
   "execution_count": 19,
   "id": "58bb0992-4c54-4f8d-b3f3-97256910efc4",
   "metadata": {
    "tags": []
   },
   "outputs": [
    {
     "data": {
      "text/html": [
       "<style>\n",
       ".dl-inline {width: auto; margin:0; padding: 0}\n",
       ".dl-inline>dt, .dl-inline>dd {float: none; width: auto; display: inline-block}\n",
       ".dl-inline>dt::after {content: \":\\0020\"; padding-right: .5ex}\n",
       ".dl-inline>dt:not(:first-of-type) {padding-left: .5ex}\n",
       "</style><dl class=dl-inline><dt>male</dt><dd>0.578810982015856</dd><dt>age_filter_i0</dt><dd>0.619320940225887</dd><dt>tdi</dt><dd>1.07401826165752</dd><dt>bmi_filter</dt><dd>0.814160082776073</dd><dt>sleep_filter</dt><dd>0.484808771874539</dd><dt>smok_stat</dt><dd>1.53695633446049</dd><dt>full_screen_time</dt><dd>1.02917753411486</dd><dt>alc_freq_filter</dt><dd>0.863934827072521</dd><dt>met_minweek_filter</dt><dd>0.99318219640997</dd></dl>\n"
      ],
      "text/latex": [
       "\\begin{description*}\n",
       "\\item[male] 0.578810982015856\n",
       "\\item[age\\textbackslash{}\\_filter\\textbackslash{}\\_i0] 0.619320940225887\n",
       "\\item[tdi] 1.07401826165752\n",
       "\\item[bmi\\textbackslash{}\\_filter] 0.814160082776073\n",
       "\\item[sleep\\textbackslash{}\\_filter] 0.484808771874539\n",
       "\\item[smok\\textbackslash{}\\_stat] 1.53695633446049\n",
       "\\item[full\\textbackslash{}\\_screen\\textbackslash{}\\_time] 1.02917753411486\n",
       "\\item[alc\\textbackslash{}\\_freq\\textbackslash{}\\_filter] 0.863934827072521\n",
       "\\item[met\\textbackslash{}\\_minweek\\textbackslash{}\\_filter] 0.99318219640997\n",
       "\\end{description*}\n"
      ],
      "text/markdown": [
       "male\n",
       ":   0.578810982015856age_filter_i0\n",
       ":   0.619320940225887tdi\n",
       ":   1.07401826165752bmi_filter\n",
       ":   0.814160082776073sleep_filter\n",
       ":   0.484808771874539smok_stat\n",
       ":   1.53695633446049full_screen_time\n",
       ":   1.02917753411486alc_freq_filter\n",
       ":   0.863934827072521met_minweek_filter\n",
       ":   0.99318219640997\n",
       "\n"
      ],
      "text/plain": [
       "              male      age_filter_i0                tdi         bmi_filter \n",
       "         0.5788110          0.6193209          1.0740183          0.8141601 \n",
       "      sleep_filter          smok_stat   full_screen_time    alc_freq_filter \n",
       "         0.4848088          1.5369563          1.0291775          0.8639348 \n",
       "met_minweek_filter \n",
       "         0.9931822 "
      ]
     },
     "metadata": {},
     "output_type": "display_data"
    }
   ],
   "source": [
    "## odds ratios\n",
    "exp(coef(model_dn))"
   ]
  },
  {
   "cell_type": "code",
   "execution_count": 20,
   "id": "07e66ed8-115a-4e76-9437-c4fc1ed8bb34",
   "metadata": {
    "tags": []
   },
   "outputs": [
    {
     "name": "stderr",
     "output_type": "stream",
     "text": [
      "Waiting for profiling to be done...\n",
      "\n",
      "\n",
      "Re-fitting to get Hessian\n",
      "\n",
      "\n"
     ]
    },
    {
     "data": {
      "text/html": [
       "<table class=\"dataframe\">\n",
       "<caption>A matrix: 9 × 2 of type dbl</caption>\n",
       "<thead>\n",
       "\t<tr><th></th><th scope=col>2.5 %</th><th scope=col>97.5 %</th></tr>\n",
       "</thead>\n",
       "<tbody>\n",
       "\t<tr><th scope=row>male</th><td>-0.56953547</td><td> 1.04008247</td></tr>\n",
       "\t<tr><th scope=row>age_filter_i0</th><td>-1.51053449</td><td>-0.07636323</td></tr>\n",
       "\t<tr><th scope=row>tdi</th><td>-0.08417611</td><td> 0.13047035</td></tr>\n",
       "\t<tr><th scope=row>bmi_filter</th><td>-0.87551571</td><td> 0.67169088</td></tr>\n",
       "\t<tr><th scope=row>sleep_filter</th><td>-0.94534329</td><td> 0.49578938</td></tr>\n",
       "\t<tr><th scope=row>smok_stat</th><td>-0.13931914</td><td> 0.85841577</td></tr>\n",
       "\t<tr><th scope=row>full_screen_time</th><td>-0.06562823</td><td> 0.14206831</td></tr>\n",
       "\t<tr><th scope=row>alc_freq_filter</th><td>-0.64630092</td><td> 0.31846203</td></tr>\n",
       "\t<tr><th scope=row>met_minweek_filter</th><td>-0.05478027</td><td> 0.07389707</td></tr>\n",
       "</tbody>\n",
       "</table>\n"
      ],
      "text/latex": [
       "A matrix: 9 × 2 of type dbl\n",
       "\\begin{tabular}{r|ll}\n",
       "  & 2.5 \\% & 97.5 \\%\\\\\n",
       "\\hline\n",
       "\tmale & -0.56953547 &  1.04008247\\\\\n",
       "\tage\\_filter\\_i0 & -1.51053449 & -0.07636323\\\\\n",
       "\ttdi & -0.08417611 &  0.13047035\\\\\n",
       "\tbmi\\_filter & -0.87551571 &  0.67169088\\\\\n",
       "\tsleep\\_filter & -0.94534329 &  0.49578938\\\\\n",
       "\tsmok\\_stat & -0.13931914 &  0.85841577\\\\\n",
       "\tfull\\_screen\\_time & -0.06562823 &  0.14206831\\\\\n",
       "\talc\\_freq\\_filter & -0.64630092 &  0.31846203\\\\\n",
       "\tmet\\_minweek\\_filter & -0.05478027 &  0.07389707\\\\\n",
       "\\end{tabular}\n"
      ],
      "text/markdown": [
       "\n",
       "A matrix: 9 × 2 of type dbl\n",
       "\n",
       "| <!--/--> | 2.5 % | 97.5 % |\n",
       "|---|---|---|\n",
       "| male | -0.56953547 |  1.04008247 |\n",
       "| age_filter_i0 | -1.51053449 | -0.07636323 |\n",
       "| tdi | -0.08417611 |  0.13047035 |\n",
       "| bmi_filter | -0.87551571 |  0.67169088 |\n",
       "| sleep_filter | -0.94534329 |  0.49578938 |\n",
       "| smok_stat | -0.13931914 |  0.85841577 |\n",
       "| full_screen_time | -0.06562823 |  0.14206831 |\n",
       "| alc_freq_filter | -0.64630092 |  0.31846203 |\n",
       "| met_minweek_filter | -0.05478027 |  0.07389707 |\n",
       "\n"
      ],
      "text/plain": [
       "                   2.5 %       97.5 %     \n",
       "male               -0.56953547  1.04008247\n",
       "age_filter_i0      -1.51053449 -0.07636323\n",
       "tdi                -0.08417611  0.13047035\n",
       "bmi_filter         -0.87551571  0.67169088\n",
       "sleep_filter       -0.94534329  0.49578938\n",
       "smok_stat          -0.13931914  0.85841577\n",
       "full_screen_time   -0.06562823  0.14206831\n",
       "alc_freq_filter    -0.64630092  0.31846203\n",
       "met_minweek_filter -0.05478027  0.07389707"
      ]
     },
     "metadata": {},
     "output_type": "display_data"
    }
   ],
   "source": [
    "(ci_dy <- confint(model_dy)) # default method gives profiled CIs\n"
   ]
  },
  {
   "cell_type": "code",
   "execution_count": 21,
   "id": "c48112b6-adca-48b1-b025-690a9af6a9f5",
   "metadata": {
    "tags": []
   },
   "outputs": [
    {
     "name": "stderr",
     "output_type": "stream",
     "text": [
      "Waiting for profiling to be done...\n",
      "\n",
      "\n",
      "Re-fitting to get Hessian\n",
      "\n",
      "\n"
     ]
    },
    {
     "data": {
      "text/html": [
       "<table class=\"dataframe\">\n",
       "<caption>A matrix: 9 × 2 of type dbl</caption>\n",
       "<thead>\n",
       "\t<tr><th></th><th scope=col>2.5 %</th><th scope=col>97.5 %</th></tr>\n",
       "</thead>\n",
       "<tbody>\n",
       "\t<tr><th scope=row>male</th><td>-0.90006183</td><td>-0.19406148</td></tr>\n",
       "\t<tr><th scope=row>age_filter_i0</th><td>-0.82983329</td><td>-0.12877323</td></tr>\n",
       "\t<tr><th scope=row>tdi</th><td> 0.01658510</td><td> 0.12611846</td></tr>\n",
       "\t<tr><th scope=row>bmi_filter</th><td>-0.57795419</td><td> 0.16039882</td></tr>\n",
       "\t<tr><th scope=row>sleep_filter</th><td>-1.07714641</td><td>-0.37072791</td></tr>\n",
       "\t<tr><th scope=row>smok_stat</th><td> 0.17770087</td><td> 0.68305707</td></tr>\n",
       "\t<tr><th scope=row>full_screen_time</th><td>-0.04423170</td><td> 0.10094727</td></tr>\n",
       "\t<tr><th scope=row>alc_freq_filter</th><td>-0.38580391</td><td> 0.09140351</td></tr>\n",
       "\t<tr><th scope=row>met_minweek_filter</th><td>-0.03288498</td><td> 0.01838186</td></tr>\n",
       "</tbody>\n",
       "</table>\n"
      ],
      "text/latex": [
       "A matrix: 9 × 2 of type dbl\n",
       "\\begin{tabular}{r|ll}\n",
       "  & 2.5 \\% & 97.5 \\%\\\\\n",
       "\\hline\n",
       "\tmale & -0.90006183 & -0.19406148\\\\\n",
       "\tage\\_filter\\_i0 & -0.82983329 & -0.12877323\\\\\n",
       "\ttdi &  0.01658510 &  0.12611846\\\\\n",
       "\tbmi\\_filter & -0.57795419 &  0.16039882\\\\\n",
       "\tsleep\\_filter & -1.07714641 & -0.37072791\\\\\n",
       "\tsmok\\_stat &  0.17770087 &  0.68305707\\\\\n",
       "\tfull\\_screen\\_time & -0.04423170 &  0.10094727\\\\\n",
       "\talc\\_freq\\_filter & -0.38580391 &  0.09140351\\\\\n",
       "\tmet\\_minweek\\_filter & -0.03288498 &  0.01838186\\\\\n",
       "\\end{tabular}\n"
      ],
      "text/markdown": [
       "\n",
       "A matrix: 9 × 2 of type dbl\n",
       "\n",
       "| <!--/--> | 2.5 % | 97.5 % |\n",
       "|---|---|---|\n",
       "| male | -0.90006183 | -0.19406148 |\n",
       "| age_filter_i0 | -0.82983329 | -0.12877323 |\n",
       "| tdi |  0.01658510 |  0.12611846 |\n",
       "| bmi_filter | -0.57795419 |  0.16039882 |\n",
       "| sleep_filter | -1.07714641 | -0.37072791 |\n",
       "| smok_stat |  0.17770087 |  0.68305707 |\n",
       "| full_screen_time | -0.04423170 |  0.10094727 |\n",
       "| alc_freq_filter | -0.38580391 |  0.09140351 |\n",
       "| met_minweek_filter | -0.03288498 |  0.01838186 |\n",
       "\n"
      ],
      "text/plain": [
       "                   2.5 %       97.5 %     \n",
       "male               -0.90006183 -0.19406148\n",
       "age_filter_i0      -0.82983329 -0.12877323\n",
       "tdi                 0.01658510  0.12611846\n",
       "bmi_filter         -0.57795419  0.16039882\n",
       "sleep_filter       -1.07714641 -0.37072791\n",
       "smok_stat           0.17770087  0.68305707\n",
       "full_screen_time   -0.04423170  0.10094727\n",
       "alc_freq_filter    -0.38580391  0.09140351\n",
       "met_minweek_filter -0.03288498  0.01838186"
      ]
     },
     "metadata": {},
     "output_type": "display_data"
    }
   ],
   "source": [
    "(ci_dn <- confint(model_dn)) # default method gives profiled CIs"
   ]
  },
  {
   "cell_type": "code",
   "execution_count": 22,
   "id": "4e97673b-34af-497b-8ecd-83ae7d212913",
   "metadata": {
    "tags": []
   },
   "outputs": [
    {
     "name": "stderr",
     "output_type": "stream",
     "text": [
      "\n",
      "Re-fitting to get Hessian\n",
      "\n",
      "\n"
     ]
    },
    {
     "data": {
      "text/html": [
       "<table class=\"dataframe\">\n",
       "<caption>A matrix: 9 × 2 of type dbl</caption>\n",
       "<thead>\n",
       "\t<tr><th></th><th scope=col>2.5 %</th><th scope=col>97.5 %</th></tr>\n",
       "</thead>\n",
       "<tbody>\n",
       "\t<tr><th scope=row>male</th><td>-0.56834002</td><td> 1.03629299</td></tr>\n",
       "\t<tr><th scope=row>age_filter_i0</th><td>-1.50178308</td><td>-0.07152653</td></tr>\n",
       "\t<tr><th scope=row>tdi</th><td>-0.08327362</td><td> 0.13044473</td></tr>\n",
       "\t<tr><th scope=row>bmi_filter</th><td>-0.86944102</td><td> 0.67274238</td></tr>\n",
       "\t<tr><th scope=row>sleep_filter</th><td>-0.94195506</td><td> 0.49523987</td></tr>\n",
       "\t<tr><th scope=row>smok_stat</th><td>-0.13855701</td><td> 0.85561353</td></tr>\n",
       "\t<tr><th scope=row>full_screen_time</th><td>-0.06534040</td><td> 0.14059266</td></tr>\n",
       "\t<tr><th scope=row>alc_freq_filter</th><td>-0.64259473</td><td> 0.31910370</td></tr>\n",
       "\t<tr><th scope=row>met_minweek_filter</th><td>-0.05313426</td><td> 0.07470288</td></tr>\n",
       "</tbody>\n",
       "</table>\n"
      ],
      "text/latex": [
       "A matrix: 9 × 2 of type dbl\n",
       "\\begin{tabular}{r|ll}\n",
       "  & 2.5 \\% & 97.5 \\%\\\\\n",
       "\\hline\n",
       "\tmale & -0.56834002 &  1.03629299\\\\\n",
       "\tage\\_filter\\_i0 & -1.50178308 & -0.07152653\\\\\n",
       "\ttdi & -0.08327362 &  0.13044473\\\\\n",
       "\tbmi\\_filter & -0.86944102 &  0.67274238\\\\\n",
       "\tsleep\\_filter & -0.94195506 &  0.49523987\\\\\n",
       "\tsmok\\_stat & -0.13855701 &  0.85561353\\\\\n",
       "\tfull\\_screen\\_time & -0.06534040 &  0.14059266\\\\\n",
       "\talc\\_freq\\_filter & -0.64259473 &  0.31910370\\\\\n",
       "\tmet\\_minweek\\_filter & -0.05313426 &  0.07470288\\\\\n",
       "\\end{tabular}\n"
      ],
      "text/markdown": [
       "\n",
       "A matrix: 9 × 2 of type dbl\n",
       "\n",
       "| <!--/--> | 2.5 % | 97.5 % |\n",
       "|---|---|---|\n",
       "| male | -0.56834002 |  1.03629299 |\n",
       "| age_filter_i0 | -1.50178308 | -0.07152653 |\n",
       "| tdi | -0.08327362 |  0.13044473 |\n",
       "| bmi_filter | -0.86944102 |  0.67274238 |\n",
       "| sleep_filter | -0.94195506 |  0.49523987 |\n",
       "| smok_stat | -0.13855701 |  0.85561353 |\n",
       "| full_screen_time | -0.06534040 |  0.14059266 |\n",
       "| alc_freq_filter | -0.64259473 |  0.31910370 |\n",
       "| met_minweek_filter | -0.05313426 |  0.07470288 |\n",
       "\n"
      ],
      "text/plain": [
       "                   2.5 %       97.5 %     \n",
       "male               -0.56834002  1.03629299\n",
       "age_filter_i0      -1.50178308 -0.07152653\n",
       "tdi                -0.08327362  0.13044473\n",
       "bmi_filter         -0.86944102  0.67274238\n",
       "sleep_filter       -0.94195506  0.49523987\n",
       "smok_stat          -0.13855701  0.85561353\n",
       "full_screen_time   -0.06534040  0.14059266\n",
       "alc_freq_filter    -0.64259473  0.31910370\n",
       "met_minweek_filter -0.05313426  0.07470288"
      ]
     },
     "metadata": {},
     "output_type": "display_data"
    }
   ],
   "source": [
    "confint.default(model_dy) # CIs assuming normality"
   ]
  },
  {
   "cell_type": "code",
   "execution_count": 23,
   "id": "6eee016b-2800-4b32-ac78-b1d124c2da27",
   "metadata": {
    "tags": []
   },
   "outputs": [
    {
     "name": "stderr",
     "output_type": "stream",
     "text": [
      "\n",
      "Re-fitting to get Hessian\n",
      "\n",
      "\n"
     ]
    },
    {
     "data": {
      "text/html": [
       "<table class=\"dataframe\">\n",
       "<caption>A matrix: 9 × 2 of type dbl</caption>\n",
       "<thead>\n",
       "\t<tr><th></th><th scope=col>2.5 %</th><th scope=col>97.5 %</th></tr>\n",
       "</thead>\n",
       "<tbody>\n",
       "\t<tr><th scope=row>male</th><td>-0.89947029</td><td>-0.19408833</td></tr>\n",
       "\t<tr><th scope=row>age_filter_i0</th><td>-0.82935939</td><td>-0.12890393</td></tr>\n",
       "\t<tr><th scope=row>tdi</th><td> 0.01669725</td><td> 0.12611675</td></tr>\n",
       "\t<tr><th scope=row>bmi_filter</th><td>-0.57437232</td><td> 0.16317578</td></tr>\n",
       "\t<tr><th scope=row>sleep_filter</th><td>-1.07691449</td><td>-0.37108701</td></tr>\n",
       "\t<tr><th scope=row>smok_stat</th><td> 0.17737858</td><td> 0.68222953</td></tr>\n",
       "\t<tr><th scope=row>full_screen_time</th><td>-0.04373432</td><td> 0.10125426</td></tr>\n",
       "\t<tr><th scope=row>alc_freq_filter</th><td>-0.38463486</td><td> 0.09211897</td></tr>\n",
       "\t<tr><th scope=row>met_minweek_filter</th><td>-0.03245118</td><td> 0.01876888</td></tr>\n",
       "</tbody>\n",
       "</table>\n"
      ],
      "text/latex": [
       "A matrix: 9 × 2 of type dbl\n",
       "\\begin{tabular}{r|ll}\n",
       "  & 2.5 \\% & 97.5 \\%\\\\\n",
       "\\hline\n",
       "\tmale & -0.89947029 & -0.19408833\\\\\n",
       "\tage\\_filter\\_i0 & -0.82935939 & -0.12890393\\\\\n",
       "\ttdi &  0.01669725 &  0.12611675\\\\\n",
       "\tbmi\\_filter & -0.57437232 &  0.16317578\\\\\n",
       "\tsleep\\_filter & -1.07691449 & -0.37108701\\\\\n",
       "\tsmok\\_stat &  0.17737858 &  0.68222953\\\\\n",
       "\tfull\\_screen\\_time & -0.04373432 &  0.10125426\\\\\n",
       "\talc\\_freq\\_filter & -0.38463486 &  0.09211897\\\\\n",
       "\tmet\\_minweek\\_filter & -0.03245118 &  0.01876888\\\\\n",
       "\\end{tabular}\n"
      ],
      "text/markdown": [
       "\n",
       "A matrix: 9 × 2 of type dbl\n",
       "\n",
       "| <!--/--> | 2.5 % | 97.5 % |\n",
       "|---|---|---|\n",
       "| male | -0.89947029 | -0.19408833 |\n",
       "| age_filter_i0 | -0.82935939 | -0.12890393 |\n",
       "| tdi |  0.01669725 |  0.12611675 |\n",
       "| bmi_filter | -0.57437232 |  0.16317578 |\n",
       "| sleep_filter | -1.07691449 | -0.37108701 |\n",
       "| smok_stat |  0.17737858 |  0.68222953 |\n",
       "| full_screen_time | -0.04373432 |  0.10125426 |\n",
       "| alc_freq_filter | -0.38463486 |  0.09211897 |\n",
       "| met_minweek_filter | -0.03245118 |  0.01876888 |\n",
       "\n"
      ],
      "text/plain": [
       "                   2.5 %       97.5 %     \n",
       "male               -0.89947029 -0.19408833\n",
       "age_filter_i0      -0.82935939 -0.12890393\n",
       "tdi                 0.01669725  0.12611675\n",
       "bmi_filter         -0.57437232  0.16317578\n",
       "sleep_filter       -1.07691449 -0.37108701\n",
       "smok_stat           0.17737858  0.68222953\n",
       "full_screen_time   -0.04373432  0.10125426\n",
       "alc_freq_filter    -0.38463486  0.09211897\n",
       "met_minweek_filter -0.03245118  0.01876888"
      ]
     },
     "metadata": {},
     "output_type": "display_data"
    }
   ],
   "source": [
    "confint.default(model_dn) # CIs assuming normality"
   ]
  },
  {
   "cell_type": "code",
   "execution_count": 24,
   "id": "f8519579-1c13-441d-b147-e9a86a5189eb",
   "metadata": {
    "tags": []
   },
   "outputs": [
    {
     "data": {
      "text/html": [
       "<table class=\"dataframe\">\n",
       "<caption>A matrix: 9 × 3 of type dbl</caption>\n",
       "<thead>\n",
       "\t<tr><th></th><th scope=col>OR</th><th scope=col>2.5 %</th><th scope=col>97.5 %</th></tr>\n",
       "</thead>\n",
       "<tbody>\n",
       "\t<tr><th scope=row>male</th><td>1.2636148</td><td>0.5657882</td><td>2.8294504</td></tr>\n",
       "\t<tr><th scope=row>age_filter_i0</th><td>0.4553655</td><td>0.2207919</td><td>0.9264796</td></tr>\n",
       "\t<tr><th scope=row>tdi</th><td>1.0238659</td><td>0.9192694</td><td>1.1393642</td></tr>\n",
       "\t<tr><th scope=row>bmi_filter</th><td>0.9063322</td><td>0.4166471</td><td>1.9575445</td></tr>\n",
       "\t<tr><th scope=row>sleep_filter</th><td>0.7998288</td><td>0.3885462</td><td>1.6417937</td></tr>\n",
       "\t<tr><th scope=row>smok_stat</th><td>1.4312215</td><td>0.8699503</td><td>2.3594199</td></tr>\n",
       "\t<tr><th scope=row>full_screen_time</th><td>1.0383430</td><td>0.9364790</td><td>1.1526554</td></tr>\n",
       "\t<tr><th scope=row>alc_freq_filter</th><td>0.8506577</td><td>0.5239804</td><td>1.3750114</td></tr>\n",
       "\t<tr><th scope=row>met_minweek_filter</th><td>1.0108427</td><td>0.9466931</td><td>1.0766960</td></tr>\n",
       "</tbody>\n",
       "</table>\n"
      ],
      "text/latex": [
       "A matrix: 9 × 3 of type dbl\n",
       "\\begin{tabular}{r|lll}\n",
       "  & OR & 2.5 \\% & 97.5 \\%\\\\\n",
       "\\hline\n",
       "\tmale & 1.2636148 & 0.5657882 & 2.8294504\\\\\n",
       "\tage\\_filter\\_i0 & 0.4553655 & 0.2207919 & 0.9264796\\\\\n",
       "\ttdi & 1.0238659 & 0.9192694 & 1.1393642\\\\\n",
       "\tbmi\\_filter & 0.9063322 & 0.4166471 & 1.9575445\\\\\n",
       "\tsleep\\_filter & 0.7998288 & 0.3885462 & 1.6417937\\\\\n",
       "\tsmok\\_stat & 1.4312215 & 0.8699503 & 2.3594199\\\\\n",
       "\tfull\\_screen\\_time & 1.0383430 & 0.9364790 & 1.1526554\\\\\n",
       "\talc\\_freq\\_filter & 0.8506577 & 0.5239804 & 1.3750114\\\\\n",
       "\tmet\\_minweek\\_filter & 1.0108427 & 0.9466931 & 1.0766960\\\\\n",
       "\\end{tabular}\n"
      ],
      "text/markdown": [
       "\n",
       "A matrix: 9 × 3 of type dbl\n",
       "\n",
       "| <!--/--> | OR | 2.5 % | 97.5 % |\n",
       "|---|---|---|---|\n",
       "| male | 1.2636148 | 0.5657882 | 2.8294504 |\n",
       "| age_filter_i0 | 0.4553655 | 0.2207919 | 0.9264796 |\n",
       "| tdi | 1.0238659 | 0.9192694 | 1.1393642 |\n",
       "| bmi_filter | 0.9063322 | 0.4166471 | 1.9575445 |\n",
       "| sleep_filter | 0.7998288 | 0.3885462 | 1.6417937 |\n",
       "| smok_stat | 1.4312215 | 0.8699503 | 2.3594199 |\n",
       "| full_screen_time | 1.0383430 | 0.9364790 | 1.1526554 |\n",
       "| alc_freq_filter | 0.8506577 | 0.5239804 | 1.3750114 |\n",
       "| met_minweek_filter | 1.0108427 | 0.9466931 | 1.0766960 |\n",
       "\n"
      ],
      "text/plain": [
       "                   OR        2.5 %     97.5 %   \n",
       "male               1.2636148 0.5657882 2.8294504\n",
       "age_filter_i0      0.4553655 0.2207919 0.9264796\n",
       "tdi                1.0238659 0.9192694 1.1393642\n",
       "bmi_filter         0.9063322 0.4166471 1.9575445\n",
       "sleep_filter       0.7998288 0.3885462 1.6417937\n",
       "smok_stat          1.4312215 0.8699503 2.3594199\n",
       "full_screen_time   1.0383430 0.9364790 1.1526554\n",
       "alc_freq_filter    0.8506577 0.5239804 1.3750114\n",
       "met_minweek_filter 1.0108427 0.9466931 1.0766960"
      ]
     },
     "metadata": {},
     "output_type": "display_data"
    }
   ],
   "source": [
    "## OR and CI\n",
    "exp(cbind(OR = coef(model_dy), ci_dy))"
   ]
  },
  {
   "cell_type": "code",
   "execution_count": 25,
   "id": "f689ea26-95e8-477c-b80c-7880ad4d98ba",
   "metadata": {
    "tags": []
   },
   "outputs": [
    {
     "data": {
      "text/html": [
       "<table class=\"dataframe\">\n",
       "<caption>A matrix: 9 × 3 of type dbl</caption>\n",
       "<thead>\n",
       "\t<tr><th></th><th scope=col>OR</th><th scope=col>2.5 %</th><th scope=col>97.5 %</th></tr>\n",
       "</thead>\n",
       "<tbody>\n",
       "\t<tr><th scope=row>male</th><td>0.5788110</td><td>0.4065445</td><td>0.8236073</td></tr>\n",
       "\t<tr><th scope=row>age_filter_i0</th><td>0.6193209</td><td>0.4361220</td><td>0.8791733</td></tr>\n",
       "\t<tr><th scope=row>tdi</th><td>1.0740183</td><td>1.0167234</td><td>1.1344165</td></tr>\n",
       "\t<tr><th scope=row>bmi_filter</th><td>0.8141601</td><td>0.5610450</td><td>1.1739790</td></tr>\n",
       "\t<tr><th scope=row>sleep_filter</th><td>0.4848088</td><td>0.3405660</td><td>0.6902317</td></tr>\n",
       "\t<tr><th scope=row>smok_stat</th><td>1.5369563</td><td>1.1944680</td><td>1.9799212</td></tr>\n",
       "\t<tr><th scope=row>full_screen_time</th><td>1.0291775</td><td>0.9567323</td><td>1.1062183</td></tr>\n",
       "\t<tr><th scope=row>alc_freq_filter</th><td>0.8639348</td><td>0.6799038</td><td>1.0957111</td></tr>\n",
       "\t<tr><th scope=row>met_minweek_filter</th><td>0.9931822</td><td>0.9676499</td><td>1.0185518</td></tr>\n",
       "</tbody>\n",
       "</table>\n"
      ],
      "text/latex": [
       "A matrix: 9 × 3 of type dbl\n",
       "\\begin{tabular}{r|lll}\n",
       "  & OR & 2.5 \\% & 97.5 \\%\\\\\n",
       "\\hline\n",
       "\tmale & 0.5788110 & 0.4065445 & 0.8236073\\\\\n",
       "\tage\\_filter\\_i0 & 0.6193209 & 0.4361220 & 0.8791733\\\\\n",
       "\ttdi & 1.0740183 & 1.0167234 & 1.1344165\\\\\n",
       "\tbmi\\_filter & 0.8141601 & 0.5610450 & 1.1739790\\\\\n",
       "\tsleep\\_filter & 0.4848088 & 0.3405660 & 0.6902317\\\\\n",
       "\tsmok\\_stat & 1.5369563 & 1.1944680 & 1.9799212\\\\\n",
       "\tfull\\_screen\\_time & 1.0291775 & 0.9567323 & 1.1062183\\\\\n",
       "\talc\\_freq\\_filter & 0.8639348 & 0.6799038 & 1.0957111\\\\\n",
       "\tmet\\_minweek\\_filter & 0.9931822 & 0.9676499 & 1.0185518\\\\\n",
       "\\end{tabular}\n"
      ],
      "text/markdown": [
       "\n",
       "A matrix: 9 × 3 of type dbl\n",
       "\n",
       "| <!--/--> | OR | 2.5 % | 97.5 % |\n",
       "|---|---|---|---|\n",
       "| male | 0.5788110 | 0.4065445 | 0.8236073 |\n",
       "| age_filter_i0 | 0.6193209 | 0.4361220 | 0.8791733 |\n",
       "| tdi | 1.0740183 | 1.0167234 | 1.1344165 |\n",
       "| bmi_filter | 0.8141601 | 0.5610450 | 1.1739790 |\n",
       "| sleep_filter | 0.4848088 | 0.3405660 | 0.6902317 |\n",
       "| smok_stat | 1.5369563 | 1.1944680 | 1.9799212 |\n",
       "| full_screen_time | 1.0291775 | 0.9567323 | 1.1062183 |\n",
       "| alc_freq_filter | 0.8639348 | 0.6799038 | 1.0957111 |\n",
       "| met_minweek_filter | 0.9931822 | 0.9676499 | 1.0185518 |\n",
       "\n"
      ],
      "text/plain": [
       "                   OR        2.5 %     97.5 %   \n",
       "male               0.5788110 0.4065445 0.8236073\n",
       "age_filter_i0      0.6193209 0.4361220 0.8791733\n",
       "tdi                1.0740183 1.0167234 1.1344165\n",
       "bmi_filter         0.8141601 0.5610450 1.1739790\n",
       "sleep_filter       0.4848088 0.3405660 0.6902317\n",
       "smok_stat          1.5369563 1.1944680 1.9799212\n",
       "full_screen_time   1.0291775 0.9567323 1.1062183\n",
       "alc_freq_filter    0.8639348 0.6799038 1.0957111\n",
       "met_minweek_filter 0.9931822 0.9676499 1.0185518"
      ]
     },
     "metadata": {},
     "output_type": "display_data"
    }
   ],
   "source": [
    "## OR and CI\n",
    "exp(cbind(OR = coef(model_dn), ci_dn))"
   ]
  },
  {
   "cell_type": "code",
   "execution_count": 26,
   "id": "10bd6d06-0a02-4df1-b088-0c258db678b6",
   "metadata": {
    "tags": []
   },
   "outputs": [],
   "source": [
    "#next model = px who had a cevd after followup visit"
   ]
  },
  {
   "cell_type": "code",
   "execution_count": null,
   "id": "6319d1bf-2910-4744-839d-2621a475f8bb",
   "metadata": {},
   "outputs": [],
   "source": []
  },
  {
   "cell_type": "code",
   "execution_count": 27,
   "id": "f62ed780-0e18-4ebf-b245-7f3d4b48c315",
   "metadata": {
    "tags": []
   },
   "outputs": [
    {
     "name": "stdout",
     "output_type": "stream",
     "text": [
      "[1] 38\n"
     ]
    }
   ],
   "source": [
    "data_1 <- read.csv(\"cevd_second_model.csv\")\n",
    "# check number of rows - should be 603 from initial baseline of px who have future cevd\n",
    "num_rows_1 <- nrow(data_1)\n",
    "print(num_rows_1)\n",
    "# create 2 separate dataframes, 1 has depressed px, other has non-depressed px\n",
    "data_dy_1 <-data_1[data_1$dep_diag_yes_1 == 1, ]\n",
    "data_dn_1 <- data_1[data_1$dep_diag_yes_1 == 0, ]"
   ]
  },
  {
   "cell_type": "code",
   "execution_count": 28,
   "id": "2409e866-6893-4168-a5c7-767e9f7f1eff",
   "metadata": {
    "tags": []
   },
   "outputs": [
    {
     "name": "stdout",
     "output_type": "stream",
     "text": [
      "[1] 7\n"
     ]
    }
   ],
   "source": [
    "num_rows_1 <- nrow(data_dy_1)\n",
    "print(num_rows_1)"
   ]
  },
  {
   "cell_type": "code",
   "execution_count": 29,
   "id": "9fd33cad-d0e8-413c-ac08-9081b24c587f",
   "metadata": {
    "tags": []
   },
   "outputs": [
    {
     "name": "stdout",
     "output_type": "stream",
     "text": [
      "[1] 31\n"
     ]
    }
   ],
   "source": [
    "num_rows_1 <- nrow(data_dn_1)\n",
    "print(num_rows_1)"
   ]
  },
  {
   "cell_type": "code",
   "execution_count": null,
   "id": "623d1b26-2728-416b-b1ca-4f24c0d0f44e",
   "metadata": {},
   "outputs": [],
   "source": [
    "# too small for follow-up analysis"
   ]
  },
  {
   "cell_type": "code",
   "execution_count": 30,
   "id": "34730692-b588-4b5a-9a03-204ea6a9a2e7",
   "metadata": {
    "tags": []
   },
   "outputs": [],
   "source": [
    "#data$age_filter_i0 <- ifelse(data$age_i0 < 60, 0, 1)\n",
    "data_dy_1$age_filter_i0 <- ifelse(data_dy_1$age_i0 < 60, 0, 1)\n",
    "data_dn_1$age_filter_i0 <- ifelse(data_dn_1$age_i0 < 60, 0, 1)\n",
    "#data$age_filter_i0 <- ifelse(data$age_i0 < 60, 0, 1)\n",
    "data_dy_1$sleep_filter_1 <- ifelse(data_dy_1$sleep_1 > 6 & data_dy_1$sleep_1 < 10, 1, 0)\n",
    "data_dn_1$sleep_filter_1 <- ifelse(data_dn_1$sleep_1 > 6 & data_dn_1$sleep_1 < 10, 1, 0)\n",
    "#data$age_filter_i0 <- ifelse(data$age_i0 < 60, 0, 1)\n",
    "data_dy_1$bmi_filter_1 <- ifelse(data_dy_1$bmi_1 > 18.4 & data_dy_1$bmi_1 < 26, 1, 0)\n",
    "data_dn_1$bmi_filter_1 <- ifelse(data_dn_1$bmi_1 > 18.4 & data_dn_1$bmi_1 < 26, 1, 0)\n",
    "#data$age_filter_i0 <- ifelse(data$age_i0 < 60, 0, 1)\n",
    "data_dy_1$smok_filter <- ifelse(data_dy_1$smok_stat > 0, 1, 0)\n",
    "data_dn_1$smok_filter <- ifelse(data_dn_1$smok_stat > 0, 1, 0)"
   ]
  },
  {
   "cell_type": "code",
   "execution_count": 31,
   "id": "a6a0c7ae-f7f8-4d0c-b7d2-b90378024222",
   "metadata": {
    "tags": []
   },
   "outputs": [],
   "source": [
    "# Convert the response variable to a factor with ordered levels\n",
    "data_dy_1$phq2_1_followup <- factor(data_dy_1$phq2_1_followup, ordered = TRUE, levels = c(0, 1, 2, 3, 4))\n",
    "data_dn_1$phq2_1_followup <- factor(data_dn_1$phq2_1_followup, ordered = TRUE, levels = c(0, 1, 2, 3, 4))"
   ]
  },
  {
   "cell_type": "code",
   "execution_count": null,
   "id": "e4dde77b-1057-4eb9-bd5a-fa375389c84e",
   "metadata": {
    "tags": []
   },
   "outputs": [
    {
     "name": "stderr",
     "output_type": "stream",
     "text": [
      "Warning message:\n",
      "“glm.fit: fitted probabilities numerically 0 or 1 occurred”\n",
      "Warning message in polr(phq2_1_followup ~ sleep_filter_1 + smok_stat_1 + full_screen_time_1 + :\n",
      "“design appears to be rank-deficient, so dropping some coefs”\n"
     ]
    },
    {
     "ename": "ERROR",
     "evalue": "Error in optim(s0, fmin, gmin, method = \"BFGS\", ...): initial value in 'vmmin' is not finite\n",
     "output_type": "error",
     "traceback": [
      "Error in optim(s0, fmin, gmin, method = \"BFGS\", ...): initial value in 'vmmin' is not finite\nTraceback:\n",
      "1. polr(phq2_1_followup ~ sleep_filter_1 + smok_stat_1 + full_screen_time_1 + \n .     alc_freq_filter_1 + met_minweek_filter + cevd_before_i1, \n .     data = data_dy_1, method = \"logistic\")",
      "2. polr.fit(x, y, wt, start, offset, method, hessian = Hess, ...)",
      "3. optim(s0, fmin, gmin, method = \"BFGS\", ...)"
     ]
    }
   ],
   "source": [
    "model_dy_1 <- polr(phq2_1_followup ~ phq2_1 + male  + age_filter_i0 + tdi + bmi_filter_1 +  sleep_filter_1 + smok_stat_1 + full_screen_time_1 + alc_freq_filter_1 + met_minweek_filter + cevd_before_i1, data = data_dy_1, method = \"logistic\")\n",
    "#model_dy_1 <- polr(phq2_1_followup ~ phq2_1 + sleep_filter + smok_filter + full_screen_time + alc_freq_filter +ipaq + cevd_before_i1, data = data_dy_1, method = \"logistic\")"
   ]
  },
  {
   "cell_type": "code",
   "execution_count": 43,
   "id": "fb8da998-89d6-4459-bc19-042efb73b8c5",
   "metadata": {
    "tags": []
   },
   "outputs": [],
   "source": [
    "model_dn_1 <- polr(phq2_1_followup ~ phq2_1 + male  + age_filter_i0 + tdi + bmi_filter_1 +  sleep_filter_1 + smok_stat_1 + full_screen_time_1 + alc_freq_filter_1 + met_minweek_filter + cevd_before_i1, data = data_dn_1, method = \"logistic\")\n",
    "#model_dy_1 <- polr(phq2_1_followup ~ phq2_1 + sleep_filter + smok_filter + full_screen_time + alc_freq_filter +ipaq + cevd_before_i1, data = data_dy_1, method = \"logistic\")"
   ]
  },
  {
   "cell_type": "code",
   "execution_count": 44,
   "id": "cab6ec41-4c75-4da1-9cae-66f43f164cbf",
   "metadata": {
    "tags": []
   },
   "outputs": [
    {
     "name": "stderr",
     "output_type": "stream",
     "text": [
      "\n",
      "Re-fitting to get Hessian\n",
      "\n",
      "\n"
     ]
    },
    {
     "data": {
      "text/plain": [
       "Call:\n",
       "polr(formula = phq2_1_followup ~ phq2_1 + male + age_filter_i0 + \n",
       "    tdi + bmi_filter_1 + sleep_filter_1 + smok_stat_1 + full_screen_time_1 + \n",
       "    alc_freq_filter_1 + met_minweek_filter + cevd_before_i1, \n",
       "    data = data_dy_1, method = \"logistic\")\n",
       "\n",
       "Coefficients:\n",
       "                      Value Std. Error  t value\n",
       "phq2_1              0.01519    0.32346  0.04696\n",
       "male               -0.28555    0.53998 -0.52881\n",
       "age_filter_i0      -0.56578    0.58265 -0.97105\n",
       "tdi                 0.01087    0.08608  0.12632\n",
       "bmi_filter_1       -0.71403    0.64259 -1.11117\n",
       "sleep_filter_1      0.06322    0.57497  0.10996\n",
       "smok_stat_1        -0.30527    0.55771 -0.54737\n",
       "full_screen_time_1  0.32144    0.13235  2.42878\n",
       "alc_freq_filter_1   0.02293    0.37697  0.06082\n",
       "met_minweek_filter -0.05019    0.06447 -0.77845\n",
       "cevd_before_i1     -0.26656    0.57354 -0.46476\n",
       "\n",
       "Intercepts:\n",
       "    Value   Std. Error t value\n",
       "0|1 -2.4698  1.4654    -1.6854\n",
       "1|2  0.5632  1.3720     0.4105\n",
       "2|3  2.6675  1.4357     1.8580\n",
       "3|4  3.7855  1.5055     2.5145\n",
       "\n",
       "Residual Deviance: 148.8823 \n",
       "AIC: 178.8823 "
      ]
     },
     "metadata": {},
     "output_type": "display_data"
    }
   ],
   "source": [
    "summary(model_dy_1)"
   ]
  },
  {
   "cell_type": "code",
   "execution_count": 45,
   "id": "475ec18a-8ec5-40a7-990f-309f8937e3d1",
   "metadata": {
    "tags": []
   },
   "outputs": [
    {
     "name": "stderr",
     "output_type": "stream",
     "text": [
      "\n",
      "Re-fitting to get Hessian\n",
      "\n",
      "\n"
     ]
    },
    {
     "data": {
      "text/plain": [
       "Call:\n",
       "polr(formula = phq2_1_followup ~ phq2_1 + male + age_filter_i0 + \n",
       "    tdi + bmi_filter_1 + sleep_filter_1 + smok_stat_1 + full_screen_time_1 + \n",
       "    alc_freq_filter_1 + met_minweek_filter + cevd_before_i1, \n",
       "    data = data_dn_1, method = \"logistic\")\n",
       "\n",
       "Coefficients:\n",
       "                      Value Std. Error t value\n",
       "phq2_1              1.77450    0.21717  8.1709\n",
       "male               -0.15090    0.26245 -0.5750\n",
       "age_filter_i0      -0.59423    0.25831 -2.3004\n",
       "tdi                -0.04941    0.05188 -0.9524\n",
       "bmi_filter_1       -0.37750    0.27020 -1.3971\n",
       "sleep_filter_1     -0.15795    0.29066 -0.5434\n",
       "smok_stat_1         0.15514    0.21785  0.7121\n",
       "full_screen_time_1 -0.03898    0.05891 -0.6617\n",
       "alc_freq_filter_1  -0.04807    0.18358 -0.2618\n",
       "met_minweek_filter  0.01941    0.02064  0.9407\n",
       "cevd_before_i1      0.18369    0.30817  0.5961\n",
       "\n",
       "Intercepts:\n",
       "    Value   Std. Error t value\n",
       "0|1 -2.9522  0.7350    -4.0168\n",
       "1|2  3.3729  0.6699     5.0352\n",
       "2|3  5.8133  0.7696     7.5534\n",
       "3|4  7.4892  0.9718     7.7066\n",
       "\n",
       "Residual Deviance: 539.7995 \n",
       "AIC: 569.7995 "
      ]
     },
     "metadata": {},
     "output_type": "display_data"
    }
   ],
   "source": [
    "summary(model_dn_1)"
   ]
  },
  {
   "cell_type": "code",
   "execution_count": 46,
   "id": "c8068a7e-3d78-4a8b-ac69-71dc66f64ea0",
   "metadata": {
    "tags": []
   },
   "outputs": [
    {
     "name": "stderr",
     "output_type": "stream",
     "text": [
      "\n",
      "Re-fitting to get Hessian\n",
      "\n",
      "\n"
     ]
    },
    {
     "data": {
      "text/html": [
       "<table class=\"dataframe\">\n",
       "<caption>A matrix: 15 × 3 of type dbl</caption>\n",
       "<thead>\n",
       "\t<tr><th></th><th scope=col>Value</th><th scope=col>Std. Error</th><th scope=col>t value</th></tr>\n",
       "</thead>\n",
       "<tbody>\n",
       "\t<tr><th scope=row>phq2_1</th><td> 0.01519086</td><td>0.32346456</td><td> 0.04696299</td></tr>\n",
       "\t<tr><th scope=row>male</th><td>-0.28554511</td><td>0.53997609</td><td>-0.52881066</td></tr>\n",
       "\t<tr><th scope=row>age_filter_i0</th><td>-0.56577904</td><td>0.58264577</td><td>-0.97105149</td></tr>\n",
       "\t<tr><th scope=row>tdi</th><td> 0.01087314</td><td>0.08607603</td><td> 0.12632018</td></tr>\n",
       "\t<tr><th scope=row>bmi_filter_1</th><td>-0.71402894</td><td>0.64259337</td><td>-1.11116761</td></tr>\n",
       "\t<tr><th scope=row>sleep_filter_1</th><td> 0.06322073</td><td>0.57496867</td><td> 0.10995509</td></tr>\n",
       "\t<tr><th scope=row>smok_stat_1</th><td>-0.30527364</td><td>0.55771226</td><td>-0.54736763</td></tr>\n",
       "\t<tr><th scope=row>full_screen_time_1</th><td> 0.32144179</td><td>0.13234692</td><td> 2.42878176</td></tr>\n",
       "\t<tr><th scope=row>alc_freq_filter_1</th><td> 0.02292632</td><td>0.37696766</td><td> 0.06081773</td></tr>\n",
       "\t<tr><th scope=row>met_minweek_filter</th><td>-0.05018783</td><td>0.06447137</td><td>-0.77845141</td></tr>\n",
       "\t<tr><th scope=row>cevd_before_i1</th><td>-0.26656105</td><td>0.57354413</td><td>-0.46476118</td></tr>\n",
       "\t<tr><th scope=row>0|1</th><td>-2.46976205</td><td>1.46540620</td><td>-1.68537710</td></tr>\n",
       "\t<tr><th scope=row>1|2</th><td> 0.56324940</td><td>1.37200011</td><td> 0.41053160</td></tr>\n",
       "\t<tr><th scope=row>2|3</th><td> 2.66747527</td><td>1.43566884</td><td> 1.85800178</td></tr>\n",
       "\t<tr><th scope=row>3|4</th><td> 3.78546637</td><td>1.50546130</td><td> 2.51448933</td></tr>\n",
       "</tbody>\n",
       "</table>\n"
      ],
      "text/latex": [
       "A matrix: 15 × 3 of type dbl\n",
       "\\begin{tabular}{r|lll}\n",
       "  & Value & Std. Error & t value\\\\\n",
       "\\hline\n",
       "\tphq2\\_1 &  0.01519086 & 0.32346456 &  0.04696299\\\\\n",
       "\tmale & -0.28554511 & 0.53997609 & -0.52881066\\\\\n",
       "\tage\\_filter\\_i0 & -0.56577904 & 0.58264577 & -0.97105149\\\\\n",
       "\ttdi &  0.01087314 & 0.08607603 &  0.12632018\\\\\n",
       "\tbmi\\_filter\\_1 & -0.71402894 & 0.64259337 & -1.11116761\\\\\n",
       "\tsleep\\_filter\\_1 &  0.06322073 & 0.57496867 &  0.10995509\\\\\n",
       "\tsmok\\_stat\\_1 & -0.30527364 & 0.55771226 & -0.54736763\\\\\n",
       "\tfull\\_screen\\_time\\_1 &  0.32144179 & 0.13234692 &  2.42878176\\\\\n",
       "\talc\\_freq\\_filter\\_1 &  0.02292632 & 0.37696766 &  0.06081773\\\\\n",
       "\tmet\\_minweek\\_filter & -0.05018783 & 0.06447137 & -0.77845141\\\\\n",
       "\tcevd\\_before\\_i1 & -0.26656105 & 0.57354413 & -0.46476118\\\\\n",
       "\t0\\textbar{}1 & -2.46976205 & 1.46540620 & -1.68537710\\\\\n",
       "\t1\\textbar{}2 &  0.56324940 & 1.37200011 &  0.41053160\\\\\n",
       "\t2\\textbar{}3 &  2.66747527 & 1.43566884 &  1.85800178\\\\\n",
       "\t3\\textbar{}4 &  3.78546637 & 1.50546130 &  2.51448933\\\\\n",
       "\\end{tabular}\n"
      ],
      "text/markdown": [
       "\n",
       "A matrix: 15 × 3 of type dbl\n",
       "\n",
       "| <!--/--> | Value | Std. Error | t value |\n",
       "|---|---|---|---|\n",
       "| phq2_1 |  0.01519086 | 0.32346456 |  0.04696299 |\n",
       "| male | -0.28554511 | 0.53997609 | -0.52881066 |\n",
       "| age_filter_i0 | -0.56577904 | 0.58264577 | -0.97105149 |\n",
       "| tdi |  0.01087314 | 0.08607603 |  0.12632018 |\n",
       "| bmi_filter_1 | -0.71402894 | 0.64259337 | -1.11116761 |\n",
       "| sleep_filter_1 |  0.06322073 | 0.57496867 |  0.10995509 |\n",
       "| smok_stat_1 | -0.30527364 | 0.55771226 | -0.54736763 |\n",
       "| full_screen_time_1 |  0.32144179 | 0.13234692 |  2.42878176 |\n",
       "| alc_freq_filter_1 |  0.02292632 | 0.37696766 |  0.06081773 |\n",
       "| met_minweek_filter | -0.05018783 | 0.06447137 | -0.77845141 |\n",
       "| cevd_before_i1 | -0.26656105 | 0.57354413 | -0.46476118 |\n",
       "| 0|1 | -2.46976205 | 1.46540620 | -1.68537710 |\n",
       "| 1|2 |  0.56324940 | 1.37200011 |  0.41053160 |\n",
       "| 2|3 |  2.66747527 | 1.43566884 |  1.85800178 |\n",
       "| 3|4 |  3.78546637 | 1.50546130 |  2.51448933 |\n",
       "\n"
      ],
      "text/plain": [
       "                   Value       Std. Error t value    \n",
       "phq2_1              0.01519086 0.32346456  0.04696299\n",
       "male               -0.28554511 0.53997609 -0.52881066\n",
       "age_filter_i0      -0.56577904 0.58264577 -0.97105149\n",
       "tdi                 0.01087314 0.08607603  0.12632018\n",
       "bmi_filter_1       -0.71402894 0.64259337 -1.11116761\n",
       "sleep_filter_1      0.06322073 0.57496867  0.10995509\n",
       "smok_stat_1        -0.30527364 0.55771226 -0.54736763\n",
       "full_screen_time_1  0.32144179 0.13234692  2.42878176\n",
       "alc_freq_filter_1   0.02292632 0.37696766  0.06081773\n",
       "met_minweek_filter -0.05018783 0.06447137 -0.77845141\n",
       "cevd_before_i1     -0.26656105 0.57354413 -0.46476118\n",
       "0|1                -2.46976205 1.46540620 -1.68537710\n",
       "1|2                 0.56324940 1.37200011  0.41053160\n",
       "2|3                 2.66747527 1.43566884  1.85800178\n",
       "3|4                 3.78546637 1.50546130  2.51448933"
      ]
     },
     "metadata": {},
     "output_type": "display_data"
    }
   ],
   "source": [
    "## store table\n",
    "(ctable_dy_1 <- coef(summary(model_dy_1)))"
   ]
  },
  {
   "cell_type": "code",
   "execution_count": 47,
   "id": "8fc7ed24-b520-4401-b1e4-0ba2e5433609",
   "metadata": {
    "tags": []
   },
   "outputs": [
    {
     "name": "stderr",
     "output_type": "stream",
     "text": [
      "\n",
      "Re-fitting to get Hessian\n",
      "\n",
      "\n"
     ]
    },
    {
     "data": {
      "text/html": [
       "<table class=\"dataframe\">\n",
       "<caption>A matrix: 15 × 3 of type dbl</caption>\n",
       "<thead>\n",
       "\t<tr><th></th><th scope=col>Value</th><th scope=col>Std. Error</th><th scope=col>t value</th></tr>\n",
       "</thead>\n",
       "<tbody>\n",
       "\t<tr><th scope=row>phq2_1</th><td> 1.77450104</td><td>0.21717229</td><td> 8.1709367</td></tr>\n",
       "\t<tr><th scope=row>male</th><td>-0.15089757</td><td>0.26245227</td><td>-0.5749524</td></tr>\n",
       "\t<tr><th scope=row>age_filter_i0</th><td>-0.59423104</td><td>0.25831267</td><td>-2.3004332</td></tr>\n",
       "\t<tr><th scope=row>tdi</th><td>-0.04941260</td><td>0.05188373</td><td>-0.9523719</td></tr>\n",
       "\t<tr><th scope=row>bmi_filter_1</th><td>-0.37750201</td><td>0.27020253</td><td>-1.3971076</td></tr>\n",
       "\t<tr><th scope=row>sleep_filter_1</th><td>-0.15794605</td><td>0.29066396</td><td>-0.5433974</td></tr>\n",
       "\t<tr><th scope=row>smok_stat_1</th><td> 0.15514237</td><td>0.21785384</td><td> 0.7121397</td></tr>\n",
       "\t<tr><th scope=row>full_screen_time_1</th><td>-0.03897992</td><td>0.05890730</td><td>-0.6617164</td></tr>\n",
       "\t<tr><th scope=row>alc_freq_filter_1</th><td>-0.04807091</td><td>0.18358235</td><td>-0.2618493</td></tr>\n",
       "\t<tr><th scope=row>met_minweek_filter</th><td> 0.01941100</td><td>0.02063527</td><td> 0.9406712</td></tr>\n",
       "\t<tr><th scope=row>cevd_before_i1</th><td> 0.18369465</td><td>0.30817189</td><td> 0.5960785</td></tr>\n",
       "\t<tr><th scope=row>0|1</th><td>-2.95222189</td><td>0.73497631</td><td>-4.0167579</td></tr>\n",
       "\t<tr><th scope=row>1|2</th><td> 3.37285202</td><td>0.66986091</td><td> 5.0351528</td></tr>\n",
       "\t<tr><th scope=row>2|3</th><td> 5.81334327</td><td>0.76963557</td><td> 7.5533713</td></tr>\n",
       "\t<tr><th scope=row>3|4</th><td> 7.48918110</td><td>0.97178435</td><td> 7.7066286</td></tr>\n",
       "</tbody>\n",
       "</table>\n"
      ],
      "text/latex": [
       "A matrix: 15 × 3 of type dbl\n",
       "\\begin{tabular}{r|lll}\n",
       "  & Value & Std. Error & t value\\\\\n",
       "\\hline\n",
       "\tphq2\\_1 &  1.77450104 & 0.21717229 &  8.1709367\\\\\n",
       "\tmale & -0.15089757 & 0.26245227 & -0.5749524\\\\\n",
       "\tage\\_filter\\_i0 & -0.59423104 & 0.25831267 & -2.3004332\\\\\n",
       "\ttdi & -0.04941260 & 0.05188373 & -0.9523719\\\\\n",
       "\tbmi\\_filter\\_1 & -0.37750201 & 0.27020253 & -1.3971076\\\\\n",
       "\tsleep\\_filter\\_1 & -0.15794605 & 0.29066396 & -0.5433974\\\\\n",
       "\tsmok\\_stat\\_1 &  0.15514237 & 0.21785384 &  0.7121397\\\\\n",
       "\tfull\\_screen\\_time\\_1 & -0.03897992 & 0.05890730 & -0.6617164\\\\\n",
       "\talc\\_freq\\_filter\\_1 & -0.04807091 & 0.18358235 & -0.2618493\\\\\n",
       "\tmet\\_minweek\\_filter &  0.01941100 & 0.02063527 &  0.9406712\\\\\n",
       "\tcevd\\_before\\_i1 &  0.18369465 & 0.30817189 &  0.5960785\\\\\n",
       "\t0\\textbar{}1 & -2.95222189 & 0.73497631 & -4.0167579\\\\\n",
       "\t1\\textbar{}2 &  3.37285202 & 0.66986091 &  5.0351528\\\\\n",
       "\t2\\textbar{}3 &  5.81334327 & 0.76963557 &  7.5533713\\\\\n",
       "\t3\\textbar{}4 &  7.48918110 & 0.97178435 &  7.7066286\\\\\n",
       "\\end{tabular}\n"
      ],
      "text/markdown": [
       "\n",
       "A matrix: 15 × 3 of type dbl\n",
       "\n",
       "| <!--/--> | Value | Std. Error | t value |\n",
       "|---|---|---|---|\n",
       "| phq2_1 |  1.77450104 | 0.21717229 |  8.1709367 |\n",
       "| male | -0.15089757 | 0.26245227 | -0.5749524 |\n",
       "| age_filter_i0 | -0.59423104 | 0.25831267 | -2.3004332 |\n",
       "| tdi | -0.04941260 | 0.05188373 | -0.9523719 |\n",
       "| bmi_filter_1 | -0.37750201 | 0.27020253 | -1.3971076 |\n",
       "| sleep_filter_1 | -0.15794605 | 0.29066396 | -0.5433974 |\n",
       "| smok_stat_1 |  0.15514237 | 0.21785384 |  0.7121397 |\n",
       "| full_screen_time_1 | -0.03897992 | 0.05890730 | -0.6617164 |\n",
       "| alc_freq_filter_1 | -0.04807091 | 0.18358235 | -0.2618493 |\n",
       "| met_minweek_filter |  0.01941100 | 0.02063527 |  0.9406712 |\n",
       "| cevd_before_i1 |  0.18369465 | 0.30817189 |  0.5960785 |\n",
       "| 0|1 | -2.95222189 | 0.73497631 | -4.0167579 |\n",
       "| 1|2 |  3.37285202 | 0.66986091 |  5.0351528 |\n",
       "| 2|3 |  5.81334327 | 0.76963557 |  7.5533713 |\n",
       "| 3|4 |  7.48918110 | 0.97178435 |  7.7066286 |\n",
       "\n"
      ],
      "text/plain": [
       "                   Value       Std. Error t value   \n",
       "phq2_1              1.77450104 0.21717229  8.1709367\n",
       "male               -0.15089757 0.26245227 -0.5749524\n",
       "age_filter_i0      -0.59423104 0.25831267 -2.3004332\n",
       "tdi                -0.04941260 0.05188373 -0.9523719\n",
       "bmi_filter_1       -0.37750201 0.27020253 -1.3971076\n",
       "sleep_filter_1     -0.15794605 0.29066396 -0.5433974\n",
       "smok_stat_1         0.15514237 0.21785384  0.7121397\n",
       "full_screen_time_1 -0.03897992 0.05890730 -0.6617164\n",
       "alc_freq_filter_1  -0.04807091 0.18358235 -0.2618493\n",
       "met_minweek_filter  0.01941100 0.02063527  0.9406712\n",
       "cevd_before_i1      0.18369465 0.30817189  0.5960785\n",
       "0|1                -2.95222189 0.73497631 -4.0167579\n",
       "1|2                 3.37285202 0.66986091  5.0351528\n",
       "2|3                 5.81334327 0.76963557  7.5533713\n",
       "3|4                 7.48918110 0.97178435  7.7066286"
      ]
     },
     "metadata": {},
     "output_type": "display_data"
    }
   ],
   "source": [
    "## store table\n",
    "(ctable_dn_1 <- coef(summary(model_dn_1)))"
   ]
  },
  {
   "cell_type": "code",
   "execution_count": 48,
   "id": "d83bdb73-3b45-464f-a70c-d2e6a361b0ef",
   "metadata": {
    "tags": []
   },
   "outputs": [
    {
     "data": {
      "text/html": [
       "<table class=\"dataframe\">\n",
       "<caption>A matrix: 15 × 4 of type dbl</caption>\n",
       "<thead>\n",
       "\t<tr><th></th><th scope=col>Value</th><th scope=col>Std. Error</th><th scope=col>t value</th><th scope=col>p value</th></tr>\n",
       "</thead>\n",
       "<tbody>\n",
       "\t<tr><th scope=row>phq2_1</th><td> 0.01519086</td><td>0.32346456</td><td> 0.04696299</td><td>0.96254272</td></tr>\n",
       "\t<tr><th scope=row>male</th><td>-0.28554511</td><td>0.53997609</td><td>-0.52881066</td><td>0.59693680</td></tr>\n",
       "\t<tr><th scope=row>age_filter_i0</th><td>-0.56577904</td><td>0.58264577</td><td>-0.97105149</td><td>0.33152264</td></tr>\n",
       "\t<tr><th scope=row>tdi</th><td> 0.01087314</td><td>0.08607603</td><td> 0.12632018</td><td>0.89947849</td></tr>\n",
       "\t<tr><th scope=row>bmi_filter_1</th><td>-0.71402894</td><td>0.64259337</td><td>-1.11116761</td><td>0.26649621</td></tr>\n",
       "\t<tr><th scope=row>sleep_filter_1</th><td> 0.06322073</td><td>0.57496867</td><td> 0.10995509</td><td>0.91244499</td></tr>\n",
       "\t<tr><th scope=row>smok_stat_1</th><td>-0.30527364</td><td>0.55771226</td><td>-0.54736763</td><td>0.58412619</td></tr>\n",
       "\t<tr><th scope=row>full_screen_time_1</th><td> 0.32144179</td><td>0.13234692</td><td> 2.42878176</td><td>0.01514965</td></tr>\n",
       "\t<tr><th scope=row>alc_freq_filter_1</th><td> 0.02292632</td><td>0.37696766</td><td> 0.06081773</td><td>0.95150437</td></tr>\n",
       "\t<tr><th scope=row>met_minweek_filter</th><td>-0.05018783</td><td>0.06447137</td><td>-0.77845141</td><td>0.43630294</td></tr>\n",
       "\t<tr><th scope=row>cevd_before_i1</th><td>-0.26656105</td><td>0.57354413</td><td>-0.46476118</td><td>0.64210249</td></tr>\n",
       "\t<tr><th scope=row>0|1</th><td>-2.46976205</td><td>1.46540620</td><td>-1.68537710</td><td>0.09191584</td></tr>\n",
       "\t<tr><th scope=row>1|2</th><td> 0.56324940</td><td>1.37200011</td><td> 0.41053160</td><td>0.68141603</td></tr>\n",
       "\t<tr><th scope=row>2|3</th><td> 2.66747527</td><td>1.43566884</td><td> 1.85800178</td><td>0.06316876</td></tr>\n",
       "\t<tr><th scope=row>3|4</th><td> 3.78546637</td><td>1.50546130</td><td> 2.51448933</td><td>0.01192049</td></tr>\n",
       "</tbody>\n",
       "</table>\n"
      ],
      "text/latex": [
       "A matrix: 15 × 4 of type dbl\n",
       "\\begin{tabular}{r|llll}\n",
       "  & Value & Std. Error & t value & p value\\\\\n",
       "\\hline\n",
       "\tphq2\\_1 &  0.01519086 & 0.32346456 &  0.04696299 & 0.96254272\\\\\n",
       "\tmale & -0.28554511 & 0.53997609 & -0.52881066 & 0.59693680\\\\\n",
       "\tage\\_filter\\_i0 & -0.56577904 & 0.58264577 & -0.97105149 & 0.33152264\\\\\n",
       "\ttdi &  0.01087314 & 0.08607603 &  0.12632018 & 0.89947849\\\\\n",
       "\tbmi\\_filter\\_1 & -0.71402894 & 0.64259337 & -1.11116761 & 0.26649621\\\\\n",
       "\tsleep\\_filter\\_1 &  0.06322073 & 0.57496867 &  0.10995509 & 0.91244499\\\\\n",
       "\tsmok\\_stat\\_1 & -0.30527364 & 0.55771226 & -0.54736763 & 0.58412619\\\\\n",
       "\tfull\\_screen\\_time\\_1 &  0.32144179 & 0.13234692 &  2.42878176 & 0.01514965\\\\\n",
       "\talc\\_freq\\_filter\\_1 &  0.02292632 & 0.37696766 &  0.06081773 & 0.95150437\\\\\n",
       "\tmet\\_minweek\\_filter & -0.05018783 & 0.06447137 & -0.77845141 & 0.43630294\\\\\n",
       "\tcevd\\_before\\_i1 & -0.26656105 & 0.57354413 & -0.46476118 & 0.64210249\\\\\n",
       "\t0\\textbar{}1 & -2.46976205 & 1.46540620 & -1.68537710 & 0.09191584\\\\\n",
       "\t1\\textbar{}2 &  0.56324940 & 1.37200011 &  0.41053160 & 0.68141603\\\\\n",
       "\t2\\textbar{}3 &  2.66747527 & 1.43566884 &  1.85800178 & 0.06316876\\\\\n",
       "\t3\\textbar{}4 &  3.78546637 & 1.50546130 &  2.51448933 & 0.01192049\\\\\n",
       "\\end{tabular}\n"
      ],
      "text/markdown": [
       "\n",
       "A matrix: 15 × 4 of type dbl\n",
       "\n",
       "| <!--/--> | Value | Std. Error | t value | p value |\n",
       "|---|---|---|---|---|\n",
       "| phq2_1 |  0.01519086 | 0.32346456 |  0.04696299 | 0.96254272 |\n",
       "| male | -0.28554511 | 0.53997609 | -0.52881066 | 0.59693680 |\n",
       "| age_filter_i0 | -0.56577904 | 0.58264577 | -0.97105149 | 0.33152264 |\n",
       "| tdi |  0.01087314 | 0.08607603 |  0.12632018 | 0.89947849 |\n",
       "| bmi_filter_1 | -0.71402894 | 0.64259337 | -1.11116761 | 0.26649621 |\n",
       "| sleep_filter_1 |  0.06322073 | 0.57496867 |  0.10995509 | 0.91244499 |\n",
       "| smok_stat_1 | -0.30527364 | 0.55771226 | -0.54736763 | 0.58412619 |\n",
       "| full_screen_time_1 |  0.32144179 | 0.13234692 |  2.42878176 | 0.01514965 |\n",
       "| alc_freq_filter_1 |  0.02292632 | 0.37696766 |  0.06081773 | 0.95150437 |\n",
       "| met_minweek_filter | -0.05018783 | 0.06447137 | -0.77845141 | 0.43630294 |\n",
       "| cevd_before_i1 | -0.26656105 | 0.57354413 | -0.46476118 | 0.64210249 |\n",
       "| 0|1 | -2.46976205 | 1.46540620 | -1.68537710 | 0.09191584 |\n",
       "| 1|2 |  0.56324940 | 1.37200011 |  0.41053160 | 0.68141603 |\n",
       "| 2|3 |  2.66747527 | 1.43566884 |  1.85800178 | 0.06316876 |\n",
       "| 3|4 |  3.78546637 | 1.50546130 |  2.51448933 | 0.01192049 |\n",
       "\n"
      ],
      "text/plain": [
       "                   Value       Std. Error t value     p value   \n",
       "phq2_1              0.01519086 0.32346456  0.04696299 0.96254272\n",
       "male               -0.28554511 0.53997609 -0.52881066 0.59693680\n",
       "age_filter_i0      -0.56577904 0.58264577 -0.97105149 0.33152264\n",
       "tdi                 0.01087314 0.08607603  0.12632018 0.89947849\n",
       "bmi_filter_1       -0.71402894 0.64259337 -1.11116761 0.26649621\n",
       "sleep_filter_1      0.06322073 0.57496867  0.10995509 0.91244499\n",
       "smok_stat_1        -0.30527364 0.55771226 -0.54736763 0.58412619\n",
       "full_screen_time_1  0.32144179 0.13234692  2.42878176 0.01514965\n",
       "alc_freq_filter_1   0.02292632 0.37696766  0.06081773 0.95150437\n",
       "met_minweek_filter -0.05018783 0.06447137 -0.77845141 0.43630294\n",
       "cevd_before_i1     -0.26656105 0.57354413 -0.46476118 0.64210249\n",
       "0|1                -2.46976205 1.46540620 -1.68537710 0.09191584\n",
       "1|2                 0.56324940 1.37200011  0.41053160 0.68141603\n",
       "2|3                 2.66747527 1.43566884  1.85800178 0.06316876\n",
       "3|4                 3.78546637 1.50546130  2.51448933 0.01192049"
      ]
     },
     "metadata": {},
     "output_type": "display_data"
    }
   ],
   "source": [
    "## calculate and store p values\n",
    "p_dy_1 <- pnorm(abs(ctable_dy_1[, \"t value\"]), lower.tail = FALSE) * 2\n",
    "## combined table\n",
    "(ctable_dy_1 <- cbind(ctable_dy_1, \"p value\" = p_dy_1))"
   ]
  },
  {
   "cell_type": "code",
   "execution_count": 49,
   "id": "f6a22939-84ab-4e7e-8116-abe5f1094d24",
   "metadata": {
    "tags": []
   },
   "outputs": [
    {
     "data": {
      "text/html": [
       "<table class=\"dataframe\">\n",
       "<caption>A matrix: 15 × 4 of type dbl</caption>\n",
       "<thead>\n",
       "\t<tr><th></th><th scope=col>Value</th><th scope=col>Std. Error</th><th scope=col>t value</th><th scope=col>p value</th></tr>\n",
       "</thead>\n",
       "<tbody>\n",
       "\t<tr><th scope=row>phq2_1</th><td> 1.77450104</td><td>0.21717229</td><td> 8.1709367</td><td>3.060042e-16</td></tr>\n",
       "\t<tr><th scope=row>male</th><td>-0.15089757</td><td>0.26245227</td><td>-0.5749524</td><td>5.653235e-01</td></tr>\n",
       "\t<tr><th scope=row>age_filter_i0</th><td>-0.59423104</td><td>0.25831267</td><td>-2.3004332</td><td>2.142369e-02</td></tr>\n",
       "\t<tr><th scope=row>tdi</th><td>-0.04941260</td><td>0.05188373</td><td>-0.9523719</td><td>3.409084e-01</td></tr>\n",
       "\t<tr><th scope=row>bmi_filter_1</th><td>-0.37750201</td><td>0.27020253</td><td>-1.3971076</td><td>1.623812e-01</td></tr>\n",
       "\t<tr><th scope=row>sleep_filter_1</th><td>-0.15794605</td><td>0.29066396</td><td>-0.5433974</td><td>5.868562e-01</td></tr>\n",
       "\t<tr><th scope=row>smok_stat_1</th><td> 0.15514237</td><td>0.21785384</td><td> 0.7121397</td><td>4.763783e-01</td></tr>\n",
       "\t<tr><th scope=row>full_screen_time_1</th><td>-0.03897992</td><td>0.05890730</td><td>-0.6617164</td><td>5.081530e-01</td></tr>\n",
       "\t<tr><th scope=row>alc_freq_filter_1</th><td>-0.04807091</td><td>0.18358235</td><td>-0.2618493</td><td>7.934376e-01</td></tr>\n",
       "\t<tr><th scope=row>met_minweek_filter</th><td> 0.01941100</td><td>0.02063527</td><td> 0.9406712</td><td>3.468734e-01</td></tr>\n",
       "\t<tr><th scope=row>cevd_before_i1</th><td> 0.18369465</td><td>0.30817189</td><td> 0.5960785</td><td>5.511228e-01</td></tr>\n",
       "\t<tr><th scope=row>0|1</th><td>-2.95222189</td><td>0.73497631</td><td>-4.0167579</td><td>5.900429e-05</td></tr>\n",
       "\t<tr><th scope=row>1|2</th><td> 3.37285202</td><td>0.66986091</td><td> 5.0351528</td><td>4.774678e-07</td></tr>\n",
       "\t<tr><th scope=row>2|3</th><td> 5.81334327</td><td>0.76963557</td><td> 7.5533713</td><td>4.241336e-14</td></tr>\n",
       "\t<tr><th scope=row>3|4</th><td> 7.48918110</td><td>0.97178435</td><td> 7.7066286</td><td>1.291850e-14</td></tr>\n",
       "</tbody>\n",
       "</table>\n"
      ],
      "text/latex": [
       "A matrix: 15 × 4 of type dbl\n",
       "\\begin{tabular}{r|llll}\n",
       "  & Value & Std. Error & t value & p value\\\\\n",
       "\\hline\n",
       "\tphq2\\_1 &  1.77450104 & 0.21717229 &  8.1709367 & 3.060042e-16\\\\\n",
       "\tmale & -0.15089757 & 0.26245227 & -0.5749524 & 5.653235e-01\\\\\n",
       "\tage\\_filter\\_i0 & -0.59423104 & 0.25831267 & -2.3004332 & 2.142369e-02\\\\\n",
       "\ttdi & -0.04941260 & 0.05188373 & -0.9523719 & 3.409084e-01\\\\\n",
       "\tbmi\\_filter\\_1 & -0.37750201 & 0.27020253 & -1.3971076 & 1.623812e-01\\\\\n",
       "\tsleep\\_filter\\_1 & -0.15794605 & 0.29066396 & -0.5433974 & 5.868562e-01\\\\\n",
       "\tsmok\\_stat\\_1 &  0.15514237 & 0.21785384 &  0.7121397 & 4.763783e-01\\\\\n",
       "\tfull\\_screen\\_time\\_1 & -0.03897992 & 0.05890730 & -0.6617164 & 5.081530e-01\\\\\n",
       "\talc\\_freq\\_filter\\_1 & -0.04807091 & 0.18358235 & -0.2618493 & 7.934376e-01\\\\\n",
       "\tmet\\_minweek\\_filter &  0.01941100 & 0.02063527 &  0.9406712 & 3.468734e-01\\\\\n",
       "\tcevd\\_before\\_i1 &  0.18369465 & 0.30817189 &  0.5960785 & 5.511228e-01\\\\\n",
       "\t0\\textbar{}1 & -2.95222189 & 0.73497631 & -4.0167579 & 5.900429e-05\\\\\n",
       "\t1\\textbar{}2 &  3.37285202 & 0.66986091 &  5.0351528 & 4.774678e-07\\\\\n",
       "\t2\\textbar{}3 &  5.81334327 & 0.76963557 &  7.5533713 & 4.241336e-14\\\\\n",
       "\t3\\textbar{}4 &  7.48918110 & 0.97178435 &  7.7066286 & 1.291850e-14\\\\\n",
       "\\end{tabular}\n"
      ],
      "text/markdown": [
       "\n",
       "A matrix: 15 × 4 of type dbl\n",
       "\n",
       "| <!--/--> | Value | Std. Error | t value | p value |\n",
       "|---|---|---|---|---|\n",
       "| phq2_1 |  1.77450104 | 0.21717229 |  8.1709367 | 3.060042e-16 |\n",
       "| male | -0.15089757 | 0.26245227 | -0.5749524 | 5.653235e-01 |\n",
       "| age_filter_i0 | -0.59423104 | 0.25831267 | -2.3004332 | 2.142369e-02 |\n",
       "| tdi | -0.04941260 | 0.05188373 | -0.9523719 | 3.409084e-01 |\n",
       "| bmi_filter_1 | -0.37750201 | 0.27020253 | -1.3971076 | 1.623812e-01 |\n",
       "| sleep_filter_1 | -0.15794605 | 0.29066396 | -0.5433974 | 5.868562e-01 |\n",
       "| smok_stat_1 |  0.15514237 | 0.21785384 |  0.7121397 | 4.763783e-01 |\n",
       "| full_screen_time_1 | -0.03897992 | 0.05890730 | -0.6617164 | 5.081530e-01 |\n",
       "| alc_freq_filter_1 | -0.04807091 | 0.18358235 | -0.2618493 | 7.934376e-01 |\n",
       "| met_minweek_filter |  0.01941100 | 0.02063527 |  0.9406712 | 3.468734e-01 |\n",
       "| cevd_before_i1 |  0.18369465 | 0.30817189 |  0.5960785 | 5.511228e-01 |\n",
       "| 0|1 | -2.95222189 | 0.73497631 | -4.0167579 | 5.900429e-05 |\n",
       "| 1|2 |  3.37285202 | 0.66986091 |  5.0351528 | 4.774678e-07 |\n",
       "| 2|3 |  5.81334327 | 0.76963557 |  7.5533713 | 4.241336e-14 |\n",
       "| 3|4 |  7.48918110 | 0.97178435 |  7.7066286 | 1.291850e-14 |\n",
       "\n"
      ],
      "text/plain": [
       "                   Value       Std. Error t value    p value     \n",
       "phq2_1              1.77450104 0.21717229  8.1709367 3.060042e-16\n",
       "male               -0.15089757 0.26245227 -0.5749524 5.653235e-01\n",
       "age_filter_i0      -0.59423104 0.25831267 -2.3004332 2.142369e-02\n",
       "tdi                -0.04941260 0.05188373 -0.9523719 3.409084e-01\n",
       "bmi_filter_1       -0.37750201 0.27020253 -1.3971076 1.623812e-01\n",
       "sleep_filter_1     -0.15794605 0.29066396 -0.5433974 5.868562e-01\n",
       "smok_stat_1         0.15514237 0.21785384  0.7121397 4.763783e-01\n",
       "full_screen_time_1 -0.03897992 0.05890730 -0.6617164 5.081530e-01\n",
       "alc_freq_filter_1  -0.04807091 0.18358235 -0.2618493 7.934376e-01\n",
       "met_minweek_filter  0.01941100 0.02063527  0.9406712 3.468734e-01\n",
       "cevd_before_i1      0.18369465 0.30817189  0.5960785 5.511228e-01\n",
       "0|1                -2.95222189 0.73497631 -4.0167579 5.900429e-05\n",
       "1|2                 3.37285202 0.66986091  5.0351528 4.774678e-07\n",
       "2|3                 5.81334327 0.76963557  7.5533713 4.241336e-14\n",
       "3|4                 7.48918110 0.97178435  7.7066286 1.291850e-14"
      ]
     },
     "metadata": {},
     "output_type": "display_data"
    }
   ],
   "source": [
    "## calculate and store p values\n",
    "p_dn_1 <- pnorm(abs(ctable_dn_1[, \"t value\"]), lower.tail = FALSE) * 2\n",
    "## combined table\n",
    "(ctable_dn_1 <- cbind(ctable_dn_1, \"p value\" = p_dn_1))"
   ]
  },
  {
   "cell_type": "code",
   "execution_count": 50,
   "id": "b4814f45-21a6-4ffb-8886-dce0dcb17242",
   "metadata": {
    "tags": []
   },
   "outputs": [
    {
     "data": {
      "text/html": [
       "<style>\n",
       ".dl-inline {width: auto; margin:0; padding: 0}\n",
       ".dl-inline>dt, .dl-inline>dd {float: none; width: auto; display: inline-block}\n",
       ".dl-inline>dt::after {content: \":\\0020\"; padding-right: .5ex}\n",
       ".dl-inline>dt:not(:first-of-type) {padding-left: .5ex}\n",
       "</style><dl class=dl-inline><dt>phq2_1</dt><dd>1.01530683079391</dd><dt>male</dt><dd>0.751604433267387</dd><dt>age_filter_i0</dt><dd>0.567917544210686</dd><dt>tdi</dt><dd>1.01093246729947</dd><dt>bmi_filter_1</dt><dd>0.489667376556222</dd><dt>sleep_filter_1</dt><dd>1.06526195039699</dd><dt>smok_stat_1</dt><dd>0.736921697081567</dd><dt>full_screen_time_1</dt><dd>1.37911472059233</dd><dt>alc_freq_filter_1</dt><dd>1.02319114622112</dd><dt>met_minweek_filter</dt><dd>0.951050773601745</dd><dt>cevd_before_i1</dt><dd>0.766009241125499</dd></dl>\n"
      ],
      "text/latex": [
       "\\begin{description*}\n",
       "\\item[phq2\\textbackslash{}\\_1] 1.01530683079391\n",
       "\\item[male] 0.751604433267387\n",
       "\\item[age\\textbackslash{}\\_filter\\textbackslash{}\\_i0] 0.567917544210686\n",
       "\\item[tdi] 1.01093246729947\n",
       "\\item[bmi\\textbackslash{}\\_filter\\textbackslash{}\\_1] 0.489667376556222\n",
       "\\item[sleep\\textbackslash{}\\_filter\\textbackslash{}\\_1] 1.06526195039699\n",
       "\\item[smok\\textbackslash{}\\_stat\\textbackslash{}\\_1] 0.736921697081567\n",
       "\\item[full\\textbackslash{}\\_screen\\textbackslash{}\\_time\\textbackslash{}\\_1] 1.37911472059233\n",
       "\\item[alc\\textbackslash{}\\_freq\\textbackslash{}\\_filter\\textbackslash{}\\_1] 1.02319114622112\n",
       "\\item[met\\textbackslash{}\\_minweek\\textbackslash{}\\_filter] 0.951050773601745\n",
       "\\item[cevd\\textbackslash{}\\_before\\textbackslash{}\\_i1] 0.766009241125499\n",
       "\\end{description*}\n"
      ],
      "text/markdown": [
       "phq2_1\n",
       ":   1.01530683079391male\n",
       ":   0.751604433267387age_filter_i0\n",
       ":   0.567917544210686tdi\n",
       ":   1.01093246729947bmi_filter_1\n",
       ":   0.489667376556222sleep_filter_1\n",
       ":   1.06526195039699smok_stat_1\n",
       ":   0.736921697081567full_screen_time_1\n",
       ":   1.37911472059233alc_freq_filter_1\n",
       ":   1.02319114622112met_minweek_filter\n",
       ":   0.951050773601745cevd_before_i1\n",
       ":   0.766009241125499\n",
       "\n"
      ],
      "text/plain": [
       "            phq2_1               male      age_filter_i0                tdi \n",
       "         1.0153068          0.7516044          0.5679175          1.0109325 \n",
       "      bmi_filter_1     sleep_filter_1        smok_stat_1 full_screen_time_1 \n",
       "         0.4896674          1.0652620          0.7369217          1.3791147 \n",
       " alc_freq_filter_1 met_minweek_filter     cevd_before_i1 \n",
       "         1.0231911          0.9510508          0.7660092 "
      ]
     },
     "metadata": {},
     "output_type": "display_data"
    }
   ],
   "source": [
    "## odds ratios\n",
    "exp(coef(model_dy_1))"
   ]
  },
  {
   "cell_type": "code",
   "execution_count": 51,
   "id": "ce8d2c9e-c4c0-4235-8063-5203243960a9",
   "metadata": {
    "tags": []
   },
   "outputs": [
    {
     "data": {
      "text/html": [
       "<style>\n",
       ".dl-inline {width: auto; margin:0; padding: 0}\n",
       ".dl-inline>dt, .dl-inline>dd {float: none; width: auto; display: inline-block}\n",
       ".dl-inline>dt::after {content: \":\\0020\"; padding-right: .5ex}\n",
       ".dl-inline>dt:not(:first-of-type) {padding-left: .5ex}\n",
       "</style><dl class=dl-inline><dt>phq2_1</dt><dd>5.8973378688898</dd><dt>male</dt><dd>0.859935776764962</dd><dt>age_filter_i0</dt><dd>0.551986857480752</dd><dt>tdi</dt><dd>0.951788341022653</dd><dt>bmi_filter_1</dt><dd>0.685571824495988</dd><dt>sleep_filter_1</dt><dd>0.853895848533576</dd><dt>smok_stat_1</dt><dd>1.16782421259797</dd><dt>full_screen_time_1</dt><dd>0.961770017174279</dd><dt>alc_freq_filter_1</dt><dd>0.95306620096776</dd><dt>met_minweek_filter</dt><dd>1.01960062121423</dd><dt>cevd_before_i1</dt><dd>1.20164884220208</dd></dl>\n"
      ],
      "text/latex": [
       "\\begin{description*}\n",
       "\\item[phq2\\textbackslash{}\\_1] 5.8973378688898\n",
       "\\item[male] 0.859935776764962\n",
       "\\item[age\\textbackslash{}\\_filter\\textbackslash{}\\_i0] 0.551986857480752\n",
       "\\item[tdi] 0.951788341022653\n",
       "\\item[bmi\\textbackslash{}\\_filter\\textbackslash{}\\_1] 0.685571824495988\n",
       "\\item[sleep\\textbackslash{}\\_filter\\textbackslash{}\\_1] 0.853895848533576\n",
       "\\item[smok\\textbackslash{}\\_stat\\textbackslash{}\\_1] 1.16782421259797\n",
       "\\item[full\\textbackslash{}\\_screen\\textbackslash{}\\_time\\textbackslash{}\\_1] 0.961770017174279\n",
       "\\item[alc\\textbackslash{}\\_freq\\textbackslash{}\\_filter\\textbackslash{}\\_1] 0.95306620096776\n",
       "\\item[met\\textbackslash{}\\_minweek\\textbackslash{}\\_filter] 1.01960062121423\n",
       "\\item[cevd\\textbackslash{}\\_before\\textbackslash{}\\_i1] 1.20164884220208\n",
       "\\end{description*}\n"
      ],
      "text/markdown": [
       "phq2_1\n",
       ":   5.8973378688898male\n",
       ":   0.859935776764962age_filter_i0\n",
       ":   0.551986857480752tdi\n",
       ":   0.951788341022653bmi_filter_1\n",
       ":   0.685571824495988sleep_filter_1\n",
       ":   0.853895848533576smok_stat_1\n",
       ":   1.16782421259797full_screen_time_1\n",
       ":   0.961770017174279alc_freq_filter_1\n",
       ":   0.95306620096776met_minweek_filter\n",
       ":   1.01960062121423cevd_before_i1\n",
       ":   1.20164884220208\n",
       "\n"
      ],
      "text/plain": [
       "            phq2_1               male      age_filter_i0                tdi \n",
       "         5.8973379          0.8599358          0.5519869          0.9517883 \n",
       "      bmi_filter_1     sleep_filter_1        smok_stat_1 full_screen_time_1 \n",
       "         0.6855718          0.8538958          1.1678242          0.9617700 \n",
       " alc_freq_filter_1 met_minweek_filter     cevd_before_i1 \n",
       "         0.9530662          1.0196006          1.2016488 "
      ]
     },
     "metadata": {},
     "output_type": "display_data"
    }
   ],
   "source": [
    "## odds ratios\n",
    "exp(coef(model_dn_1))"
   ]
  },
  {
   "cell_type": "code",
   "execution_count": 52,
   "id": "1417cc5c-67bf-4201-bbca-120782bd7fa7",
   "metadata": {
    "tags": []
   },
   "outputs": [
    {
     "name": "stderr",
     "output_type": "stream",
     "text": [
      "Waiting for profiling to be done...\n",
      "\n",
      "\n",
      "Re-fitting to get Hessian\n",
      "\n",
      "\n"
     ]
    },
    {
     "data": {
      "text/html": [
       "<table class=\"dataframe\">\n",
       "<caption>A matrix: 11 × 2 of type dbl</caption>\n",
       "<thead>\n",
       "\t<tr><th></th><th scope=col>2.5 %</th><th scope=col>97.5 %</th></tr>\n",
       "</thead>\n",
       "<tbody>\n",
       "\t<tr><th scope=row>phq2_1</th><td>-0.62813761</td><td>0.64832749</td></tr>\n",
       "\t<tr><th scope=row>male</th><td>-1.35366708</td><td>0.77471986</td></tr>\n",
       "\t<tr><th scope=row>age_filter_i0</th><td>-1.73025899</td><td>0.56634257</td></tr>\n",
       "\t<tr><th scope=row>tdi</th><td>-0.15766632</td><td>0.18122630</td></tr>\n",
       "\t<tr><th scope=row>bmi_filter_1</th><td>-2.00687441</td><td>0.52924994</td></tr>\n",
       "\t<tr><th scope=row>sleep_filter_1</th><td>-1.07967036</td><td>1.18664517</td></tr>\n",
       "\t<tr><th scope=row>smok_stat_1</th><td>-1.40020325</td><td>0.80314679</td></tr>\n",
       "\t<tr><th scope=row>full_screen_time_1</th><td> 0.06687994</td><td>0.58944865</td></tr>\n",
       "\t<tr><th scope=row>alc_freq_filter_1</th><td>-0.71958590</td><td>0.76761213</td></tr>\n",
       "\t<tr><th scope=row>met_minweek_filter</th><td>-0.17938803</td><td>0.07508364</td></tr>\n",
       "\t<tr><th scope=row>cevd_before_i1</th><td>-1.40720324</td><td>0.85620611</td></tr>\n",
       "</tbody>\n",
       "</table>\n"
      ],
      "text/latex": [
       "A matrix: 11 × 2 of type dbl\n",
       "\\begin{tabular}{r|ll}\n",
       "  & 2.5 \\% & 97.5 \\%\\\\\n",
       "\\hline\n",
       "\tphq2\\_1 & -0.62813761 & 0.64832749\\\\\n",
       "\tmale & -1.35366708 & 0.77471986\\\\\n",
       "\tage\\_filter\\_i0 & -1.73025899 & 0.56634257\\\\\n",
       "\ttdi & -0.15766632 & 0.18122630\\\\\n",
       "\tbmi\\_filter\\_1 & -2.00687441 & 0.52924994\\\\\n",
       "\tsleep\\_filter\\_1 & -1.07967036 & 1.18664517\\\\\n",
       "\tsmok\\_stat\\_1 & -1.40020325 & 0.80314679\\\\\n",
       "\tfull\\_screen\\_time\\_1 &  0.06687994 & 0.58944865\\\\\n",
       "\talc\\_freq\\_filter\\_1 & -0.71958590 & 0.76761213\\\\\n",
       "\tmet\\_minweek\\_filter & -0.17938803 & 0.07508364\\\\\n",
       "\tcevd\\_before\\_i1 & -1.40720324 & 0.85620611\\\\\n",
       "\\end{tabular}\n"
      ],
      "text/markdown": [
       "\n",
       "A matrix: 11 × 2 of type dbl\n",
       "\n",
       "| <!--/--> | 2.5 % | 97.5 % |\n",
       "|---|---|---|\n",
       "| phq2_1 | -0.62813761 | 0.64832749 |\n",
       "| male | -1.35366708 | 0.77471986 |\n",
       "| age_filter_i0 | -1.73025899 | 0.56634257 |\n",
       "| tdi | -0.15766632 | 0.18122630 |\n",
       "| bmi_filter_1 | -2.00687441 | 0.52924994 |\n",
       "| sleep_filter_1 | -1.07967036 | 1.18664517 |\n",
       "| smok_stat_1 | -1.40020325 | 0.80314679 |\n",
       "| full_screen_time_1 |  0.06687994 | 0.58944865 |\n",
       "| alc_freq_filter_1 | -0.71958590 | 0.76761213 |\n",
       "| met_minweek_filter | -0.17938803 | 0.07508364 |\n",
       "| cevd_before_i1 | -1.40720324 | 0.85620611 |\n",
       "\n"
      ],
      "text/plain": [
       "                   2.5 %       97.5 %    \n",
       "phq2_1             -0.62813761 0.64832749\n",
       "male               -1.35366708 0.77471986\n",
       "age_filter_i0      -1.73025899 0.56634257\n",
       "tdi                -0.15766632 0.18122630\n",
       "bmi_filter_1       -2.00687441 0.52924994\n",
       "sleep_filter_1     -1.07967036 1.18664517\n",
       "smok_stat_1        -1.40020325 0.80314679\n",
       "full_screen_time_1  0.06687994 0.58944865\n",
       "alc_freq_filter_1  -0.71958590 0.76761213\n",
       "met_minweek_filter -0.17938803 0.07508364\n",
       "cevd_before_i1     -1.40720324 0.85620611"
      ]
     },
     "metadata": {},
     "output_type": "display_data"
    }
   ],
   "source": [
    "(ci_dy_1 <- confint(model_dy_1)) # default method gives profiled CIs"
   ]
  },
  {
   "cell_type": "code",
   "execution_count": 53,
   "id": "0372a85b-3591-4c35-b6ef-12ae7eb4a904",
   "metadata": {
    "tags": []
   },
   "outputs": [
    {
     "name": "stderr",
     "output_type": "stream",
     "text": [
      "Waiting for profiling to be done...\n",
      "\n",
      "\n",
      "Re-fitting to get Hessian\n",
      "\n",
      "\n"
     ]
    },
    {
     "data": {
      "text/html": [
       "<table class=\"dataframe\">\n",
       "<caption>A matrix: 11 × 2 of type dbl</caption>\n",
       "<thead>\n",
       "\t<tr><th></th><th scope=col>2.5 %</th><th scope=col>97.5 %</th></tr>\n",
       "</thead>\n",
       "<tbody>\n",
       "\t<tr><th scope=row>phq2_1</th><td> 1.35407929</td><td> 2.20773465</td></tr>\n",
       "\t<tr><th scope=row>male</th><td>-0.66408643</td><td> 0.36717189</td></tr>\n",
       "\t<tr><th scope=row>age_filter_i0</th><td>-1.10248091</td><td>-0.08739397</td></tr>\n",
       "\t<tr><th scope=row>tdi</th><td>-0.15330108</td><td> 0.05031420</td></tr>\n",
       "\t<tr><th scope=row>bmi_filter_1</th><td>-0.91527488</td><td> 0.14664352</td></tr>\n",
       "\t<tr><th scope=row>sleep_filter_1</th><td>-0.71870196</td><td> 0.42305796</td></tr>\n",
       "\t<tr><th scope=row>smok_stat_1</th><td>-0.27581216</td><td> 0.57959531</td></tr>\n",
       "\t<tr><th scope=row>full_screen_time_1</th><td>-0.15638360</td><td> 0.07332623</td></tr>\n",
       "\t<tr><th scope=row>alc_freq_filter_1</th><td>-0.40973065</td><td> 0.31117724</td></tr>\n",
       "\t<tr><th scope=row>met_minweek_filter</th><td>-0.02203451</td><td> 0.05909677</td></tr>\n",
       "\t<tr><th scope=row>cevd_before_i1</th><td>-0.43560191</td><td> 0.77591421</td></tr>\n",
       "</tbody>\n",
       "</table>\n"
      ],
      "text/latex": [
       "A matrix: 11 × 2 of type dbl\n",
       "\\begin{tabular}{r|ll}\n",
       "  & 2.5 \\% & 97.5 \\%\\\\\n",
       "\\hline\n",
       "\tphq2\\_1 &  1.35407929 &  2.20773465\\\\\n",
       "\tmale & -0.66408643 &  0.36717189\\\\\n",
       "\tage\\_filter\\_i0 & -1.10248091 & -0.08739397\\\\\n",
       "\ttdi & -0.15330108 &  0.05031420\\\\\n",
       "\tbmi\\_filter\\_1 & -0.91527488 &  0.14664352\\\\\n",
       "\tsleep\\_filter\\_1 & -0.71870196 &  0.42305796\\\\\n",
       "\tsmok\\_stat\\_1 & -0.27581216 &  0.57959531\\\\\n",
       "\tfull\\_screen\\_time\\_1 & -0.15638360 &  0.07332623\\\\\n",
       "\talc\\_freq\\_filter\\_1 & -0.40973065 &  0.31117724\\\\\n",
       "\tmet\\_minweek\\_filter & -0.02203451 &  0.05909677\\\\\n",
       "\tcevd\\_before\\_i1 & -0.43560191 &  0.77591421\\\\\n",
       "\\end{tabular}\n"
      ],
      "text/markdown": [
       "\n",
       "A matrix: 11 × 2 of type dbl\n",
       "\n",
       "| <!--/--> | 2.5 % | 97.5 % |\n",
       "|---|---|---|\n",
       "| phq2_1 |  1.35407929 |  2.20773465 |\n",
       "| male | -0.66408643 |  0.36717189 |\n",
       "| age_filter_i0 | -1.10248091 | -0.08739397 |\n",
       "| tdi | -0.15330108 |  0.05031420 |\n",
       "| bmi_filter_1 | -0.91527488 |  0.14664352 |\n",
       "| sleep_filter_1 | -0.71870196 |  0.42305796 |\n",
       "| smok_stat_1 | -0.27581216 |  0.57959531 |\n",
       "| full_screen_time_1 | -0.15638360 |  0.07332623 |\n",
       "| alc_freq_filter_1 | -0.40973065 |  0.31117724 |\n",
       "| met_minweek_filter | -0.02203451 |  0.05909677 |\n",
       "| cevd_before_i1 | -0.43560191 |  0.77591421 |\n",
       "\n"
      ],
      "text/plain": [
       "                   2.5 %       97.5 %     \n",
       "phq2_1              1.35407929  2.20773465\n",
       "male               -0.66408643  0.36717189\n",
       "age_filter_i0      -1.10248091 -0.08739397\n",
       "tdi                -0.15330108  0.05031420\n",
       "bmi_filter_1       -0.91527488  0.14664352\n",
       "sleep_filter_1     -0.71870196  0.42305796\n",
       "smok_stat_1        -0.27581216  0.57959531\n",
       "full_screen_time_1 -0.15638360  0.07332623\n",
       "alc_freq_filter_1  -0.40973065  0.31117724\n",
       "met_minweek_filter -0.02203451  0.05909677\n",
       "cevd_before_i1     -0.43560191  0.77591421"
      ]
     },
     "metadata": {},
     "output_type": "display_data"
    }
   ],
   "source": [
    "(ci_dn_1 <- confint(model_dn_1)) # default method gives profiled CIs"
   ]
  },
  {
   "cell_type": "code",
   "execution_count": 54,
   "id": "afea075c-6a51-4334-aa29-f0f876e6c588",
   "metadata": {
    "tags": []
   },
   "outputs": [
    {
     "data": {
      "text/html": [
       "<table class=\"dataframe\">\n",
       "<caption>A matrix: 11 × 3 of type dbl</caption>\n",
       "<thead>\n",
       "\t<tr><th></th><th scope=col>OR</th><th scope=col>2.5 %</th><th scope=col>97.5 %</th></tr>\n",
       "</thead>\n",
       "<tbody>\n",
       "\t<tr><th scope=row>phq2_1</th><td>1.0153068</td><td>0.5335846</td><td>1.912340</td></tr>\n",
       "\t<tr><th scope=row>male</th><td>0.7516044</td><td>0.2582913</td><td>2.169984</td></tr>\n",
       "\t<tr><th scope=row>age_filter_i0</th><td>0.5679175</td><td>0.1772385</td><td>1.761812</td></tr>\n",
       "\t<tr><th scope=row>tdi</th><td>1.0109325</td><td>0.8541347</td><td>1.198686</td></tr>\n",
       "\t<tr><th scope=row>bmi_filter_1</th><td>0.4896674</td><td>0.1344081</td><td>1.697658</td></tr>\n",
       "\t<tr><th scope=row>sleep_filter_1</th><td>1.0652620</td><td>0.3397075</td><td>3.276072</td></tr>\n",
       "\t<tr><th scope=row>smok_stat_1</th><td>0.7369217</td><td>0.2465468</td><td>2.232555</td></tr>\n",
       "\t<tr><th scope=row>full_screen_time_1</th><td>1.3791147</td><td>1.0691671</td><td>1.802994</td></tr>\n",
       "\t<tr><th scope=row>alc_freq_filter_1</th><td>1.0231911</td><td>0.4869539</td><td>2.154615</td></tr>\n",
       "\t<tr><th scope=row>met_minweek_filter</th><td>0.9510508</td><td>0.8357815</td><td>1.077974</td></tr>\n",
       "\t<tr><th scope=row>cevd_before_i1</th><td>0.7660092</td><td>0.2448270</td><td>2.354212</td></tr>\n",
       "</tbody>\n",
       "</table>\n"
      ],
      "text/latex": [
       "A matrix: 11 × 3 of type dbl\n",
       "\\begin{tabular}{r|lll}\n",
       "  & OR & 2.5 \\% & 97.5 \\%\\\\\n",
       "\\hline\n",
       "\tphq2\\_1 & 1.0153068 & 0.5335846 & 1.912340\\\\\n",
       "\tmale & 0.7516044 & 0.2582913 & 2.169984\\\\\n",
       "\tage\\_filter\\_i0 & 0.5679175 & 0.1772385 & 1.761812\\\\\n",
       "\ttdi & 1.0109325 & 0.8541347 & 1.198686\\\\\n",
       "\tbmi\\_filter\\_1 & 0.4896674 & 0.1344081 & 1.697658\\\\\n",
       "\tsleep\\_filter\\_1 & 1.0652620 & 0.3397075 & 3.276072\\\\\n",
       "\tsmok\\_stat\\_1 & 0.7369217 & 0.2465468 & 2.232555\\\\\n",
       "\tfull\\_screen\\_time\\_1 & 1.3791147 & 1.0691671 & 1.802994\\\\\n",
       "\talc\\_freq\\_filter\\_1 & 1.0231911 & 0.4869539 & 2.154615\\\\\n",
       "\tmet\\_minweek\\_filter & 0.9510508 & 0.8357815 & 1.077974\\\\\n",
       "\tcevd\\_before\\_i1 & 0.7660092 & 0.2448270 & 2.354212\\\\\n",
       "\\end{tabular}\n"
      ],
      "text/markdown": [
       "\n",
       "A matrix: 11 × 3 of type dbl\n",
       "\n",
       "| <!--/--> | OR | 2.5 % | 97.5 % |\n",
       "|---|---|---|---|\n",
       "| phq2_1 | 1.0153068 | 0.5335846 | 1.912340 |\n",
       "| male | 0.7516044 | 0.2582913 | 2.169984 |\n",
       "| age_filter_i0 | 0.5679175 | 0.1772385 | 1.761812 |\n",
       "| tdi | 1.0109325 | 0.8541347 | 1.198686 |\n",
       "| bmi_filter_1 | 0.4896674 | 0.1344081 | 1.697658 |\n",
       "| sleep_filter_1 | 1.0652620 | 0.3397075 | 3.276072 |\n",
       "| smok_stat_1 | 0.7369217 | 0.2465468 | 2.232555 |\n",
       "| full_screen_time_1 | 1.3791147 | 1.0691671 | 1.802994 |\n",
       "| alc_freq_filter_1 | 1.0231911 | 0.4869539 | 2.154615 |\n",
       "| met_minweek_filter | 0.9510508 | 0.8357815 | 1.077974 |\n",
       "| cevd_before_i1 | 0.7660092 | 0.2448270 | 2.354212 |\n",
       "\n"
      ],
      "text/plain": [
       "                   OR        2.5 %     97.5 %  \n",
       "phq2_1             1.0153068 0.5335846 1.912340\n",
       "male               0.7516044 0.2582913 2.169984\n",
       "age_filter_i0      0.5679175 0.1772385 1.761812\n",
       "tdi                1.0109325 0.8541347 1.198686\n",
       "bmi_filter_1       0.4896674 0.1344081 1.697658\n",
       "sleep_filter_1     1.0652620 0.3397075 3.276072\n",
       "smok_stat_1        0.7369217 0.2465468 2.232555\n",
       "full_screen_time_1 1.3791147 1.0691671 1.802994\n",
       "alc_freq_filter_1  1.0231911 0.4869539 2.154615\n",
       "met_minweek_filter 0.9510508 0.8357815 1.077974\n",
       "cevd_before_i1     0.7660092 0.2448270 2.354212"
      ]
     },
     "metadata": {},
     "output_type": "display_data"
    }
   ],
   "source": [
    "## OR and CI\n",
    "exp(cbind(OR = coef(model_dy_1), ci_dy_1))"
   ]
  },
  {
   "cell_type": "code",
   "execution_count": 55,
   "id": "146fef93-0ad8-4511-bd20-17954d7c8d3b",
   "metadata": {
    "tags": []
   },
   "outputs": [
    {
     "data": {
      "text/html": [
       "<table class=\"dataframe\">\n",
       "<caption>A matrix: 11 × 3 of type dbl</caption>\n",
       "<thead>\n",
       "\t<tr><th></th><th scope=col>OR</th><th scope=col>2.5 %</th><th scope=col>97.5 %</th></tr>\n",
       "</thead>\n",
       "<tbody>\n",
       "\t<tr><th scope=row>phq2_1</th><td>5.8973379</td><td>3.8731932</td><td>9.095089</td></tr>\n",
       "\t<tr><th scope=row>male</th><td>0.8599358</td><td>0.5147436</td><td>1.443646</td></tr>\n",
       "\t<tr><th scope=row>age_filter_i0</th><td>0.5519869</td><td>0.3320463</td><td>0.916316</td></tr>\n",
       "\t<tr><th scope=row>tdi</th><td>0.9517883</td><td>0.8578714</td><td>1.051601</td></tr>\n",
       "\t<tr><th scope=row>bmi_filter_1</th><td>0.6855718</td><td>0.4004065</td><td>1.157941</td></tr>\n",
       "\t<tr><th scope=row>sleep_filter_1</th><td>0.8538958</td><td>0.4873845</td><td>1.526623</td></tr>\n",
       "\t<tr><th scope=row>smok_stat_1</th><td>1.1678242</td><td>0.7589555</td><td>1.785316</td></tr>\n",
       "\t<tr><th scope=row>full_screen_time_1</th><td>0.9617700</td><td>0.8552311</td><td>1.076082</td></tr>\n",
       "\t<tr><th scope=row>alc_freq_filter_1</th><td>0.9530662</td><td>0.6638290</td><td>1.365031</td></tr>\n",
       "\t<tr><th scope=row>met_minweek_filter</th><td>1.0196006</td><td>0.9782065</td><td>1.060878</td></tr>\n",
       "\t<tr><th scope=row>cevd_before_i1</th><td>1.2016488</td><td>0.6468752</td><td>2.172577</td></tr>\n",
       "</tbody>\n",
       "</table>\n"
      ],
      "text/latex": [
       "A matrix: 11 × 3 of type dbl\n",
       "\\begin{tabular}{r|lll}\n",
       "  & OR & 2.5 \\% & 97.5 \\%\\\\\n",
       "\\hline\n",
       "\tphq2\\_1 & 5.8973379 & 3.8731932 & 9.095089\\\\\n",
       "\tmale & 0.8599358 & 0.5147436 & 1.443646\\\\\n",
       "\tage\\_filter\\_i0 & 0.5519869 & 0.3320463 & 0.916316\\\\\n",
       "\ttdi & 0.9517883 & 0.8578714 & 1.051601\\\\\n",
       "\tbmi\\_filter\\_1 & 0.6855718 & 0.4004065 & 1.157941\\\\\n",
       "\tsleep\\_filter\\_1 & 0.8538958 & 0.4873845 & 1.526623\\\\\n",
       "\tsmok\\_stat\\_1 & 1.1678242 & 0.7589555 & 1.785316\\\\\n",
       "\tfull\\_screen\\_time\\_1 & 0.9617700 & 0.8552311 & 1.076082\\\\\n",
       "\talc\\_freq\\_filter\\_1 & 0.9530662 & 0.6638290 & 1.365031\\\\\n",
       "\tmet\\_minweek\\_filter & 1.0196006 & 0.9782065 & 1.060878\\\\\n",
       "\tcevd\\_before\\_i1 & 1.2016488 & 0.6468752 & 2.172577\\\\\n",
       "\\end{tabular}\n"
      ],
      "text/markdown": [
       "\n",
       "A matrix: 11 × 3 of type dbl\n",
       "\n",
       "| <!--/--> | OR | 2.5 % | 97.5 % |\n",
       "|---|---|---|---|\n",
       "| phq2_1 | 5.8973379 | 3.8731932 | 9.095089 |\n",
       "| male | 0.8599358 | 0.5147436 | 1.443646 |\n",
       "| age_filter_i0 | 0.5519869 | 0.3320463 | 0.916316 |\n",
       "| tdi | 0.9517883 | 0.8578714 | 1.051601 |\n",
       "| bmi_filter_1 | 0.6855718 | 0.4004065 | 1.157941 |\n",
       "| sleep_filter_1 | 0.8538958 | 0.4873845 | 1.526623 |\n",
       "| smok_stat_1 | 1.1678242 | 0.7589555 | 1.785316 |\n",
       "| full_screen_time_1 | 0.9617700 | 0.8552311 | 1.076082 |\n",
       "| alc_freq_filter_1 | 0.9530662 | 0.6638290 | 1.365031 |\n",
       "| met_minweek_filter | 1.0196006 | 0.9782065 | 1.060878 |\n",
       "| cevd_before_i1 | 1.2016488 | 0.6468752 | 2.172577 |\n",
       "\n"
      ],
      "text/plain": [
       "                   OR        2.5 %     97.5 %  \n",
       "phq2_1             5.8973379 3.8731932 9.095089\n",
       "male               0.8599358 0.5147436 1.443646\n",
       "age_filter_i0      0.5519869 0.3320463 0.916316\n",
       "tdi                0.9517883 0.8578714 1.051601\n",
       "bmi_filter_1       0.6855718 0.4004065 1.157941\n",
       "sleep_filter_1     0.8538958 0.4873845 1.526623\n",
       "smok_stat_1        1.1678242 0.7589555 1.785316\n",
       "full_screen_time_1 0.9617700 0.8552311 1.076082\n",
       "alc_freq_filter_1  0.9530662 0.6638290 1.365031\n",
       "met_minweek_filter 1.0196006 0.9782065 1.060878\n",
       "cevd_before_i1     1.2016488 0.6468752 2.172577"
      ]
     },
     "metadata": {},
     "output_type": "display_data"
    }
   ],
   "source": [
    "## OR and CI\n",
    "exp(cbind(OR = coef(model_dn_1), ci_dn_1))"
   ]
  },
  {
   "cell_type": "code",
   "execution_count": null,
   "id": "16ae4d55-c7e6-43b0-b07e-63042dd4e0d2",
   "metadata": {},
   "outputs": [],
   "source": []
  },
  {
   "cell_type": "code",
   "execution_count": null,
   "id": "89ece751-27a8-4e6c-ae5b-ea939e3e30c5",
   "metadata": {},
   "outputs": [],
   "source": []
  },
  {
   "cell_type": "code",
   "execution_count": null,
   "id": "a4d9c618-4a11-41e3-a4b1-5d96eeb317be",
   "metadata": {},
   "outputs": [],
   "source": []
  },
  {
   "cell_type": "code",
   "execution_count": null,
   "id": "95fb1018-246a-4b3c-99a2-f2e821766211",
   "metadata": {},
   "outputs": [],
   "source": []
  }
 ],
 "metadata": {
  "kernelspec": {
   "display_name": "R",
   "language": "R",
   "name": "ir"
  },
  "language_info": {
   "codemirror_mode": "r",
   "file_extension": ".r",
   "mimetype": "text/x-r-source",
   "name": "R",
   "pygments_lexer": "r",
   "version": "4.3.1"
  }
 },
 "nbformat": 4,
 "nbformat_minor": 5
}
